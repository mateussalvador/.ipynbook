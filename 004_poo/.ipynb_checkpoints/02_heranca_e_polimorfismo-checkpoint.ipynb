{
 "cells": [
  {
   "cell_type": "markdown",
   "id": "64fd8b75-a523-41d8-8d6c-4c3dc5f80e5d",
   "metadata": {},
   "source": [
    "# `self` x `cls`\n",
    "- Usamos **`self`** quando queremos falar com o **exemplo (instância)**\n",
    "- Usamos **`cls`** quando queremos falar com a **classe**"
   ]
  },
  {
   "cell_type": "code",
   "execution_count": 11,
   "id": "09b29652-7fe9-4114-bcdb-058b8db2953c",
   "metadata": {},
   "outputs": [],
   "source": [
    "class Fila:\n",
    "    c_fila = [] #c de class\n",
    "\n",
    "    @classmethod\n",
    "    def c_entrar(cls, obj):\n",
    "        cls.c_fila.append(obj)\n",
    "        print(cls.c_fila)"
   ]
  },
  {
   "cell_type": "markdown",
   "id": "89577a4c-06be-4ba4-8f7a-544ec9b7fc9e",
   "metadata": {},
   "source": [
    "- `c_fila` é um atributo da classe.\n",
    "- Ela será mantida dentro de todas as instâncias, ou seja, vai ser comum a todos os objetos. "
   ]
  },
  {
   "cell_type": "code",
   "execution_count": 18,
   "id": "0124aefb-60b2-4209-bf5a-9d9b7f6c289f",
   "metadata": {},
   "outputs": [
    {
     "data": {
      "text/plain": [
       "['Ezequiel', 'Malaquias']"
      ]
     },
     "execution_count": 18,
     "metadata": {},
     "output_type": "execute_result"
    }
   ],
   "source": [
    "class Fila:\n",
    "    c_fila = []\n",
    "\n",
    "    @classmethod\n",
    "    def c_entrar(cls, obj):\n",
    "        cls.c_fila.append(obj)\n",
    "\n",
    "    def __init__(self):\n",
    "        self.s_fila = []\n",
    "\n",
    "    def s_entrar(self, nome):\n",
    "        self.s_fila.append(nome)\n",
    "\n",
    "Fila.c_entrar(\"Ezequiel\")\n",
    "Fila.c_entrar(\"Malaquias\")\n",
    "\n",
    "supermercado = Fila()\n",
    "supermercado.c_fila\n"
   ]
  },
  {
   "cell_type": "markdown",
   "id": "b4b69f66-0a76-4e76-9934-7f495665dbd8",
   "metadata": {},
   "source": [
    "# Tipos de Métodos\n",
    "- **Métodos de instância**\n",
    "    - Só funcionam com a classe instanciada\n",
    "    - Manipulam atributos da instância\n",
    "- **Métodos de classe**\n",
    "    - Funcionam a todo momento, até mesmo na instância\n",
    "    - Manipulam atributos de classes\n",
    "    - Devem usar **`@classmethod`**\n",
    "    \n",
    "- **Métodos estáticos**\n",
    "    - Funcionam a todo momento\n",
    "    - Não interagem com atributos\n",
    "    - - Devem usar **`@staticmethod`**\n",
    "- **Métodos Abstratos**\n",
    "\n",
    "---\n",
    "\n",
    "## Vamos pensar em pizza\n",
    "- Toda pizza (comum) tem 8 pedaços. Ou seja, isso é indiferente, independente de qual o exemplo/instância de uma pizza específica. Logo, isso pode ser um atributo de classe.\n",
    "- Já a quantidade de pedaços disponíveis são referentes a nossa instância, pois da pizza \"real' nós podemos pegar pedaços."
   ]
  },
  {
   "cell_type": "code",
   "execution_count": 32,
   "id": "1e732292-cb41-4968-95bd-ea959c739e8d",
   "metadata": {},
   "outputs": [
    {
     "name": "stdout",
     "output_type": "stream",
     "text": [
      "8\n",
      "6\n",
      "12\n",
      "11\n",
      "12\n"
     ]
    },
    {
     "data": {
      "text/plain": [
       "'Molho de tomate, queijo, cebola'"
      ]
     },
     "execution_count": 32,
     "metadata": {},
     "output_type": "execute_result"
    }
   ],
   "source": [
    "class Pizza():\n",
    "    pedacos = 8\n",
    "\n",
    "    def __init__(self, sabor):\n",
    "        self.sabor = sabor\n",
    "\n",
    "    def pegar_pedaco(self):\n",
    "        self.pedacos -= 1\n",
    "\n",
    "    @classmethod\n",
    "    def mudar_tamanho(cls, pedacos):\n",
    "        cls.pedacos = pedacos\n",
    "\n",
    "    @staticmethod\n",
    "    def ingredientes():\n",
    "        return \"Molho de tomate, queijo, cebola\"\n",
    "        \n",
    " \n",
    "pc = Pizza(\"Calabresa\")\n",
    "pf = Pizza(\"Frango\")\n",
    "\n",
    "pc.pegar_pedaco()\n",
    "pc.pegar_pedaco()\n",
    "\n",
    "print(pf.pedacos)\n",
    "print(pc.pedacos)\n",
    "\n",
    "Pizza.mudar_tamanho(12)\n",
    "print(Pizza.pedacos)\n",
    "\n",
    "mus = Pizza(\"Muçarela\")\n",
    "mus.pedacos\n",
    "mus.pegar_pedaco()\n",
    "print(mus.pedacos)\n",
    "print(Pizza.pedacos)\n",
    "\n",
    "Pizza.ingredientes()"
   ]
  },
  {
   "cell_type": "markdown",
   "id": "bf46e10e-ecc7-482d-8aa1-48ba85f46d2f",
   "metadata": {},
   "source": [
    "- Diferente do exemplo da fila (que usava uma lista, que é mutável, com método append, tinhamos uma alteração diretamente no objeto da classe, refletindo aquela alteração para todas as instâncias. Por isso a mesma fila foi gerada para todas as instâncias.\n",
    "\n",
    "- Aqui, não existe um atributo de instância chamado 'pedacos', então ao executar `self.pedacos -= 1`, o interpretador procura pedacos na instância, não encontra, e então passa a procurar na classe. Ao encontrar, ele pega o valor, subtrai (8 - 1 = 7) e então cria implicitamente um atributo `pedacos` na instância e atribui o valor 7 a ele.\n",
    "\n",
    "---\n",
    "\n",
    "# O que é o `staticmethod`?\n",
    "- Se comporta como uma função normal, mas que vive dentro do escopo da classe sem interagir com nada dela.\n",
    "- EStá logicamente relacionada auma calsse, mas não depende de nenhum estado (atributo) da classe ou da instância. "
   ]
  },
  {
   "cell_type": "code",
   "execution_count": 33,
   "id": "886f4dc8-bf77-4725-8139-963e194f60c0",
   "metadata": {},
   "outputs": [
    {
     "name": "stdout",
     "output_type": "stream",
     "text": [
      "A calculadora Casio está somando...\n",
      "Resultado da soma: 8\n",
      "O número 10 é par? True\n",
      "O número 7 é par? False\n",
      "O número 10 é par (chamado pela instância)? True\n"
     ]
    }
   ],
   "source": [
    "class Calculadora:\n",
    "    def __init__(self, marca):\n",
    "        self.marca = marca\n",
    "\n",
    "    # Este é um método de instância\n",
    "    def somar(self, a, b):\n",
    "        return a + b\n",
    "\n",
    "    # Este é um método estático\n",
    "    @staticmethod\n",
    "    def eh_par(numero):\n",
    "        # Note que este método não usa 'self' nem 'cls'.\n",
    "        # Ele só precisa do argumento 'numero' para funcionar.\n",
    "        # A lógica de \"ser par\" não depende de uma calculadora específica.\n",
    "        return numero % 2 == 0\n",
    "\n",
    "# --- Como usar ---\n",
    "\n",
    "# Para usar o método de instância, eu PRECISO de um objeto\n",
    "casio = Calculadora(\"Casio\")\n",
    "resultado = casio.somar(5, 3) # Preciso de 'casio' para chamar o método\n",
    "print(f\"Resultado da soma: {resultado}\")\n",
    "\n",
    "# Para usar o método estático, eu NÃO PRECISO de um objeto.\n",
    "# Posso chamá-lo diretamente na classe.\n",
    "print(f\"O número 10 é par? {Calculadora.eh_par(10)}\")\n",
    "print(f\"O número 7 é par? {Calculadora.eh_par(7)}\")\n",
    "\n",
    "# Também é possível chamar o método estático a partir da instância,\n",
    "# mas isso é menos comum. O comportamento é o mesmo.\n",
    "print(f\"O número 10 é par (chamado pela instância)? {casio.eh_par(10)}\")"
   ]
  },
  {
   "cell_type": "code",
   "execution_count": null,
   "id": "29f25aae-e6cd-412a-99f2-94f01a35f163",
   "metadata": {},
   "outputs": [],
   "source": []
  }
 ],
 "metadata": {
  "kernelspec": {
   "display_name": "Python 3 (ipykernel)",
   "language": "python",
   "name": "python3"
  },
  "language_info": {
   "codemirror_mode": {
    "name": "ipython",
    "version": 3
   },
   "file_extension": ".py",
   "mimetype": "text/x-python",
   "name": "python",
   "nbconvert_exporter": "python",
   "pygments_lexer": "ipython3",
   "version": "3.11.5"
  }
 },
 "nbformat": 4,
 "nbformat_minor": 5
}
