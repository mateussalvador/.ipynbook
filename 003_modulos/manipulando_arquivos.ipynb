{
 "cells": [
  {
   "cell_type": "markdown",
   "id": "28b00de2-3042-4b18-801c-7a59acf074fa",
   "metadata": {},
   "source": [
    "# Manipulação de Arquivos em Python\n",
    "---\n",
    "# Caminhos\n",
    "- Normalmente, trabalhos com caminhos relativos (diretórios e arquivos que estão dentro do diretório em que estamos localizados) e, sendo assim, não precisamos passar o caminho completo.\n",
    "- Para manipular arquivos que estão em outro lugar, é preciso passar o caminho completo.\n",
    "## Nota: Caminhos em diferentes Sistemas Operacionais\n",
    "- No Linux e no Mac, os caminhos são passados com barra normal (`/`)\n",
    "    - Ex.: `\"/Users/User/Desktop/curso-python/aula116.txt\"`\n",
    "- No Windows, os caminhos são passados com barras invertidas (`\\`)\n",
    "    - Ex.: `\"C:\\Users\\User\\Desktop\\curso-python\\aula116.txt\"`\n",
    "### Problema da barra invertida\n",
    "- Como a barra invertida é utilizada como caractere de escape, temos que passar as barras do caminho do windows sempre duplicadas (`\\\\`), caso contrário, ele irá entender que estamos tentando escapar algo naquela string\n",
    "---"
   ]
  },
  {
   "cell_type": "markdown",
   "id": "e0ab7e41-025a-4b7a-a087-66c0d2c66efc",
   "metadata": {},
   "source": [
    "# Modos de abertura de arquivos\n",
    "- Para abrir arquivos, usamos a função `open()`, que irá receber dois parâmetros:\n",
    "    1. O nome do arquivo (e a extensão) como string.\n",
    "    2. A 'operação' que queremos realizar, sendo elas:\n",
    "    - `r`: read / leitura\n",
    "    - `w`: write / escrita\n",
    "    - `x`: eXclusive creation / cria um arquivo novo \n",
    "    - `b`: binário\n",
    "    - `+`: É como uma extensão. Se abrimos o arquivo no modo de leitura, também poderemos escrever e vice-versa.\n",
    "        - mesmo que passemos `r` (leitura), se passarmos o `+`, também poderemos escrever\n",
    "        - mesmo que passemos `w` (escrita), se passarmos o `+`, também poderemos ler \n",
    "    - `a`: append mode / adiciona linhas no final do arquivo\n",
    "## Observação importante sobre abertura de arquivos \n",
    "- Sempre que abrimos um arquivo, é necessário que ele seja fechado!\n",
    "- Caso o arquivo não seja fechado, poderá sofrer problemas, como corromper, não salvar informações, etc."
   ]
  },
  {
   "cell_type": "code",
   "execution_count": 2,
   "id": "0ce2b9a5-c2ec-4f54-890e-6d0ba23b4cf3",
   "metadata": {},
   "outputs": [],
   "source": [
    "## Criando um arquivo\n",
    "arquivo = open(\"teste.txt\", \"w\")\n",
    "\n",
    "## Agora que o arquivo já foi criado, devemos fechá-lo:\n",
    "arquivo.close()"
   ]
  },
  {
   "cell_type": "markdown",
   "id": "b0e109bd-5282-4e53-93f1-53e5288aeb42",
   "metadata": {},
   "source": [
    "- Entre a abertura e o fechamento, podemos realizar as operações que quisermos.\n",
    "---\n",
    "# Context manager\n",
    "- Como já vimos, sempre precisamos nos lembrar de fechar um arquivo.\n",
    "- Uma opção para facilitar isso, seria passar o `arquivo.close` no bloco `finally` de um `try/except`, garantindo que o fechamento será sempre executado. Porém, **para facilitar esta tarefa, temos o *`CONTEXT MANAGER`***\n",
    "## with open\n",
    "- Utilizamos o `context manager` como o comando `with open`\n",
    "- Ao fazer isso, o Python já se encarrega de abrir e fechar o arquivo. Para usar, basta fazer assim:"
   ]
  },
  {
   "cell_type": "code",
   "execution_count": 5,
   "id": "a600aacc-37ad-4f30-a131-349fb0d4a0ab",
   "metadata": {},
   "outputs": [
    {
     "ename": "UnsupportedOperation",
     "evalue": "not readable",
     "output_type": "error",
     "traceback": [
      "\u001b[1;31m---------------------------------------------------------------------------\u001b[0m",
      "\u001b[1;31mUnsupportedOperation\u001b[0m                      Traceback (most recent call last)",
      "Cell \u001b[1;32mIn[5], line 4\u001b[0m\n\u001b[0;32m      2\u001b[0m arquivo\u001b[38;5;241m.\u001b[39mwrite(\u001b[38;5;124m\"\u001b[39m\u001b[38;5;124mLinha 1\u001b[39m\u001b[38;5;130;01m\\n\u001b[39;00m\u001b[38;5;124m\"\u001b[39m)\n\u001b[0;32m      3\u001b[0m arquivo\u001b[38;5;241m.\u001b[39mwrite(\u001b[38;5;124m\"\u001b[39m\u001b[38;5;124mLinha 2\u001b[39m\u001b[38;5;124m\"\u001b[39m)\n\u001b[1;32m----> 4\u001b[0m arquivo\u001b[38;5;241m.\u001b[39mread()\n",
      "\u001b[1;31mUnsupportedOperation\u001b[0m: not readable"
     ]
    }
   ],
   "source": [
    "with open(\"teste.txt\", \"w\") as arquivo:\n",
    "    arquivo.write(\"Linha 1\\n\")\n",
    "    arquivo.write(\"Linha 2\")\n",
    "\n",
    "with open(\"teste.txt\", \"r\") as arquivo:\n",
    "    print(arquivo.read())"
   ]
  },
  {
   "cell_type": "markdown",
   "id": "b01f5ad0-fae1-4018-90db-9ee9c480c172",
   "metadata": {},
   "source": [
    "- Note que a cada `with open`, o arquivo é aberto e fechado.\n",
    "## Observação sobre `arquivo.write()`\n",
    "- O método de escrita não se encarrega de quebrar linhas. É necessário explicitar isso.\n",
    "## Observação sobre `arquivo.read()`\n",
    "- O método de leitura não se encarrega de exibir isso na tela. É preciso dar um print.\n",
    "---"
   ]
  },
  {
   "cell_type": "markdown",
   "id": "e8a957fc-8fdc-4cc1-b4e1-e2d6247933d3",
   "metadata": {},
   "source": [
    "# Realizando diferentes operações numa mesma abertura de arquivo\n",
    "- Para fazer isso, devemos passar o `+`, assim:\n",
    "    - `with open(\"teste.txt\", \"w+\")`\n",
    "## Movimentação do cursor no arquivo\n",
    "- É importante observar que o 'cursor' se move junto com os nossos comandos, por exemplo:\n",
    "    - Ao passar um `arquivo.write(\"Linha 1\\n`), o cursor inicia no começo da primeira linha, vai até depois do número 1 e quebra a linha, se movendo para o início da linha 2.\n",
    "    - Sendo assim, ao escrever algo e depois solicitar a leitura, ele irá começar a ler do final do arquivo, ou seja, **não irá ler nada**\n",
    "## Método seek\n",
    "- Para burlar isso, usamos o **método `seek`**, que permite **movimentar o cursor**\n",
    "- Ao passar `arquivo.seek(0,0)`, o cursor volta ao início do arquivo."
   ]
  },
  {
   "cell_type": "code",
   "execution_count": 7,
   "id": "68688392-8276-4171-8624-2445e560015e",
   "metadata": {},
   "outputs": [
    {
     "name": "stdout",
     "output_type": "stream",
     "text": [
      "Linha 1\n",
      "Linha 2\n",
      "O cursor está aqui ->\n"
     ]
    }
   ],
   "source": [
    "with open(\"teste.txt\", \"w+\") as arquivo:\n",
    "    arquivo.write(\"Linha 1\\n\")\n",
    "    arquivo.write(\"Linha 2\\n\")\n",
    "    arquivo.write(\"O cursor está aqui ->\")\n",
    "    arquivo.seek(0, 0)\n",
    "    print(arquivo.read())"
   ]
  },
  {
   "cell_type": "markdown",
   "id": "2a23cf48-c7d7-4325-9b2a-02d5a7032e71",
   "metadata": {},
   "source": [
    "---\n",
    "# writelines, write, readline, readlines\n",
    "- Como já vimos, podemos usar `read()` para ler todo o arquivo de uma vez, mas também podemos manipular isto.\n",
    "## `readline()`\n",
    "- Lê uma linha por vez.\n",
    "- É como o `next()` do iterador.\n",
    "- Ele geralmente é usado quando precisamos processar linha por linha, mas temos controle sobre quantas linhas queremos ler.\n",
    "### Gera erros ao tentar acessar uma linha vazia?\n",
    "- Não gera erros ao tentar acessar uma linha vazia."
   ]
  },
  {
   "cell_type": "code",
   "execution_count": 23,
   "id": "9f04613d-f70b-4d14-ab40-352042312176",
   "metadata": {},
   "outputs": [
    {
     "name": "stdout",
     "output_type": "stream",
     "text": [
      "--- Usando readline() ---\n",
      "Linha 1: Maçã\n",
      "Linha 2: Banana\n",
      "Linha 3: Uva\n",
      "Linha 4: Laranja\n",
      "Linha 5 (vazia): \n"
     ]
    }
   ],
   "source": [
    "with open(\"frutas.txt\", \"w\", encoding = \"utf-8\") as f:\n",
    "    f.write(\"Maçã\\n\")\n",
    "    f.write(\"Banana\\n\")\n",
    "    f.write(\"Uva\\n\")\n",
    "    f.write(\"Laranja\")\n",
    "\n",
    "print(\"--- Usando readline() ---\")\n",
    "\n",
    "with open(\"frutas.txt\", \"r\", encoding=\"utf-8\") as f:\n",
    "    linha1 = f.readline()\n",
    "    print(f\"Linha 1: {linha1.strip()}\")\n",
    "\n",
    "    linha2 = f.readline()\n",
    "    print(f\"Linha 2: {linha2.strip()}\")\n",
    "    \n",
    "    linha3 = f.readline()\n",
    "    print(f\"Linha 3: {linha3.strip()}\")\n",
    "    \n",
    "    linha4 = f.readline()\n",
    "    print(f\"Linha 4: {linha4.strip()}\")\n",
    "\n",
    "    linha5 = f.readline()\n",
    "    print(f\"Linha 5 (vazia): {linha5.strip()}\")"
   ]
  },
  {
   "cell_type": "markdown",
   "id": "4ddeda70-416e-4ce3-b6db-669cadd63f1b",
   "metadata": {},
   "source": [
    "## `readlines()`\n",
    "- Lê todas as linha de uma vez e as retorna como uma lista de strings, sendo cada linha, uma string\n",
    "- Bom para ler o conteúdo de arquivos pequenos"
   ]
  },
  {
   "cell_type": "code",
   "execution_count": 16,
   "id": "3c733f06-4d3d-451b-88b2-2ec6a0cbfbd4",
   "metadata": {},
   "outputs": [
    {
     "name": "stdout",
     "output_type": "stream",
     "text": [
      "--- Usando readlines() ---\n",
      "Maçã\n",
      "Banana\n",
      "Uva\n",
      "Laranja"
     ]
    }
   ],
   "source": [
    "print(\"--- Usando readlines() ---\")\n",
    "\n",
    "with open(\"frutas.txt\", \"r\", encoding = \"utf-8\") as f:\n",
    "    todas_as_linhas = f.readlines()\n",
    "    for linha in todas_as_linhas:\n",
    "        print(linha, end=\"\")"
   ]
  },
  {
   "cell_type": "markdown",
   "id": "f54887a2-d5e8-4545-92e5-80e051419514",
   "metadata": {},
   "source": [
    "## `write()`\n",
    "- Escreve todo o conteúdo numa única string, Ou seja, é como se fosse uma única linha.\n",
    "- Para que possamos escrever mais de uma linha, é preciso usar o caractere de quebra de linha (`\\n`) ou usar o `.write()` várias vezes.\n",
    "## `writelines()`\n",
    "- Escreve múltiplas strings de um iterável\n",
    "- Basicamente, pegamos um ou mais iteráveis e adicionamos ao arquivo.\n",
    "- Não acrescenta as quebras de linha automaticamente. Cada string no iterável é escrita consecutivamente.\n",
    "- É necessário passar a quebra de linha para linha.\n",
    "### Eficiência\n",
    "- Usar `writelines()` pode ser mais eficiente do que chamar `write()` várias vezes em um loop.\n",
    "---\n",
    "# Diferença entre `a` e `w`\n",
    "- Ao usar o `w` para escrever, ele irá apagar tudo que foi escrito no arquivo em aberturas anteriores e escreve novamente o que passarmos.\n",
    "- Ao usar o `a`, ele adiciona o conteúdo passado ao fim do arquivo.\n",
    "    - A escrita é feita com `write` ou `writelines`, como já vios anteriormente. Ex.:"
   ]
  },
  {
   "cell_type": "code",
   "execution_count": 24,
   "id": "98c48d44-6ec4-449b-a0f2-81ccd5601096",
   "metadata": {},
   "outputs": [
    {
     "name": "stdout",
     "output_type": "stream",
     "text": [
      "Maçã\n",
      "Banana\n",
      "Uva\n",
      "Laranja\n",
      "Maracujá\n",
      "\n"
     ]
    }
   ],
   "source": [
    "with open(\"frutas.txt\", \"a+\", encoding = \"utf-8\") as f:\n",
    "    f.write(\"\\nMaracujá\\n\")\n",
    "    f.seek(0, 0)\n",
    "    print(f.read())"
   ]
  },
  {
   "cell_type": "markdown",
   "id": "a900ce29-73c0-4559-8604-80a4d24c121f",
   "metadata": {},
   "source": [
    "# `encoding`\n",
    "- É preciso especificar a tabela de codificação de caracteres desejada.\n",
    "- Por padrão, utilizaremos a codificação `utf-8`, que é o encodingm ais comum e recomendado atualmente."
   ]
  }
 ],
 "metadata": {
  "kernelspec": {
   "display_name": "Python 3 (ipykernel)",
   "language": "python",
   "name": "python3"
  },
  "language_info": {
   "codemirror_mode": {
    "name": "ipython",
    "version": 3
   },
   "file_extension": ".py",
   "mimetype": "text/x-python",
   "name": "python",
   "nbconvert_exporter": "python",
   "pygments_lexer": "ipython3",
   "version": "3.12.7"
  }
 },
 "nbformat": 4,
 "nbformat_minor": 5
}
