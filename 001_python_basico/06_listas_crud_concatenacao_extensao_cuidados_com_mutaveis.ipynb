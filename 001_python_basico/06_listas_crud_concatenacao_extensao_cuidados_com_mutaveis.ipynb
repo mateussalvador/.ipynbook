{
 "cells": [
  {
   "cell_type": "markdown",
   "id": "5a00301a-0631-457a-855c-078102e79b9b",
   "metadata": {},
   "source": [
    "# Listas\n",
    "- É semelhante aos arrays em outras linguagens\n",
    "- Permite listar quaisquer tipos de dados\n",
    "- **São imutáveis**\n",
    "\n",
    "## Como criar listas?\n",
    "- Podem ser criadas de duas maneiras:\n",
    "    1. `lista = list()`\n",
    "    2. `lista = [123, True, \"Olá\"]`\n",
    "\n",
    "## CRUD (create, read, update, delete)\n",
    "### `append()`\n",
    "- Insere um novo item ao fim da lista.\n",
    "### `del()`\n",
    "- Deleta o item de determinado índice da lista.\n",
    "- Pode deletar fatias ou a lista inteira.\n",
    "- Gera um problema de reorganização, pois ao deletar o item do meio da lista, o próprio python reorganiza os índices da nova lista, gastando muita capacidade de processamento.\n",
    "- Não possui retorno.\n",
    "### `pop()`\n",
    "- Remove e **retorna** o último item da lista.\n",
    "- Também pode remover um item específico se passarmos o índice.\n",
    "### `clear()`\n",
    "- Limpa toda a lista\n",
    "### `insert()`\n",
    "- Acrescenta um novo item a um índice.\n",
    "- Recebe dois valores: índice e valor a ser adicionado.\n",
    "- Permite inserir valor ao último índice ao passar um valor alto, mas se por ventura a lista chegar a ter aquela posição , serão gerados problemas.\n",
    "\n",
    "## Verificar o índice de um elemento da lista\n",
    "- Usamos o `index`. Ex.: `lista.index(10)` retorna o índice do valor 10 na lista."
   ]
  },
  {
   "cell_type": "markdown",
   "id": "7ef83ec3-9868-43de-adec-d87ba41d5d12",
   "metadata": {},
   "source": [
    "## Concatenação e Extensão de Listas\n",
    "### Concatenação\n",
    "- É feita com o `+`\n",
    "\n",
    "### Extensão\n",
    "- É feita com `lista.extend()`\n",
    "- Estende uma lista, acrescentando o conteúdo da outra. Ou seja, mescla duas listas.\n",
    "- Não retorna nada. Altera diretamente a lista a."
   ]
  },
  {
   "cell_type": "code",
   "execution_count": 25,
   "id": "8fe901d0-ce00-472f-92df-f750b7f5eb70",
   "metadata": {},
   "outputs": [
    {
     "name": "stdout",
     "output_type": "stream",
     "text": [
      "lista1=[1, 2, 3]\n",
      "lista2=[4, 5, 6]\n",
      "lista3=[1, 2, 3, 4, 5, 6]\n"
     ]
    }
   ],
   "source": [
    "lista1 = [1,2,3]\n",
    "lista2 = [4,5,6]\n",
    "lista3 = lista1 + lista2\n",
    "print(f\"{lista1=}\")\n",
    "print(f\"{lista2=}\")\n",
    "print(f\"{lista3=}\")"
   ]
  },
  {
   "cell_type": "code",
   "execution_count": 26,
   "id": "85d17b55-6f07-4500-8a25-1576d7080bc0",
   "metadata": {
    "scrolled": true
   },
   "outputs": [
    {
     "name": "stdout",
     "output_type": "stream",
     "text": [
      "lista1=[1, 2, 3, 4, 5, 6]\n",
      "lista2=[4, 5, 6]\n"
     ]
    }
   ],
   "source": [
    "lista1 = [1,2,3]\n",
    "lista2 = [4,5,6]\n",
    "lista1.extend(lista2)\n",
    "print(f\"{lista1=}\")\n",
    "print(f\"{lista2=}\")"
   ]
  },
  {
   "cell_type": "markdown",
   "id": "c9bc4f85-81e6-452f-ba7b-ddfdad2d4f82",
   "metadata": {},
   "source": [
    "# Cuidados com os tipos mutáveis\n",
    "- Enquanto nos imutáveis, um id é exclusivo para cada ocorrência, nos imutáveis, uma variável possui um id fixo. Por exemplo:"
   ]
  },
  {
   "cell_type": "code",
   "execution_count": 27,
   "id": "558c5a41-2762-4792-b5c3-6063898da981",
   "metadata": {},
   "outputs": [
    {
     "name": "stdout",
     "output_type": "stream",
     "text": [
      "2341133299424\n",
      "2341133318736\n"
     ]
    }
   ],
   "source": [
    "# Mesma variável, mas com dois ID's diferentes\n",
    "nome = \"Mateus\"\n",
    "print(id(nome))\n",
    "\n",
    "nome = \"Maria\"\n",
    "print(id(nome))"
   ]
  },
  {
   "cell_type": "code",
   "execution_count": 28,
   "id": "eb364ca1-6d96-4e19-a9ad-3fa18dee4cd4",
   "metadata": {},
   "outputs": [
    {
     "name": "stdout",
     "output_type": "stream",
     "text": [
      "2341133299424\n",
      "2341133299424\n",
      "Mateus\n",
      "2341133314656\n",
      "2341133299424\n"
     ]
    }
   ],
   "source": [
    "# Duas variáveis diferentes apontando para o mesmo dado imutável\n",
    "nome = \"Mateus\"\n",
    "print(id(nome))\n",
    "\n",
    "nome2 = nome\n",
    "print(id(nome2))\n",
    "\n",
    "# Note que ambas apontam para o mesmo id, mas ao realizar alterações, estas alterações são feitas somente na variável em questão.\n",
    "nome = \"Maria\"\n",
    "print(nome2)\n",
    "print(id(nome))\n",
    "print(id(nome2))\n"
   ]
  },
  {
   "cell_type": "code",
   "execution_count": 29,
   "id": "ac509d7c-30fc-494f-b85d-25c4d02e7cb4",
   "metadata": {},
   "outputs": [
    {
     "name": "stdout",
     "output_type": "stream",
     "text": [
      "['Qualquer coisa', 'Henrique']\n"
     ]
    }
   ],
   "source": [
    "# Teste com dados mutáveis\n",
    "lista1 = [\"Mateus\", \"Henrique\"]\n",
    "lista2 = lista1\n",
    "\n",
    "lista1[0] = \"Qualquer coisa\"\n",
    "print(lista2)\n",
    "\n",
    "# Note que agora, a alteração feita na lista 1 reflete na lista 2"
   ]
  },
  {
   "cell_type": "markdown",
   "id": "e169cd83-b806-49ec-9fef-da20793604a3",
   "metadata": {},
   "source": [
    "# Cópias de objetos mutáveis\n",
    "- `=` não cria cópia\n",
    "- Para isso, devemos usar `shallow copy` ou `deep copy`\n",
    "\n",
    "## shallow copy\n",
    "- Uma cópia rasa cria um novo objeto, mas insere as referências aos objetos encontrados no original.\n",
    "- Ou seja, funciona bem para listas com dados imutáveis, mas se houverem objetos mutáveis aninhados, eles serão afetados quando alterações forem realizadas.\n",
    "- São criadas com o método `.copy()` (nativo de listas e dicionários) ou `copy.copy()`, sendo que para este, é necessário importar o módulo  `copy`. Ambas geram o mesmo resultado."
   ]
  },
  {
   "cell_type": "code",
   "execution_count": 35,
   "id": "56e5f085-3a52-4219-bc6c-7046251b3dc4",
   "metadata": {},
   "outputs": [
    {
     "name": "stdout",
     "output_type": "stream",
     "text": [
      "Lista 1: [1, 2, [3, 4]]\n",
      "Lista 2: [88, 2, [3, 4]]\n",
      "\n",
      "------------------------------\n",
      "\n",
      "Lista 1: [1, 2, [77, 4]]\n",
      "Lista 2: [88, 2, [77, 4]]\n"
     ]
    }
   ],
   "source": [
    "lista_1 = [1, 2, [3, 4]]\n",
    "lista_2 = lista_1.copy()\n",
    "\n",
    "# Alterando objeto imutável\n",
    "lista_2[0] = 88\n",
    "print(\"Lista 1:\", lista_1) # [1, 2, [3, 4]]\n",
    "print(\"Lista 2:\", lista_2) # [88, 2, [3, 4]]\n",
    "print()\n",
    "print(\"-\" * 30)\n",
    "print()\n",
    "\n",
    "# Alterando objeto mutável\n",
    "lista_2[2][0] = 77\n",
    "\n",
    "print(f\"Lista 1: {lista_1}\")  \n",
    "# Saída: Lista 1: [1, 2, [77, 4]] -> \n",
    "# Alterada também!\n",
    "print(f\"Lista 2: {lista_2}\")  \n",
    "# Saída: Lista 3: [88, 2, [77, 4]]"
   ]
  },
  {
   "cell_type": "markdown",
   "id": "e2792674-e1f0-41cf-beaa-3cd6f4ce83ee",
   "metadata": {},
   "source": [
    "## recursividade\n",
    "- algo é recursivo quando um dos seus passos envolve a repetição completa desse mesmo procedimento.\n",
    "- Algo é recursivo quando pode ser repetido inúmeras vezes.\n",
    "\n",
    "## deep copy\n",
    "- Basicamente, aqui a mesma ação é realizada exaustivamente em cada um dos elementos, garantindo que seja criada uma cópia para cada um dos elementos, mesmo os mais aninhados.\n",
    "- É preciso importar o módulo `copy` e usar `copy.deepcopy()`"
   ]
  },
  {
   "cell_type": "code",
   "execution_count": 36,
   "id": "fdcb7a7e-9bac-4c97-b3e5-3398bed0e759",
   "metadata": {},
   "outputs": [
    {
     "name": "stdout",
     "output_type": "stream",
     "text": [
      "[1, 2, [3, 4]]\n",
      "[88, 2, [77, 4]]\n"
     ]
    }
   ],
   "source": [
    "import copy\n",
    "\n",
    "lista_1 = [1, 2, [3, 4]]\n",
    "lista_4 = copy.deepcopy(lista_1)\n",
    "\n",
    "# Modificando um elemento de nível superior\n",
    "lista_4[0] = 55\n",
    "\n",
    "# Modificando a lista aninhada\n",
    "lista_4[2][0] = 66\n",
    "\n",
    "#Verificando\n",
    "print(lista_1) # Vai exibir  [1, 2, [3, 4]]\n",
    "\n",
    "\n",
    "print(lista_2) # Vai exibir [55, 2, [66, 4]]"
   ]
  },
  {
   "cell_type": "markdown",
   "id": "71c4a16a-c01a-4aea-9cca-d2ec8ff1625c",
   "metadata": {},
   "source": [
    "### problemas do deep copy\n",
    "- É mais lenta, por conta da recursividade.\n",
    "- Utiliza muito mais da memória, pois cria uma duplicata de tudo."
   ]
  }
 ],
 "metadata": {
  "kernelspec": {
   "display_name": "Python 3 (ipykernel)",
   "language": "python",
   "name": "python3"
  },
  "language_info": {
   "codemirror_mode": {
    "name": "ipython",
    "version": 3
   },
   "file_extension": ".py",
   "mimetype": "text/x-python",
   "name": "python",
   "nbconvert_exporter": "python",
   "pygments_lexer": "ipython3",
   "version": "3.12.7"
  }
 },
 "nbformat": 4,
 "nbformat_minor": 5
}
