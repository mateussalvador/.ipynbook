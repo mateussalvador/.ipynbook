{
 "cells": [
  {
   "cell_type": "markdown",
   "id": "00be3209-aaa1-4f49-bc9d-8c415d20610b",
   "metadata": {},
   "source": [
    "# "
   ]
  },
  {
   "cell_type": "markdown",
   "id": "02501e61-5f69-4946-a0c9-0339797914aa",
   "metadata": {},
   "source": [
    "# Comentários em Python\n",
    "Comentários em Python podem ser feitos de duas formas: \n",
    "- Comentários simples (de uma linha)\n",
    "- DocStrings (comentários de múltiplas linhas)\n",
    "## Comentários simples\n",
    "- São criados utilizando #\n",
    "## DocStrings\n",
    "- São comentários de múltiplas linhas.\n",
    "- Criados entre trios de aspas simples ou duplas (devemos sempre finalizar com o formato que iniciamos, caso contrário, será gerado um erro).\n",
    "- Na verdade, as DocStrings são mais utilizadas para documentar código, e não necessariamente com a mesma função do comentário, que não é lido pelo interpretador e serve apenas a título de organização, não documentação.\n",
    "  "
   ]
  },
  {
   "cell_type": "code",
   "execution_count": 42,
   "id": "2d58b841-e6f7-49a6-b3ba-661844dda387",
   "metadata": {},
   "outputs": [],
   "source": [
    "# Comentário simples"
   ]
  },
  {
   "cell_type": "code",
   "execution_count": 43,
   "id": "6934df75-07a8-4fc5-8ca3-2e3632023596",
   "metadata": {},
   "outputs": [
    {
     "data": {
      "text/plain": [
       "'\\nEste é \\num comentário de \\nmúltiplas linhas,\\no chamado DocString\\n'"
      ]
     },
     "execution_count": 43,
     "metadata": {},
     "output_type": "execute_result"
    }
   ],
   "source": [
    "\"\"\"\n",
    "Este é \n",
    "um comentário de \n",
    "múltiplas linhas,\n",
    "o chamado DocString\n",
    "\"\"\"\n"
   ]
  },
  {
   "cell_type": "markdown",
   "id": "e85a5011-54cf-45cc-9f22-b870eab20a0b",
   "metadata": {},
   "source": [
    "# Saída de Dados em Python\n",
    "- É feita a partir da função embutida `print()`\n",
    "## Argumentos\n",
    "- As funções em Python podem receber zero, um ou mais argumentos. Por padrão, o `print()` recebe um ou mais argumentos.\n",
    "- Os argumentos são aqueles que vão dentro dos parênteses.\n",
    "- Podem ser divididos em:\n",
    "    - **Argumentos nomeados**\n",
    "    - **Argumentos não nomeados**\n",
    "### Argumentos não nomeados\n",
    "- Como o nome já sugere, são aqueles que não possuem nome, sendo passados diretamente dentro dos parênteses, como números ou textos. Ex.: `print(123)`\n",
    "### Argumentos nomeados\n",
    "- São aqueles que possuem nome e, normalmente, possuem um \"comportamento especial\". Seguem a estrutura `nome_do_argumento = \"\"`. São exemplos, no caso da função `print()`:\n",
    "    - `sep`\n",
    "    - `end`\n",
    "### sep\n",
    "- Especifica o separados dos argumentos. Por padrão, é um espaço, mas pode ser alterado.\n",
    "### end\n",
    "- Determina o que ocorre ao final do print. No windows, por padrão, ela recebe o valor `\\r\\n` para quebrar linhas, mas podemos alterar o valor.\n",
    "\n",
    "## Caracteres de escape\n",
    "- São sequências formadas por uma barra invertida seguida de uma ou mais letras ou números.\n",
    "- Essas sequências possuem significados especiais.\n",
    "- No geral, são usados para representar símbolos especiais, caracteres que não podem ser inseridos diretamente numa string ou controlar a formatação de um texto."
   ]
  },
  {
   "cell_type": "code",
   "execution_count": 2,
   "id": "d1749e71-f3d9-4d19-8437-34c25a9505be",
   "metadata": {},
   "outputs": [
    {
     "name": "stdout",
     "output_type": "stream",
     "text": [
      "Texto 1___Texto 2___Números:___10___20___30(******FIM*******)"
     ]
    }
   ],
   "source": [
    "# Alterando o separador para ___ e finalizando com (******FIM*******)\n",
    "print(\"Texto 1\", \"Texto 2\", \"Números:\", 10, 20, 30, sep=\"___\", end = \"(******FIM*******)\") "
   ]
  },
  {
   "cell_type": "markdown",
   "id": "fc40e994-3307-4ecb-940a-90e0a0cf67ab",
   "metadata": {},
   "source": [
    "# Variáveis\n",
    "- Servem para armazenar dados.\n",
    "## PEP8\n",
    "- É um guia de estilos para escrita de código em Python\n",
    "## Convenção para nomenclatura de variáveis\n",
    "- Devem iniciar com letras minúsculas\n",
    "- Podem conter números e underlines, mas não podem iniciar com eles.\n",
    "- Sem caracteres especiais\n",
    "- Devem seguir o padrão camelCase ou snake_case\n",
    "## Atribuição\n",
    "- Usamos o sinal de atribuição `=` para atribuir valores a uma variável. Ex.: `nome = \"Mateus\"`\n",
    "\n",
    "\n",
    "<h3>Operadores de Atribuição</h3>\n",
    "<table border=\"1\" style=\"width: 80%; text-align: center; margin-left: 0;\">\n",
    "  <tr>\n",
    "    <th>Recebe</th>\n",
    "    <th>Incremento</th>\n",
    "    <th>Decremento</th>\n",
    "    <th>Multiplicação Acumulada</th>\n",
    "    <th>Divisão Acumulada</th>\n",
    "  </tr>\n",
    "  <tr>\n",
    "    <td>=</td>\n",
    "    <td>+=</td>\n",
    "    <td>-=</td>\n",
    "    <td>*=</td>\n",
    "    <td>/=</td>\n",
    "  </tr>\n",
    "</table>\n",
    "\n",
    "\n",
    "\n",
    "\n",
    "## Endereços de variáveis\n",
    "- Ao fazer `v1 = \"a\"`, armazenamos o valor \"a\" na memória. Para que o Python saiba como buscá-lo na memória, ele precisa saber a identidade (endereço) daquele elemento. **Para isso, ele utiliza a função `id()`**\n"
   ]
  },
  {
   "cell_type": "code",
   "execution_count": 4,
   "id": "266c1d47-fbb9-44b4-a848-8365d1600c1c",
   "metadata": {},
   "outputs": [
    {
     "name": "stdout",
     "output_type": "stream",
     "text": [
      "Mateus\n",
      "Minha idade é 21\n",
      "Agora, minha idade é 22\n",
      "O id da variável nome é 1819324412288\n"
     ]
    }
   ],
   "source": [
    "# Testando o que aprendemos sobre variáveis\n",
    "\n",
    "nome = \"Mateus\"\n",
    "print(nome)\n",
    "\n",
    "idade = 21\n",
    "print(\"Minha idade é\", idade)\n",
    "\n",
    "# Fazendo aniversário\n",
    "idade += 1\n",
    "print(\"Agora, minha idade é\", idade)\n",
    "\n",
    "# Verificando o id da variável nome\n",
    "print(\"O id da variável nome é\", id(nome))"
   ]
  },
  {
   "cell_type": "markdown",
   "id": "107cf5ac-981b-4f2b-81e5-c599abc42dfd",
   "metadata": {},
   "source": [
    "# Tipos de Dados\n",
    "- Em Python, temos os seguintes tipos de dados:\n",
    "    - `int`\n",
    "    - `float`\n",
    "    - `complex`\n",
    "    - `str`\n",
    "    - `bool`\n",
    "    - `list`\n",
    "    - `tuple`\n",
    "    - `dict`\n",
    "    - `set`\n",
    "## type()\n",
    "- Para verificarmos qual o tipo de um determinado dado, utilizamos a função `type()`. Ex.: `print(type(1.2344))`\n",
    "## Tipos Primitivos\n",
    "- Os tipos primitivos são: int, float, complex, str, bool\n",
    "### int\n",
    "- Trabalha com números inteiros (positivos, negativos e o zero)\n",
    "### float\n",
    "- Trabalha com números de ponto flutuantes (decimais)\n",
    "- As casas decimais são separadas por pontos, e nunca por vírgulas.\n",
    "### complex\n",
    "- Trabalha com números complexos/imaginários\n",
    "### bool\n",
    "- Trabalha com valores lógicos. Só possui dois valores possíveis: `True` ou `False`\n",
    "### str\n",
    "- Trabalha com textos, que devem ser sempre inseridos entre um par de aspas simples ou duplas. Ex.: `\"esta é uma string\"`"
   ]
  },
  {
   "cell_type": "code",
   "execution_count": 5,
   "id": "5eb6f94d-dceb-4e0d-98a5-bc21952e29ea",
   "metadata": {},
   "outputs": [
    {
     "name": "stdout",
     "output_type": "stream",
     "text": [
      "Tipo da variável 'nome' é: <class 'str'>\n",
      "Tipo da variável 'idade' é: <class 'int'>\n",
      "Tipo da variável 'altura' é: <class 'float'>\n",
      "Tipo da variável 'solteiro' é: <class 'bool'>\n"
     ]
    }
   ],
   "source": [
    "nome = \"Mateus\"\n",
    "idade = 22\n",
    "altura = 1.80\n",
    "solteiro = False\n",
    "\n",
    "print(\"Tipo da variável 'nome' é:\", type(nome))\n",
    "print(\"Tipo da variável 'idade' é:\", type(idade))\n",
    "print(\"Tipo da variável 'altura' é:\", type(altura))\n",
    "print(\"Tipo da variável 'solteiro' é:\", type(solteiro))"
   ]
  },
  {
   "cell_type": "markdown",
   "id": "6aa15764-73cd-4457-b9a9-deeb5b0632c0",
   "metadata": {},
   "source": [
    "# Tipagem Estática vs Dinâmica e Forte vs Fraca\n",
    "- As linguagens de programação podem ser categorizadas em linguagens de tipagem estática/dinâmica e forte/fraca\n",
    "- O Python é uma linguagem de tipagem dinâmica e forte\n",
    "---\n",
    "## tipagem estática\n",
    "- Quando precisamos informar explicitamente o tipo de cada dado utilizado no código (variáveis, funções, etc), temos uma linguagem de tipagem estática.\n",
    "- Uma vez definido aquele tipo, ele fica restrito somente àquele tipo de dado, não podendo ser alterado durante a execução do programa.\n",
    "## tipagem dinâmica\n",
    "- Não precisamos informar explicitamente o tipo do dado, pois o próprio interpretador/compilador define o tipo daquele dado em tempo de execução.\n",
    "- Permite que uma variável receba valores de diferentes tipos ao longo do programa.\n",
    "---\n",
    "## tipagem fraca\n",
    "- Uma linguagem de tipagem fraca realiza conversões implícitas (sem intervenção do programador), para que seja possível a realização de operações entre tipos de dados incompatíveis/diferentes, podendo levar a comportamentos inesperados. Ex.: uma soma entre `str` e `int`, se `str` também for um número (`str_num = \"1\"`, por exemplo), vai resultar na soma numérica ou na concatenação (junção) dos valores?\n",
    "## tipagem forte\n",
    "- Uma linguagem de tipagem forte é aquela que não permite operações entre tipos incompatíveis sem uma conversão explícita por parte do programador, evitando erros inesperados.\n",
    "---"
   ]
  },
  {
   "cell_type": "markdown",
   "id": "387e3ad1-f92e-4947-8d37-768677b119cd",
   "metadata": {},
   "source": [
    "# Conversão de tipos\n",
    "- Chamada de conversão, coerção, type coercion, coercion, casting, entre outros.\n",
    "- Para converter um tipo em outro (desde que sejam compatíveis), usamos: `tipo_desejado(dado)`\n",
    "# Concatenação\n",
    "- Para concatenar (juntar) strings, usamos o `+`\n",
    "- **A concatenação é EXCLUSIVA PARA STRINGS. Não podemos concatenar outros tipos a uma string, a menos que seja realiza a conversão.**"
   ]
  },
  {
   "cell_type": "code",
   "execution_count": 47,
   "id": "a040b472-ab1f-4790-a994-6ec17c34ee0a",
   "metadata": {},
   "outputs": [
    {
     "name": "stdout",
     "output_type": "stream",
     "text": [
      "Me chamo Mateus e tenho 22 anos\n"
     ]
    }
   ],
   "source": [
    "# Conversão e Concatenação\n",
    "idade = 22\n",
    "\n",
    "str_idade = str(idade)\n",
    "print(\"Me chamo Mateus e tenho \" + str_idade + \" anos\")\n"
   ]
  },
  {
   "cell_type": "code",
   "execution_count": 48,
   "id": "382b6a39-fbee-456a-ad6e-f76c7eb3bb59",
   "metadata": {},
   "outputs": [
    {
     "ename": "TypeError",
     "evalue": "can only concatenate str (not \"int\") to str",
     "output_type": "error",
     "traceback": [
      "\u001b[1;31m---------------------------------------------------------------------------\u001b[0m",
      "\u001b[1;31mTypeError\u001b[0m                                 Traceback (most recent call last)",
      "Cell \u001b[1;32mIn[48], line 2\u001b[0m\n\u001b[0;32m      1\u001b[0m \u001b[38;5;66;03m# Note o que ocorre ao tentar concatenar, diretamente, o tipo int a uma string:\u001b[39;00m\n\u001b[1;32m----> 2\u001b[0m \u001b[38;5;28mprint\u001b[39m(\u001b[38;5;124m\"\u001b[39m\u001b[38;5;124mMe chamo Mateus e tenho \u001b[39m\u001b[38;5;124m\"\u001b[39m \u001b[38;5;241m+\u001b[39m idade \u001b[38;5;241m+\u001b[39m \u001b[38;5;124m\"\u001b[39m\u001b[38;5;124m anos\u001b[39m\u001b[38;5;124m\"\u001b[39m)\n",
      "\u001b[1;31mTypeError\u001b[0m: can only concatenate str (not \"int\") to str"
     ]
    }
   ],
   "source": [
    "# Note o que ocorre ao tentar concatenar, diretamente, o tipo int a uma string:\n",
    "print(\"Me chamo Mateus e tenho \" + idade + \" anos\")"
   ]
  },
  {
   "cell_type": "markdown",
   "id": "74963836-ca0f-4eb0-92ce-45c3bcd67f59",
   "metadata": {},
   "source": [
    "# Operadores aritméticos e considerações\n",
    "Os operadores aritméticos em python são:\n",
    "- Soma (+)\n",
    "- Subtração (-)\n",
    "- Multiplicação (*)\n",
    "- Divisão (/)\n",
    "- Divisão exata (//)\n",
    "- Potência (**)\n",
    "- Módulo (%)\n",
    "---\n",
    "### Soma e Concatenação\n",
    "- O `+` também concatena.\n",
    "- A soma de `int` com `float` resulta em `float`\n",
    "### Multiplicação\n",
    "- Também é utilizada para repetir strings.\n",
    "### Divisão\n",
    "- Mesmo sendo exata, sempre retorna `float`\n",
    "### Divisão inteira\n",
    "- Pode retornar `int` ou `float` (Retorna float se for usado algum float na operação)\n",
    "### Módulo\n",
    "- Resto da divisão"
   ]
  },
  {
   "cell_type": "code",
   "execution_count": 6,
   "id": "4d3eecfd-ed20-4b3d-ba44-03bcd60b9da9",
   "metadata": {},
   "outputs": [
    {
     "name": "stdout",
     "output_type": "stream",
     "text": [
      "O tipo de 4.0 é <class 'float'>\n",
      "----------\n",
      "O tipo de 2.0 é <class 'float'>\n",
      "O tipo de 2 é <class 'int'>\n",
      "O tipo de 2.0 é <class 'float'>\n",
      "O tipo de 2.0 é <class 'float'>\n",
      "O resultado inteiro da divisão é 2 e o módulo (resto) é 1\n"
     ]
    }
   ],
   "source": [
    "# Soma de int e float\n",
    "n1 = 2 + 2.0\n",
    "print(\"O tipo de\", n1, \"é\", type(n1))\n",
    "\n",
    "# Repetição de string\n",
    "repeticao = \"-\" * 10\n",
    "print(repeticao)\n",
    "\n",
    "# Divisão e Divisão Inteira\n",
    "n2 = 4 / 2\n",
    "print(\"O tipo de\", n2, \"é\", type(n2))\n",
    "\n",
    "n3 = 4 // 2\n",
    "print(\"O tipo de\", n3, \"é\", type(n3))\n",
    "\n",
    "n4 = 4 // 2.0\n",
    "print(\"O tipo de\", n4, \"é\", type(n4))\n",
    "\n",
    "n5 = 4.0 // 2\n",
    "print(\"O tipo de\", n5, \"é\", type(n5))\n",
    "\n",
    "# Módulo (Retorna o resto da divisão)\n",
    "n6 = 5 // 2 # O resultado (exato) da divisão é 2 e o resto é 1.\n",
    "modulo_n6 = 5%2\n",
    "print(\"O resultado inteiro da divisão é\", n6, \"e o módulo (resto) é\", modulo_n6)\n"
   ]
  }
 ],
 "metadata": {
  "kernelspec": {
   "display_name": "base",
   "language": "python",
   "name": "python3"
  },
  "language_info": {
   "codemirror_mode": {
    "name": "ipython",
    "version": 3
   },
   "file_extension": ".py",
   "mimetype": "text/x-python",
   "name": "python",
   "nbconvert_exporter": "python",
   "pygments_lexer": "ipython3",
   "version": "3.13.5"
  }
 },
 "nbformat": 4,
 "nbformat_minor": 5
}
