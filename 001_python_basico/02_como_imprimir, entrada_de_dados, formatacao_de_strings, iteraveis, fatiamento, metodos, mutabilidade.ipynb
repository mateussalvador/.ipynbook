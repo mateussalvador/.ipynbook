{
 "cells": [
  {
   "cell_type": "markdown",
   "id": "828b0c31-9300-40a6-b3f7-5ed077b6b146",
   "metadata": {},
   "source": [
    "# Como imprimir aspas?\n",
    "Existem duas maneiras:\n",
    "- Alternando entre aspas simples e duplas.\n",
    "- Usando caracteres de escape."
   ]
  },
  {
   "cell_type": "code",
   "execution_count": 4,
   "id": "d1da6c8c-b9c8-42d3-a64f-48ccae499030",
   "metadata": {},
   "outputs": [
    {
     "name": "stdout",
     "output_type": "stream",
     "text": [
      "imprimindo \"aspas\"\n",
      "imprimindo 'aspas' 2\n"
     ]
    }
   ],
   "source": [
    "print('imprimindo \"aspas\"')\n",
    "print('imprimindo \\'aspas\\' 2')"
   ]
  },
  {
   "cell_type": "markdown",
   "id": "b28bb59a-19f3-4616-8ac4-3b289f201627",
   "metadata": {},
   "source": [
    "# Como imprimir \\\\?\n",
    "Existem duas maneiras:\n",
    "- Usando caractere de escape\n",
    "- Usando **raw string**\n",
    "    - São *strings brutas*, onde as barras invertidas são tratadas como caracteres literais.\n",
    "    - Normalmente utilizadas para trabalhar com **regular expression**\n",
    "    - Basta colocar um `r` antes das aspas que iniciam a string.\n",
    "    - Ainda pode ser usado para escapar strings, pois esses são essenciais para delimitar a string."
   ]
  },
  {
   "cell_type": "code",
   "execution_count": 8,
   "id": "ef796859-9f4b-46e3-8ee8-d6659057685b",
   "metadata": {},
   "outputs": [
    {
     "name": "stdout",
     "output_type": "stream",
     "text": [
      "Imprimindo com caractere de escape: \\\n",
      "Imprimindo \\ com raw string\n"
     ]
    }
   ],
   "source": [
    "print(\"Imprimindo com caractere de escape: \\\\\")\n",
    "print(r\"Imprimindo \\ com raw string\")"
   ]
  },
  {
   "cell_type": "markdown",
   "id": "fd9833f4-ef6f-4dab-8e6e-aaa92d361a41",
   "metadata": {},
   "source": [
    "# Entrada de Dados - input()\n",
    "- A função `input()` é usada para receber dados do usuário.\n",
    "- O código só sai da função quando o usuário envia algo.\n",
    "- Podemos armazenar o valor enviado em uma variável.\n",
    "- Os valores são sempre armazenados em formato de `str`"
   ]
  },
  {
   "cell_type": "code",
   "execution_count": 4,
   "id": "5f8acd0c-3940-4a53-ab65-4834b51c6305",
   "metadata": {},
   "outputs": [
    {
     "name": "stdin",
     "output_type": "stream",
     "text": [
      "Informe seu nome:  Mateus\n"
     ]
    },
    {
     "name": "stdout",
     "output_type": "stream",
     "text": [
      "O nome do usuário é: Mateus\n"
     ]
    },
    {
     "name": "stdin",
     "output_type": "stream",
     "text": [
      "Informe sua idade:  22\n"
     ]
    },
    {
     "name": "stdout",
     "output_type": "stream",
     "text": [
      "<class 'str'>\n"
     ]
    }
   ],
   "source": [
    "# Recebendo o nome do usuário\n",
    "nome = input(\"Informe seu nome: \")\n",
    "print(\"O nome do usuário é:\", nome)\n",
    "\n",
    "# Recebendo a idade do usuário\n",
    "idade = input(\"Informe sua idade: \")\n",
    "print(type(idade)) # Aqui, será printado o tipo da variável 'idade'\n"
   ]
  },
  {
   "cell_type": "markdown",
   "id": "481e92a9-16bd-4731-8354-b2ef8231c020",
   "metadata": {},
   "source": [
    "# Formatação de strings\n",
    "- Podemos utilizar três técnicas:\n",
    "    - f-string\n",
    "    - format()\n",
    "    - interpolação\n",
    "\n",
    "## f-string\n",
    "- usamos um `f` antes das aspas que iniciam a string.\n",
    "- Permite informar dados diretamente entre chaves `{}`\n",
    "\n",
    "### `{nomeDaVariavel=}`\n",
    "- Utilizando esta ténica, obtemos uma saída no formato `nome=valor`\n",
    "\n",
    "### Formatar casas decimais\n",
    "- Para formatar casas decimais, devemos algo como `variavel.2f`, assim, a variável será formatada para duas casas decimais. Se quisermos algo diferente disso, alteramos o **2** para outro número.\n",
    "- Além disso, é obrigatório que seja passado um `:` antes do `.`"
   ]
  },
  {
   "cell_type": "code",
   "execution_count": 11,
   "id": "8f353a55-92ae-420e-82a4-c7689dfd4d37",
   "metadata": {},
   "outputs": [
    {
     "name": "stdout",
     "output_type": "stream",
     "text": [
      "Mateus tem 22 anos e 1.8 de altura.\n"
     ]
    }
   ],
   "source": [
    "nome = \"Mateus\"\n",
    "idade = 22\n",
    "altura = 1.81\n",
    "\n",
    "info = f\"{nome} tem {idade} anos e {altura:.1f} de altura.\"\n",
    "print(info)"
   ]
  },
  {
   "cell_type": "markdown",
   "id": "29cbdef0-542b-4c4e-b918-286af36a2cbd",
   "metadata": {},
   "source": [
    "## format()\n",
    "- É um método que permite inserir e formatar valores dentro de uma string utilizando `placeholders`\n",
    "### placeholders\n",
    "- São campos \"reservados\" que servem para receber valores de quaisquer tipos.\n",
    "- Este conceito não é exclusivo do format. Também é usado em f-strings e interpolação, por exemplo.\n",
    "- Definidos, no `format()`, por `{}`\n",
    "- Podem utilizar:\n",
    "    - Chaves vazias\n",
    "    - Índices numéricos\n",
    "    - Nomes\n",
    "    - Especificadores de formatação que controlam a apresentação dos dados (alinhamento, por exemplo)\n",
    "### Chaves vazias\n",
    "- Dados são exibidos na ordem em que os argumentos sao passados.\n"
   ]
  },
  {
   "cell_type": "code",
   "execution_count": 14,
   "id": "1595aae4-93b0-4bd5-a493-26e2d92565af",
   "metadata": {},
   "outputs": [
    {
     "name": "stdout",
     "output_type": "stream",
     "text": [
      "a = 1, b = 2, c = 3\n"
     ]
    }
   ],
   "source": [
    "string = \"a = {}, b = {}, c = {}\".format(1, 2, 3)\n",
    "print(string)"
   ]
  },
  {
   "cell_type": "markdown",
   "id": "8e41bc08-43db-42dd-9c40-73e3816b2942",
   "metadata": {},
   "source": [
    "### Índices numéricos\n",
    "- Passando índices, podemos controlar a ordem em que os dados serão exibidos.\n",
    "- Iniciam do zero"
   ]
  },
  {
   "cell_type": "code",
   "execution_count": 17,
   "id": "c66af030-fd1e-4c53-b90d-a4fc67dca9da",
   "metadata": {},
   "outputs": [
    {
     "name": "stdout",
     "output_type": "stream",
     "text": [
      "a = 3, b = 2, c = 1\n"
     ]
    }
   ],
   "source": [
    "string2 = \"a = {2}, b = {1}, c = {0}\".format(1, 2, 3)\n",
    "print(string2)"
   ]
  },
  {
   "cell_type": "markdown",
   "id": "54e0e795-b1fe-4c6f-a6bf-ff234e5ff327",
   "metadata": {},
   "source": [
    "### nomes\n",
    "- Podemos utilizar parâmetros nomeados, que facilitam ainda mais a identificação.\n",
    "- Ao passar um parâmetro nomeado, todos os seguintes também deverão ser nomeados."
   ]
  },
  {
   "cell_type": "code",
   "execution_count": 19,
   "id": "59038566-8670-42f3-9990-9634ca4ea8d9",
   "metadata": {},
   "outputs": [
    {
     "name": "stdout",
     "output_type": "stream",
     "text": [
      "a = 3, b = 1, c = 2\n"
     ]
    }
   ],
   "source": [
    "string3 = \"a = {tres}, b = {um}, c = {dois}\".format(um = 1, dois = 2, tres = 3)\n",
    "print(string3)"
   ]
  },
  {
   "cell_type": "markdown",
   "id": "8e2c2346-f158-468c-b5d9-d4c75cc5e45e",
   "metadata": {},
   "source": [
    "#### Especificador de formatação\n",
    "- Podemos definir diversas formatações, como:\n",
    "    - Converter em hexadecimal\n",
    "    - Colocar em formato percentual\n",
    "    - Definir separador de milhares\n",
    "    - Alinhar texto\n",
    "    - formatar casas decimais"
   ]
  },
  {
   "cell_type": "markdown",
   "id": "22c0f7a7-cdc6-48f3-8670-3ef0caa55c26",
   "metadata": {},
   "source": [
    "## Interpolação\n",
    "- Usamos máscaras de formatação, que funcionam como placeholders\n",
    "- Após terminar a string, devemos usar `%` antes de indicar as variáveis que irão substituir as máscaras.\n",
    "- Os argumentos devem ser passados entre parênteses."
   ]
  },
  {
   "cell_type": "code",
   "execution_count": 24,
   "id": "538de970-6053-4ff7-97da-d46e89800912",
   "metadata": {
    "scrolled": true
   },
   "outputs": [
    {
     "name": "stdout",
     "output_type": "stream",
     "text": [
      "Mateus, o preço total foi R$ 1000.98\n"
     ]
    }
   ],
   "source": [
    "nome = \"Mateus\"\n",
    "preco = 1000.9845\n",
    "\n",
    "frase = \"%s, o preço total foi R$ %.2f\" % (nome, preco)\n",
    "print(frase)"
   ]
  },
  {
   "cell_type": "markdown",
   "id": "c4d39ce4-c36c-4f31-a24f-726e6a890bba",
   "metadata": {},
   "source": [
    "# Iteráveis\n",
    "- Um `iterável` é qualquer objeto que pode ser percorrido elemento por elemento.\n",
    "### strings são iteráveis\n",
    "- strings são iteráveis, pois podemos percorrer caractere por caractere.\n",
    "## Operadores `in` e `not in`\n",
    "- São operadores **exclusivos para iteráveis**, que servem para verificar se determinado elemento está ou não naquele iterável.\n",
    "## Índices\n",
    "- Para acessar os elementos de um iterável, usamos os índices.\n",
    "- Podem ser positivos ou negativos. Ex.:\n",
    "\n",
    "<div style=\"text-align: left;\">\n",
    "  <table border=\"1\" style=\"margin-left: 70px;\">\n",
    "    <tr>\n",
    "      <th>0</th><th>1</th><th>2</th><th>3</th><th>4</th><th>5</th>\n",
    "    </tr>\n",
    "    <tr>\n",
    "      <td>M</td><td>a</td><td>t</td><td>e</td><td>u</td><td>s</td>\n",
    "    </tr>\n",
    "    <tr>\n",
    "      <td>-6</td><td>-5</td><td>-4</td><td>-3</td><td>-2</td><td>-1</td>\n",
    "    </tr>\n",
    "  </table>\n",
    "</div>\n",
    "\n",
    "- Note que o *'M'* está no índice 0, mas também está no -6.\n",
    "- O índice positivo inicia do zero.\n",
    "- O último elemento é sempre o índice -1. \n"
   ]
  },
  {
   "cell_type": "code",
   "execution_count": 28,
   "id": "8cd085bc-a500-466d-8345-1a829876e295",
   "metadata": {},
   "outputs": [
    {
     "name": "stdout",
     "output_type": "stream",
     "text": [
      "a\n",
      "a\n",
      "\n",
      "True\n",
      "False\n"
     ]
    }
   ],
   "source": [
    "nome = \"Mateus\"\n",
    "\n",
    "#Acessando o 'a'\n",
    "print(nome[1])\n",
    "print(nome[-5])\n",
    "\n",
    "# Utilizando `in` e `not in`\n",
    "print()\n",
    "print(\"a\" in nome)\n",
    "print(\"z\" in nome)"
   ]
  },
  {
   "cell_type": "markdown",
   "id": "ceac5847-72fc-4759-97c3-c926b21715fb",
   "metadata": {},
   "source": [
    "# Index error: out of range\n",
    "- Erro que ocorre ao tentar acessar um índice fora do intervalo válido."
   ]
  },
  {
   "cell_type": "code",
   "execution_count": 29,
   "id": "3c837124-cfe7-4945-8b25-4bcefedaf104",
   "metadata": {},
   "outputs": [
    {
     "ename": "IndexError",
     "evalue": "string index out of range",
     "output_type": "error",
     "traceback": [
      "\u001b[1;31m---------------------------------------------------------------------------\u001b[0m",
      "\u001b[1;31mIndexError\u001b[0m                                Traceback (most recent call last)",
      "Cell \u001b[1;32mIn[29], line 2\u001b[0m\n\u001b[0;32m      1\u001b[0m nome \u001b[38;5;241m=\u001b[39m \u001b[38;5;124m\"\u001b[39m\u001b[38;5;124mMateus\u001b[39m\u001b[38;5;124m\"\u001b[39m\n\u001b[1;32m----> 2\u001b[0m \u001b[38;5;28mprint\u001b[39m(nome[\u001b[38;5;241m6\u001b[39m])\n",
      "\u001b[1;31mIndexError\u001b[0m: string index out of range"
     ]
    }
   ],
   "source": [
    "nome = \"Mateus\"\n",
    "print(nome[6])"
   ]
  },
  {
   "cell_type": "markdown",
   "id": "65f8e1cb-dcdd-4aae-a489-71d20e658598",
   "metadata": {},
   "source": [
    "# Fatiamento de strings\n",
    "- Podemos acessar \"fatias\" específicas de uma string.\n",
    "## Sintaxe\n",
    "- `[inicio:fim:passos]`\n",
    "- Se indicarmos somente um valor, será o início.\n",
    "- Se indicarmos somente dois valores, será início e fim.\n",
    "### início\n",
    "- Define onde a fatia se inicia.\n",
    "### Fim\n",
    "- Define o fim da fatia.\n",
    "- Não incluí o índice que passamos. Se quisermos que vá até o final, precisamos passar um a mais que o índice final.\n",
    "### Notas sobre índices\n",
    "- É muito comum que o índice passado como final não seja incluído.\n",
    "### passo\n",
    "- Por padrão, o passo é 1.\n",
    "- Se passarmos `2`, ele irá percorrer um sim, outro não.\n",
    "- Se passarmos `3`, ele irá percorrer um sim, dois não."
   ]
  },
  {
   "cell_type": "code",
   "execution_count": 30,
   "id": "a602bddb-c1e1-43ab-8247-9157cbd8a1e0",
   "metadata": {},
   "outputs": [
    {
     "name": "stdout",
     "output_type": "stream",
     "text": [
      "ae\n"
     ]
    }
   ],
   "source": [
    "nome = \"Mateus\"\n",
    "print(nome[1:5:2]) # Vai printar 'ae'"
   ]
  },
  {
   "cell_type": "markdown",
   "id": "e304a79b-e49d-4344-abce-9a154a7d7863",
   "metadata": {},
   "source": [
    "# len\n",
    "- Verifica e retorna o tamanho do iterável.\n",
    "# Strings de múltiplas linhas\n",
    "- Podemos escrever strings de múltiplas linhas, as colocamos entre trios de aspas."
   ]
  },
  {
   "cell_type": "code",
   "execution_count": 36,
   "id": "cfece9c8-996d-4363-a1fa-922feb83d008",
   "metadata": {},
   "outputs": [
    {
     "name": "stdout",
     "output_type": "stream",
     "text": [
      "17\n",
      "------------------------------\n",
      "Era uma vez,\n",
      "um texto aleatório,\n",
      "bla bla bla\n"
     ]
    }
   ],
   "source": [
    "nome = \"Irenilda Salvador\"\n",
    "print(len(nome))\n",
    "\n",
    "print(\"-\" * 30)\n",
    "\n",
    "frase = \"\"\"Era uma vez,\n",
    "um texto aleatório,\n",
    "bla bla bla\"\"\"\n",
    "print(frase)"
   ]
  },
  {
   "cell_type": "markdown",
   "id": "09829ce1-8b41-4371-9560-f8b9cc853164",
   "metadata": {},
   "source": [
    "# Métodos de strings\n",
    "### `isdigit()`\n",
    "- Verifica se a string é composta apenas por dígitos numéricos.\n",
    "- Não são inclusos números negativos, por exemplo, pois estes iniciam por hífen.\n",
    "    \n",
    "### `isalpha()`\n",
    "- Verifica se a string é composta apenas por letras.\n",
    "    \n",
    "### `isalnum()`\n",
    "- Verifica se a string é composta apenas por dígitos numéricos e letras.\n",
    "    \n",
    "### `upper()`\n",
    "- Deixa todas as letras em maiúsculo.\n",
    "### `lower()`\n",
    "- Deixa todas as letras em minúsculo.\n",
    "### `capitalize()`\n",
    "- Deixa a primeira letra da string em maiúsculo.\n",
    "### `title()`\n",
    "- Deixa a primeira letra de cada palavra em maiúsculo.\n",
    "### `starswith()`\n",
    "- Verifica se a string inicia com determinado caractere.\n",
    "### `endswith()`\n",
    "- Verifica se a string encerra com determinado caractere.\n",
    "### `find()`\n",
    "- Verifique se determinado caractere está presente na string e retorna o índice dele.\n",
    "- Se houver mais de um, retorna apenas o primeiro.\n",
    "- Se não houver, retorna -1.\n",
    "### `count()`\n",
    "- Conta a quantidade de ocorrências daquele caractere na string.\n",
    "### `replace()`\n",
    "- Altera um caractere por outro.\n",
    "- Se o caractere não existir, não faz nada.\n",
    "### `split()`\n",
    "- Quebra a string em várias strings, usando um caractere como padrão para a quebra.\n",
    "- O caractere \"separador\" não é incluso nas novas strings.\n",
    "- Por padrão, é o espaço, mas podemos alterar. Bastausar `string.split(\"novo separador\")`\n",
    "### `zfill()`\n",
    "- Adiciona zeros à esquerda da string.\n",
    "- Devemos passar entre parênteses o tamanho desejado para a string.\n",
    "- A quantidade de zeros a serem incluídos à esquerda é `tamanho_desejado - tamanho_da_string`\n",
    "- Se a string for maior que o tamanho desejado, os números não são inseridos.\n",
    "### `join()`\n",
    "- Concatena strings.\n",
    "- Para utilizá-lo, devemos passar o separador padrão (como um espaço, por exemplo) e o método é invocado neste separador.\n",
    "- As strings a serem concatenadas são passadas entre parênteses.\n",
    "- Ex.: `\" \".join(str1, str2)`\n",
    "### `center()`\n",
    "- Centraliza a string, inserindo espaços em ambos os lados, tomando como medida um tamanho especificado pelo usuário.\n",
    "### `strip()`\n",
    "- Corta determinado caractere do início e fim da string, se este for o primeiro e último.\n",
    "- Também podemos usar lstrip e rstrip, para corte somente do lado esquerdo ou direito, respectivamente.\n",
    "### `ljust()`\n",
    "- Deixa a string do lado esquerdo e preenche o lado direito com determinado caractere.\n",
    "### `rjust()`\n",
    "- Deixa a string do lado esquerdo e preenche o lado direito com determinado caractere."
   ]
  },
  {
   "cell_type": "code",
   "execution_count": 2,
   "id": "8d46d413-493b-4444-ac84-d8aed4c8dc59",
   "metadata": {},
   "outputs": [
    {
     "name": "stdout",
     "output_type": "stream",
     "text": [
      "Mateus\n"
     ]
    }
   ],
   "source": []
  }
 ],
 "metadata": {
  "kernelspec": {
   "display_name": "Python 3 (ipykernel)",
   "language": "python",
   "name": "python3"
  },
  "language_info": {
   "codemirror_mode": {
    "name": "ipython",
    "version": 3
   },
   "file_extension": ".py",
   "mimetype": "text/x-python",
   "name": "python",
   "nbconvert_exporter": "python",
   "pygments_lexer": "ipython3",
   "version": "3.12.7"
  }
 },
 "nbformat": 4,
 "nbformat_minor": 5
}
