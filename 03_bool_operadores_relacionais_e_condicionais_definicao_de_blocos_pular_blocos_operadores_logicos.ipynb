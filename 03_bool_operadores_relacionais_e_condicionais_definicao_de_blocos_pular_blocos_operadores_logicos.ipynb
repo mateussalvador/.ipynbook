{
 "cells": [
  {
   "cell_type": "markdown",
   "id": "3832558a-e66d-4c35-928b-058b30a14820",
   "metadata": {},
   "source": [
    "# Bool\n",
    "- É um tipo de dado booleano.\n",
    "- Serve, basicamente, para verificar se uma determinada condição é verdadeira ou falsa.\n",
    "\n",
    "## Valores booleanos explícitos\n",
    "- O tipo `bool` pode receber os valores `True` (verdadeiro) ou `False` (falso). Note que os valores são case sensitive, então é necessário que sejam escritos com a primeira letra em maiúsculo.\n",
    "- Esses são valores são subclasses de `int`, onde `False = 0` e `True = 1`.\n",
    "\n",
    "## Valores booleanos implícitos\n",
    "- São `Truthy` e `Falsy`. Esses valores são usados porque o Python converte valores de outros tipos para `True` ou `False`.\n",
    "\n",
    "### falsy\n",
    "- Números zero (0, 0j, 0.0)\n",
    "- Sequências vazias (sejam string, lista, tuplas, ou qualquer coleção vazia)\n",
    "- None\n",
    "\n",
    "### truthy\n",
    "- Todos os valores que não recebem `falsy`\n",
    "  \n",
    "## Aplicações práticas\n",
    "- Podemos utilizar, por exemplo, para validar a entrada do usuário, **recusando entradas vazias**."
   ]
  },
  {
   "cell_type": "markdown",
   "id": "36a50053-e9d8-4d2f-823f-92f3af9fd160",
   "metadata": {},
   "source": [
    "# Operadores Lógicos\n",
    "- and -> True se todas as condições forem verdadeiras\n",
    "- or -> True se pelo menos uma condição for verdadeira\n",
    "- not -> Inverte o valor lógico.\n",
    "\n",
    "# Operadores relacionais\n",
    "- ==\n",
    "- !=\n",
    "- <\n",
    "- \\>\n",
    "- \\>=\n",
    "- <=\n",
    "\n",
    "## Retorno das Operações Relacionais\n",
    "- Sempre retornam `True` ou `False`\n",
    "\n",
    "## Operações relacionais com strings\n",
    "- Em alguns casos, podemos utilizar os operadores relacionais com strings.\n",
    "- `==` e `!=` são aceitos para comparação de strings.\n",
    " "
   ]
  },
  {
   "cell_type": "markdown",
   "id": "ef79ff9f-d528-4709-b3c4-c58a6aca92e9",
   "metadata": {},
   "source": [
    "# Estruturas de condição\n",
    "- Servem para verificar se determinada condição é verdadeira ou falsa.\n",
    "- São três:\n",
    "    - `if`\n",
    "    - `elif`\n",
    "    - `else`\n",
    "\n",
    "### Notas sobre condicionais\n",
    "- Ao passar por uma condição verdadeira, o código pula para fora do if.\n",
    "- Podemos usar vários elif.\n"
   ]
  },
  {
   "cell_type": "code",
   "execution_count": 5,
   "id": "bd986dcd-9d5d-41ab-add6-b032287814df",
   "metadata": {},
   "outputs": [
    {
     "name": "stdin",
     "output_type": "stream",
     "text": [
      "Informe a opção desejada (opções válidas: 'entrar' ou 'sair'): entrar\n"
     ]
    },
    {
     "name": "stdout",
     "output_type": "stream",
     "text": [
      "Você entrou no sistema\n"
     ]
    }
   ],
   "source": [
    "entrada = input(\"Informe a opção desejada (opções válidas: 'entrar' ou 'sair'):\").lower()\n",
    "\n",
    "if entrada == \"entrar\":\n",
    "    print(\"Você entrou no sistema\")\n",
    "elif entrada == \"sair\":\n",
    "    print(\"Você saiu do sistema\")\n",
    "else:\n",
    "    print(\"Você digitou uma opção inválida.\")"
   ]
  },
  {
   "cell_type": "markdown",
   "id": "c028a38b-349c-4257-b70a-3b34f9a03212",
   "metadata": {},
   "source": [
    "## Notas sobre indentação e organização de código\n",
    "- No  Python, a indentação é quem define os blocos de códigos e a relação entre um bloco e outro, visto que não são usadas chaves.\n",
    "\n",
    "## Pulando o código de um bloco \n",
    "- Se deixarmos um bloco de código vazio, será gerado um erro. Para evitar isto, podemos usar técnicas específicas para pular a escrita de um bloco de código para escrevê-lo depois. \n",
    "- Usamos:\n",
    "    - `...`\n",
    "    - `pass`"
   ]
  }
 ],
 "metadata": {
  "kernelspec": {
   "display_name": "Python 3 (ipykernel)",
   "language": "python",
   "name": "python3"
  },
  "language_info": {
   "codemirror_mode": {
    "name": "ipython",
    "version": 3
   },
   "file_extension": ".py",
   "mimetype": "text/x-python",
   "name": "python",
   "nbconvert_exporter": "python",
   "pygments_lexer": "ipython3",
   "version": "3.12.7"
  }
 },
 "nbformat": 4,
 "nbformat_minor": 5
}
