{
 "cells": [
  {
   "cell_type": "markdown",
   "id": "f39e736b-1761-4e5d-861e-63cc04bfeaea",
   "metadata": {},
   "source": [
    "# O que é um módulo?\n",
    "- É um arquivo que contém código python\n",
    "- Esse arquivo define funções, classes e variáveis que podem ser reutilizadas em outros programas\n",
    "\n",
    "## Como importar um módulo\n",
    "- Devemos importar todos os módulos e bibliotecas no começo do código\n",
    "- Existem diferentes formas para isso\n",
    "\n",
    "### 1. Importação padrão\n",
    "- Usamos `import nome_do_modulo`\n",
    "- Não devemos usar a extensão .py\n",
    "- Para usar qualquer função ou variável do módulo, você precisa prefixá-la com o nome do módulo. Ex.: `math.sqrt(25)`\n",
    "- O bom é que fica claro de onde cada função ou variável está vindo.\n",
    "\n",
    "### 2. Importação com apelido \n",
    "- Usamos `import modulo as apelido`\n",
    "- Criamos uma apelido/abreviação, facilitando o acesso ao módulo.\n",
    "- O mais comum é utilizar abreviações padrões da comunidade.\n",
    "- Ex.: import numpy as np e import pandas as pd\n",
    "\n",
    "### 3. Importação Específica \n",
    "- Importa um ou mais itens específicos (funções, classes, variáveis de um módulo diretamente para o namespace atual.\n",
    "- Assim, não precisamos mais usar o prefixo do nome do módulo. \n",
    "- Sintaxe: from <nome_do_modulo> import <item1>, <item2>, ...\n",
    "- Ex.: `from math import sqrt, pi`\n",
    "- Agora, não é mais necessário usar `math.`: raiz = sqrt(25)\n",
    "\n",
    "### 4. Importação Específica com Apelido (from modulo import item as alias)\n",
    "- Sintaxe: from <nome_do_modulo> import <item> as <apelido>\n",
    "- Por exemplo, se tivermos uma função no nosso código com o mesmo nome que a função de um módulo que queremos importar, conseguimos resolver isso desta forma.\n",
    "\n",
    "### 5. Importação \"Coringa\" ou \"Estrela\" (from modulo import *)\n",
    "- Sintaxe: from <nome_do_modulo> import *\n",
    "- Importa todos os nomes públicos de um módulo (funções, classes, variáveis que não começam com _) para o namespace atual.\n",
    "- **Atenção: Esta forma é fortemente desaconselhada na maioria dos casos.**"
   ]
  }
 ],
 "metadata": {
  "kernelspec": {
   "display_name": "Python 3 (ipykernel)",
   "language": "python",
   "name": "python3"
  },
  "language_info": {
   "codemirror_mode": {
    "name": "ipython",
    "version": 3
   },
   "file_extension": ".py",
   "mimetype": "text/x-python",
   "name": "python",
   "nbconvert_exporter": "python",
   "pygments_lexer": "ipython3",
   "version": "3.13.5"
  }
 },
 "nbformat": 4,
 "nbformat_minor": 5
}
