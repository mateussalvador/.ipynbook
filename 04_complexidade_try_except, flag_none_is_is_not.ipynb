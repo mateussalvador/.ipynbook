{
 "cells": [
  {
   "cell_type": "markdown",
   "id": "d5e8455b-998c-4671-8899-cdf72ae235e8",
   "metadata": {},
   "source": [
    "# Complexidade de código\n",
    "- Devemos escrever o código para que outros programadores possam entender.\n",
    "- Para isso, devem ser evitados:\n",
    "    - Muitas condições dentro do mesmo if\n",
    "    - Código muito distante da margem esquerda\n",
    "\n",
    "## Como quebrar linha no código\n",
    "- Para quebrar linha durante o código, podemos quebrar e continuar a escrita do código na linha debaixo.\n",
    "- Para isto, **basta utilizar `\\`**.\n",
    "- \n",
    "### Notas sobre o `\\`\n",
    "- O `\\` deve ser o último caractere da linha, não podendo haver nem se quer um espaço após ele.\n",
    "- Ao utilizar muito, o código fica poluído visualmente.\n",
    "\n",
    "## Alternativa melhor: parênteses\n",
    "- Expressões dentro de **parênteses, colchetes ou chaves** permitem quebra de linha com enter.\n"
   ]
  },
  {
   "cell_type": "code",
   "execution_count": 1,
   "id": "7a13e147-fd0d-4cdd-aae7-2e85d3413a45",
   "metadata": {},
   "outputs": [
    {
     "name": "stdout",
     "output_type": "stream",
     "text": [
      "Carro multado em radar 1\n"
     ]
    }
   ],
   "source": [
    "numero = 10\n",
    "\n",
    "if numero >= 2 \\\n",
    "and numero <= 12\\\n",
    "and str(numero).isdigit():\n",
    "\n",
    "    print(\"Carro multado em radar 1\")\n"
   ]
  },
  {
   "cell_type": "code",
   "execution_count": 9,
   "id": "de0e2b6a-5d9c-46d1-b8a8-7a8dfe12c3bf",
   "metadata": {},
   "outputs": [
    {
     "name": "stdout",
     "output_type": "stream",
     "text": [
      "Carro multado em radar 1\n"
     ]
    }
   ],
   "source": [
    "numero = 10\n",
    "\n",
    "if (\n",
    "    numero >= 2\n",
    "    and numero <= 10 \n",
    "    and str(numero).isdigit()\n",
    "):\n",
    "\n",
    "    print(\"Carro multado em radar 1\")"
   ]
  },
  {
   "cell_type": "markdown",
   "id": "c9d607ed-3f98-4e71-b2a1-b8aa74be56bc",
   "metadata": {},
   "source": [
    "## Constantes\n",
    "- São \"variáveis\" que não vão mudar.\n",
    "- No Python, não temos constantes, por isso adotamos a convenção de utilizar letras maiúsculas para coisas que não serão alteradas. Ex.: `RADAR = 60`"
   ]
  },
  {
   "cell_type": "markdown",
   "id": "f3b6838e-de68-4924-aa56-d8814390d5cc",
   "metadata": {},
   "source": [
    "# Try Except\n",
    "- É o `try-catch` de outras linguagens.\n",
    "- Mecanismo para tratar exceções em Python.\n",
    "  \n",
    "## Como funciona\n",
    "- Permite que um bloco de código seja executado (`try`) e, caso ocorra um erro, executamos o outro bloco (`except`) para lidar com a exceção.\n",
    "\n",
    "## Sintaxe"
   ]
  },
  {
   "cell_type": "code",
   "execution_count": null,
   "id": "705d3c86-7554-4389-bba1-149a2557cf10",
   "metadata": {},
   "outputs": [],
   "source": [
    "try:\n",
    "    # Código que pode gerar um erro\n",
    "except tipo_de_excecao:\n",
    "    # Código para tratar o erro"
   ]
  },
  {
   "cell_type": "markdown",
   "id": "1dd53f70-00f3-4322-a7f2-dfce989aa884",
   "metadata": {},
   "source": [
    "## Try Except vs IF\n",
    "- O if checa uma condição e direciona o fluxo do programa, mas não evita erros.\n",
    "- O Try Except não é capaz de verificar condições.\n",
    "\n",
    "## Casos de uso corretos\n",
    "- Evitar erros externos imprevisíveis (abertura de arquivos, conexão de rede, chamada de API)\n",
    "- Validar entrada do usuário\n",
    "- Capturar exceções específicas.\n",
    "\n",
    "## Como passar exceções específicas"
   ]
  },
  {
   "cell_type": "code",
   "execution_count": 14,
   "id": "4ebb5c3c-74d5-48a3-ae2f-acd0f33c0c45",
   "metadata": {},
   "outputs": [
    {
     "name": "stdin",
     "output_type": "stream",
     "text": [
      "Informe a sua idade:  a\n"
     ]
    },
    {
     "name": "stdout",
     "output_type": "stream",
     "text": [
      "Você deve informar um valor válido.\n"
     ]
    }
   ],
   "source": [
    "idade = input(\"Informe a sua idade: \")\n",
    "\n",
    "try: \n",
    "    idade = int(idade)\n",
    "    print(\"Idade = \", idade)\n",
    "except ValueError:\n",
    "    print(\"Você deve informar um valor válido.\")"
   ]
  },
  {
   "cell_type": "markdown",
   "id": "b9fbad86-4a29-4b4a-b19a-c36d86e1a27f",
   "metadata": {},
   "source": [
    "# Flag\n",
    "- É uma variável (geralmente) booleana que marca/sinaliza o estado de algo durante a execução do código.\n",
    "- Pode ser de outros tipos.\n",
    "\n",
    "## Principais usos\n",
    "- Controlar loops\n",
    "- Monitorar condições\n",
    "- Gerenciar estados\n",
    "\n",
    "# None\n",
    "- É um valor especial que representa a ausência de valor.\n",
    "- Objeto único, ou seja, só existe uma instância de None.\n",
    "\n",
    "## Como comparar com None\n",
    "- A comparação deve ser feita usando `is` e `is not`, que **verificam a IDENTIDADE DO OBJETO e não o VALOR**.\n",
    "\n",
    "# `is` e `is not`\n",
    "- Verifica se dois objetos possuem a mesma identidade, ou seja, se são o mesmo objeto.\n",
    "\n",
    "## Casos de uso\n",
    "- Comparações com None, True, False.\n",
    "- Verificar se duas variáveis referem-se ao mesmo objeto."
   ]
  }
 ],
 "metadata": {
  "kernelspec": {
   "display_name": "Python 3 (ipykernel)",
   "language": "python",
   "name": "python3"
  },
  "language_info": {
   "codemirror_mode": {
    "name": "ipython",
    "version": 3
   },
   "file_extension": ".py",
   "mimetype": "text/x-python",
   "name": "python",
   "nbconvert_exporter": "python",
   "pygments_lexer": "ipython3",
   "version": "3.12.7"
  }
 },
 "nbformat": 4,
 "nbformat_minor": 5
}
