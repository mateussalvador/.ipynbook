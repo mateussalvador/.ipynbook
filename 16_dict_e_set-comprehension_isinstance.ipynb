{
 "cells": [
  {
   "cell_type": "markdown",
   "id": "e29deb88-523a-40cf-a59e-f0e532031640",
   "metadata": {},
   "source": [
    "# dict comprehension e set comprehension\n",
    "- Se aplicam as mesmas coisas da `list comprehension`\n",
    "\n",
    "## dict comprehension"
   ]
  },
  {
   "cell_type": "code",
   "execution_count": 3,
   "id": "52886aa8-84ec-4a23-9bcb-ce45ba03613c",
   "metadata": {},
   "outputs": [
    {
     "name": "stdout",
     "output_type": "stream",
     "text": [
      "{'nome': 'CANETA AZUL', 'preco': 1.85, 'categoria': 'ESCRITÓRIO'}\n"
     ]
    }
   ],
   "source": [
    "produto = {\n",
    "    \"nome\": \"Caneta Azul\",\n",
    "    \"preco\": 1.85,\n",
    "    \"categoria\": \"Escritório\",\n",
    "}\n",
    "\n",
    "dc = {\n",
    "    chave: valor.upper()\n",
    "    if isinstance(valor, str) else valor\n",
    "    for chave, valor\n",
    "    in produto.items()\n",
    "}\n",
    "\n",
    "print(dc)"
   ]
  },
  {
   "cell_type": "markdown",
   "id": "fd86129e-6f74-4187-8992-68cc958f1f57",
   "metadata": {},
   "source": [
    "## set comprehension"
   ]
  },
  {
   "cell_type": "code",
   "execution_count": 5,
   "id": "23f88adf-7cca-4082-bf43-0d3530abc2e8",
   "metadata": {},
   "outputs": [
    {
     "name": "stdout",
     "output_type": "stream",
     "text": [
      "{0, 1, 64, 4, 36, 9, 16, 49, 81, 25}\n"
     ]
    }
   ],
   "source": [
    "s1 = {i ** 2 for i in range(10)}\n",
    "print(s1)"
   ]
  },
  {
   "cell_type": "markdown",
   "id": "aa0d7a4c-0626-41b6-9656-c901ebbe25e2",
   "metadata": {},
   "source": [
    "### set comprehension x dict comprehension\n",
    "- A diferença é que para dict comprehension, precisamos expressar claramente o que é"
   ]
  },
  {
   "cell_type": "markdown",
   "id": "b4a5328f-7d5c-470e-9d95-b0c422541b40",
   "metadata": {},
   "source": [
    "# isinstance()\n",
    "- Verifica se um objeto é uma instância de determinada classe\n",
    "- Retorna True se a verificação for positiva.\n",
    "- sintaxe: `isinstance(dado, tipos_de_dados)`\n",
    "- Podemos passar mais de um tipo de dados entre tuplas."
   ]
  },
  {
   "cell_type": "code",
   "execution_count": 11,
   "id": "68972871-b22d-48af-a4b7-18e4e79f76f4",
   "metadata": {},
   "outputs": [
    {
     "name": "stdout",
     "output_type": "stream",
     "text": [
      "{20}\n",
      "{51.0}\n",
      "Erro: O valor 'texto' não é um número.\n"
     ]
    }
   ],
   "source": [
    "def multiplicar(valor):\n",
    "  if isinstance(valor, (int, float)):\n",
    "    return {valor * 2}\n",
    "  else:\n",
    "    return f\"Erro: O valor '{valor}' não é um número.\"\n",
    "\n",
    "print(multiplicar(10))     # Saída: 20\n",
    "print(multiplicar(25.5))    # Saída: 51.0\n",
    "print(multiplicar(\"texto\")) # Saída: Erro: O valor 'texto' não é um número."
   ]
  }
 ],
 "metadata": {
  "kernelspec": {
   "display_name": "Python 3 (ipykernel)",
   "language": "python",
   "name": "python3"
  },
  "language_info": {
   "codemirror_mode": {
    "name": "ipython",
    "version": 3
   },
   "file_extension": ".py",
   "mimetype": "text/x-python",
   "name": "python",
   "nbconvert_exporter": "python",
   "pygments_lexer": "ipython3",
   "version": "3.13.5"
  }
 },
 "nbformat": 4,
 "nbformat_minor": 5
}
