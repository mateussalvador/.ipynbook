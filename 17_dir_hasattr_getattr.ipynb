{
 "cells": [
  {
   "cell_type": "markdown",
   "id": "c69974cb-4099-4c69-8ea7-2a6dd085c81b",
   "metadata": {},
   "source": [
    "# dir\n",
    "- `dir(objeto)`\n",
    "- lista todos os atributos e métodos definidos dentro do nosso objeto"
   ]
  },
  {
   "cell_type": "code",
   "execution_count": 2,
   "id": "a942df2a-bc85-43c0-9ec7-1fc3c077013c",
   "metadata": {},
   "outputs": [
    {
     "data": {
      "text/plain": [
       "['__add__',\n",
       " '__class__',\n",
       " '__contains__',\n",
       " '__delattr__',\n",
       " '__dir__',\n",
       " '__doc__',\n",
       " '__eq__',\n",
       " '__format__',\n",
       " '__ge__',\n",
       " '__getattribute__',\n",
       " '__getitem__',\n",
       " '__getnewargs__',\n",
       " '__getstate__',\n",
       " '__gt__',\n",
       " '__hash__',\n",
       " '__init__',\n",
       " '__init_subclass__',\n",
       " '__iter__',\n",
       " '__le__',\n",
       " '__len__',\n",
       " '__lt__',\n",
       " '__mod__',\n",
       " '__mul__',\n",
       " '__ne__',\n",
       " '__new__',\n",
       " '__reduce__',\n",
       " '__reduce_ex__',\n",
       " '__repr__',\n",
       " '__rmod__',\n",
       " '__rmul__',\n",
       " '__setattr__',\n",
       " '__sizeof__',\n",
       " '__str__',\n",
       " '__subclasshook__',\n",
       " 'capitalize',\n",
       " 'casefold',\n",
       " 'center',\n",
       " 'count',\n",
       " 'encode',\n",
       " 'endswith',\n",
       " 'expandtabs',\n",
       " 'find',\n",
       " 'format',\n",
       " 'format_map',\n",
       " 'index',\n",
       " 'isalnum',\n",
       " 'isalpha',\n",
       " 'isascii',\n",
       " 'isdecimal',\n",
       " 'isdigit',\n",
       " 'isidentifier',\n",
       " 'islower',\n",
       " 'isnumeric',\n",
       " 'isprintable',\n",
       " 'isspace',\n",
       " 'istitle',\n",
       " 'isupper',\n",
       " 'join',\n",
       " 'ljust',\n",
       " 'lower',\n",
       " 'lstrip',\n",
       " 'maketrans',\n",
       " 'partition',\n",
       " 'removeprefix',\n",
       " 'removesuffix',\n",
       " 'replace',\n",
       " 'rfind',\n",
       " 'rindex',\n",
       " 'rjust',\n",
       " 'rpartition',\n",
       " 'rsplit',\n",
       " 'rstrip',\n",
       " 'split',\n",
       " 'splitlines',\n",
       " 'startswith',\n",
       " 'strip',\n",
       " 'swapcase',\n",
       " 'title',\n",
       " 'translate',\n",
       " 'upper',\n",
       " 'zfill']"
      ]
     },
     "execution_count": 2,
     "metadata": {},
     "output_type": "execute_result"
    }
   ],
   "source": [
    "dir(str)"
   ]
  },
  {
   "cell_type": "markdown",
   "id": "13d10500-17bb-4678-aaeb-2b6c2f12fac9",
   "metadata": {},
   "source": [
    "# hasattr\n",
    "- `hasattr(objeto, \"atributo_ou_metodo\")`\n",
    "- checa se determinado objeto possui determinado atributo e retorna True ou False\n",
    "- o nome do atributo ou método deve ir sempre entre aspas\n",
    "- Ex.: `hasattr(string, \"upper\")`"
   ]
  },
  {
   "cell_type": "markdown",
   "id": "a2d9f0ec-757b-430a-b60b-a65b0ef7ca37",
   "metadata": {},
   "source": [
    "# getattr\n",
    "- `getattr(objeto, \"atributo_ou_metodo\", \"retorno_padrao\")`\n",
    "- O `getattr` recebe, por padrão, dois valores:\n",
    "    - o objeto\n",
    "    - o nome do atributo ou método, entre aspas\n",
    "- Ele irá verificar se aquele atributo ou método existe naquele objeto e irá retorná-lo.\n",
    "- Caso não exista, é gerado um erro.\n",
    "- Para evitar o erro, podemos passar um valor padrão a ser retornado como terceiro argumento.\n",
    "### nota\n",
    "Ele funciona com métodos, mas ele irá retornar o próprio método, e não sua execução. Para que ele execute, devemos pegar o retorno e acrescentar `()`"
   ]
  }
 ],
 "metadata": {
  "kernelspec": {
   "display_name": "Python 3 (ipykernel)",
   "language": "python",
   "name": "python3"
  },
  "language_info": {
   "codemirror_mode": {
    "name": "ipython",
    "version": 3
   },
   "file_extension": ".py",
   "mimetype": "text/x-python",
   "name": "python",
   "nbconvert_exporter": "python",
   "pygments_lexer": "ipython3",
   "version": "3.13.5"
  }
 },
 "nbformat": 4,
 "nbformat_minor": 5
}
