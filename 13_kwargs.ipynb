{
 "cells": [
  {
   "cell_type": "markdown",
   "id": "e88363ac-5873-4fee-af0d-9b300e9e517b",
   "metadata": {},
   "source": [
    "# Empacotamento e Desempacotamento de Dicionários\n",
    "- Usamos o `**kwargs`\n",
    "- Armazena argumentos nomeados em dicionários, passando-os de uma vez numa chamada de função, por exemplo\n",
    "- Também podemos usar para unir dicionários\n",
    "  "
   ]
  },
  {
   "cell_type": "code",
   "execution_count": 13,
   "id": "c0614466-cb2e-4e76-ae06-6a0447969ccc",
   "metadata": {},
   "outputs": [
    {
     "name": "stdout",
     "output_type": "stream",
     "text": [
      "nome sobrenome\n",
      "nome Aline sobrenome Souza\n"
     ]
    }
   ],
   "source": [
    "pessoa = {\n",
    "    \"nome\": \"Aline\",\n",
    "    \"sobrenome\": \"Souza\"\n",
    "}\n",
    "\n",
    "a, b = pessoa\n",
    "print(a, b)\n",
    "\n",
    "(a1, a2), (b1, b2) = pessoa.items()\n",
    "print(a1, a2, b1, b2)"
   ]
  },
  {
   "cell_type": "markdown",
   "id": "a9e28b6a-f02a-4297-a352-0ba75d0a21ca",
   "metadata": {},
   "source": [
    "- Ao passar o dicionário direto num desempacotamento, ele pega as chaves.\n",
    "- Podemos acessar os valores usando `dict.values` ou o dicionário completo, usando `dict.items`\n",
    "\n",
    "## Unindo dicionários"
   ]
  },
  {
   "cell_type": "code",
   "execution_count": 19,
   "id": "7739e8dd-b11a-46d0-af12-1ff069d39330",
   "metadata": {},
   "outputs": [
    {
     "name": "stdout",
     "output_type": "stream",
     "text": [
      "{'nome': 'Aline', 'sobrenome': 'Souza', 'idade': 17, 'altura': 1.6}\n"
     ]
    }
   ],
   "source": [
    "pessoa = {\n",
    "    \"nome\": \"Aline\",\n",
    "    \"sobrenome\": \"Souza\",\n",
    "}\n",
    "dados_pessoa = {\n",
    "    \"idade\": 16,\n",
    "    \"altura\": 1.6,\n",
    "}\n",
    "\n",
    "pessoa_completa = {**pessoa, **dados_pessoa, \"idade\": 17}\n",
    "print(pessoa_completa)"
   ]
  },
  {
   "cell_type": "code",
   "execution_count": 6,
   "id": "f06049a0-e8d5-4168-a65f-9a2b162ad00d",
   "metadata": {},
   "outputs": [
    {
     "name": "stdout",
     "output_type": "stream",
     "text": [
      "Argumento Obrigatório 1: Valor 1\n",
      "Argumento Obrigatório 2: Valor 2\n",
      "--------------------\n",
      "Conteúdo de *args (Tupla): ('extra posicional 1', 'extra posicional 2', 100)\n",
      "Tipo de args: <class 'tuple'>\n",
      "  -> arg posicional extra 0: extra posicional 1\n",
      "  -> arg posicional extra 1: extra posicional 2\n",
      "  -> arg posicional extra 2: 100\n",
      "--------------------\n",
      "Conteúdo de **kwargs (Dicionário): {'cidade': 'Lisboa', 'status': 'Ativo', 'idade': 25}\n",
      "Tipo de kwargs: <class 'dict'>\n",
      "  -> arg de palavra-chave 'cidade': Lisboa\n",
      "  -> arg de palavra-chave 'status': Ativo\n",
      "  -> arg de palavra-chave 'idade': 25\n"
     ]
    }
   ],
   "source": [
    "def exemplo_completo(arg_obrigatorio1, arg_obrigatorio2, *args, **kwargs):\n",
    "    \"\"\"\n",
    "    Uma função para demonstrar o uso de todos os tipos de argumentos.\n",
    "    \"\"\"\n",
    "    print(f\"Argumento Obrigatório 1: {arg_obrigatorio1}\")\n",
    "    print(f\"Argumento Obrigatório 2: {arg_obrigatorio2}\")\n",
    "    print(\"-\" * 20)\n",
    "\n",
    "    # args será uma tupla\n",
    "    print(f\"Conteúdo de *args (Tupla): {args}\")\n",
    "    print(f\"Tipo de args: {type(args)}\")\n",
    "    for i, arg in enumerate(args):\n",
    "        print(f\"  -> arg posicional extra {i}: {arg}\")\n",
    "    print(\"-\" * 20)\n",
    "\n",
    "    # kwargs será um dicionário\n",
    "    print(f\"Conteúdo de **kwargs (Dicionário): {kwargs}\")\n",
    "    print(f\"Tipo de kwargs: {type(kwargs)}\")\n",
    "    for chave, valor in kwargs.items():\n",
    "        print(f\"  -> arg de palavra-chave '{chave}': {valor}\")\n",
    "\n",
    "# --- Vamos chamar a função ---\n",
    "exemplo_completo(\n",
    "    'Valor 1',                  # arg_obrigatorio1\n",
    "    'Valor 2',                  # arg_obrigatorio2\n",
    "    'extra posicional 1',       # Vai para *args\n",
    "    'extra posicional 2',       # Vai para *args\n",
    "    100,                        # Vai para *args\n",
    "    cidade='Lisboa',            # Vai para **kwargs\n",
    "    status='Ativo',             # Vai para **kwargs\n",
    "    idade=25                    # Vai para **kwargs\n",
    ")"
   ]
  }
 ],
 "metadata": {
  "kernelspec": {
   "display_name": "Python 3 (ipykernel)",
   "language": "python",
   "name": "python3"
  },
  "language_info": {
   "codemirror_mode": {
    "name": "ipython",
    "version": 3
   },
   "file_extension": ".py",
   "mimetype": "text/x-python",
   "name": "python",
   "nbconvert_exporter": "python",
   "pygments_lexer": "ipython3",
   "version": "3.13.5"
  }
 },
 "nbformat": 4,
 "nbformat_minor": 5
}
