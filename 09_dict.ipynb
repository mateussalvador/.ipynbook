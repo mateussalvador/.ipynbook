{
 "cells": [
  {
   "cell_type": "markdown",
   "id": "daa7e286-3d82-4724-b504-801010c84d80",
   "metadata": {},
   "source": [
    "# Dicionários\n",
    "- São estruturas de dados do tipo **par de chave e valor**\n",
    "- As `chaves` são semelhantes aos índices e podem ser qualquer tipo de dado `imutável`\n",
    "- Os `valores` são de quaisquer tipos.\n",
    "## Como criar?\n",
    "- Usando `{}` ou `dict()`"
   ]
  },
  {
   "cell_type": "code",
   "execution_count": 30,
   "id": "0057c0db-f995-4901-9cc4-361bd2b1b320",
   "metadata": {},
   "outputs": [
    {
     "name": "stdout",
     "output_type": "stream",
     "text": [
      "{'nome': 'Mateus'}\n"
     ]
    }
   ],
   "source": [
    "dicionario = dict(nome = \"Mateus\")\n",
    "print(dicionario)"
   ]
  },
  {
   "cell_type": "code",
   "execution_count": 34,
   "id": "a1ec17cd-e833-40ce-8bc5-f40d46185234",
   "metadata": {},
   "outputs": [
    {
     "name": "stdout",
     "output_type": "stream",
     "text": [
      "{'nome': 'Leonardo'}\n"
     ]
    }
   ],
   "source": [
    "dicionario2 = {\n",
    "    \"nome\": \"Leonardo\"\n",
    "}\n",
    "\n",
    "print(dicionario2)"
   ]
  },
  {
   "cell_type": "code",
   "execution_count": 36,
   "id": "4e4accd3-5fc9-4329-97b2-c31c75fc0938",
   "metadata": {},
   "outputs": [
    {
     "name": "stdout",
     "output_type": "stream",
     "text": [
      "{'nome': 'Claudio'}\n"
     ]
    }
   ],
   "source": [
    "dicionario3 = {}\n",
    "dicionario3[\"nome\"] = \"Claudio\"\n",
    "print(dicionario3)"
   ]
  },
  {
   "cell_type": "markdown",
   "id": "38af6de6-b9e1-4794-8682-5352c9162fa7",
   "metadata": {},
   "source": [
    "## Como deletar chaves?\n",
    "- Podemos usar o `del`\n",
    "## Como criar chaves dinâmicas?\n",
    "- Podemos atribuir uma chave a uma variável, assim, sempre que a variável for alteada, a chave também será."
   ]
  },
  {
   "cell_type": "code",
   "execution_count": 49,
   "id": "b49a5c8f-8157-4a89-be50-29afbd479dd4",
   "metadata": {},
   "outputs": [
    {
     "name": "stdout",
     "output_type": "stream",
     "text": [
      "{'idade': 23}\n"
     ]
    }
   ],
   "source": [
    "chave = \"idade\"\n",
    "valor = 23\n",
    "\n",
    "dicionario4 = {}\n",
    "dicionario4[chave] = valor\n",
    "\n",
    "print(dicionario4)\n"
   ]
  },
  {
   "cell_type": "markdown",
   "id": "8f190f73-e314-4fe3-94fc-028f6523f65d",
   "metadata": {},
   "source": [
    "## Métodos de dicionários\n",
    "### len()\n",
    "- Retorna a quantidade de chaves do dicionário\n",
    "### keys()\n",
    "- Cria um iterável chamado `dict_keys` que exibe todas as chaves do dicionário.\n",
    "### values()\n",
    "- Cria um iterável chamado `dict_values` que exibe todos os valores do dicionário.\n",
    "### items()\n",
    "- Cria um iterável chamado `dict_items`que chave e valor de todos os elementos do dicionário em tuplas internas que contém (chave, valor)."
   ]
  },
  {
   "cell_type": "markdown",
   "id": "8ad078d0-a8f1-412b-a46e-9318a4aea572",
   "metadata": {},
   "source": [
    "### get()\n",
    "- `dict.get(chave, valor_padrao)`\n",
    "- Retorna o valor associado a uma chave.\n",
    "- Se a chave não existe, não retorna erro, mas sim `None` ou o `valor_padrao` especificado.\n",
    "\n",
    "### setdefault()\n",
    "- `dict.setdefault(chave, valor_padrao)`\n",
    "- Semelhante ao `get()`, mas ele adiciona o `valor_padrao` se a chave não existir.\n",
    "\n",
    "### pop()\n",
    "- `pop(chave, valor_padrao)`\n",
    "- remove a chave especificada e retorna o seu valor.\n",
    "- Se a chave não for encontrada, retorna um `key_error`, a menos que o valor padrão seja especificado.\n",
    "\n",
    "### popitem()\n",
    "- remove e retorna especificamente a última chave do dicionário.\n",
    "\n",
    "### clear()\n",
    "- Limpa todo o dicionário.\n",
    "\n",
    "### update()\n",
    "- Mescla o conteúdo de um iterável com pares chave-valor em um dicionário existente.\n",
    "- Se uma chave do `iteravel_com_novos_dados` já existe no `dicionario_alvo`, o valor correspondente no `dicionario_alvo` é substituído (atualizado).\n",
    "- Se  não existe no dicionario_alvo, o par chave-valor é criado."
   ]
  }
 ],
 "metadata": {
  "kernelspec": {
   "display_name": "Python 3 (ipykernel)",
   "language": "python",
   "name": "python3"
  },
  "language_info": {
   "codemirror_mode": {
    "name": "ipython",
    "version": 3
   },
   "file_extension": ".py",
   "mimetype": "text/x-python",
   "name": "python",
   "nbconvert_exporter": "python",
   "pygments_lexer": "ipython3",
   "version": "3.13.5"
  }
 },
 "nbformat": 4,
 "nbformat_minor": 5
}
