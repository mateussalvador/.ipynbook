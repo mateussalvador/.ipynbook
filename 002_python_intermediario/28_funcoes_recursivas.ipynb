{
 "cells": [
  {
   "cell_type": "markdown",
   "id": "1194f43c-1d43-46c8-bde6-2e124cf85e2d",
   "metadata": {},
   "source": [
    "# Funções Recursivas\n",
    "- São funções que retornam a si mesmas\n",
    "- Úteis para dividir problemas grandes em partes menores de forma uniforme\n",
    "- Um caso base que, quando atingido, encerra a função.\n",
    "- Ex.: fatorial na matemática"
   ]
  },
  {
   "cell_type": "code",
   "execution_count": 5,
   "id": "eb840b67-706f-45f3-bc7f-a877afbc6a1e",
   "metadata": {},
   "outputs": [
    {
     "ename": "RecursionError",
     "evalue": "maximum recursion depth exceeded",
     "output_type": "error",
     "traceback": [
      "\u001b[1;31m---------------------------------------------------------------------------\u001b[0m",
      "\u001b[1;31mRecursionError\u001b[0m                            Traceback (most recent call last)",
      "Cell \u001b[1;32mIn[5], line 7\u001b[0m\n\u001b[0;32m      3\u001b[0m     inicio \u001b[38;5;241m+\u001b[39m\u001b[38;5;241m=\u001b[39m \u001b[38;5;241m1\u001b[39m\n\u001b[0;32m      5\u001b[0m     \u001b[38;5;28;01mreturn\u001b[39;00m recursiva(inicio, fim)\n\u001b[1;32m----> 7\u001b[0m recursiva()\n",
      "Cell \u001b[1;32mIn[5], line 5\u001b[0m, in \u001b[0;36mrecursiva\u001b[1;34m(inicio, fim)\u001b[0m\n\u001b[0;32m      2\u001b[0m \u001b[38;5;28;01mdef\u001b[39;00m \u001b[38;5;21mrecursiva\u001b[39m(inicio \u001b[38;5;241m=\u001b[39m \u001b[38;5;241m0\u001b[39m, fim \u001b[38;5;241m=\u001b[39m \u001b[38;5;241m10\u001b[39m):\n\u001b[0;32m      3\u001b[0m     inicio \u001b[38;5;241m+\u001b[39m\u001b[38;5;241m=\u001b[39m \u001b[38;5;241m1\u001b[39m\n\u001b[1;32m----> 5\u001b[0m     \u001b[38;5;28;01mreturn\u001b[39;00m recursiva(inicio, fim)\n",
      "Cell \u001b[1;32mIn[5], line 5\u001b[0m, in \u001b[0;36mrecursiva\u001b[1;34m(inicio, fim)\u001b[0m\n\u001b[0;32m      2\u001b[0m \u001b[38;5;28;01mdef\u001b[39;00m \u001b[38;5;21mrecursiva\u001b[39m(inicio \u001b[38;5;241m=\u001b[39m \u001b[38;5;241m0\u001b[39m, fim \u001b[38;5;241m=\u001b[39m \u001b[38;5;241m10\u001b[39m):\n\u001b[0;32m      3\u001b[0m     inicio \u001b[38;5;241m+\u001b[39m\u001b[38;5;241m=\u001b[39m \u001b[38;5;241m1\u001b[39m\n\u001b[1;32m----> 5\u001b[0m     \u001b[38;5;28;01mreturn\u001b[39;00m recursiva(inicio, fim)\n",
      "    \u001b[1;31m[... skipping similar frames: recursiva at line 5 (2974 times)]\u001b[0m\n",
      "Cell \u001b[1;32mIn[5], line 5\u001b[0m, in \u001b[0;36mrecursiva\u001b[1;34m(inicio, fim)\u001b[0m\n\u001b[0;32m      2\u001b[0m \u001b[38;5;28;01mdef\u001b[39;00m \u001b[38;5;21mrecursiva\u001b[39m(inicio \u001b[38;5;241m=\u001b[39m \u001b[38;5;241m0\u001b[39m, fim \u001b[38;5;241m=\u001b[39m \u001b[38;5;241m10\u001b[39m):\n\u001b[0;32m      3\u001b[0m     inicio \u001b[38;5;241m+\u001b[39m\u001b[38;5;241m=\u001b[39m \u001b[38;5;241m1\u001b[39m\n\u001b[1;32m----> 5\u001b[0m     \u001b[38;5;28;01mreturn\u001b[39;00m recursiva(inicio, fim)\n",
      "\u001b[1;31mRecursionError\u001b[0m: maximum recursion depth exceeded"
     ]
    }
   ],
   "source": [
    "# Exemplo de função recursiva: Contar de 0 a 10\n",
    "def recursiva(inicio = 0, fim = 10):\n",
    "    inicio += 1\n",
    "    \n",
    "    return recursiva(inicio, fim)\n",
    "\n",
    "recursiva()"
   ]
  },
  {
   "cell_type": "markdown",
   "id": "b6c62ea5-40a8-494b-b44a-91f466b2413e",
   "metadata": {},
   "source": [
    "- Veja que nesse caso, temos um `RecursionError`, que é, na prática, um tipo de **Stack Overflow**\n",
    "  \n",
    "## Call Stack\n",
    "- estrutura de dados interna que o interpretador usa pra controlar a ordem de execução de funções\n",
    "- Cada vez que uma função é chamada, um novo frame é empilhado.\n",
    "- Quando essa função termina, seu frame é removido do topo da lista, retornando o controle ao frame anterior."
   ]
  },
  {
   "cell_type": "markdown",
   "id": "ac05fb8a-6813-4d87-a4b2-96bb6af095c7",
   "metadata": {},
   "source": [
    "## O que é Call Stack?\n",
    "- Estrutura de dados utilizada para gerenciar a execução de funções\n",
    "- Ele funciona como uma pilha, onde as funções são empilhadas conforme são chamadas e desempilhadas quando são concluídas. \n",
    "\n",
    "### Como o Call Stack funciona?\n",
    "- Quando uma função é chamada, ela é adicionada ao topo do Call Stack\n",
    "- Assim, ela é executada antes de qualquer outra função que já esteja na pilha.\n",
    "- À medida que a função é executada, as instruções são processadas e, quando a função é concluída, ela é removida do topo do Call Stack."
   ]
  },
  {
   "cell_type": "code",
   "execution_count": 6,
   "id": "ac05f924-e335-4377-a639-4cebcdffdbb6",
   "metadata": {},
   "outputs": [
    {
     "name": "stdout",
     "output_type": "stream",
     "text": [
      "oi, vou executar a função\n",
      "encerrando função\n",
      "4\n"
     ]
    }
   ],
   "source": [
    "def funcao(x):\n",
    "    print(\"oi, vou executar a função\")\n",
    "    y = x * 2\n",
    "    print (\"encerrando função\")\n",
    "    return y\n",
    "\n",
    "print(funcao(2))"
   ]
  },
  {
   "cell_type": "markdown",
   "id": "00dc16a9-3f16-4e25-8416-1c519b726600",
   "metadata": {},
   "source": [
    "- A call stack gerencia a chamada de funções inteiras, e não linhas individuais.\n",
    "- Cada função, ao ser chamada, ganha um \"espaço\" chamado de stack frame no topo da pilha.\n",
    "    - Esse bloco contém todas as informações da função (como variáveis, entre outros)\n",
    "\n",
    "### Simulando a execução da função acima:\n",
    "1. O programa começa a ser executado. O ambiente principal (vamos chamar de main ou global) é a base da pilha\n",
    "    - `Call Stack: [ main ]`\n",
    "\n",
    "2. **Chamada de `print(funcao(2))`**: O main encontra a função print. Para que o print possa ser executado, ele precisa do resultado de `funcao(2)`. Portanto, o programa pausa a execução do print e chama a função funcao(2). A função funcao é empilhada.\n",
    "    - `Call Stack: [ main, funcao ]`\n",
    "\n",
    "3. **Execução de funcao**: Agora, o controle está no topo da pilha, dentro da função funcao. O código dela é executado linha por linha:\n",
    "    - `print(\"oi, vou executar a função\")` -> O texto é exibido no console.\n",
    "    - `y = x * 2` -> A variável y é criada dentro do escopo de funcao e recebe o valor 4.\n",
    "    - `print(\"encerrando função\")` -> O texto é exibido no console.\n",
    "    - `return y` -> A função preparou seu valor de retorno (4) e está pronta para terminar.\n",
    "\n",
    "4. **Retorno e Desempilhamento de funcao**: A instrução return finaliza a execução da função. A função funcao é removida (desempilhada) do topo da pilha, e o valor 4 é enviado de volta para onde a função foi chamada (para dentro do print).\n",
    "    - `Call Stack: [ main ]`\n",
    "\n",
    "5. **Finalização do print**: Agora o main pode continuar de onde parou. A função print recebe o valor 4 (que foi o retorno de funcao) e o exibe no console. Após sua execução, a função print também é removida da pilha.\n",
    "\n",
    "6. **O call stack é zerado:** Após todas as linhas serem executadas, o ambiente main ou global é removido da pilha, que fica completamente vazia. "
   ]
  },
  {
   "cell_type": "markdown",
   "id": "7b0668c8-2cf6-487e-9330-057c7711d62d",
   "metadata": {},
   "source": [
    "---\n",
    "## Por que o Call Stack é importante?\n",
    "- Garante que as funções sejam executadas na ordem correta. \n",
    "\n",
    "## Como o Call Stack lida com funções recursivas?\n",
    "- Quando uma função recursiva é chamada, ela é adicionada ao topo do Call Stack como qualquer outra função.\n",
    "- No entanto, como a função chama a si mesma, ela é empilhada várias vezes até que a condição de parada seja atingida.\n",
    "- Nesse momento, as funções recursivas são desempilhadas do Call Stack na ordem inversa em que foram empilhadas.\n",
    "- Como uma função só é removida da call stack quando encerrada, se não for encerrada, ela ficará lá.\n",
    "\n",
    "### Limite da call stack\n",
    "- Em python, esse limite é de 1000 chamadas\n",
    "\n",
    "## Stack Overflow\n",
    "- Estouro de pilha\n",
    "- Ocorre quando a Call Stack atinge seu limite de capacidade. Isso pode ocorrer em funções recursivas ou em algum caso (bizarro) onde tenhamos mais que 1000 funções aninhadas, onde cada umma chama a próxima sem que a anterior retorne."
   ]
  },
  {
   "cell_type": "code",
   "execution_count": 11,
   "id": "541be603-b6aa-4cd5-9854-e5f1f774b1d4",
   "metadata": {},
   "outputs": [
    {
     "name": "stdout",
     "output_type": "stream",
     "text": [
      "0\n",
      "1\n",
      "2\n",
      "3\n",
      "4\n",
      "5\n",
      "6\n",
      "7\n",
      "8\n",
      "9\n",
      "10\n"
     ]
    }
   ],
   "source": [
    "def recursiva(inicio = 0, fim = 10):\n",
    "    if inicio == fim:\n",
    "        return fim\n",
    "        \n",
    "    print(inicio)\n",
    "    inicio += 1\n",
    "    \n",
    "    return recursiva(inicio, fim)\n",
    "\n",
    "print(recursiva())"
   ]
  },
  {
   "cell_type": "code",
   "execution_count": 1,
   "id": "d69e3312-baa1-446a-bc04-33a4c94f1cbb",
   "metadata": {},
   "outputs": [
    {
     "name": "stdout",
     "output_type": "stream",
     "text": [
      "120\n"
     ]
    }
   ],
   "source": [
    "def fatorial(num):\n",
    "    if num < 0:\n",
    "        return -1     \n",
    "    elif num <= 1:\n",
    "        return 1\n",
    "    else:\n",
    "        return num * fatorial(num - 1)\n",
    "\n",
    "print(fatorial(5))"
   ]
  },
  {
   "cell_type": "markdown",
   "id": "854e1bcd-90ad-4052-8079-f6cbac77c645",
   "metadata": {},
   "source": [
    "## Explicando o Cálculo do Fatorial\n",
    "- A sua função é esta:"
   ]
  },
  {
   "cell_type": "code",
   "execution_count": 2,
   "id": "b2206a99-f420-4935-9556-4faac97a621f",
   "metadata": {},
   "outputs": [],
   "source": [
    "def fatorial(num):\n",
    " # Para simplificar, vamos considerar que o usuário sempre digitará um número natural.\n",
    "\n",
    "    # Parte 1: Verificar a condição de parada\n",
    "    if num <= 1: # Condição de parada\n",
    "        return 1\n",
    "\n",
    "    # Parte 2: Recursividade\n",
    "    else:\n",
    "        return num * fatorial(num - 1) # A função chama a si mesma"
   ]
  },
  {
   "cell_type": "markdown",
   "id": "52f786cb-184e-49e6-b858-bdd662eeae9e",
   "metadata": {},
   "source": [
    "### Passo a passo\n",
    "\n",
    "1. Pilha atual com a chamada da função `fatorial(5)`: `[fatorial(5)]`\n",
    "\n",
    "2. CINCO (5) **não é**  menor ou igual a 1. Logo, entra na Parte 2, que retorna `5 * fatorial(4)` (pois 4 é o mesmo que 5 - 1)\n",
    "\n",
    "3. Pausa a pilha 1 (`fatorial(5)`) e chama uma nova função para resolver fatorial(4).\n",
    "    - Aqui, a pilha é algo como `[fatorial(5), fatorial(4)]`\n",
    "\n",
    "  \n",
    "4. QUATRO (4) **não é**  menor ou igual a 1. Logo, entra na Parte 2, que retorna `4 * fatorial(3)` (pois 3 é o mesmo que 4 - 1)\n",
    "\n",
    "5. Pausa a pilha 2 (`fatorial(4)`) e chama uma nova função para resolver fatorial(3).\n",
    "    - Aqui, a pilha é algo como `[fatorial(5), fatorial(4), fatorial(3)]`\n",
    "  \n",
    "  \n",
    "6. TRÊS (3) **não é** menor ou igual a 1. Logo, entra na Parte 2, que retorna `3 * fatorial(2)` (pois 2 é o mesmo que 3 - 1)\n",
    "\n",
    "7. Pausa a pilha 3 (`fatorial(3)`) e chama uma nova função para resolver fatorial(2).\n",
    "    - Aqui, a pilha é algo como `[fatorial(5), fatorial(4), fatorial(3), fatorial(2)]`\n",
    "\n",
    "\n",
    "8. 2 **não é**  menor ou igual a 1. Logo, entra na Parte 2, que retorna `2 * fatorial(1)` (pois 1 é o mesmo que 2 - 1)\n",
    "\n",
    "9. Pausa a pilha 4 (`fatorial(2)`) e chama uma nova função para resolver fatorial(1).\n",
    "    - Aqui, a pilha é algo como `[fatorial(5), fatorial(4), fatorial(3), fatorial(2), fatorial(1)]`\n",
    "  \n",
    "\n",
    "10. 1 **É** menor ou igual a 1. Logo, entra na Parte 1, que retorna **1**\n",
    "    - - A função `fatorial(2)` **retorna o resultado 2 * 1** para a função `fatorial(3)` e sai da stack.\n",
    "    - Agora, ele remove da stack a função `fatorial(1)`, retornando **1** para a função `fatorial(2)`\n",
    "    \n",
    "\n",
    "\n",
    "12. Este processo é aplicado recursivamente até que todas as funções sejam removidas da stack."
   ]
  }
 ],
 "metadata": {
  "kernelspec": {
   "display_name": "Python 3 (ipykernel)",
   "language": "python",
   "name": "python3"
  },
  "language_info": {
   "codemirror_mode": {
    "name": "ipython",
    "version": 3
   },
   "file_extension": ".py",
   "mimetype": "text/x-python",
   "name": "python",
   "nbconvert_exporter": "python",
   "pygments_lexer": "ipython3",
   "version": "3.12.7"
  }
 },
 "nbformat": 4,
 "nbformat_minor": 5
}
