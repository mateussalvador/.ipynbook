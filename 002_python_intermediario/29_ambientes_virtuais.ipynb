{
 "cells": [
  {
   "cell_type": "markdown",
   "id": "9f32065a-5555-4d76-b61d-c6d42d9efc8b",
   "metadata": {},
   "source": [
    "# Ambientes Virtuais e Instalação de Bibliotecas\n",
    "\n",
    "---\n",
    "# PIP\n",
    "- Significa Pip Install Package\n",
    "- Resumindo, é uma maneira de instalar pacotes externos no nosso ambiente\n",
    "## Como funciona?\n",
    "- O pip vai no `PyPI` (Python Packages Index), que tem um mega banco de dados com todos os pacotes.\n",
    "- Ele baixa o pacote (faz o download), descompacta e coloca numa pasta no nosso computador.\n",
    "## Onde fica essa pasta?\n",
    "- Podemos verificar isso com: "
   ]
  },
  {
   "cell_type": "code",
   "execution_count": 9,
   "id": "9c101849-85a3-402b-8a27-cde734009241",
   "metadata": {},
   "outputs": [
    {
     "data": {
      "text/plain": [
       "['C:\\\\Users\\\\E008803\\\\AppData\\\\Local\\\\anaconda3',\n",
       " 'C:\\\\Users\\\\E008803\\\\AppData\\\\Local\\\\anaconda3\\\\Lib\\\\site-packages']"
      ]
     },
     "execution_count": 9,
     "metadata": {},
     "output_type": "execute_result"
    }
   ],
   "source": [
    "from site import getsitepackages\n",
    "site.getsitepackages()"
   ]
  },
  {
   "cell_type": "markdown",
   "id": "550539ee-186f-4cf6-97b9-4e84d08da22f",
   "metadata": {},
   "source": [
    "- Isso mostrará onde a biblioteca está instalada ou onde deveria estar.\n",
    "- Este é o local onde são colocadas as bibliotecas externas. Sendo assim, todas elas são instaladas no `site-packages`"
   ]
  }
 ],
 "metadata": {
  "kernelspec": {
   "display_name": "Python 3 (ipykernel)",
   "language": "python",
   "name": "python3"
  },
  "language_info": {
   "codemirror_mode": {
    "name": "ipython",
    "version": 3
   },
   "file_extension": ".py",
   "mimetype": "text/x-python",
   "name": "python",
   "nbconvert_exporter": "python",
   "pygments_lexer": "ipython3",
   "version": "3.12.7"
  }
 },
 "nbformat": 4,
 "nbformat_minor": 5
}
