{
 "cells": [
  {
   "cell_type": "markdown",
   "id": "dc3528b7-1e5d-42e7-9c65-1ffd8a7c9a8b",
   "metadata": {},
   "source": [
    "# Sistema Python Global\n",
    "- É a instalação 'global' do Python, que fica no sistema operacional, onde o interpretador python e seus pacotes são instalados para uso geral.\n",
    "- Quando executamos python no sistema global sem ativar um ambiente virtual, ele usará essa instalação global.\n",
    "- Os pacotes instalados nesse sistema global ficam disponíveis para todos os projetos, podendo causar conflitos de versões de bibliotecas ou pacotes.\n",
    "\n",
    "## Como usar python no terminal\n",
    "- Abrimos o terminal e digitamos `python` (ou `python3` para alguns sistemas) para abrir o interpretador interativo\n",
    "- O prompt muda para `>>>`\n",
    "- Para sair, podemos digitar `exit()`, `CTRL + Z` no Windows ou `CTRL + D` no Unix\n",
    "\n",
    "### Como executar um script no terminal\n",
    "- Digitamos python (ou python3) + nome_do_arquivo.py, e o interpretador executará o código no arquivo\n",
    "\n",
    "### Como executar módulos como scripts\n",
    "- Usamos o parâmetro `-m`, assim:\n",
    "    - `python -m nome_do_modulo`\n",
    " \n",
    "---\n",
    "\n",
    "## Path\n",
    "- O path é uma variável de ambiente do sistema operacional que contém uma lista de diretórios onde o sistema procura executáveis quando um comando é digitado no comando\n",
    "- A instalação global do Python é acessada por meio do path, que indica ao sistema onde encontrar o executável do Python.\n",
    "\n",
    "---\n",
    "# venv\n",
    "- Abreviação de virtual environment ou ambiente virtual\n",
    "- Uma ferramenta integrada ao Python a partir da versão 3.3 que permite criar ambientews virtuais isolados para seus projetos\n",
    "\n",
    "## O que é um ambiente virtual?\n",
    "- É basicamente uma instalação independente do Python, com seu próprio conjunto de bibliotecas e dependências, separado do sistema Python global e de outros projetos.\n",
    "\n",
    "### Por que usar?\n",
    "1. Evitar conflitos de versões de pacotes em projetos distintos: \n",
    "    - Imagine que estamos trabalhando em dois projetos diferentes: \n",
    "        - Projeto A: Um site antigo que usa a biblioteca Django na versão 2.2.\n",
    "        - Projeto B: Um novo projeto de API que precisa da versão mais recente do Django, a 4.1.\n",
    "    - Se instalar o Django globalmente no computador, teremos um problema: Ao instalar a versão 4.1, o projeto A quebra. Ao instalar a versão 2.2, o projeto B não funcionará corretamente.\n",
    "    - Isso é chamado de **inferno das dependências (dependency hell)**\n",
    "\n",
    "2. Facilita a portabilidade\n",
    "\n",
    "---\n"
   ]
  }
 ],
 "metadata": {
  "kernelspec": {
   "display_name": "Python 3 (ipykernel)",
   "language": "python",
   "name": "python3"
  },
  "language_info": {
   "codemirror_mode": {
    "name": "ipython",
    "version": 3
   },
   "file_extension": ".py",
   "mimetype": "text/x-python",
   "name": "python",
   "nbconvert_exporter": "python",
   "pygments_lexer": "ipython3",
   "version": "3.12.7"
  }
 },
 "nbformat": 4,
 "nbformat_minor": 5
}
