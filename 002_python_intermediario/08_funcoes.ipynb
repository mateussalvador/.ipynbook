{
 "cells": [
  {
   "cell_type": "code",
   "execution_count": null,
   "id": "708dba8b-8bdf-446c-9cbf-19fd4c1b515b",
   "metadata": {},
   "outputs": [],
   "source": [
    "def saudacao():\n",
    "    print(\"Hello, world.\")"
   ]
  },
  {
   "cell_type": "code",
   "execution_count": null,
   "id": "9a8ba641-a92e-4ef6-949c-b27b57a5d2e2",
   "metadata": {},
   "outputs": [],
   "source": [
    "saudacao()"
   ]
  },
  {
   "cell_type": "markdown",
   "id": "d8a00cf5-9d6f-48b5-a015-f0bab4bd8289",
   "metadata": {},
   "source": [
    "# O que são funções? \n",
    "- Blocos de código reutilizáveis que realizam determinada tarefa.\n",
    "## Como definir funções?\n",
    "- Usando a palavra reservada `def`, criando um nome para a função e criando parâmetros, se necessário. Ex.: `def nome_funcao(parameters)`\n",
    "### Convenção para nomenclatura de funções\n",
    "- O mesmo que das variáveis\n",
    "## Como chamar/utilizar funções?\n",
    "- `nome_funcao(args)`"
   ]
  },
  {
   "cell_type": "code",
   "execution_count": 1,
   "id": "5c45f346-c13b-4665-82a8-647f810b3db0",
   "metadata": {},
   "outputs": [
    {
     "name": "stdout",
     "output_type": "stream",
     "text": [
      "4\n"
     ]
    }
   ],
   "source": [
    "# definindo\n",
    "def dobrar(num):\n",
    "    print(num * 2)\n",
    "\n",
    "# chamando\n",
    "dobrar(2)\n"
   ]
  },
  {
   "cell_type": "markdown",
   "id": "173ff62b-5f2b-4355-96bc-146f9a92f2aa",
   "metadata": {},
   "source": [
    "# Argumentos nomeados e não nomeados\n",
    "- As funções podem receber argumentos, que por sua vez podem ser nomeados ou não.\n",
    "- Argumentos não nomeados também são chamados de **argumentos posicionais**.\n",
    "## Argumentos nomeados\n",
    "- Ao criar argumentos nomeados, temos de nos certificar de que seus nomes serão os mesmos que dos parâmetros.\n",
    "- Ao criar um argumento nomeado, todos os seguintes também deverão ser.\n",
    "## Argumentos posicionais\n",
    "- São atribuídos aos parâmetros na ordem em que foram criados.\n",
    "- Devemos nos certificar de sempre passar a quantidade exata.\n",
    "## Valores padrão para parâmetros\n",
    "- Podemos passar, na assinatura da função, valores padrão para um parâmetro.\n",
    "- Esse valor pode ser alterado posteriormente.\n",
    "- Após criar um parâmetro nomeado, todos os seguintes também devem ser.\n",
    "- O ideal é sempre utilizar somente nomeados ou somente não nomeados.\n",
    "- Assim, podemos deixar de passar algum argumento."
   ]
  },
  {
   "cell_type": "code",
   "execution_count": 3,
   "id": "a4b14743-5f8f-469c-8a55-8eb5d271b8be",
   "metadata": {},
   "outputs": [
    {
     "data": {
      "text/plain": [
       "18"
      ]
     },
     "execution_count": 3,
     "metadata": {},
     "output_type": "execute_result"
    }
   ],
   "source": [
    "def soma(x, y, z = 3):\n",
    "    return x + y + z\n",
    "\n",
    "soma(5, 10)"
   ]
  },
  {
   "cell_type": "markdown",
   "id": "be458853-5a1b-4b13-b49a-f2e3e12f1f30",
   "metadata": {},
   "source": [
    "# Retorno da função\n",
    "- As funções podem retornar algo. Por padrão, retornam `None`\n",
    "- Esse retorno pode ser atribuído a variáveis, printado, utilizado como um dado normal.\n",
    "- A função se encerra no retorna.\n",
    "- Uma função só pode ter um retorno.\n",
    "- Só pode retornar um dado."
   ]
  },
  {
   "cell_type": "code",
   "execution_count": 14,
   "id": "c91e8470-bb32-4341-be7c-baa727a86409",
   "metadata": {},
   "outputs": [
    {
     "name": "stdin",
     "output_type": "stream",
     "text": [
      "Informe sua altura:  1.59\n"
     ]
    },
    {
     "name": "stdout",
     "output_type": "stream",
     "text": [
      "Sua altura é 1.59\n",
      "\n",
      "Pode ir no brinquedo?\n",
      "False\n"
     ]
    }
   ],
   "source": [
    "# Programa que verifica a altura e se pode ir em um brinquedo radical do parque ou não\n",
    "\n",
    "def verifica_altura():\n",
    "    altura = float(input(\"Informe sua altura: \"))\n",
    "    print(\"Sua altura é {}\".format(altura))\n",
    "    return altura\n",
    "\n",
    "altura = verifica_altura()\n",
    "\n",
    "def autorizado(altura):\n",
    "    if altura >= 1.6:\n",
    "        return True\n",
    "    else:\n",
    "        return False\n",
    "\n",
    "print(\"\\nPode ir no brinquedo?\", autorizado(altura), sep=\"\\n\")\n",
    "        "
   ]
  },
  {
   "cell_type": "markdown",
   "id": "81a1f030-b1e3-4354-b286-621aa65f4651",
   "metadata": {},
   "source": [
    "# Escopo de funções\n",
    "- O local onde aquela variável 'atinge'\n",
    "## local\n",
    "- Quando a variável é criada dentro de uma função. Neste caso, só pode ser acessada e alterada lá dentro.\n",
    "## global\n",
    "- Quando a variável é criada no mesmo escopo do módulo (fora de qualquer função), ela pode ser:\n",
    "    - Acessada (lida) de qualquer lugar, inclusive dentro de funções.\n",
    "    - Alterada somente no escopo global, a não ser que usemos a palavra `global`\n",
    "### O que acontece se declarar uma variável local e uma global com o mesmo nome?\n",
    "- Criamos duas variáveis diferentes com mesmo nome.\n",
    "### comando `global`\n",
    "- Comando que faz com que uma variável local passe a pertencer ao escopo global.\n",
    "- Deve ser utilizada somente quando queremos alterar uma variável global dentro de uma função.\n",
    "## nonlocal\n",
    "- Quando temos uma função dentro de outra função. Neste caso, é uma relação semelhante à de escopo global e local.\n",
    "- As variáveis da função externa podem ser acessadas pela interna, mas não podem ser alteradas. Para que isso seja possível, temos de usar o comando `nonlocal`.\n",
    "- Só funciona com variáveis de funções externas (em nested functions), não com variáveis globais.\n",
    "\n",
    "\n",
    "  \n",
    "| Escopo       | Onde é definido                        | Pode ser acessado de onde?                      | Pode ser modificado de onde?                      | Palavra-chave |\n",
    "|--------------|----------------------------------------|--------------------------------------------------|--------------------------------------------------|----------------|\n",
    "| Local        | Dentro de uma função                   | Apenas dentro da própria função                 | Apenas dentro da própria função                 | —              |\n",
    "| Global       | Fora de funções (nível de módulo)      | De qualquer lugar no código                     | Apenas no escopo global ou com `global`         | `global`       |\n",
    "| Nonlocal     | Em funções aninhadas                   | Na função interna (filha)                       | Na função interna, se usar `nonlocal`           | `nonlocal`     |\n",
    "\n",
    "## Como alterar dados mutáveis em funções internas\n",
    "- É possível alterar dados mutáveis em funções internas sem alterar o escopo, desde que isso seja feito usando métodos e não atribuição (=).\n",
    "- Isso é possível porque estamos alterando o objeto original, que já está em seu escopo correto."
   ]
  },
  {
   "cell_type": "code",
   "execution_count": 20,
   "id": "a681fb5b-7e08-4298-a80a-6042865d77fb",
   "metadata": {},
   "outputs": [
    {
     "name": "stdout",
     "output_type": "stream",
     "text": [
      "[1, 2, 3, 4]\n"
     ]
    }
   ],
   "source": [
    "# Alterando dado mutável em uma função interna com método\n",
    "def funcao_interna():\n",
    "    lista = [1, 2, 3]\n",
    "\n",
    "    def modifica():\n",
    "        lista.append(4)\n",
    "\n",
    "    modifica()\n",
    "    print(lista) # [1, 2, 3, 4]\n",
    "\n",
    "funcao_interna()\n",
    "\n"
   ]
  },
  {
   "cell_type": "code",
   "execution_count": 21,
   "id": "536321b3-0576-4e46-a26a-0ce62421aefe",
   "metadata": {},
   "outputs": [
    {
     "name": "stdout",
     "output_type": "stream",
     "text": [
      "[1, 2, 3]\n"
     ]
    }
   ],
   "source": [
    "# Tentando alterar dado mutável em uma função interna com atribuição\n",
    "def funcao_interna():\n",
    "    lista = [1, 2, 3]\n",
    "\n",
    "    def modifica():\n",
    "        lista = [1, 2, 3, 4]\n",
    "\n",
    "    modifica()\n",
    "    print(lista) # [1, 2, 3]\n",
    "\n",
    "funcao_interna()"
   ]
  },
  {
   "cell_type": "code",
   "execution_count": 25,
   "id": "8c2f16c0-c75b-4ec3-b9bf-6efd31aa78d0",
   "metadata": {},
   "outputs": [
    {
     "name": "stdout",
     "output_type": "stream",
     "text": [
      "[1, 2, 3, 4]\n"
     ]
    }
   ],
   "source": [
    "# Alterando dado mutável em função interna com nonlocal\n",
    "def externa():\n",
    "    lista = [1, 2, 3]\n",
    "\n",
    "    def interna():\n",
    "        nonlocal lista\n",
    "        lista = [1, 2, 3, 4]\n",
    "\n",
    "    interna()\n",
    "    print(lista) # [1, 2, 3, 4]\n",
    "\n",
    "externa()"
   ]
  },
  {
   "cell_type": "markdown",
   "id": "c607ed91-8de4-462b-b495-f8ea55587a73",
   "metadata": {},
   "source": [
    "### **nota: Esses comandos `global` e `nonlocal` devem ser usados individualmente para só depois podermos trabalhar com as variáveis no escopo em questão.**"
   ]
  },
  {
   "cell_type": "markdown",
   "id": "42fa6bac-fc45-477f-bd28-45a49079a3f4",
   "metadata": {},
   "source": [
    "# `*args`\n",
    "- A função `print()`, por exemplo, é uma função que pode receber infinitos argumentos. Isso só é possível graças ao `args`\n",
    "- É uma forma de empacotar diversos argumentos em um único parâmetro.\n",
    "- O `args` cria uma tupla com os argumentos passados.\n",
    "## cuidado com iteráveis\n",
    "- Ao passar iteráveis, como tuplas, teremos uma tupla dentro de uma tupla, podendo causar eventuais problemas.\n"
   ]
  },
  {
   "cell_type": "code",
   "execution_count": 26,
   "id": "d24b5d53-5cbf-48a3-9599-ec6cdd159e3d",
   "metadata": {},
   "outputs": [
    {
     "name": "stdout",
     "output_type": "stream",
     "text": [
      "2255\n"
     ]
    }
   ],
   "source": [
    "def soma_numeros(*args):\n",
    "    soma = 0\n",
    "    for numero in args:\n",
    "        soma += numero\n",
    "    return soma\n",
    "\n",
    "res = soma_numeros(2, 4, 1, 4324, 11, 234, -2323, 2)\n",
    "print(res)"
   ]
  },
  {
   "cell_type": "markdown",
   "id": "8656e7aa-bac7-450b-afcb-49aad1f51249",
   "metadata": {},
   "source": [
    "# `sum()`\n",
    "- Para somar diversos números de um iterável, podemos usar a função `sum`.\n",
    "- Note que ela recebe apenas um iterável, como uma tupla, por exemplo.\n",
    "### start \n",
    "- Aceita um segundo argumento que define de onde a soma irá se iniciar\n",
    "### Nota sobre print em funções\n",
    "- Não é muito utilizado ou recomendado. Normalmente, trabalhamos com o retorno."
   ]
  },
  {
   "cell_type": "code",
   "execution_count": 28,
   "id": "f456128b-0106-498c-9b47-1fdf61f56573",
   "metadata": {},
   "outputs": [
    {
     "name": "stdout",
     "output_type": "stream",
     "text": [
      "20\n"
     ]
    }
   ],
   "source": [
    "tupla = 3, 5, 7\n",
    "\n",
    "soma = sum(tupla, 5)\n",
    "print(soma) # 20, porque 3 + 5 + 7 + 5 (inicio) = 20"
   ]
  },
  {
   "cell_type": "markdown",
   "id": "3ae87be0-fa86-4f67-a4ee-9e1a5f4d7e79",
   "metadata": {},
   "source": [
    "# First Class Functions\n",
    "- Funções são cidadãs de primeira classe. Ou seja, são tratadas como outros tipos de dados. Ex.:\n",
    "    - Armazenada/atribuída a uma estrutura de dados\n",
    "    - Retornada por uma função\n",
    "    - Passada como argumento de uma função\n",
    "# Higher Order Functions\n",
    "- Funções podem interagir diretamente com funções.\n",
    "- Uma função pode operar sobre outra função ou receber outra função como argumento.\n",
    "## `map()`\n",
    "- É um exemplo de Higher Order Function.\n",
    "- Recebe dois argumentos:\n",
    "    - Um iterável\n",
    "    - Uma função"
   ]
  },
  {
   "cell_type": "code",
   "execution_count": 4,
   "id": "435540c3-eade-4259-9df9-7d381ae24005",
   "metadata": {},
   "outputs": [
    {
     "data": {
      "text/plain": [
       "[2, 4, 6, 8]"
      ]
     },
     "execution_count": 4,
     "metadata": {},
     "output_type": "execute_result"
    }
   ],
   "source": [
    "lista = [1, 2, 3, 4]\n",
    "\n",
    "def dobra(x):\n",
    "    return x * 2\n",
    "\n",
    "lista_dobrada = list(map(dobra, lista))\n",
    "lista_dobrada\n",
    "\n"
   ]
  },
  {
   "cell_type": "markdown",
   "id": "d8567e12-a06e-485d-9187-247bcbbac549",
   "metadata": {},
   "source": [
    "# Nested Functions\n",
    "- São funções aninhadas. Ou seja, uma função dentro de uma função.\n",
    "### De onde posso acessar a função mais interna?\n",
    "- A função mais interna só é acessível dentro da função externa.\n",
    "### Retorno da função externa\n",
    "- A função externa pode retornar tanto a função interna quanto o retorno da função interna.\n",
    "- As variáveis da função externa são acessíveis na função interna.\n",
    "\n",
    "---\n",
    "\n",
    "## Closure\n",
    "- São nested functions\n",
    "- A função mais interna lembra o contexto/dados/variáveis da função externa.\n",
    "- Sempre seguem um padrão:\n",
    "    - A função externa retorna a função interna (e não o seu retorno)\n",
    "    - A função interna recebe um parâmetro\n",
    "    - A execução da função externa é atribuída a uma variável. Ou seja, quem é atribuído a esta variável é a função interna, mas se 'aproveitando' dos dados que estão armazenados na função externa."
   ]
  },
  {
   "cell_type": "code",
   "execution_count": 1,
   "id": "1db2c9c7-714f-4f4f-9902-b56ff044cc09",
   "metadata": {},
   "outputs": [
    {
     "name": "stdin",
     "output_type": "stream",
     "text": [
      "Informe seu nome:  Mateus\n"
     ]
    },
    {
     "name": "stdout",
     "output_type": "stream",
     "text": [
      "Olá, Mateus\n"
     ]
    },
    {
     "name": "stdin",
     "output_type": "stream",
     "text": [
      "Informe seu nome:  Bia\n"
     ]
    },
    {
     "name": "stdout",
     "output_type": "stream",
     "text": [
      "Olá, Bia\n"
     ]
    },
    {
     "name": "stdin",
     "output_type": "stream",
     "text": [
      "Informe seu nome:  Sandy\n"
     ]
    },
    {
     "name": "stdout",
     "output_type": "stream",
     "text": [
      "Olá, Sandy\n"
     ]
    },
    {
     "name": "stdin",
     "output_type": "stream",
     "text": [
      "Informe seu nome:  0\n"
     ]
    }
   ],
   "source": [
    "entrada = \"\"\n",
    "\n",
    "def saudar():\n",
    "    mensagem = \"Olá, \"\n",
    "    def nome(nome):\n",
    "        saudacao = mensagem + nome \n",
    "        return saudacao\n",
    "    return nome\n",
    "\n",
    "usuario = saudar()\n",
    "\n",
    "while True:\n",
    "    entrada = input(\"Informe seu nome: \")\n",
    "    if entrada == \"0\":\n",
    "        break\n",
    "    print(usuario(entrada))"
   ]
  },
  {
   "cell_type": "markdown",
   "id": "296cceee-aa29-4a66-b5a7-c43b8b70ddc5",
   "metadata": {},
   "source": [
    "### CLOSURES SÃO ÚTEIS PARA MANTER ESTADO DE UMA VARIÁVEL"
   ]
  },
  {
   "cell_type": "code",
   "execution_count": 5,
   "id": "005843e2-7e93-46c8-bc8d-3e2aaf73e193",
   "metadata": {},
   "outputs": [
    {
     "name": "stdout",
     "output_type": "stream",
     "text": [
      "1\n",
      "2\n",
      "3\n"
     ]
    }
   ],
   "source": [
    "def contador():\n",
    "    total = 0\n",
    "    def incrementar():\n",
    "        nonlocal total\n",
    "        total += 1\n",
    "        return total\n",
    "    return incrementar\n",
    "\n",
    "c = contador()\n",
    "\n",
    "print(c())\n",
    "print(c())\n",
    "print(c())"
   ]
  },
  {
   "cell_type": "markdown",
   "id": "d035de05-107c-4916-aeeb-2e96f82b8d29",
   "metadata": {},
   "source": [
    "### CLOSURES SÃO ÚTEIS PARA CRIAR FUNÇÕES PERSONALIZADAS COM BASE EM PARÂMETROS"
   ]
  },
  {
   "cell_type": "code",
   "execution_count": 10,
   "id": "4322235d-c8f7-43b0-b02d-a16a73fef8ed",
   "metadata": {},
   "outputs": [
    {
     "data": {
      "text/plain": [
       "170"
      ]
     },
     "execution_count": 10,
     "metadata": {},
     "output_type": "execute_result"
    }
   ],
   "source": [
    "def multiplicar():\n",
    "    x = 2\n",
    "    def fator(num):\n",
    "        return num * x\n",
    "    return fator\n",
    "\n",
    "dobrar = multiplicar()\n",
    "\n",
    "dobrar(85)"
   ]
  }
 ],
 "metadata": {
  "kernelspec": {
   "display_name": "Python 3 (ipykernel)",
   "language": "python",
   "name": "python3"
  },
  "language_info": {
   "codemirror_mode": {
    "name": "ipython",
    "version": 3
   },
   "file_extension": ".py",
   "mimetype": "text/x-python",
   "name": "python",
   "nbconvert_exporter": "python",
   "pygments_lexer": "ipython3",
   "version": "3.13.5"
  }
 },
 "nbformat": 4,
 "nbformat_minor": 5
}
