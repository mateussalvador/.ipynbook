{
 "cells": [
  {
   "cell_type": "markdown",
   "id": "9c63215e-0891-4fb2-9b7a-a57f9008b8d7",
   "metadata": {},
   "source": [
    "# O que é JSON?\n",
    "- Uma estrutura de dados criada para **estruturar, salvar e transportar**\n",
    "- **É o formato padrão para comunicação entre sistemas na internet, especialmente em aplicações web e APIs**\n",
    "- Similar aos Objects do JS e aos dicionários do Python\n",
    "- O arquivo possui a extensão `.json`\n",
    "\n",
    "## Tipos de dados suportados\n",
    "- Dentro do JSON podemos ter os seguintes tipos de dados:\n",
    "    - boolean\n",
    "    - number\n",
    "    - null (nada / nulo)\n",
    "    - string\n",
    "    - array\n",
    "    - objeto\n",
    "\n",
    "### Objetos\n",
    "- Quando tratamos os valores como objetos, temos pares de chave e valor.\n",
    "- Podemos ter json com um único dado e ele será válido, como por exemplo \"nome\". Mas o comum é passar realmente um 'pacote' de valores, como um array ou um objeto.\n",
    "- **Por obrigatoriedade, temos que colocar chaves duplas nas chaves**\n",
    "- Podemos ter uma chave e dentro da chave um array de objetos, por exemplo\n",
    "- Ex.:"
   ]
  },
  {
   "cell_type": "code",
   "execution_count": 1,
   "id": "5da9ad7a-3e57-486d-aec0-fba29098fa2a",
   "metadata": {},
   "outputs": [
    {
     "data": {
      "text/plain": [
       "[{'name': 'Luiz', 'lastName': 'Miranda'},\n",
       " {'name': 'Maria', 'lastName': 'Moreira'},\n",
       " {'name': 'Helena', 'lastName': 'Vieira'}]"
      ]
     },
     "execution_count": 1,
     "metadata": {},
     "output_type": "execute_result"
    }
   ],
   "source": [
    "[\n",
    "    {\"name\": \"Luiz\", \"lastName\": \"Miranda\"},\n",
    "    {\"name\": \"Maria\", \"lastName\": \"Moreira\"},\n",
    "    {\"name\": \"Helena\", \"lastName\": \"Vieira\"}\n",
    "]"
   ]
  },
  {
   "cell_type": "code",
   "execution_count": 2,
   "id": "c0e020fc-a80a-4bb9-bad6-ead891aa1865",
   "metadata": {},
   "outputs": [
    {
     "data": {
      "text/plain": [
       "{'name': 'Luiz',\n",
       " 'lastName': 'Miranda',\n",
       " 'age': 22,\n",
       " 'adresses': [{'line1': 'av. brasil'}, {'line2': 'av. amapá'}]}"
      ]
     },
     "execution_count": 2,
     "metadata": {},
     "output_type": "execute_result"
    }
   ],
   "source": [
    "{\n",
    "    \"name\": \"Luiz\",\n",
    "    \"lastName\": \"Miranda\",\n",
    "    \"age\": 22,\n",
    "    \"adresses\": [\n",
    "        {\"line1\": \"av. brasil\"}, \n",
    "        {\"line2\": \"av. amapá\"},\n",
    "    ]\n",
    "}"
   ]
  },
  {
   "cell_type": "markdown",
   "id": "e4b4a3c3-1a53-4155-a7c3-f9f6da759221",
   "metadata": {},
   "source": [
    "---\n",
    "\n",
    "# Qual a utilidade do JSON?\n",
    "- Comunicação com APIs\n",
    "- Arquivos de configuração\n",
    "- Armazenamento de dados\n",
    "- Aplicações web\n",
    "\n",
    "---\n",
    "# Mapeando Python e JSON\n",
    "- No Python, os dados são convertidos da seguinte forma:\n",
    "    - dict vira object (conjunto de pares chave/valor)\n",
    "    - list, tuple vira array\n",
    "    - str vira string\n",
    "    - int, float vira number\n",
    "    - True / False viram true / false\n",
    "    - None vira null\n",
    "\n",
    "# Convertendo para JSON\n",
    "## `json.dumps()`\n",
    "- O `s` significa `string`\n",
    "- Recebe um objeto Python e retorna uma string formatada em JSON"
   ]
  },
  {
   "cell_type": "code",
   "execution_count": 3,
   "id": "9c2a1f08-0efd-4b59-b617-e6e326fc5e92",
   "metadata": {},
   "outputs": [
    {
     "name": "stdout",
     "output_type": "stream",
     "text": [
      "{\n",
      "   \"nome\": \"Mateus Salvador\",\n",
      "   \"idade\": 22,\n",
      "   \"cidade\": \"Brasília\",\n",
      "   \"cursos\": [\n",
      "      \"Python\",\n",
      "      \"Django\"\n",
      "   ],\n",
      "   \"ativo\": true,\n",
      "   \"plano\": null\n",
      "}\n"
     ]
    }
   ],
   "source": [
    "import json\n",
    "\n",
    "# Dados que serão convertidos numa string json\n",
    "dados_python = {\n",
    "    \"nome\": \"Mateus Salvador\",\n",
    "    \"idade\": 22,\n",
    "    \"cidade\": \"Brasília\",\n",
    "    \"cursos\": [\"Python\", \"Django\"],\n",
    "    \"ativo\": True,\n",
    "    \"plano\": None,\n",
    "}\n",
    "\n",
    "# String convertida no formato json\n",
    "dados_json = json.dumps(dados_python, indent=3, ensure_ascii=False)\n",
    "print(dados_json)"
   ]
  },
  {
   "cell_type": "markdown",
   "id": "75953495-2d97-48b6-9176-b0df66b4eca3",
   "metadata": {},
   "source": [
    "## `json.dump()`\n",
    "- Recebe um objeto Python, o converte em JSON e salva o JSON diretamente em um arquivo.\n",
    "- Recebe:\n",
    "    1. a estrutura que contém os dados em Python a serem convertidos\n",
    "    2. O nome do arquivo (ou o alias definido no with open)\n",
    "    3. O indent\n",
    "    4. `ensure_ascii = False` (ou True)\n",
    "        - O ideal é manter False para que ele use utf-8 invés de ascii"
   ]
  },
  {
   "cell_type": "code",
   "execution_count": 4,
   "id": "addaaf34-9175-4cc3-b345-589564f04940",
   "metadata": {},
   "outputs": [
    {
     "name": "stdout",
     "output_type": "stream",
     "text": [
      "{\n",
      "   \"nome\": \"Mateus Salvador\",\n",
      "   \"idade\": 22,\n",
      "   \"cidade\": \"Brasília\",\n",
      "   \"cursos\": [\n",
      "      \"Python\",\n",
      "      \"Django\"\n",
      "   ],\n",
      "   \"ativo\": true,\n",
      "   \"plano\": null\n",
      "}\n"
     ]
    }
   ],
   "source": [
    "with open(\"dados.json\", \"w+\", encoding=\"utf-8\") as file:\n",
    "    json.dump(dados_python, file, indent = 3, ensure_ascii = False)\n",
    "    file.seek(0, 0)\n",
    "    print(file.read())"
   ]
  },
  {
   "cell_type": "markdown",
   "id": "df78103b-290a-47b4-a36f-f6b719f56ef3",
   "metadata": {},
   "source": [
    "## `json.loads()`\n",
    "- Pega uma string que contém dados em JSON e converte em um objeto Python."
   ]
  },
  {
   "cell_type": "code",
   "execution_count": 5,
   "id": "570ce76e-da59-469b-9c91-7effecb94bd7",
   "metadata": {},
   "outputs": [
    {
     "ename": "JSONDecodeError",
     "evalue": "Extra data: line 2 column 10 (char 10)",
     "output_type": "error",
     "traceback": [
      "\u001b[1;31m---------------------------------------------------------------------------\u001b[0m",
      "\u001b[1;31mJSONDecodeError\u001b[0m                           Traceback (most recent call last)",
      "Cell \u001b[1;32mIn[5], line 14\u001b[0m\n\u001b[0;32m      1\u001b[0m json_string \u001b[38;5;241m=\u001b[39m \u001b[38;5;124m\"\"\"\u001b[39m\n\u001b[0;32m      2\u001b[0m \u001b[38;5;124m   \u001b[39m\u001b[38;5;124m\"\u001b[39m\u001b[38;5;124mnome\u001b[39m\u001b[38;5;124m\"\u001b[39m\u001b[38;5;124m: \u001b[39m\u001b[38;5;124m\"\u001b[39m\u001b[38;5;124mMateus Salvador\u001b[39m\u001b[38;5;124m\"\u001b[39m\u001b[38;5;124m,\u001b[39m\n\u001b[0;32m      3\u001b[0m \u001b[38;5;124m   \u001b[39m\u001b[38;5;124m\"\u001b[39m\u001b[38;5;124midade\u001b[39m\u001b[38;5;124m\"\u001b[39m\u001b[38;5;124m: 22,\u001b[39m\n\u001b[1;32m   (...)\u001b[0m\n\u001b[0;32m     11\u001b[0m \u001b[38;5;124m}\u001b[39m\n\u001b[0;32m     12\u001b[0m \u001b[38;5;124m\"\"\"\u001b[39m\n\u001b[1;32m---> 14\u001b[0m dados_py \u001b[38;5;241m=\u001b[39m json\u001b[38;5;241m.\u001b[39mloads(json_string)\n",
      "File \u001b[1;32m~\\AppData\\Local\\anaconda3\\Lib\\json\\__init__.py:346\u001b[0m, in \u001b[0;36mloads\u001b[1;34m(s, cls, object_hook, parse_float, parse_int, parse_constant, object_pairs_hook, **kw)\u001b[0m\n\u001b[0;32m    341\u001b[0m     s \u001b[38;5;241m=\u001b[39m s\u001b[38;5;241m.\u001b[39mdecode(detect_encoding(s), \u001b[38;5;124m'\u001b[39m\u001b[38;5;124msurrogatepass\u001b[39m\u001b[38;5;124m'\u001b[39m)\n\u001b[0;32m    343\u001b[0m \u001b[38;5;28;01mif\u001b[39;00m (\u001b[38;5;28mcls\u001b[39m \u001b[38;5;129;01mis\u001b[39;00m \u001b[38;5;28;01mNone\u001b[39;00m \u001b[38;5;129;01mand\u001b[39;00m object_hook \u001b[38;5;129;01mis\u001b[39;00m \u001b[38;5;28;01mNone\u001b[39;00m \u001b[38;5;129;01mand\u001b[39;00m\n\u001b[0;32m    344\u001b[0m         parse_int \u001b[38;5;129;01mis\u001b[39;00m \u001b[38;5;28;01mNone\u001b[39;00m \u001b[38;5;129;01mand\u001b[39;00m parse_float \u001b[38;5;129;01mis\u001b[39;00m \u001b[38;5;28;01mNone\u001b[39;00m \u001b[38;5;129;01mand\u001b[39;00m\n\u001b[0;32m    345\u001b[0m         parse_constant \u001b[38;5;129;01mis\u001b[39;00m \u001b[38;5;28;01mNone\u001b[39;00m \u001b[38;5;129;01mand\u001b[39;00m object_pairs_hook \u001b[38;5;129;01mis\u001b[39;00m \u001b[38;5;28;01mNone\u001b[39;00m \u001b[38;5;129;01mand\u001b[39;00m \u001b[38;5;129;01mnot\u001b[39;00m kw):\n\u001b[1;32m--> 346\u001b[0m     \u001b[38;5;28;01mreturn\u001b[39;00m _default_decoder\u001b[38;5;241m.\u001b[39mdecode(s)\n\u001b[0;32m    347\u001b[0m \u001b[38;5;28;01mif\u001b[39;00m \u001b[38;5;28mcls\u001b[39m \u001b[38;5;129;01mis\u001b[39;00m \u001b[38;5;28;01mNone\u001b[39;00m:\n\u001b[0;32m    348\u001b[0m     \u001b[38;5;28mcls\u001b[39m \u001b[38;5;241m=\u001b[39m JSONDecoder\n",
      "File \u001b[1;32m~\\AppData\\Local\\anaconda3\\Lib\\json\\decoder.py:340\u001b[0m, in \u001b[0;36mJSONDecoder.decode\u001b[1;34m(self, s, _w)\u001b[0m\n\u001b[0;32m    338\u001b[0m end \u001b[38;5;241m=\u001b[39m _w(s, end)\u001b[38;5;241m.\u001b[39mend()\n\u001b[0;32m    339\u001b[0m \u001b[38;5;28;01mif\u001b[39;00m end \u001b[38;5;241m!=\u001b[39m \u001b[38;5;28mlen\u001b[39m(s):\n\u001b[1;32m--> 340\u001b[0m     \u001b[38;5;28;01mraise\u001b[39;00m JSONDecodeError(\u001b[38;5;124m\"\u001b[39m\u001b[38;5;124mExtra data\u001b[39m\u001b[38;5;124m\"\u001b[39m, s, end)\n\u001b[0;32m    341\u001b[0m \u001b[38;5;28;01mreturn\u001b[39;00m obj\n",
      "\u001b[1;31mJSONDecodeError\u001b[0m: Extra data: line 2 column 10 (char 10)"
     ]
    }
   ],
   "source": [
    "json_string = \"\"\"\n",
    "   \"nome\": \"Mateus Salvador\",\n",
    "   \"idade\": 22,\n",
    "   \"cidade\": \"Brasília\",\n",
    "   \"cursos\": [\n",
    "      \"Python\",\n",
    "      \"Django\"\n",
    "   ],\n",
    "   \"ativo\": true,\n",
    "   \"plano\": null\n",
    "}\n",
    "\"\"\"\n",
    "\n",
    "dados_py = json.loads(json_string)"
   ]
  },
  {
   "cell_type": "markdown",
   "id": "ba91d8f1-40e7-40a3-b20f-c84ce701cefd",
   "metadata": {},
   "source": [
    "## `json.load()`\n",
    "- Lê um arquivo em formato json e converte em um objeto Python"
   ]
  },
  {
   "cell_type": "code",
   "execution_count": null,
   "id": "08a3898a-4722-4b67-8c54-18484610aaad",
   "metadata": {},
   "outputs": [],
   "source": []
  }
 ],
 "metadata": {
  "kernelspec": {
   "display_name": "Python 3 (ipykernel)",
   "language": "python",
   "name": "python3"
  },
  "language_info": {
   "codemirror_mode": {
    "name": "ipython",
    "version": 3
   },
   "file_extension": ".py",
   "mimetype": "text/x-python",
   "name": "python",
   "nbconvert_exporter": "python",
   "pygments_lexer": "ipython3",
   "version": "3.12.7"
  }
 },
 "nbformat": 4,
 "nbformat_minor": 5
}
