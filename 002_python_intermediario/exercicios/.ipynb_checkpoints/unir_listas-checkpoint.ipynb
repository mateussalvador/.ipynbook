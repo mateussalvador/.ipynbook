{
 "cells": [
  {
   "cell_type": "code",
   "execution_count": 17,
   "id": "a04a2ab0-8c6f-44a7-b7a8-c0c57d9aa7ea",
   "metadata": {},
   "outputs": [
    {
     "name": "stdout",
     "output_type": "stream",
     "text": [
      "Resultado: [('Salvador', 'BA'), ('Ubatuba', 'SP'), ('Belo Horizonte', 'MG')]\n"
     ]
    }
   ],
   "source": [
    "# Exercício - Unir listas - Resolver sem usar zip\n",
    "\n",
    "# Crie uma função zipper (como o zipper de roupas)\n",
    "# O trabalho dessa função será unir duas\n",
    "# listas na ordem.\n",
    "# Use todos os valores da menor lista.\n",
    "# Ex.:\n",
    "# ['Salvador', 'Ubatuba', 'Belo Horizonte']\n",
    "# ['BA', 'SP', 'MG', 'RJ']\n",
    "# Resultado\n",
    "# [('Salvador', 'BA'), ('Ubatuba', 'SP'), ('Belo Horizonte', 'MG')]\n",
    "\n",
    "cidades = ['Salvador', 'Ubatuba', 'Belo Horizonte']\n",
    "estados = ['BA', 'SP', 'MG', 'RJ']\n",
    "\n",
    "def encontra_menor_lista(lista1, lista2):\n",
    "    return min(len(lista1), len(lista2))\n",
    "\n",
    "def zipper(lista1, lista2):\n",
    "    return [\n",
    "        (lista1[i], lista2[i]) for i in range(encontra_menor_lista(lista1, lista2))\n",
    "    ]\n",
    "\n",
    "if __name__ == \"__main__\":\n",
    "    print(f\"Resultado: {zipper(cidades, estados)}\")"
   ]
  }
 ],
 "metadata": {
  "kernelspec": {
   "display_name": "Python 3 (ipykernel)",
   "language": "python",
   "name": "python3"
  },
  "language_info": {
   "codemirror_mode": {
    "name": "ipython",
    "version": 3
   },
   "file_extension": ".py",
   "mimetype": "text/x-python",
   "name": "python",
   "nbconvert_exporter": "python",
   "pygments_lexer": "ipython3",
   "version": "3.12.7"
  }
 },
 "nbformat": 4,
 "nbformat_minor": 5
}
