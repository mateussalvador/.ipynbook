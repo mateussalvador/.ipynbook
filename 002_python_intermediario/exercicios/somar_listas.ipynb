{
 "cells": [
  {
   "cell_type": "code",
   "execution_count": 16,
   "id": "c20b84e2-ce26-4ec6-842b-47c9ef302be4",
   "metadata": {},
   "outputs": [
    {
     "name": "stdout",
     "output_type": "stream",
     "text": [
      "Resultado: [1, 24, 56, 8]\n"
     ]
    }
   ],
   "source": [
    "\"\"\"\n",
    "Considerando duas listas de inteiros ou floats (lista A e lista B)\n",
    "Some os valores nas listas retornando uma nova lista com os valores somados:\n",
    "Se uma lista for maior que a outra, a soma só vai considerar o tamanho da\n",
    "menor.\n",
    "Exemplo:\n",
    "lista_a     = [1, 2, 3, 4, 5, 6, 7]\n",
    "lista_b     = [1, 2, 3, 4]\n",
    "=================== resultado\n",
    "lista_soma  = [2, 4, 6, 8]\n",
    "\"\"\"\n",
    "\n",
    "lista_a = [0, 22, 53, 4, 5, 6, 7]\n",
    "lista_b = [1, 2, 3, 4]\n",
    "\n",
    "lista_somada = [x + y for x, y in list(zip(lista_a, lista_b))]\n",
    "    \n",
    "print(f\"Resultado: {lista_somada}\")\n",
    "    "
   ]
  }
 ],
 "metadata": {
  "kernelspec": {
   "display_name": "Python 3 (ipykernel)",
   "language": "python",
   "name": "python3"
  },
  "language_info": {
   "codemirror_mode": {
    "name": "ipython",
    "version": 3
   },
   "file_extension": ".py",
   "mimetype": "text/x-python",
   "name": "python",
   "nbconvert_exporter": "python",
   "pygments_lexer": "ipython3",
   "version": "3.12.7"
  }
 },
 "nbformat": 4,
 "nbformat_minor": 5
}
