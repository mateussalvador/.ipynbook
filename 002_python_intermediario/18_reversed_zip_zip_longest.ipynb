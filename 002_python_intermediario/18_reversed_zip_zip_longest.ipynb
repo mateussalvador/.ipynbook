{
 "cells": [
  {
   "cell_type": "markdown",
   "id": "09b39eac-9aff-4686-9337-c7568163a7e9",
   "metadata": {},
   "source": [
    "# reversed\n",
    "- inverte a ordem de um iterável\n",
    "- não modifica o original\n",
    "- Imagine que queremos percorrer uma lista que vai do nove ao zero. Por padrão, teríamos de fazer algo assim:"
   ]
  },
  {
   "cell_type": "code",
   "execution_count": 2,
   "id": "b6a4ea3c-af76-40e6-9514-20b5926514ab",
   "metadata": {},
   "outputs": [
    {
     "name": "stdout",
     "output_type": "stream",
     "text": [
      "9\n",
      "8\n",
      "7\n",
      "6\n",
      "5\n",
      "4\n",
      "3\n",
      "2\n",
      "1\n",
      "0\n"
     ]
    }
   ],
   "source": [
    "for numero in range(9, -1, -1):\n",
    "    print(numero)"
   ]
  },
  {
   "cell_type": "markdown",
   "id": "aa6934cf-bf67-4e3a-8549-3db6b3207a5a",
   "metadata": {},
   "source": [
    "- note que acaba ficando algo um pouco burocrático e até difícil de entender a lógica quando configuramos um range que vai do 9 ao -1 (porque por padrão não inclui o último índice) e que o passo é negativo. Para isso, podemos usar o `reversed`:"
   ]
  },
  {
   "cell_type": "code",
   "execution_count": 3,
   "id": "b74b05fc-1501-41ba-9c2b-655b571296bf",
   "metadata": {},
   "outputs": [
    {
     "name": "stdout",
     "output_type": "stream",
     "text": [
      "9\n",
      "8\n",
      "7\n",
      "6\n",
      "5\n",
      "4\n",
      "3\n",
      "2\n",
      "1\n",
      "0\n"
     ]
    }
   ],
   "source": [
    "for numero in reversed(range(10)):\n",
    "    print(numero)"
   ]
  },
  {
   "cell_type": "markdown",
   "id": "141849e9-bc02-42da-a82a-f7543b819b33",
   "metadata": {},
   "source": [
    "# zip\n",
    "- junta vários iteráveis em uma única coleção de tuplas.\n",
    "- Cada tupla contém um elemento da mesma posição de cada um dos iteráveis. Ex.:"
   ]
  },
  {
   "cell_type": "code",
   "execution_count": 9,
   "id": "e3a86413-ace7-413e-8fc5-0426ea368b75",
   "metadata": {},
   "outputs": [
    {
     "name": "stdout",
     "output_type": "stream",
     "text": [
      "<zip object at 0x000001E6EAB6BB40>\n",
      "\n",
      " ------------------------------ \n",
      "\n",
      "('Ana', 28, 'São Paulo')\n",
      "('Carlos', 35, 'Rio de Janeiro')\n",
      "('Mateus', 22, 'Belo Horizonte')\n"
     ]
    }
   ],
   "source": [
    "nomes = [\"Ana\", \"Carlos\", \"Mateus\"]\n",
    "idades = [28, 35, 22]\n",
    "cidades = [\"São Paulo\", \"Rio de Janeiro\", \"Belo Horizonte\", \"Salvador\"]\n",
    "\n",
    "pessoas = zip(nomes, idades, cidades)\n",
    "print(pessoas) # printa o iterador\n",
    "\n",
    "print(\"\\n\", \"-\" * 30, \"\\n\")\n",
    "\n",
    "for pessoa in pessoas:\n",
    "    print(pessoa)"
   ]
  },
  {
   "cell_type": "markdown",
   "id": "0edd4e06-f144-42be-b9be-cca68af745f8",
   "metadata": {},
   "source": [
    "### nota \n",
    "- O `zip` retorna o iterador. Para ver os itens, ou devemos percorrê-lo ou convertê-lo em uma lista, por exemplo.\n",
    "- O `zip` sempre retorna um iterável de tamanho igual ao do **menor** iterável que está sendo 'zipado'."
   ]
  },
  {
   "cell_type": "markdown",
   "id": "6a11928c-9941-446f-808d-36ba42efc923",
   "metadata": {},
   "source": [
    "## zip_longest\n",
    "- Para utilizar, temos de importar o módulo `itertools`\n",
    "- É idêntico ao zip, mas ele retorna um iterável de tamanho igual ao do **maior** iterável que está sendo 'zipado'.\n",
    "\n",
    "## fillvalue\n",
    "- Por padrão, se o maior iterável for maior que os outros, ele usará um fillvalue (que recebe `None` por padrão) para preencher."
   ]
  },
  {
   "cell_type": "code",
   "execution_count": 1,
   "id": "8cc37b55-11da-4057-bf7c-f7490a5b8212",
   "metadata": {},
   "outputs": [
    {
     "name": "stdout",
     "output_type": "stream",
     "text": [
      "[('Ana', 28, 'São Paulo'), ('Carlos', 35, 'Rio de Janeiro'), ('Mateus', 22, 'Belo Horizonte'), (None, None, 'Salvador')]\n"
     ]
    }
   ],
   "source": [
    "from itertools import zip_longest\n",
    "\n",
    "nomes = [\"Ana\", \"Carlos\", \"Mateus\"]\n",
    "idades = [28, 35, 22]\n",
    "cidades = [\"São Paulo\", \"Rio de Janeiro\", \"Belo Horizonte\", \"Salvador\"]\n",
    "\n",
    "pessoas = list(zip_longest(nomes, idades, cidades))\n",
    "print(pessoas) "
   ]
  },
  {
   "cell_type": "code",
   "execution_count": 2,
   "id": "adb912fd-6476-4598-953e-93155f6e2ae7",
   "metadata": {},
   "outputs": [
    {
     "name": "stdout",
     "output_type": "stream",
     "text": [
      "[('Ana', 28, 'São Paulo'), ('Carlos', 35, 'Rio de Janeiro'), ('Mateus', 22, 'Belo Horizonte'), ('SEM IDADE E SEM NOME', 'SEM IDADE E SEM NOME', 'Salvador')]\n"
     ]
    }
   ],
   "source": [
    "from itertools import zip_longest\n",
    "\n",
    "nomes = [\"Ana\", \"Carlos\", \"Mateus\"]\n",
    "idades = [28, 35, 22]\n",
    "cidades = [\"São Paulo\", \"Rio de Janeiro\", \"Belo Horizonte\", \"Salvador\"]\n",
    "\n",
    "pessoas = list(zip_longest(nomes, idades, cidades, fillvalue=\"SEM IDADE E SEM NOME\"))\n",
    "print(pessoas) "
   ]
  }
 ],
 "metadata": {
  "kernelspec": {
   "display_name": "Python 3 (ipykernel)",
   "language": "python",
   "name": "python3"
  },
  "language_info": {
   "codemirror_mode": {
    "name": "ipython",
    "version": 3
   },
   "file_extension": ".py",
   "mimetype": "text/x-python",
   "name": "python",
   "nbconvert_exporter": "python",
   "pygments_lexer": "ipython3",
   "version": "3.12.7"
  }
 },
 "nbformat": 4,
 "nbformat_minor": 5
}
