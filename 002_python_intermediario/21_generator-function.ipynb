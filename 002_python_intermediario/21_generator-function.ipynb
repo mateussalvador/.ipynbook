{
 "cells": [
  {
   "cell_type": "markdown",
   "id": "9bfab1f6-b3ad-417b-96d7-f34be7c2768c",
   "metadata": {},
   "source": [
    "# Funções geradoras\n",
    "- Normalmente são funções que sabem 'pausar' em vez de 'parar' com o return\n",
    "- Consiste em uma forma de criar uma função que representa uma expressão geradora\n",
    "- O `return` segue sendo o fim da função\n",
    "- As 'pausas' são feitas com `yield`\n",
    "- São iterators, pois possuem o método iter e next.\n",
    "- O return neste caso levanta uma exceção de StopIteration."
   ]
  },
  {
   "cell_type": "code",
   "execution_count": 7,
   "id": "a582616a-9c35-45bd-a77f-ee53d6471c33",
   "metadata": {},
   "outputs": [
    {
     "name": "stdout",
     "output_type": "stream",
     "text": [
      "<generator object generator at 0x000002068DEE8C40>\n",
      "1\n",
      "Continuando...\n",
      "2\n",
      "Mais uma...\n",
      "3\n",
      "Vou terminar!\n"
     ]
    },
    {
     "ename": "StopIteration",
     "evalue": "Acabou!",
     "output_type": "error",
     "traceback": [
      "\u001b[1;31m---------------------------------------------------------------------------\u001b[0m",
      "\u001b[1;31mStopIteration\u001b[0m                             Traceback (most recent call last)",
      "Cell \u001b[1;32mIn[7], line 16\u001b[0m\n\u001b[0;32m     14\u001b[0m \u001b[38;5;28mprint\u001b[39m(\u001b[38;5;28mnext\u001b[39m(gen))\n\u001b[0;32m     15\u001b[0m \u001b[38;5;28mprint\u001b[39m(\u001b[38;5;28mnext\u001b[39m(gen))\n\u001b[1;32m---> 16\u001b[0m \u001b[38;5;28mprint\u001b[39m(\u001b[38;5;28mnext\u001b[39m(gen))\n",
      "\u001b[1;31mStopIteration\u001b[0m: Acabou!"
     ]
    }
   ],
   "source": [
    "def generator(n = 0):\n",
    "    yield 1\n",
    "    print(\"Continuando...\")\n",
    "    yield 2\n",
    "    print(\"Mais uma...\")\n",
    "    yield 3\n",
    "    print(\"Vou terminar!\")\n",
    "    return \"Acabou!\"\n",
    "\n",
    "gen = generator()\n",
    "print(gen)\n",
    "\n",
    "print(next(gen))\n",
    "print(next(gen))\n",
    "print(next(gen))\n",
    "print(next(gen))"
   ]
  },
  {
   "cell_type": "markdown",
   "id": "cd389163-3e17-47c5-a18e-1e8ce0c07c7e",
   "metadata": {},
   "source": [
    "- Por ser um iterador, podemos usá-lo em um for:"
   ]
  },
  {
   "cell_type": "code",
   "execution_count": 8,
   "id": "7721e4a4-97a9-4124-9013-62585be88f2c",
   "metadata": {},
   "outputs": [
    {
     "name": "stdout",
     "output_type": "stream",
     "text": [
      "1\n",
      "Continuando...\n",
      "2\n",
      "Mais uma...\n",
      "3\n",
      "Vou terminar!\n"
     ]
    }
   ],
   "source": [
    "def generator2(n = 0):\n",
    "    yield 1\n",
    "    print(\"Continuando...\")\n",
    "    yield 2\n",
    "    print(\"Mais uma...\")\n",
    "    yield 3\n",
    "    print(\"Vou terminar!\")\n",
    "    return \"Acabou!\"\n",
    "\n",
    "gen2 = generator2()\n",
    "for n in gen2:\n",
    "    print(n)\n"
   ]
  },
  {
   "cell_type": "code",
   "execution_count": 14,
   "id": "67723941-982e-4837-8ba6-676c9d8109d0",
   "metadata": {},
   "outputs": [
    {
     "name": "stdout",
     "output_type": "stream",
     "text": [
      "0\n",
      "1\n",
      "2\n",
      "3\n",
      "4\n",
      "5\n",
      "6\n",
      "7\n",
      "8\n",
      "9\n"
     ]
    }
   ],
   "source": [
    "# Criando um (n for n in range(10))\n",
    "\n",
    "def generator3(n = 0, maximum = 10):\n",
    "    while True:\n",
    "        yield n # O yield faz uma pausa no nosso While, como um input(0\n",
    "        n += 1\n",
    "\n",
    "        if n >= maximum:\n",
    "            return\n",
    "\n",
    "gen3 = generator3()\n",
    "for n in gen3:\n",
    "    print(n)"
   ]
  },
  {
   "cell_type": "markdown",
   "id": "51562738-b948-4f12-877a-71d2d0a8d950",
   "metadata": {},
   "source": [
    "## O que é? \n",
    "- Uma maneira especial de criar iteradores em Python.\n",
    "\n",
    "- Uma função que pode ser pausada e retomada. Em vez de calcular todos os valores de uma vez e retornar uma lista completa (o que consumiria muita memória), uma função geradora produz os valores um por um, \"sob demanda\".\n",
    "\n",
    "- A palavra mágica que faz isso acontecer é yield."
   ]
  },
  {
   "cell_type": "markdown",
   "id": "052aea00-762f-4655-b93d-7f5ed49afff3",
   "metadata": {},
   "source": [
    "### O problema que ela resolve\n",
    "- Isso é muito vantajoso em relação à memória: Imagine que queremos criar uma lista com todos os números de 1 a 10 milhões:"
   ]
  },
  {
   "cell_type": "code",
   "execution_count": 19,
   "id": "87bcfa87-4d6b-428b-a8d3-7bd6b54b4b8d",
   "metadata": {},
   "outputs": [],
   "source": [
    "# Abordagem tradicional\n",
    "def cria_lista_gigante():\n",
    "    numeros = []\n",
    "    for i in range(1, 10_000_001):\n",
    "        numeros.append(i)\n",
    "    return numeros\n",
    "\n",
    "minha_lista = cria_lista_gigante()\n",
    "# Isso vai consumir uma quantidade ENORME de memória RAM, \n",
    "# pois o PC teria que alocar memória para armazenar todos os \n",
    "# 10 milhões de números de uma só vez."
   ]
  },
  {
   "cell_type": "code",
   "execution_count": 20,
   "id": "dcc91040-eabf-42be-a95b-517e30ccb1df",
   "metadata": {},
   "outputs": [],
   "source": [
    "# Abordagem com generator function\n",
    "\n",
    "def cria_gerador_gigante():\n",
    "    for i in range(1, 10_000_001):\n",
    "        yield i\n",
    "# A função não é executada ainda! Apenas cria um objeto gerador.\n",
    "# É instantâneo e não usa quase nada de memória.\n",
    "\n",
    "meu_gerador = cria_gerador_gigante()"
   ]
  },
  {
   "cell_type": "markdown",
   "id": "2c256a08-f42c-4231-8b98-61e245bd97be",
   "metadata": {},
   "source": [
    "## Como funciona a mágina do `yield`?\n",
    "- A palavra-chave `yield` é o coração dos geradores. Ela funciona de forma parecida com o `return`:\n",
    "    - retorna um valor\n",
    "    - pausa a execução imediatamente após entregar o valor, salvando todo o seu estado (variáveis locais, posição no loop, etc)\n",
    "    - retoma de onde parou na próxima vez que for solicitado ao gerador\n",
    "\n",
    "- Quando não há mais `yield` para executar, o gerador lança uma exceção `StopIteration`, que sinaliza para os loops `for` e outras construções que a iteração terminou."
   ]
  },
  {
   "cell_type": "markdown",
   "id": "b854cd72-cdf8-4e08-8b8a-afc97c32ef86",
   "metadata": {},
   "source": [
    "## Yield from\n",
    "- Os generators pausam, então são ótimos para executar códigos que possuem determinada ordem\n",
    "- Porém, podemos ter outro generator que faz uma sequência e, no nosso generator 'principal', usar esse generator em determinado yield.\n"
   ]
  },
  {
   "cell_type": "code",
   "execution_count": 22,
   "id": "62bffdde-430b-4768-8f51-8b5c4547b2f2",
   "metadata": {},
   "outputs": [
    {
     "name": "stdout",
     "output_type": "stream",
     "text": [
      "1\n",
      "2\n",
      "3\n",
      "4\n",
      "5\n",
      "6\n"
     ]
    }
   ],
   "source": [
    "def gen1():\n",
    "    yield 1\n",
    "    yield 2\n",
    "    yield 3\n",
    "\n",
    "def gen2():\n",
    "    yield from gen1()\n",
    "    yield 4\n",
    "    yield 5\n",
    "    yield 6\n",
    "\n",
    "g = gen2()\n",
    "for numero in g:\n",
    "    print(numero)"
   ]
  },
  {
   "cell_type": "markdown",
   "id": "fe5bc6e1-efce-4cfd-83c8-98a84c61bf66",
   "metadata": {},
   "source": [
    "- Basicamente, **o `yield from` é uma forma de um gerador delegar parte do seu trabalho para outro gerador (ou qualquer iterável).\n",
    "### Encadeamento de geradores\n",
    "- Assim, podemos facilmente ter um gerador principal e incluir os valores de outros \"sub-geradores\" em determinados pontos\n",
    "- Antes do `yield from`, teríamos de fazer isso com `for`:"
   ]
  },
  {
   "cell_type": "code",
   "execution_count": 28,
   "id": "08e4aa76-9493-411d-9ca3-0cfbf6dbf0aa",
   "metadata": {},
   "outputs": [
    {
     "name": "stdout",
     "output_type": "stream",
     "text": [
      "1 2 A B C 3 4 "
     ]
    }
   ],
   "source": [
    "# SOLUÇÃO COM FOR (SEM YIELD FROM)\n",
    "def sub_gerador_letras():\n",
    "    yield \"A\"\n",
    "    yield \"B\"\n",
    "    yield \"C\"\n",
    "\n",
    "def gerador_principal_antigo():\n",
    "    yield 1\n",
    "    yield 2\n",
    "    # Agora, quero incluir os valores do outro gerador:\n",
    "    for letra in sub_gerador_letras():\n",
    "        yield letra # Temos que iterar e fazer o 'yield' manualmente\n",
    "    yield 3\n",
    "    yield 4\n",
    "\n",
    "# Testando\n",
    "g_antigo = gerador_principal_antigo()\n",
    "\n",
    "for item in g_antigo:\n",
    "    print(item, end = \" \")"
   ]
  },
  {
   "cell_type": "code",
   "execution_count": 33,
   "id": "4ef38830-d452-445b-a211-e7957d4cd1a3",
   "metadata": {},
   "outputs": [
    {
     "name": "stdout",
     "output_type": "stream",
     "text": [
      "1 2 A B C 3 4 "
     ]
    }
   ],
   "source": [
    "# Agora, com a solução YIELD FROM\n",
    "def sub_gerador_letras():\n",
    "    yield \"A\"\n",
    "    yield \"B\"\n",
    "    yield \"C\"\n",
    "    \n",
    "def gerador_principal_novo():\n",
    "    yield 1\n",
    "    yield 2\n",
    "    yield from sub_gerador_letras()\n",
    "    yield 3\n",
    "    yield 4\n",
    "\n",
    "# Testando\n",
    "g_novo = gerador_principal_novo()\n",
    "\n",
    "for item2 in g_novo:\n",
    "    print(item2, end = \" \")"
   ]
  },
  {
   "cell_type": "markdown",
   "id": "ad545c0d-d43a-41d1-8713-432d204b97d9",
   "metadata": {},
   "source": [
    "- Portanto, o `yield from <iteravel>` faz exatamente o que o loop `for` fazia.\n",
    "- "
   ]
  }
 ],
 "metadata": {
  "kernelspec": {
   "display_name": "Python 3 (ipykernel)",
   "language": "python",
   "name": "python3"
  },
  "language_info": {
   "codemirror_mode": {
    "name": "ipython",
    "version": 3
   },
   "file_extension": ".py",
   "mimetype": "text/x-python",
   "name": "python",
   "nbconvert_exporter": "python",
   "pygments_lexer": "ipython3",
   "version": "3.13.5"
  }
 },
 "nbformat": 4,
 "nbformat_minor": 5
}
