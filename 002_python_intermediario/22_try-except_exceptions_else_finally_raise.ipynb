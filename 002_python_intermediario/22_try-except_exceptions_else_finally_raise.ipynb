{
 "cells": [
  {
   "cell_type": "markdown",
   "id": "25e36d2e-1d76-41cc-b9f5-52b912e6b407",
   "metadata": {},
   "source": [
    "# try except\n",
    "- O try não pode viver sozinho, então sempre precisa de um 'complemento': `except`, `else` ou `finally`\n",
    "- não pode ser usado para silenciar erros, a menos que sejam explicitamente silenciados\n",
    "\n",
    "## except\n",
    "- não trata exceções de erros de sintaxe\n",
    "- Ao usar somente `except`, estamos 'silenciando' **todas** as exceções."
   ]
  },
  {
   "cell_type": "code",
   "execution_count": 4,
   "id": "be876f7e-c4d4-4035-a9c4-b4c3dada117a",
   "metadata": {},
   "outputs": [
    {
     "name": "stdout",
     "output_type": "stream",
     "text": [
      "Divisão por zero.\n",
      "Continuar\n"
     ]
    }
   ],
   "source": [
    "# Aqui, estamos deduzindo que o erro que ocorrerá será sempre o ZeroDivisionError\n",
    "\n",
    "a1 = 18\n",
    "b1 = 0\n",
    "\n",
    "try: \n",
    "    c1 = a1 / b1\n",
    "    \n",
    "except:\n",
    "    print(\"Divisão por zero.\")\n",
    "\n",
    "\n",
    "print(\"Continuar\")"
   ]
  },
  {
   "cell_type": "code",
   "execution_count": 8,
   "id": "af81697d-c6db-4682-a164-bfd031b559e3",
   "metadata": {},
   "outputs": [
    {
     "name": "stdout",
     "output_type": "stream",
     "text": [
      "Divisão por zero.\n",
      "Continuar\n"
     ]
    }
   ],
   "source": [
    "# note que o erro que ocorre agora, não é mais o ZeroDivisionError, mas ele ainda está tratando como se fosse.\n",
    "a2 = 18\n",
    "# b2 = 0\n",
    "try: \n",
    "    c2 = a2 / b2 # O erro aqui é, na verdade, que a variável b2 ainda não foi definida\n",
    "    print(\"Linha 2\")\n",
    "except:\n",
    "    print(\"Divisão por zero.\")\n",
    "\n",
    "print(\"Continuar\")"
   ]
  },
  {
   "cell_type": "markdown",
   "id": "f69eed89-6ae7-4734-9f4b-0299d3b3678c",
   "metadata": {},
   "source": [
    "## Exceções são classes\n",
    "- Temos uma classe chamada `Exception` e todas as outras exceções herdam dessa classe.\n",
    "### Tratando exceções específicas"
   ]
  },
  {
   "cell_type": "code",
   "execution_count": 9,
   "id": "c354c9eb-52d8-46df-ba88-337fa5248272",
   "metadata": {},
   "outputs": [
    {
     "ename": "NameError",
     "evalue": "name 'b2' is not defined",
     "output_type": "error",
     "traceback": [
      "\u001b[1;31m---------------------------------------------------------------------------\u001b[0m",
      "\u001b[1;31mNameError\u001b[0m                                 Traceback (most recent call last)",
      "Cell \u001b[1;32mIn[9], line 2\u001b[0m\n\u001b[0;32m      1\u001b[0m \u001b[38;5;28;01mtry\u001b[39;00m: \n\u001b[1;32m----> 2\u001b[0m     c2 \u001b[38;5;241m=\u001b[39m a2 \u001b[38;5;241m/\u001b[39m b2 \u001b[38;5;66;03m# O erro aqui é, na verdade, que a variável b2 ainda não foi definida\u001b[39;00m\n\u001b[0;32m      3\u001b[0m     \u001b[38;5;28mprint\u001b[39m(\u001b[38;5;124m\"\u001b[39m\u001b[38;5;124mLinha 2\u001b[39m\u001b[38;5;124m\"\u001b[39m)\n\u001b[0;32m      4\u001b[0m \u001b[38;5;28;01mexcept\u001b[39;00m \u001b[38;5;167;01mZeroDivisionError\u001b[39;00m:\n",
      "\u001b[1;31mNameError\u001b[0m: name 'b2' is not defined"
     ]
    }
   ],
   "source": [
    "try: \n",
    "    c2 = a2 / b2 # O erro aqui é, na verdade, que a variável b2 ainda não foi definida\n",
    "    print(\"Linha 2\")\n",
    "except ZeroDivisionError:\n",
    "    print(\"Divisão por zero.\")\n",
    "\n",
    "print(\"Continuar\")"
   ]
  },
  {
   "cell_type": "markdown",
   "id": "b4b1da65-502e-4d64-9632-29c2bd260d59",
   "metadata": {},
   "source": [
    "- Note que agora, ao tratar a exceção específica ZeroDivisionError, pelo fato da exceção gerada ter sido outra, a exceção `NameError` foi levantada.\n",
    "- Para tratá-la, devemos passar outro except, assim:"
   ]
  },
  {
   "cell_type": "code",
   "execution_count": 11,
   "id": "c009fbf4-11ac-49fc-814c-0d195eecefc3",
   "metadata": {},
   "outputs": [
    {
     "name": "stdout",
     "output_type": "stream",
     "text": [
      "Variável não foi definida.\n",
      "Continuar\n"
     ]
    }
   ],
   "source": [
    "try: \n",
    "    c2 = a2 / b2 # O erro aqui é, na verdade, que a variável b2 ainda não foi definida\n",
    "    print(\"Linha 2\")\n",
    "except ZeroDivisionError:\n",
    "    print(\"Divisão por zero.\")\n",
    "except NameError:\n",
    "    print(\"Variável não foi definida.\")\n",
    "except Exception:\n",
    "    print(\"Erro Desconhecido\")\n",
    "\n",
    "print(\"Continuar\")"
   ]
  },
  {
   "cell_type": "markdown",
   "id": "15213913-7c88-482c-a89c-f87e744057fa",
   "metadata": {},
   "source": [
    "- Para tratar 'todas' as exceções, podemos usar `except Exception`, mas não é muito recomendado.\n",
    "## Tratando mais de um erro na mesma linha:\n",
    "- Basta passar as exceções em uma tupla, assim: `except (TypeError, IndexError)`\n",
    "\n",
    "---\n",
    "\n",
    "### Criando um alias para a exceção\n",
    "- O uso de `as erro` cria um apelido, quase que uma variável que acessa a instância da exceção, que geralmente contém uma mensagem descritiva sobre o que deu errado."
   ]
  },
  {
   "cell_type": "code",
   "execution_count": 14,
   "id": "6e07a240-0854-4d3d-bd0c-d6087608b90c",
   "metadata": {},
   "outputs": [
    {
     "name": "stdout",
     "output_type": "stream",
     "text": [
      "Nome: NameError\n",
      "Ocorreu um erro: name 'b2' is not defined\n"
     ]
    }
   ],
   "source": [
    "try: \n",
    "    c2 = a2 / b2\n",
    "except(ZeroDivisionError, NameError) as erro:\n",
    "    print(f\"Nome: {erro.__class__.__name__}\")\n",
    "    print(f\"Ocorreu um erro: {erro}\")"
   ]
  },
  {
   "cell_type": "markdown",
   "id": "66a04efe-ffd3-459f-8aba-adcd6ffe77d3",
   "metadata": {},
   "source": [
    "## finally\n",
    "- O try precisa de outro bloco. Ou seja, precisamos tratar a exceção, mas nem sempre queremos. Ex.: Queremos abrir um arquivo e, por algum motivo, não foi possível.d\n",
    "- O `finally` é algo que **semsapre** será executado, ocorrendo erros ou não.\n",
    "- Ideal para ações de \"limpeza\", como fechar um arquivo ou conexão de rede, que precisam acontecer em qualquer cenário.\n",
    "\n",
    "## else\n",
    "- É executado somente se o `try` **NÃO RETORNAR NENHUM ERRO**"
   ]
  },
  {
   "cell_type": "markdown",
   "id": "7642469d-c8f4-4731-89a1-7cc17eba33b8",
   "metadata": {},
   "source": [
    "## raise\n",
    "- Os programadores gostam dos erros\n",
    "- Podemos lançar os nossos próprios erros\n",
    "- São utilizados quando não se tem o que fazer. O nosso programa não pode assumir coisas\n",
    "- `raise ValueError` vai 'lançar' a exceção ValueError."
   ]
  },
  {
   "cell_type": "code",
   "execution_count": 2,
   "id": "13f69fea-7678-43ac-bf8a-83809dd8835c",
   "metadata": {},
   "outputs": [
    {
     "name": "stdout",
     "output_type": "stream",
     "text": [
      "Erro de validação: A idade deve ser maior ou igual a 18.\n"
     ]
    }
   ],
   "source": [
    "def validar_idade(idade):\n",
    "    if idade < 18:\n",
    "        raise ValueError(\"A idade deve ser maior ou igual a 18.\")\n",
    "    return True\n",
    "\n",
    "try:\n",
    "    validar_idade(15)\n",
    "except ValueError as e:\n",
    "    print(f\"Erro de validação: {e}\")"
   ]
  }
 ],
 "metadata": {
  "kernelspec": {
   "display_name": "Python 3 (ipykernel)",
   "language": "python",
   "name": "python3"
  },
  "language_info": {
   "codemirror_mode": {
    "name": "ipython",
    "version": 3
   },
   "file_extension": ".py",
   "mimetype": "text/x-python",
   "name": "python",
   "nbconvert_exporter": "python",
   "pygments_lexer": "ipython3",
   "version": "3.12.7"
  }
 },
 "nbformat": 4,
 "nbformat_minor": 5
}
