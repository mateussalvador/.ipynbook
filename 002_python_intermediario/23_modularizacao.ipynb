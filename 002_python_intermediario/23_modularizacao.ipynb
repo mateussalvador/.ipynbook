{
 "cells": [
  {
   "cell_type": "markdown",
   "id": "fdc26c84-e05d-4cf7-a630-f6aa83c228bb",
   "metadata": {},
   "source": [
    "# Modularização \n",
    "- Técnica de organização de código que consiste em dividir um programa em arquivos menores e independentes, chamados de `módulos`.\n",
    "- Cada módulo agrupa funções, classes e variáveis relacionadas, tornando  ocódigo mais legível, reutilizável e fácil de manter.\n",
    "- Basicamente, ao invés de escrever todo o código em um único arquivo, podemos distribuí-lo em vários arquivos, cada um com uma responsabilidade específica.\n",
    "\n",
    "## `__name__`\n",
    "- Todo arquivo `.py` (ou seja, todo módulo) possui uma variável especial, interna e automática, chamada `__name__`.\n",
    "- O Python atribui um valor a esta variável dependendo de como o arquivo está sendo executado.\n",
    "### Execução direta\n",
    "- Quando executamos um arquivo diretamente da linha de comando, o interpretador define o valor da variável `__name__` como sendo a string `__main__`\n",
    "### Importação como módulo\n",
    "- Quando importamos um arquivo python (`import meu_arquivo`) para dentro de outro arquivo, o interpretador define o valor da variável `__name__` do arquivo importado como o seu próprio nome do arquivo (sem a extensão `.py`)"
   ]
  },
  {
   "cell_type": "code",
   "execution_count": 1,
   "id": "019e0e16-c633-4000-bd33-429e2d7457be",
   "metadata": {},
   "outputs": [
    {
     "name": "stdout",
     "output_type": "stream",
     "text": [
      "Este módulo se chama __main__\n"
     ]
    }
   ],
   "source": [
    "print(\"Este módulo se chama\", __name__)"
   ]
  },
  {
   "cell_type": "code",
   "execution_count": 3,
   "id": "79a2fe47-408e-47e1-8462-0167fe7478cf",
   "metadata": {},
   "outputs": [
    {
     "name": "stdout",
     "output_type": "stream",
     "text": [
      "pprint\n"
     ]
    }
   ],
   "source": [
    "import pprint as p\n",
    "print (p.__name__)"
   ]
  },
  {
   "cell_type": "markdown",
   "id": "7fda07cc-f054-41a1-b481-d2ba5e4a5aab",
   "metadata": {},
   "source": [
    "- O Python conhece a pasta onde o `__main__` está e as pastas abaixo dele.\n",
    "- Ele não reconhece pastas e módulos acima do `__main__`\n",
    "- O python conhece também todos os módulos e pacotes presentes nos caminhos de `sys.path`\n",
    "- O `sys.path`é uma lista de caminhos de diretórios onde o interpretador python procura módulos:\n",
    "    - A pasta onde está o nosso arquivo em execução\n",
    "    - Bibliotecas padrão\n",
    "    - Bibliotecas instaladas por fora, etc\n",
    "\n",
    "- Podemos incluir coisas no sys.path com, por exemplo, `sys.path.append()`"
   ]
  },
  {
   "cell_type": "code",
   "execution_count": 12,
   "id": "01f0076c-6999-4907-9aed-59204fb14c69",
   "metadata": {},
   "outputs": [
    {
     "name": "stdout",
     "output_type": "stream",
     "text": [
      "C:\\Users\\E008803\\Documents\\python\n",
      "C:\\Users\\E008803\\AppData\\Local\\anaconda3\\python312.zip\n",
      "C:\\Users\\E008803\\AppData\\Local\\anaconda3\\DLLs\n",
      "C:\\Users\\E008803\\AppData\\Local\\anaconda3\\Lib\n",
      "C:\\Users\\E008803\\AppData\\Local\\anaconda3\n",
      "\n",
      "C:\\Users\\E008803\\AppData\\Local\\anaconda3\\Lib\\site-packages\n",
      "C:\\Users\\E008803\\AppData\\Local\\anaconda3\\Lib\\site-packages\\win32\n",
      "C:\\Users\\E008803\\AppData\\Local\\anaconda3\\Lib\\site-packages\\win32\\lib\n",
      "C:\\Users\\E008803\\AppData\\Local\\anaconda3\\Lib\\site-packages\\Pythonwin\n",
      "C:\\Users\\E008803\\AppData\\Local\\anaconda3\\Lib\\site-packages\\setuptools\\_vendor\n"
     ]
    }
   ],
   "source": [
    "import sys \n",
    "\n",
    "print(*sys.path, sep = \"\\n\")"
   ]
  },
  {
   "cell_type": "markdown",
   "id": "312ed9a6-9e42-483b-baba-15cfbc94931c",
   "metadata": {},
   "source": [
    "- Ao importar um módulo que está no mesmo pacote que o nosso `__main__`, que será o ponto de entrada do nosso programa, ele será executado automaticamente.\n",
    "- Tudo deve estar junto do nosso módulo `__main__`"
   ]
  },
  {
   "cell_type": "markdown",
   "id": "07738e70-7fbf-4a76-bae2-d1945ca0b3ae",
   "metadata": {},
   "source": [
    "## Usando variável de outro módulo\n",
    "- Após a importação, podemos usar `nome_modulo.nome_variavel` ou `from nome_modulo import nome_variavel`"
   ]
  },
  {
   "cell_type": "markdown",
   "id": "11d603f2-5a90-4e79-89f0-ddf4172a71bd",
   "metadata": {},
   "source": [
    "---\n",
    "- O nosso módulo é `singleton`, ou seja, é uma instância única.\n",
    "- Ao tentar importar um módulo mais de uma vez (na intenção de que ele seja executado mais de uma vez), teremos um problema. Ele não será executado novamente.\n",
    "- O que podemos fazer é **recarregar o módulo**, assim:"
   ]
  },
  {
   "cell_type": "code",
   "execution_count": null,
   "id": "8fbde490-36da-4ba9-a73c-f5c0ed4e1c99",
   "metadata": {},
   "outputs": [],
   "source": [
    "import importlib\n",
    "\n",
    "importlib.reload(modulo)"
   ]
  },
  {
   "cell_type": "markdown",
   "id": "3a37c217-597b-4166-80ad-9aa06f9947bd",
   "metadata": {},
   "source": [
    "- Não é tão comum, mas pode ser necessário.\n",
    "- Quando alteramos um valor numa variável do módulo, ao executar o módulo __main__ pode acontecer de mostrar a variável antiga. Neste caso, podemos recarregar o módulo."
   ]
  },
  {
   "cell_type": "markdown",
   "id": "c1857482-61ff-4515-a255-3552ec6458b8",
   "metadata": {},
   "source": [
    "---"
   ]
  },
  {
   "cell_type": "markdown",
   "id": "25729fbe-1a14-423a-b786-030ec76faed2",
   "metadata": {},
   "source": [
    "## Como importar módulos\n",
    "- Temos quatro principais técnicas:\n",
    "### Importação tradicional\n",
    "- `import nome_modulo`\n",
    "- Evita conflitos de nomes entre diferentes módulos, pois cada chamada é explicitamente vinculada ao seu módulo de origem.\n",
    "\n",
    "### Importação Específica \n",
    "- `from <módulo> import <nome>`\n",
    "- Quando precisamos de apenas algumas funcionalidades do módulo, podemos importá-las diretamente para o escopo atual, permititindo chamar a função ou usar a classe sem a necessidade de prefixar com o nome do módulo.\n",
    "\n",
    "### Uso de Alias\n",
    "- `import <módulo> as <apelido>`\n",
    "- Evita a digitação de nomes longos de módulos ou para resolver conflitos de nomes.\n",
    "- Comum para bibliotecas que já possuem um apelido por convenção, como pandas (pd) ou numpy (np)\n",
    "\n",
    "### Importação Coringa \n",
    "- `from <módulo> import *`\n",
    "- Importa todos os nomes (funções, classes, variáveis) de um módulo para o escopo atual, permitindo o uso direto sem qualquer prefixo.\n",
    "- Má prática, porque pode gerar muitas confusões.\n",
    "\n",
    "### Importação específica com alias\n",
    "- `from <modulo> import <function> as <apelido>`"
   ]
  }
 ],
 "metadata": {
  "kernelspec": {
   "display_name": "Python 3 (ipykernel)",
   "language": "python",
   "name": "python3"
  },
  "language_info": {
   "codemirror_mode": {
    "name": "ipython",
    "version": 3
   },
   "file_extension": ".py",
   "mimetype": "text/x-python",
   "name": "python",
   "nbconvert_exporter": "python",
   "pygments_lexer": "ipython3",
   "version": "3.13.5"
  }
 },
 "nbformat": 4,
 "nbformat_minor": 5
}
