{
 "cells": [
  {
   "cell_type": "markdown",
   "id": "b1cd05d2-e826-4588-92d8-d691c72342d8",
   "metadata": {},
   "source": [
    "# Itertools\n",
    "- É um módulo da biblioteca padrão para criação de iteradores de forma rápida\n",
    "  \n",
    "## zip_longest \n",
    "- É uma das funções do itertools que já vimos.\n",
    "  \n",
    "---\n",
    "\n",
    "## count\n",
    "- É um iterador/contador infinito\n",
    "- Recebe apenas start e step, que por padrão recebem 0 e 1, respectivamente.\n",
    "- Soma o step a cada next()\n",
    "\n",
    "### count vs range\n",
    "- O count é infinito e é um iterator. O range é finito e é iterable.\n",
    "\n",
    "  ---\n",
    "  \n",
    "# Combinations, Permutations e Product\n",
    "- São operações matemáticas\n",
    "- Também são funções do `itertools`\n",
    "\n",
    "## Product\n",
    "- Produtos Cartesianos são todos os pares ordenados (a ordem importa) possíveis entre dois 'conjuntos'\n",
    "- O itertools.product faz basicamente isso a partir de dois iteráveis.\n",
    "- Resumindo: combina cada item de uma sequência com cada item de outra.\n"
   ]
  },
  {
   "cell_type": "code",
   "execution_count": 2,
   "id": "c6aea47c-2b0b-4e30-9df2-427bb27944ba",
   "metadata": {},
   "outputs": [
    {
     "name": "stdout",
     "output_type": "stream",
     "text": [
      "('a', 1)\n",
      "('a', 2)\n",
      "('b', 1)\n",
      "('b', 2)\n"
     ]
    }
   ],
   "source": [
    "import itertools\n",
    "\n",
    "letras = [\"a\", \"b\"]\n",
    "numeros = [1, 2]\n",
    "\n",
    "for p in itertools.product(letras, numeros):\n",
    "    print(p)"
   ]
  },
  {
   "cell_type": "markdown",
   "id": "50974080-d83e-4afa-9bd5-b9b517329809",
   "metadata": {},
   "source": [
    "## Combinations\n",
    "- Recebe um iterável e realiza todas as combinações sem repetições entre seus elementos.\n",
    "- A ordem dos elementos não importa.\n",
    "- Recebe dois argumentos:\n",
    "    1. O iterável\n",
    "    2. Quantos elementos devem ser combinados (de 1 em 1, 2 em 2, 3 em 3, ...)"
   ]
  },
  {
   "cell_type": "code",
   "execution_count": 7,
   "id": "f1ca6111-b10f-4eb7-870c-8a6cae35a88a",
   "metadata": {},
   "outputs": [
    {
     "name": "stdout",
     "output_type": "stream",
     "text": [
      "('a', 'b')\n",
      "('a', 'c')\n",
      "('b', 'c')\n"
     ]
    }
   ],
   "source": [
    "elementos = [\"a\", \"b\", \"c\"]\n",
    "\n",
    "for p in itertools.combinations(elementos, 2):\n",
    "    print(p)"
   ]
  },
  {
   "cell_type": "markdown",
   "id": "7f21eaa5-e3f4-4cb1-afe7-88dc959b35df",
   "metadata": {},
   "source": [
    "## Permutations\n",
    "- É como o combinations, mas neste caso a ordem dos elementos importa.\n",
    "- Gera todas as ordenações possíveis de um elemento. "
   ]
  },
  {
   "cell_type": "code",
   "execution_count": 13,
   "id": "53ed6935-c229-42d8-b153-54578ac7fd56",
   "metadata": {},
   "outputs": [
    {
     "name": "stdout",
     "output_type": "stream",
     "text": [
      "('a', 'b', 'c')\n",
      "('a', 'c', 'b')\n",
      "('b', 'a', 'c')\n",
      "('b', 'c', 'a')\n",
      "('c', 'a', 'b')\n",
      "('c', 'b', 'a')\n"
     ]
    }
   ],
   "source": [
    "for p in itertools.permutations(elementos, 3):\n",
    "    print(p)"
   ]
  },
  {
   "cell_type": "markdown",
   "id": "6f3d992f-16c0-4b16-894d-02230bf6be35",
   "metadata": {},
   "source": [
    "---\n",
    "# groupby\n",
    "- Tamém é um método do módulo itertools\n",
    "- 'agrupar por'\n",
    "- Cria um iterável"
   ]
  },
  {
   "cell_type": "code",
   "execution_count": 17,
   "id": "2ad5357b-4802-4bb0-8215-fd0747382862",
   "metadata": {},
   "outputs": [
    {
     "name": "stdout",
     "output_type": "stream",
     "text": [
      "iterador: <list_iterator object at 0x7b15a0f20820>\n",
      "\n",
      "objeto retornado pelo permutations: <itertools.permutations object at 0x7b15a0f8a430>\n",
      "\n",
      "objeto retornado pelo groupby <itertools.permutations object at 0x7b15a0f8a430>\n"
     ]
    }
   ],
   "source": [
    "from itertools import groupby, permutations\n",
    "\n",
    "\n",
    "lista = [\"a\", \"b\", \"c\"]\n",
    "iterador = lista.__iter__()\n",
    "lista_permutada = permutations(lista)\n",
    "grupos = groupby(lista)\n",
    "\n",
    "\n",
    "print(\"iterador:\", iterador)\n",
    "print(\"\\nobjeto retornado pelo permutations:\", lista_permutada)\n",
    "print(\"\\nobjeto retornado pelo groupby\", lista_permutada)\n",
    "\n"
   ]
  },
  {
   "cell_type": "markdown",
   "id": "4ff78cbe-c64b-4594-a808-d493b5e02e9d",
   "metadata": {},
   "source": [
    "- É importante notar que o objeto gerado por qualquer método de groupby é um iterador. Vamos tirar a prova:"
   ]
  },
  {
   "cell_type": "code",
   "execution_count": 18,
   "id": "7d0af15f-a810-41cc-8504-c8508e8d8667",
   "metadata": {},
   "outputs": [
    {
     "data": {
      "text/plain": [
       "['__class__',\n",
       " '__delattr__',\n",
       " '__dir__',\n",
       " '__doc__',\n",
       " '__eq__',\n",
       " '__format__',\n",
       " '__ge__',\n",
       " '__getattribute__',\n",
       " '__getstate__',\n",
       " '__gt__',\n",
       " '__hash__',\n",
       " '__init__',\n",
       " '__init_subclass__',\n",
       " '__iter__',\n",
       " '__le__',\n",
       " '__lt__',\n",
       " '__module__',\n",
       " '__ne__',\n",
       " '__new__',\n",
       " '__next__',\n",
       " '__reduce__',\n",
       " '__reduce_ex__',\n",
       " '__repr__',\n",
       " '__setattr__',\n",
       " '__setstate__',\n",
       " '__sizeof__',\n",
       " '__str__',\n",
       " '__subclasshook__']"
      ]
     },
     "execution_count": 18,
     "metadata": {},
     "output_type": "execute_result"
    }
   ],
   "source": [
    "dir(lista_permutada)"
   ]
  },
  {
   "cell_type": "code",
   "execution_count": 19,
   "id": "46c78895-4872-4c57-96a2-44fe9bdabe46",
   "metadata": {},
   "outputs": [
    {
     "data": {
      "text/plain": [
       "['__class__',\n",
       " '__delattr__',\n",
       " '__dir__',\n",
       " '__doc__',\n",
       " '__eq__',\n",
       " '__format__',\n",
       " '__ge__',\n",
       " '__getattribute__',\n",
       " '__getstate__',\n",
       " '__gt__',\n",
       " '__hash__',\n",
       " '__init__',\n",
       " '__init_subclass__',\n",
       " '__iter__',\n",
       " '__le__',\n",
       " '__lt__',\n",
       " '__module__',\n",
       " '__ne__',\n",
       " '__new__',\n",
       " '__next__',\n",
       " '__reduce__',\n",
       " '__reduce_ex__',\n",
       " '__repr__',\n",
       " '__setattr__',\n",
       " '__setstate__',\n",
       " '__sizeof__',\n",
       " '__str__',\n",
       " '__subclasshook__']"
      ]
     },
     "execution_count": 19,
     "metadata": {},
     "output_type": "execute_result"
    }
   ],
   "source": [
    "dir(grupos)"
   ]
  },
  {
   "cell_type": "markdown",
   "id": "5f5b0a93-482f-462b-9dca-649a4881e967",
   "metadata": {},
   "source": [
    "---"
   ]
  },
  {
   "cell_type": "code",
   "execution_count": 20,
   "id": "ac9b6e87-869f-44c8-8a7a-ea7a2fc90026",
   "metadata": {},
   "outputs": [
    {
     "name": "stdout",
     "output_type": "stream",
     "text": [
      "('a', <itertools._grouper object at 0x7b15a0f23160>)\n",
      "('a', 'b', 'c')\n"
     ]
    }
   ],
   "source": [
    "print(next(grupos))\n",
    "print(next(lista_permutada))"
   ]
  },
  {
   "cell_type": "markdown",
   "id": "7d1b667b-a669-4c31-a5e6-ede5523aff73",
   "metadata": {},
   "source": [
    "---\n",
    "- Agora, perceba que ao dar um next no iterador retornado por groupby, temos uma tupla com o elemento que passamos e um objeto <itertools._grouper>\n",
    "## O que é o itertools._grouper?\n",
    "- É outro iterador!\n",
    "- É o objeto que representa o grupo, e ele retorna um por um, os itens do dado original que pertencem àquele grupo.\n",
    "- Só pode ser plista = [\"a\", \"b\", \"c\"]ercorrido uma vez.\n",
    "### Observação\n",
    "- O iterador do grupo está ligado ao iterador principal. ELe deve ser consumido, por exemplo, convertendo-o para uma lista antes de avançar o iterador principal para o próximo grupo."
   ]
  },
  {
   "cell_type": "code",
   "execution_count": 23,
   "id": "0a520d29-21a3-4053-8c4b-fc2c7dc8d025",
   "metadata": {},
   "outputs": [
    {
     "name": "stdout",
     "output_type": "stream",
     "text": [
      "Chave: a\n",
      "Valor: ['a']\n",
      "Chave: b\n",
      "Valor: ['b']\n",
      "Chave: c\n",
      "Valor: ['c']\n"
     ]
    }
   ],
   "source": [
    "lista2 = [\"a\", \"b\", \"c\"]\n",
    "grupos2 = groupby(lista2)\n",
    "\n",
    "for chave, valor  in grupos2:\n",
    "    print(\"Chave:\", chave)\n",
    "    valor = list(valor)\n",
    "    print(\"Valor:\", valor)"
   ]
  },
  {
   "cell_type": "markdown",
   "id": "8f0122ab-a18a-40fe-8159-dd1f357241d0",
   "metadata": {},
   "source": [
    "- Neste caso, ele está agrupando toda letra 'a' dentro do grupo que tem a chave 'a'. Por exemplo: "
   ]
  }
 ],
 "metadata": {
  "kernelspec": {
   "display_name": "Python 3 (ipykernel)",
   "language": "python",
   "name": "python3"
  },
  "language_info": {
   "codemirror_mode": {
    "name": "ipython",
    "version": 3
   },
   "file_extension": ".py",
   "mimetype": "text/x-python",
   "name": "python",
   "nbconvert_exporter": "python",
   "pygments_lexer": "ipython3",
   "version": "3.13.5"
  }
 },
 "nbformat": 4,
 "nbformat_minor": 5
}
