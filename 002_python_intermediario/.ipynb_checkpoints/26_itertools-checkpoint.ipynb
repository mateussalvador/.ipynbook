{
 "cells": [
  {
   "cell_type": "markdown",
   "id": "b1cd05d2-e826-4588-92d8-d691c72342d8",
   "metadata": {},
   "source": [
    "# Itertools\n",
    "- É um módulo da biblioteca padrão para criação de iteradores de forma rápida\n",
    "  \n",
    "## zip_longest \n",
    "- É uma das funções do itertools que já vimos.\n",
    "  \n",
    "---\n",
    "\n",
    "## count\n",
    "- É um iterador/contador infinito\n",
    "- Recebe apenas start e step, que por padrão recebem 0 e 1, respectivamente.\n",
    "- Soma o step a cada next()\n",
    "\n",
    "### count vs range\n",
    "- O count é infinito e é um iterator. O range é finito e é iterable.\n",
    "\n",
    "  ---\n",
    "  \n",
    "# Combinations, Permutations e Product\n",
    "- São operações matemáticas\n",
    "- Também são funções do `itertools`\n",
    "\n",
    "## Product\n",
    "- Produtos Cartesianos são todos os pares ordenados (a ordem importa) possíveis entre dois 'conjuntos'\n",
    "- O itertools.product faz basicamente isso a partir de dois iteráveis.\n",
    "- Resumindo: combina cada item de uma sequência com cada item de outra.\n"
   ]
  },
  {
   "cell_type": "code",
   "execution_count": 2,
   "id": "c6aea47c-2b0b-4e30-9df2-427bb27944ba",
   "metadata": {},
   "outputs": [
    {
     "name": "stdout",
     "output_type": "stream",
     "text": [
      "('a', 1)\n",
      "('a', 2)\n",
      "('b', 1)\n",
      "('b', 2)\n"
     ]
    }
   ],
   "source": [
    "import itertools\n",
    "\n",
    "letras = [\"a\", \"b\"]\n",
    "numeros = [1, 2]\n",
    "\n",
    "for p in itertools.product(letras, numeros):\n",
    "    print(p)"
   ]
  },
  {
   "cell_type": "markdown",
   "id": "50974080-d83e-4afa-9bd5-b9b517329809",
   "metadata": {},
   "source": [
    "## Combinations\n",
    "- Recebe um iterável e realiza todas as combinações sem repetições entre seus elementos.\n",
    "- A ordem dos elementos não importa.\n",
    "- Recebe dois argumentos:\n",
    "    1. O iterável\n",
    "    2. Quantos elementos devem ser combinados (de 1 em 1, 2 em 2, 3 em 3, ...)"
   ]
  },
  {
   "cell_type": "code",
   "execution_count": 7,
   "id": "f1ca6111-b10f-4eb7-870c-8a6cae35a88a",
   "metadata": {},
   "outputs": [
    {
     "name": "stdout",
     "output_type": "stream",
     "text": [
      "('a', 'b')\n",
      "('a', 'c')\n",
      "('b', 'c')\n"
     ]
    }
   ],
   "source": [
    "elementos = [\"a\", \"b\", \"c\"]\n",
    "\n",
    "for p in itertools.combinations(elementos, 2):\n",
    "    print(p)"
   ]
  },
  {
   "cell_type": "markdown",
   "id": "7f21eaa5-e3f4-4cb1-afe7-88dc959b35df",
   "metadata": {},
   "source": [
    "## Permutations\n",
    "- É como o combinations, mas neste caso a ordem dos elementos importa.\n",
    "- Gera todas as ordenações possíveis de um elemento. "
   ]
  },
  {
   "cell_type": "code",
   "execution_count": 13,
   "id": "53ed6935-c229-42d8-b153-54578ac7fd56",
   "metadata": {},
   "outputs": [
    {
     "name": "stdout",
     "output_type": "stream",
     "text": [
      "('a', 'b', 'c')\n",
      "('a', 'c', 'b')\n",
      "('b', 'a', 'c')\n",
      "('b', 'c', 'a')\n",
      "('c', 'a', 'b')\n",
      "('c', 'b', 'a')\n"
     ]
    }
   ],
   "source": [
    "for p in itertools.permutations(elementos, 3):\n",
    "    print(p)"
   ]
  }
 ],
 "metadata": {
  "kernelspec": {
   "display_name": "Python 3 (ipykernel)",
   "language": "python",
   "name": "python3"
  },
  "language_info": {
   "codemirror_mode": {
    "name": "ipython",
    "version": 3
   },
   "file_extension": ".py",
   "mimetype": "text/x-python",
   "name": "python",
   "nbconvert_exporter": "python",
   "pygments_lexer": "ipython3",
   "version": "3.12.7"
  }
 },
 "nbformat": 4,
 "nbformat_minor": 5
}
