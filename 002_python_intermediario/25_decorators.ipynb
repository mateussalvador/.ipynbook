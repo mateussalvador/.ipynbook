{
 "cells": [
  {
   "cell_type": "markdown",
   "id": "acac202c-46ab-4d07-a1c5-c5391feb0a95",
   "metadata": {},
   "source": [
    "# Funções decoradoras\n",
    "- Basicamente, uma função decoradora é uma função que recebe uma função como parâmetro e retorna uma função interna.\n",
    "- Normalmente, a função interna é uma closure.\n",
    "- Normalmente, a função decoradora modifica o comportamento da função que recebe como parâmetro.\n",
    "\n",
    "- Basicamente, a função decoradora é a função que realiza a decoração\n",
    "  \n",
    "# Decoradores\n",
    "- É criado e aplicado com a sugar sintax ( `@`)\n",
    "- É uma forma simplificada de aplicar a função decoradora\n",
    "\n",
    "## Exemplo\n",
    "- Imagine que queremos criar uma função para somar, mas:\n",
    "    - não queremos que essa função some números negativos.\n",
    "    - queremos somar o dobro dos números informados\n",
    "\n",
    "- Ao definir uma função soma, essa função deve apenas somar, e não se encarregar de validar se o número é negativo ou de dobrá-lo.\n",
    "- Para fazer isso, podemos usar decorators."
   ]
  },
  {
   "cell_type": "code",
   "execution_count": 23,
   "id": "aa3031e7-0004-418f-9062-68328bf4ace4",
   "metadata": {},
   "outputs": [
    {
     "data": {
      "text/plain": [
       "60"
      ]
     },
     "execution_count": 23,
     "metadata": {},
     "output_type": "execute_result"
    }
   ],
   "source": [
    "def validar(f):\n",
    "    def valida(x, y):\n",
    "        if x < 0 or y < 0:\n",
    "            raise ValueError(\"X e Y não podem ser negativos\")\n",
    "        y *= 2\n",
    "        x *= 2\n",
    "        return f(x, y)\n",
    "    return valida\n",
    "\n",
    "@validar\n",
    "def soma(x, y):\n",
    "    return x + y\n",
    "\n",
    "soma(10, 20)"
   ]
  },
  {
   "cell_type": "markdown",
   "id": "d3fc0c15-8c2b-4180-befa-4b1ac2ec7537",
   "metadata": {},
   "source": [
    "- Altera o comportamento de funções\n",
    "- Um decorador precisa receber uma função como argumento para que possa funcionar"
   ]
  },
  {
   "cell_type": "code",
   "execution_count": 24,
   "id": "cc94a01b-f970-4f3c-8d92-0429f33b6e46",
   "metadata": {},
   "outputs": [
    {
     "name": "stdout",
     "output_type": "stream",
     "text": [
      "Bom dia!\n"
     ]
    }
   ],
   "source": [
    "# Criando uma função que dá bom dia\n",
    "def bom_dia():\n",
    "    print(\"Bom dia!\")\n",
    "\n",
    "bom_dia()"
   ]
  },
  {
   "cell_type": "code",
   "execution_count": 26,
   "id": "0598a246-7c41-42a3-a4c1-5b0306375d37",
   "metadata": {},
   "outputs": [
    {
     "ename": "TypeError",
     "evalue": "meu_decorador() takes 0 positional arguments but 1 was given",
     "output_type": "error",
     "traceback": [
      "\u001b[1;31m---------------------------------------------------------------------------\u001b[0m",
      "\u001b[1;31mTypeError\u001b[0m                                 Traceback (most recent call last)",
      "Cell \u001b[1;32mIn[26], line 5\u001b[0m\n\u001b[0;32m      2\u001b[0m \u001b[38;5;28;01mdef\u001b[39;00m \u001b[38;5;21mmeu_decorador\u001b[39m():\n\u001b[0;32m      3\u001b[0m     \u001b[38;5;28mprint\u001b[39m(\u001b[38;5;124m\"\u001b[39m\u001b[38;5;124mSou um decorador!\u001b[39m\u001b[38;5;124m\"\u001b[39m)\n\u001b[1;32m----> 5\u001b[0m \u001b[38;5;129m@meu_decorador\u001b[39m\n\u001b[0;32m      6\u001b[0m \u001b[38;5;28;01mdef\u001b[39;00m \u001b[38;5;21mbom_dia\u001b[39m():\n\u001b[0;32m      7\u001b[0m     \u001b[38;5;28mprint\u001b[39m(\u001b[38;5;124m\"\u001b[39m\u001b[38;5;124mBom dia!\u001b[39m\u001b[38;5;124m\"\u001b[39m)\n\u001b[0;32m      9\u001b[0m bom_dia()\n",
      "\u001b[1;31mTypeError\u001b[0m: meu_decorador() takes 0 positional arguments but 1 was given"
     ]
    }
   ],
   "source": [
    "# Aplicando um decorador a esta função\n",
    "def meu_decorador():\n",
    "    print(\"Sou um decorador!\")\n",
    "\n",
    "@meu_decorador\n",
    "def bom_dia():\n",
    "    print(\"Bom dia!\")\n",
    "\n",
    "bom_dia()"
   ]
  },
  {
   "cell_type": "markdown",
   "id": "3fd412e8-8c9b-45fa-8fde-cd0f481c3f65",
   "metadata": {},
   "source": [
    "- Note que foi gerado um erro, pois `meu_decorador` precisa receber um argumento para funcionar.\n",
    "- Este argumento é justamente uma função. Para que um decorador funcione, ele precisa receber uma função (normalmente genérica, na mesma estrutura das funções que desejamos decorar)"
   ]
  },
  {
   "cell_type": "code",
   "execution_count": 33,
   "id": "519708b6-98ee-4c8f-918e-27a4d2d7804f",
   "metadata": {},
   "outputs": [
    {
     "name": "stdout",
     "output_type": "stream",
     "text": [
      "Sou um decorador!\n",
      "Bom dia!\n"
     ]
    }
   ],
   "source": [
    "# Jeito (mais ou menos) certo:\n",
    "\n",
    "def meu_decorador(funcao):\n",
    "    print(\"Sou um decorador!\")\n",
    "    return funcao()\n",
    "\n",
    "@meu_decorador\n",
    "def bom_dia():\n",
    "    print(\"Bom dia!\")"
   ]
  },
  {
   "cell_type": "markdown",
   "id": "c92de83a-10fd-4147-bfcc-13d304c3f2c8",
   "metadata": {},
   "source": [
    "- Ao usar o decorador (@), ele executa a função decoradora sem mais nem menos, passando para ela a função que está abaixo do decorador como argumento. Então, o que ele fez no exemplo anterior foi basicamente isso: `meu_decorador(bom_dia)`\n",
    "- O problema deste formato é que ele executa a função no próprio retorno da função decoradora, ou seja, ele será executado sempre que criamos o decorador."
   ]
  },
  {
   "cell_type": "markdown",
   "id": "cb4ee28a-8699-4dd5-a9fe-f24542a599e9",
   "metadata": {},
   "source": [
    "- A maneira certa de operar com os decoradores é criando dentro da função decoradora, uma outra função, que por convenção é chamada de `wapper` e executa essa função decoradora. "
   ]
  }
 ],
 "metadata": {
  "kernelspec": {
   "display_name": "Python 3 (ipykernel)",
   "language": "python",
   "name": "python3"
  },
  "language_info": {
   "codemirror_mode": {
    "name": "ipython",
    "version": 3
   },
   "file_extension": ".py",
   "mimetype": "text/x-python",
   "name": "python",
   "nbconvert_exporter": "python",
   "pygments_lexer": "ipython3",
   "version": "3.12.7"
  }
 },
 "nbformat": 4,
 "nbformat_minor": 5
}
