{
 "cells": [
  {
   "cell_type": "markdown",
   "id": "f1597e85-4af3-4aeb-96ce-3dea15a88caf",
   "metadata": {},
   "source": [
    "# tipo set\n",
    "- Uma coleção de dados **NÃO ordenada**\n",
    "- Semelhantes aos conjuntos da matemática\n",
    "- Não permitem dados duplicados\n",
    "- Não possuem uma ordem específica e seus elementos não podem ser acessados por índices\n",
    "## Como criar um set\n",
    "- passando os valores separados por vírgula entre `{}`\n",
    "- usando a função `set()`\n",
    "- **nota: para criar um set vazio não podemos usar `{}`, pois isto cria um dicionário.**\n",
    "## Métodos\n",
    "### `add()`\n",
    "- Adiciona um elemento. Se ele já existir, não faz nada.\n",
    "- Só aceita um elemento por vez.\n",
    "### `update()`\n",
    "- Adiciona **todos** os elementos de um iterável.\n",
    "### `remove()`\n",
    "- Remove um elemento.\n",
    "- Se não for encontrado, gera um erro.\n",
    "### `discard()`\n",
    "- Remove um elemento.\n",
    "- Não gera erro se não existir (não ocorre nada).\n",
    "### `pop()`\n",
    "- Remove um elemento qualquer (aleatório) e retorna ele\n",
    "- Se o set estiver vazio, gera um erro.\n",
    "### `clear()`\n",
    "- Limpa todo o set.\n",
    "- "
   ]
  },
  {
   "cell_type": "markdown",
   "id": "26481a21-e2f5-493b-8f5a-99d4d3127867",
   "metadata": {},
   "source": [
    "## Operações úteis\n",
    "### União\n",
    "- Feita com `|` ou `union`\n",
    "- Une todos os elementos de todos os sets\n",
    "\n",
    "### Intersecção\n",
    "- Feita com `&` ou `intersection`\n",
    "- Apenas os elementos presentes em todos os sets\n",
    "\n",
    "### Diferença\n",
    "- Feita com `-` ou `difference`\n",
    "- Retorna os elementos que estão presentes no primeiro set, mas não no segundo.\n",
    "\n",
    "### Diferença simétrica\n",
    "- Feita com `^` ou `symmetric_difference`\n",
    "- Contrário da intersecção. Retorna os elementos que estão em um set ou em outro, mas não em ambos.\n"
   ]
  }
 ],
 "metadata": {
  "kernelspec": {
   "display_name": "Python 3 (ipykernel)",
   "language": "python",
   "name": "python3"
  },
  "language_info": {
   "codemirror_mode": {
    "name": "ipython",
    "version": 3
   },
   "file_extension": ".py",
   "mimetype": "text/x-python",
   "name": "python",
   "nbconvert_exporter": "python",
   "pygments_lexer": "ipython3",
   "version": "3.13.5"
  }
 },
 "nbformat": 4,
 "nbformat_minor": 5
}
