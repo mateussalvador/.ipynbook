{
 "cells": [
  {
   "cell_type": "markdown",
   "id": "29e33eb3-1fad-4686-97c3-6b6f5dab81d4",
   "metadata": {},
   "source": [
    "# Como verificar se determinada variável é um iterator ou generator?\n",
    "- Ambas possuem `__next__` e `__iter__`\n",
    "- Para verificar, então, podemos usar `GeneratorType` do método `functools` e verificar se aquela variável é instância de GeneratorType.\n",
    "- Se for instância, é um gerador."
   ]
  },
  {
   "cell_type": "code",
   "execution_count": 25,
   "id": "a5e4e747-e38b-4740-a8ba-00ce657457d8",
   "metadata": {},
   "outputs": [
    {
     "name": "stdout",
     "output_type": "stream",
     "text": [
      "<generator object <genexpr> at 0x7827dc4e3a00>\n",
      "<list_iterator object at 0x7827b7feb460>\n",
      "True\n",
      "True\n",
      "True\n",
      "True\n",
      "\n",
      "True\n",
      "False\n"
     ]
    }
   ],
   "source": [
    "from types import GeneratorType\n",
    "\n",
    "gerador = (x for x in range(1, 11))\n",
    "lista = [1, 2, 3]\n",
    "iterador = iter(lista)\n",
    "\n",
    "print(gerador)\n",
    "print(iterador)\n",
    "\n",
    "# Verificando se o gerador tem next e iter\n",
    "print(hasattr(gerador, \"__next__\"))\n",
    "print(hasattr(gerador, \"__iter__\"))\n",
    "\n",
    "# Verificando se o iterador tem next e iter\n",
    "print(hasattr(iterador, \"__next__\"))\n",
    "print(hasattr(iterador, \"__iter__\"))\n",
    "\n",
    "# Como já vimos, todo gerador é um iterador, mas nem todo iterador é um gerador.\n",
    "## Verificando se o gerador é um gerador mesmo:\n",
    "print()\n",
    "print(isinstance(gerador, GeneratorType)) # True\n",
    "print(isinstance(iterador, GeneratorType)) # False   "
   ]
  },
  {
   "cell_type": "markdown",
   "id": "17bae401-3c38-4b16-9b7b-aa8f0feb6b7d",
   "metadata": {},
   "source": [
    "---\n",
    "# map\n",
    "- Retorna um iterador\n",
    "- Rebe uma função e um iterável e aplica aquela função a cada um dos elementos do iterável."
   ]
  },
  {
   "cell_type": "code",
   "execution_count": 29,
   "id": "b6bf5071-6250-4760-b7b5-ab39eb3f6ffc",
   "metadata": {},
   "outputs": [
    {
     "name": "stdout",
     "output_type": "stream",
     "text": [
      "<map object at 0x7827b7263af0>\n",
      "[3, 6, 9, 12, 15]\n"
     ]
    }
   ],
   "source": [
    "# Triplicando números\n",
    "numeros = [1, 2, 3, 4, 5]\n",
    "triplo = map(lambda x: x * 3, numeros)\n",
    "print(triplo) # iterador\n",
    "\n",
    "triplo = list(triplo) # convertendo o iterador em lista\n",
    "print(triplo)"
   ]
  },
  {
   "cell_type": "markdown",
   "id": "26c5a479-f008-4fd1-8c28-9a55a3e7bdc0",
   "metadata": {},
   "source": [
    "---\n",
    "# partial\n",
    "- É preciso importar do módulo `functools` para usar o `partial`\n",
    "## Como funciona\n",
    "- É útil para quando temos uma função genérica que é utilizada repetidas vezes com argumentos repetidos.\n",
    "- Basicamente, ele cria uma função 'especializada' com argumentos embutidos.\n",
    "- Por exemplo: temos a função pow que calcula a potência de um número. Ex.: `pow(2, 3)` vai retornar 8.\n",
    "- Imagine que queremos calcular repetidamente o quadrado de vários números:\n",
    "    - Algumas formas de resolver isso, são:"
   ]
  },
  {
   "cell_type": "code",
   "execution_count": 31,
   "id": "56648d00-fad7-4a98-8220-3e8c40ab25b6",
   "metadata": {},
   "outputs": [
    {
     "name": "stdout",
     "output_type": "stream",
     "text": [
      "25\n",
      "16\n",
      "81\n",
      "100\n"
     ]
    }
   ],
   "source": [
    "# 1. Manualmente\n",
    "print(pow(5, 2))\n",
    "print(pow(4, 2))\n",
    "print(pow(9, 2))\n",
    "print(pow(10, 2))"
   ]
  },
  {
   "cell_type": "code",
   "execution_count": 32,
   "id": "86c19875-5760-4336-b7e0-cfc2c92f5878",
   "metadata": {},
   "outputs": [
    {
     "data": {
      "text/plain": [
       "81"
      ]
     },
     "execution_count": 32,
     "metadata": {},
     "output_type": "execute_result"
    }
   ],
   "source": [
    "# 2. Criando uma função\n",
    "def calcular_quadrado(base):\n",
    "    return pow(base, 2)\n",
    "\n",
    "calcular_quadrado(9)"
   ]
  },
  {
   "cell_type": "code",
   "execution_count": 33,
   "id": "b4aacc9d-c883-4075-a1f3-05f32dd74642",
   "metadata": {},
   "outputs": [
    {
     "data": {
      "text/plain": [
       "81"
      ]
     },
     "execution_count": 33,
     "metadata": {},
     "output_type": "execute_result"
    }
   ],
   "source": [
    "# 3. Usando lambda\n",
    "\n",
    "calcular_quadrado_lambda = lambda base: pow(base, 2)\n",
    "calcular_quadrado_lambda(9)"
   ]
  },
  {
   "cell_type": "code",
   "execution_count": 38,
   "id": "155afc00-0239-45d0-be6e-5c006d008f78",
   "metadata": {},
   "outputs": [
    {
     "data": {
      "text/plain": [
       "81"
      ]
     },
     "execution_count": 38,
     "metadata": {},
     "output_type": "execute_result"
    }
   ],
   "source": [
    "# 4. Closure\n",
    "def func():\n",
    "    p = 2\n",
    "    def potencia(num):\n",
    "        return pow(num, p)\n",
    "    return potencia\n",
    "\n",
    "quadrado = func()\n",
    "quadrado(9)"
   ]
  },
  {
   "cell_type": "code",
   "execution_count": 39,
   "id": "8fa898af-84a7-454f-bb0c-91b93cba6cd6",
   "metadata": {},
   "outputs": [
    {
     "name": "stdout",
     "output_type": "stream",
     "text": [
      "16\n"
     ]
    }
   ],
   "source": [
    "# 5. Partial\n",
    "from functools import partial\n",
    "\n",
    "quadrado = partial(pow, exp = 2)\n",
    "print(quadrado(4))"
   ]
  },
  {
   "cell_type": "markdown",
   "id": "dbb03262-09f6-4b03-93d1-86750796ca80",
   "metadata": {},
   "source": [
    "---\n",
    "# Esgotamento de iterators\n",
    "\n",
    "- Percorremos um iterator apenas uma vez.  Ao percorrer com next ou for, não podemos percorrer novamente. Para 'contornar' isso, devemos:\n",
    "\n",
    "    1. Criar outro iterator com base num mesmo iterável\n",
    "\n",
    "    2. Converter uma lista ou tupla, já que podemos percorrê-las repetidas vezes."
   ]
  },
  {
   "cell_type": "markdown",
   "id": "f2709e4b-5414-4cbf-ba3f-5b3ac82edc66",
   "metadata": {},
   "source": [
    "---\n",
    "# Filter\n",
    "- Também retorna um iterador\n",
    "- Recebe dois argumentos:\n",
    "    1. Uma **função de teste** (que retorna True or False)\n",
    "    2. Um **iterável**"
   ]
  },
  {
   "cell_type": "markdown",
   "id": "88b4a367-34ea-43d0-aa82-b6e417ae6ab5",
   "metadata": {},
   "source": [
    "- **Apenas os elementos originais que atenderem à condição são mantidos no iterador**."
   ]
  },
  {
   "cell_type": "code",
   "execution_count": 46,
   "id": "71ed4664-330c-4742-a23c-dbb892743074",
   "metadata": {},
   "outputs": [
    {
     "name": "stdout",
     "output_type": "stream",
     "text": [
      "[0, 2, 4, 6, 8, 10]\n"
     ]
    }
   ],
   "source": [
    "lista = list(range(11))\n",
    "lista_pares = list(filter(lambda x: x % 2 == 0, lista))\n",
    "\n",
    "print(lista_pares)"
   ]
  },
  {
   "cell_type": "markdown",
   "id": "b6956498-5466-498d-a846-90c9848aa38f",
   "metadata": {},
   "source": [
    "---\n",
    "# Reduce\n",
    "- Reduz um iterável a um único valor\n",
    "- **É importada de `functools`**\n",
    "- Aplica repetidamente uma função de dois argumentos a uma sequência, de forma cumulativa, para reduzi-la a um único valor.\n",
    "## Sintaxe\n",
    "`reduce(function, iterable, initializer)`\n",
    "### function\n",
    "- A função deve receber dois argumentos:\n",
    "    1. O resultado acumulado até o momento\n",
    "    2. O próximo item do iterável a ser processado\n",
    "- A função deve retornar o novo valor do acumulador\n",
    "### initializer\n",
    "- O valor inicial para o acumulador.\n",
    "- Por padrão, pega o primeiro item do iterável como valor inicial do acumulador e inicia a operação a partir do segundo item."
   ]
  },
  {
   "cell_type": "code",
   "execution_count": 72,
   "id": "10e6a1f2-45f3-4940-8c00-e1f78565d96c",
   "metadata": {},
   "outputs": [
    {
     "name": "stdout",
     "output_type": "stream",
     "text": [
      "acumulador: 0\n",
      "produto: {'nome': 'Produto 5', 'preco': 10}\n",
      "\n",
      "acumulador: 10\n",
      "produto: {'nome': 'Produto 1', 'preco': 22}\n",
      "\n",
      "acumulador: 32\n",
      "produto: {'nome': 'Produto 3', 'preco': 2}\n",
      "\n",
      "acumulador: 34\n",
      "produto: {'nome': 'Produto 2', 'preco': 6}\n",
      "\n",
      "acumulador: 40\n",
      "produto: {'nome': 'Produto 4', 'preco': 4}\n",
      "\n",
      "44\n"
     ]
    }
   ],
   "source": [
    "# Somando preço total de produtos\n",
    "from functools import reduce\n",
    "\n",
    "produtos = [\n",
    "    {'nome': 'Produto 5', 'preco': 10},\n",
    "    {'nome': 'Produto 1', 'preco': 22},\n",
    "    {'nome': 'Produto 3', 'preco': 2},\n",
    "    {'nome': 'Produto 2', 'preco': 6},\n",
    "    {'nome': 'Produto 4', 'preco': 4},\n",
    "]\n",
    "\n",
    "    \n",
    "def funcao_do_reduce(acumulador, produto):\n",
    "    print(\"acumulador:\", acumulador)\n",
    "    print(\"produto:\", produto)\n",
    "    print()\n",
    "    return acumulador + produto[\"preco\"]\n",
    "\n",
    "total = reduce(\n",
    "    funcao_do_reduce, #function\n",
    "    produtos, #iterable\n",
    "    0 #initializer\n",
    ")\n",
    "\n",
    "print(total)"
   ]
  },
  {
   "cell_type": "code",
   "execution_count": null,
   "id": "fa6807d4-9856-4747-b4ca-ca3cecf29042",
   "metadata": {},
   "outputs": [],
   "source": []
  }
 ],
 "metadata": {
  "kernelspec": {
   "display_name": "Python 3 (ipykernel)",
   "language": "python",
   "name": "python3"
  },
  "language_info": {
   "codemirror_mode": {
    "name": "ipython",
    "version": 3
   },
   "file_extension": ".py",
   "mimetype": "text/x-python",
   "name": "python",
   "nbconvert_exporter": "python",
   "pygments_lexer": "ipython3",
   "version": "3.13.5"
  }
 },
 "nbformat": 4,
 "nbformat_minor": 5
}
