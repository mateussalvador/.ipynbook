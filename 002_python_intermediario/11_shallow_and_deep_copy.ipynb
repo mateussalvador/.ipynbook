{
 "cells": [
  {
   "cell_type": "markdown",
   "id": "5ef72e90-a3c0-40fb-9508-5835caf15973",
   "metadata": {},
   "source": [
    "# Cópias\n",
    "- Para copiar objetos imutáveis, basta criar uma nova variável e atribuir aquele objeto a ela.\n",
    "- Isso funciona porque os objetos imutáveis são como instâncias únicas (não necessariamente), então sempre estamos nos referindo a um mesmo objeto.\n",
    "- Portanto, se quisermos alterar aquele dado imutável, isto é impossível, visto que ao alterar, passamos a nos referir a outro objeto.\n",
    "\n",
    "- Por outro lado, quando falamos de objetos mutáveis, temos um problema ao fazer isso: Também apontamos para o mesmo endereço, mas agora podemos realizar naquele objeto. Ou seja, se temos duas variáveis apontando para um mesmo objeto que pode sofrer alteração, ao alterar um, alteramos ambos.\n",
    "\n",
    "## Observação sobre atribuição ou métodos em mutáveis\n",
    "- Isso só irá funcionar ao alterar a lista com métodos, pois ao 'alterar' com atribuição, estamos novamente criando um novo objeto. Ou seja,\n",
    "    - `list1 = [1, 2, 3]`\n",
    "    - `list2 = [1, 2, 3]`\n",
    "  são listas com o conteúdo igual, mas **NÃO SÃO o mesmo objeto**. Logo, ao alterar uma, a outra não será afetada."
   ]
  },
  {
   "cell_type": "code",
   "execution_count": 13,
   "id": "7ee07d1b-71e8-4c06-812d-2f7ccd225820",
   "metadata": {},
   "outputs": [
    {
     "name": "stdout",
     "output_type": "stream",
     "text": [
      "2346469661248\n",
      "2346469515264\n"
     ]
    }
   ],
   "source": [
    "list1 = [1, 2, 3]\n",
    "list2 = [1, 2, 3]\n",
    "\n",
    "print(id(list1))\n",
    "print(id(list2))"
   ]
  },
  {
   "cell_type": "markdown",
   "id": "6289130d-a290-40ca-9e67-7192ed2aae9f",
   "metadata": {},
   "source": [
    "## Como copiar?\n",
    "- Para isso, usamos `shallow copy` ou `deep copy`\n",
    "## shallow copy\n",
    "- É uma cópia rasa.\n",
    "- É feito usando `import copy` e `copy.copy()` ou o método `copy()` de dicionários, conjuntos e listas.\n",
    "- Cria um novo objeto, mas mantém as mesmas referências aos objetos internos.\n",
    "- Logo, é ideal para copiar mutáveis que possuem apenas imutáveis dentro deles.\n",
    "- Caso existam mutáveis aninhados, o ideal é usar deep copy.\n",
    "### recursividade\n",
    "- Um procedimento é recursivo quando um dos seus passos envolve chamar a si mesmo, repetindo o processo até que uma condição de parada seja alcançada e a recursão termine.\n",
    "## deep copy\n",
    "- Uma cópia recursiva que garante uma cópia real de todos os objetos, inclusive os mais aninhados.\n",
    "- É preciso importar o módulo `copy` e usar `copy.deepcopy()`\n",
    "### problemas do deep copy\n",
    "- É mais lenta e utiliza muito da memória "
   ]
  }
 ],
 "metadata": {
  "kernelspec": {
   "display_name": "Python 3 (ipykernel)",
   "language": "python",
   "name": "python3"
  },
  "language_info": {
   "codemirror_mode": {
    "name": "ipython",
    "version": 3
   },
   "file_extension": ".py",
   "mimetype": "text/x-python",
   "name": "python",
   "nbconvert_exporter": "python",
   "pygments_lexer": "ipython3",
   "version": "3.13.5"
  }
 },
 "nbformat": 4,
 "nbformat_minor": 5
}
