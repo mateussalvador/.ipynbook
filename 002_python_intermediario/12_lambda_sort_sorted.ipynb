{
 "cells": [
  {
   "cell_type": "markdown",
   "id": "5a957412-6f68-4c84-8b61-c06db694223b",
   "metadata": {},
   "source": [
    "# Função lambda\n",
    "- São funções anônimas (não tem nome)\n",
    "- É de uma só linha\n",
    "## Sintaxe\n",
    "`lambda argumentos: expressao`\n",
    "- A expressão é avaliada e o seu resultado é retornado automaticamente pela função.\n",
    "## Características\n",
    "- Não pode conter múltiplos comandos, `if/else` complexos (embora um if ternário seja possível), `for`, `while`, etc\n",
    "### Uso ideal\n",
    "- Excelentge para ser usado como argumento para outras funções que esperam uma função como parâmetro (como sorted, map, filter)\n",
    "## Exemplo"
   ]
  },
  {
   "cell_type": "code",
   "execution_count": 12,
   "id": "f4e8ae22-bae3-4c8f-a481-dd288610b5b4",
   "metadata": {},
   "outputs": [
    {
     "name": "stdout",
     "output_type": "stream",
     "text": [
      "10\n"
     ]
    }
   ],
   "source": [
    "def dobrar(x):\n",
    "    return x * 2\n",
    "\n",
    "print(dobrar(5))"
   ]
  },
  {
   "cell_type": "code",
   "execution_count": 13,
   "id": "d9c1bd66-68ca-4fc1-95c6-7413473798f8",
   "metadata": {},
   "outputs": [
    {
     "name": "stdout",
     "output_type": "stream",
     "text": [
      "10\n"
     ]
    }
   ],
   "source": [
    "dobrar_lambda = lambda x: x * 2\n",
    "print(dobrar_lambda(5))"
   ]
  },
  {
   "cell_type": "markdown",
   "id": "188d855f-df14-4a59-980a-1d845ce2661e",
   "metadata": {},
   "source": [
    "- O verdadeiro poder da função lambda não é quando precisamos passá-la a uma variável, mas quando passamos como argumento para uma função. É aí que entra `sort` e `sorted`\n",
    "# `list.sort()`\n",
    "- Método exclusivo das listas.\n",
    "## Como funciona?\n",
    "- Altera a própria lista permanentemente, a reordenando.\n",
    "- Compara usando `<` e `>`\n",
    "- Retorna `None`\n",
    "## Parâmetros\n",
    "- `reverse=True`: Ordena a lista em ordem decrescente.\n",
    "- `key=funcao`: Especifica uma função que será chamada para cada elemento da lista antes de fazer as comparações. O valor retornado é usado como critério de ordenação."
   ]
  },
  {
   "cell_type": "code",
   "execution_count": 14,
   "id": "e70ad19a-26ed-466a-a309-eee1ce5f36dd",
   "metadata": {},
   "outputs": [
    {
     "name": "stdout",
     "output_type": "stream",
     "text": [
      "[1, 3, 4, 5, 8]\n",
      "[8, 5, 4, 3, 1]\n",
      "['uva', 'maçã', 'banana', 'abacaxi']\n"
     ]
    }
   ],
   "source": [
    "numeros = [4, 1, 8, 3, 5]\n",
    "\n",
    "# Ordenação Simples\n",
    "numeros.sort()\n",
    "print(numeros)\n",
    "\n",
    "# Ordenação Decrescente\n",
    "numeros.sort(reverse=True)\n",
    "print(numeros)\n",
    "\n",
    "# Ordenando uma lista de strings pelo seu comprimento\n",
    "frutas = ['banana', 'maçã', 'abacaxi', 'uva']\n",
    "frutas.sort(key=len)\n",
    "print(frutas)"
   ]
  },
  {
   "cell_type": "markdown",
   "id": "736461f1-bba4-4b6d-bbb7-16844d273acf",
   "metadata": {},
   "source": [
    "# `sorted()`\n",
    "- Uma built-in function\n",
    "- Retorna uma nova lista ordenada, sem alterar a original.\n",
    "- Pode ser usada com qualquer objeto iterável.\n",
    "- Usa os mesmos parâmetros de `list.sort()` (key e reverse)\n",
    "\n",
    "## Quando usar cada um?\n",
    "- Usamos `list.sort()` quando estamos trabalhando com listas e não precisamos mais da lista original. Assim, economizamos memória, visto que nenhuma cópia é criada.\n",
    "- Usamos `sorted()` quando precisamos da lista original ou estamos trabalhando com tipos diferentes de list."
   ]
  },
  {
   "cell_type": "markdown",
   "id": "1089e5bc-7920-4b1e-a961-23603b94c73c",
   "metadata": {},
   "source": [
    "## Exemplo de uso de `lambda`\n",
    "- Veja a lista de dicionários a seguir:\n"
   ]
  },
  {
   "cell_type": "code",
   "execution_count": 15,
   "id": "2b73afd9-bec1-4035-83b3-ee3e092c7a6c",
   "metadata": {},
   "outputs": [],
   "source": [
    "lista = [\n",
    "     {'nome': 'Luiz', 'sobrenome': 'miranda'},\n",
    "     {'nome': 'Maria', 'sobrenome': 'Oliveira'},\n",
    "     {'nome': 'Daniel', 'sobrenome': 'Silva'},\n",
    "     {'nome': 'Eduardo', 'sobrenome': 'Moreira'},\n",
    "     {'nome': 'Aline', 'sobrenome': 'Souza'},\n",
    " ]"
   ]
  },
  {
   "cell_type": "markdown",
   "id": "d12248fb-beff-474e-b3a1-a96b07429e2e",
   "metadata": {},
   "source": [
    "- Como podemos ordenar essa lista de dicionários?\n",
    "- Ao tentar fazer algo do tipo: `dict_ordenado = sorted(lista)` ele vai retornar um erro, porque não há como usar `<` e `>` entre dicionários.\n",
    "- Então, podemos fazer assim:"
   ]
  },
  {
   "cell_type": "code",
   "execution_count": 21,
   "id": "6e6fabd4-4820-4f9e-91df-64b64c7388a2",
   "metadata": {},
   "outputs": [
    {
     "name": "stdout",
     "output_type": "stream",
     "text": [
      "{'nome': 'Aline', 'sobrenome': 'Souza'}\n",
      "{'nome': 'Daniel', 'sobrenome': 'Silva'}\n",
      "{'nome': 'Eduardo', 'sobrenome': 'Moreira'}\n",
      "{'nome': 'Luiz', 'sobrenome': 'miranda'}\n",
      "{'nome': 'Maria', 'sobrenome': 'Oliveira'}\n"
     ]
    }
   ],
   "source": [
    "lista = [\n",
    "     {'nome': 'Luiz', 'sobrenome': 'miranda'},\n",
    "     {'nome': 'Maria', 'sobrenome': 'Oliveira'},\n",
    "     {'nome': 'Daniel', 'sobrenome': 'Silva'},\n",
    "     {'nome': 'Eduardo', 'sobrenome': 'Moreira'},\n",
    "     {'nome': 'Aline', 'sobrenome': 'Souza'},\n",
    " ]\n",
    "\n",
    "lista.sort(key = lambda dicionario: dicionario['nome'])\n",
    "for item in lista:\n",
    "    print(item)"
   ]
  },
  {
   "cell_type": "code",
   "execution_count": 26,
   "id": "23a90a58-28d3-4543-91db-97cffb83848e",
   "metadata": {},
   "outputs": [
    {
     "name": "stdout",
     "output_type": "stream",
     "text": [
      "{'nome': 'Aline', 'sobrenome': 'Souza'}\n",
      "{'nome': 'Daniel', 'sobrenome': 'Silva'}\n",
      "{'nome': 'Eduardo', 'sobrenome': 'Moreira'}\n",
      "{'nome': 'Luiz', 'sobrenome': 'miranda'}\n",
      "{'nome': 'Maria', 'sobrenome': 'Oliveira'}\n",
      "\n",
      " ------------------------------ \n",
      "\n",
      "{'nome': 'Eduardo', 'sobrenome': 'Moreira'}\n",
      "{'nome': 'Maria', 'sobrenome': 'Oliveira'}\n",
      "{'nome': 'Daniel', 'sobrenome': 'Silva'}\n",
      "{'nome': 'Aline', 'sobrenome': 'Souza'}\n",
      "{'nome': 'Luiz', 'sobrenome': 'miranda'}\n"
     ]
    }
   ],
   "source": [
    "l1 = sorted(lista, key=lambda item: item[\"nome\"])\n",
    "l2 = sorted(lista, key=lambda item: item [\"sobrenome\"])\n",
    "\n",
    "for item in l1:\n",
    "    print(item)\n",
    "\n",
    "print(\"\\n\", \"-\" * 30, \"\\n\")\n",
    "\n",
    "for item in l2:\n",
    "    print(item)"
   ]
  },
  {
   "cell_type": "markdown",
   "id": "ff064649-5fb4-4227-84eb-75be7b081c96",
   "metadata": {},
   "source": [
    "# Exemplos de função lambda\n",
    "- Converta as funções a seguir para lambda:"
   ]
  },
  {
   "cell_type": "code",
   "execution_count": 27,
   "id": "217e3727-6bf7-4914-8502-4152cfc30347",
   "metadata": {},
   "outputs": [],
   "source": [
    "def soma(x, y):\n",
    "    return x + y\n",
    "\n",
    "def cria_multiplicador(multiplicador):\n",
    "    def multiplica(numero):\n",
    "        return numero * multiplicador\n",
    "    return multiplica"
   ]
  },
  {
   "cell_type": "markdown",
   "id": "bbee978b-2a19-423e-9c1e-a168df104277",
   "metadata": {},
   "source": [
    "## nota\n",
    "- A PEP 8 determina que não é bom criar uma variável para atribuir uma lambda a ela e usá-la para execução, mas sim criar uma `função` que a executa. Por isso, usaremos a seguinte função:"
   ]
  },
  {
   "cell_type": "code",
   "execution_count": 49,
   "id": "d96d7a59-e826-4872-a6fd-a8384d9bbd99",
   "metadata": {},
   "outputs": [],
   "source": [
    "def executa(funcao, *args):\n",
    "    return funcao(*args)"
   ]
  },
  {
   "cell_type": "code",
   "execution_count": 51,
   "id": "7ec2380f-5918-4d2e-be90-14281f9d0b1b",
   "metadata": {},
   "outputs": [
    {
     "name": "stdout",
     "output_type": "stream",
     "text": [
      "8\n"
     ]
    }
   ],
   "source": [
    "soma = lambda x, y: x + y\n",
    "\n",
    "print(\n",
    "    executa(\n",
    "        lambda x, y: x + y,\n",
    "        3, 5\n",
    "    )\n",
    ")"
   ]
  },
  {
   "cell_type": "code",
   "execution_count": 53,
   "id": "60f3b396-103f-4995-a952-7610a9667230",
   "metadata": {},
   "outputs": [
    {
     "data": {
      "text/plain": [
       "10"
      ]
     },
     "execution_count": 53,
     "metadata": {},
     "output_type": "execute_result"
    }
   ],
   "source": [
    "def cria_multiplicador(multiplicador):\n",
    "    def multiplica(numero):\n",
    "        return numero * multiplicador\n",
    "    return multiplica\n",
    "\n",
    "duplica = cria_multiplicador(2)\n",
    "duplica(5)"
   ]
  },
  {
   "cell_type": "code",
   "execution_count": 60,
   "id": "d35469c1-e318-4a46-a04d-84c75f3ef0a9",
   "metadata": {},
   "outputs": [
    {
     "data": {
      "text/plain": [
       "30"
      ]
     },
     "execution_count": 60,
     "metadata": {},
     "output_type": "execute_result"
    }
   ],
   "source": [
    "duplica = executa(\n",
    "    lambda m: lambda n: m * n,\n",
    "    2\n",
    ")\n",
    "duplica(15)"
   ]
  }
 ],
 "metadata": {
  "kernelspec": {
   "display_name": "Python 3 (ipykernel)",
   "language": "python",
   "name": "python3"
  },
  "language_info": {
   "codemirror_mode": {
    "name": "ipython",
    "version": 3
   },
   "file_extension": ".py",
   "mimetype": "text/x-python",
   "name": "python",
   "nbconvert_exporter": "python",
   "pygments_lexer": "ipython3",
   "version": "3.13.5"
  }
 },
 "nbformat": 4,
 "nbformat_minor": 5
}
