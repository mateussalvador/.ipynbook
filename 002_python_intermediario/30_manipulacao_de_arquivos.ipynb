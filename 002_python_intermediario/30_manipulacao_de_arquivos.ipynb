{
 "cells": [
  {
   "cell_type": "markdown",
   "id": "16b3cc2d-0d14-4c27-b7df-a00c83fc45cb",
   "metadata": {
    "jp-MarkdownHeadingCollapsed": true
   },
   "source": [
    "# Manipulação de Arquivos em Python\n",
    "\n",
    "---\n",
    "\n",
    "# Caminhos\n",
    "- Normalmente trabalhamos com caminhos relativos (arquivos e diretórios dentro do diretório do projeto) e, sendo assim, **não precisamos passar o caminho completo**.\n",
    "- Para manipular arquivos que estão em outro lugar, é preciso passar o caminho completo.\n",
    "\n",
    "## Nota: Caminhos em diferentes Sistemas Operacionais\n",
    "- No Linux e no Mac, os caminhos são passados com barra normal (`/`)\n",
    "    - Ex.: `\"Users/User/Desktop/curso-python/aula116.txt\"`\n",
    "- Já no Windows, os caminhos são passados com barra invertida (`\\`)\n",
    "    - Ex.: `\"Users\\User\\Desktop\\curso-python\\aula116.txt\"`\n",
    "\n",
    "### Problema da barra invertida\n",
    "- A barra invertida é utilizada em strings para escapar caracteres. Sendo assim, acaba gerando problemas.\n",
    "- **Para evitar, o ideal é passar as barras duplicadas.**\n",
    "- \n",
    "---\n",
    "\n",
    "# Modos de abertura de arquivos\n",
    "- Para abrir arquivos, usamos a função `open()`, que irá receber dois parâmetros:\n",
    "    1. O nome do arquivo (e a extensão) como string.\n",
    "    2. A operação que queremos realizar, sendo elas:\n",
    "        - `r`: read/leitura \n",
    "        - `w`: write/escrita\n",
    "        - `x`: eXclusive creation / cria um arquivo novo.\n",
    "            - **Só funciona se o arquivo não existir. Se tentar usar em um arquivo que já existe, será levantado um erro.**\n",
    "        - `b`: binary / binário\n",
    "            - **É usado em conjunto com outros modos (`r`, `w`, `a`, `x`)**\n",
    "            - Por padrão, o Python abre arquivos em modo de texto (`t`), o que significa que ele lida com o conteúdo como strings.\n",
    "            - Porém, para arquivos não baseados em texto, como .jpg, vídeos, PDFs, executáveis, precisamos usar o modo binário.\n",
    "            - Neste modo, o Python lê e escreve os dados como bytes brutos, sem tentar interpretá-los como caracteres. \n",
    "        - `+`: É como uma extensão. Se abrirmos um arquivo no modo de leitura, também poderemos escrever e vice-versa.\n",
    "        - `a`: append mode / adiciona linhas no final do arquivo\n",
    "\n",
    "### Nota sobre binários\n",
    "- No fim das contas, essa manipulação de baixo nível normalmente é feita com bibliotecas específicas. Sendo assim, quase nunca será utilizado o modo `b`\n",
    "\n",
    "---\n",
    "\n",
    "## Observação importante sobre abertura de arquivos\n",
    "- Sempre que abrimos um arquivo, é necessário que ele seja fechado. Caso contrário, o arquivo poderá sofrer problemas (corromper, não salvar, etc)\n",
    "- As operações são realizadas entre a abertura e fechamento do arquivo\n",
    "\n",
    "## Criando arquivo"
   ]
  },
  {
   "cell_type": "code",
   "execution_count": 1,
   "id": "50eb97c2-39ef-4584-83ef-dce8d00643a5",
   "metadata": {},
   "outputs": [],
   "source": [
    "## Criando um arquivo\n",
    "arquivo = open(\"teste.txt\", \"w\")\n",
    "arquivo.write(\"Tentando escrever num arquivo\")\n",
    "##Fechando o arquivo depois de criá-lo\n",
    "arquivo.close()"
   ]
  },
  {
   "cell_type": "markdown",
   "id": "a52f103b-ca5d-4d16-a41b-db4e22d36945",
   "metadata": {},
   "source": [
    "---\n",
    "\n",
    "# Context Manager\n",
    "- Como foi visto, é preciso lembrar de fechar um arquivo.\n",
    "- Uma solução para isso seria passar o `arquivo.close` no bloco `finally` de um `try/except`. Porém, para automatizar isso podemos usar o **`CONTEXT MANAGER`**\n",
    "\n",
    "## with open\n",
    "- Para utilizar o context manager, utilizamos o comando `with open`\n",
    "- Ao fazer isso, o Python já se encarrega de abrir e fechar o arquivo. Basta utilizá-lo e a cada bloco, o arquivo será aberto e fechado automaticamente."
   ]
  },
  {
   "cell_type": "code",
   "execution_count": 2,
   "id": "447977fb-5ea5-451a-af92-35619b6f13a0",
   "metadata": {},
   "outputs": [
    {
     "name": "stdout",
     "output_type": "stream",
     "text": [
      "Linha 1\n",
      "Linha 2\n",
      "\n"
     ]
    }
   ],
   "source": [
    "with open(\"teste.txt\", \"w\") as file:\n",
    "    file.write(\"Linha 1\\n\")\n",
    "    file.write(\"Linha 2\\n\")\n",
    "\n",
    "with open(\"teste.txt\", \"r\") as file:\n",
    "    print(file.read())"
   ]
  },
  {
   "cell_type": "markdown",
   "id": "dcd9df07-d724-4ae7-b0f2-27ba2f62fe46",
   "metadata": {},
   "source": [
    "## encoding\n",
    "- Ao abrir um arquivo, o ideal é passar o tipo de codificação de caracteres desejado. O padrão global é o `utf-8`.\n",
    "- Deve ser passado após o modo de abertura.\n",
    "\n",
    "## notas sobre quebras de linhas e exibição na tela\n",
    "- O `.write()` não se encarrega de quebrar linhas. É preciso definir isso explicitamente com `\\n`\n",
    "- O `.read()` não se encarrega de exibir o conteúdo na tela. É preciso definir isso explicitamente com `print()`\n",
    "\n",
    "---\n",
    "# Realizando diferentes operações numa mesma abertura de arquivos\n",
    "- Para fazer isso, devemos usar o `+`, assim: `with open(\"teste.txt\", \"w+\")`\n",
    "\n",
    "## Movimentação do cursor no arquivo\n",
    "- É importante observar que o cursor \"se move\" junto com os nossos comandos, por exemplo:\n",
    "    - Ao passar um `arquivo.write(\"Linha 1\\n\")`, o cursor se moverá ao longo de toda a primeira linha (até depois do número 1) e, ao quebrar, passará para a segunda linha.\n",
    "    - **Sendo assim, ao escrever algo e depois solicitar a leitura, ele irá começar a leitura já do final do arquivo, ou seja, *não irá ler nada***\n",
    "    - Para corrigir isso, usamos o método **`seek()`**\n",
    "\n",
    "## Método seek\n",
    "- Ao passar `arquivo.seek(0, 0)`, o cursor volta ao início do arquivo."
   ]
  },
  {
   "cell_type": "code",
   "execution_count": 3,
   "id": "b7000553-609a-4109-977c-f18724df2ca6",
   "metadata": {},
   "outputs": [
    {
     "name": "stdout",
     "output_type": "stream",
     "text": [
      "Linha 1\n",
      "\n",
      "Linha 2\n",
      "\n",
      "Vamos \"resetar o cursor\", pois no momento ele está aqui ->\n"
     ]
    }
   ],
   "source": [
    "with open(\"teste.txt\", \"w+\") as file:\n",
    "    file.write(\"Linha 1\\n\")\n",
    "    file.write(\"\\n\")\n",
    "    file.write(\"Linha 2\\n\")\n",
    "    file.write(\"\\n\")\n",
    "    file.write(\"Vamos \\\"resetar o cursor\\\", pois no momento ele está aqui ->\")\n",
    "    file.seek(0, 0)\n",
    "    print(file.read())"
   ]
  },
  {
   "cell_type": "markdown",
   "id": "ba1f3214-2fb0-4e1a-986f-1bafd316c254",
   "metadata": {},
   "source": [
    "# read, writelines, write, readline, readlines\n",
    "## `read()`\n",
    "- Lê todo o arquivo de uma vez só\n",
    "\n",
    "## `readline()`\n",
    "- Lê uma linha por vez, como o `next()` do iterator\n",
    "- Não gera erros ao chegar ao fim do arquivo. Na verdade, ele ficaria 'lendo' linhas em branco infinitamente\n",
    "- Normalmente usado quando precisamos processar linha por linha, mas temos controle sobre quantas linhas queremos ler"
   ]
  },
  {
   "cell_type": "code",
   "execution_count": 4,
   "id": "20471c5d-ad74-4063-84e5-8dccd77c0845",
   "metadata": {},
   "outputs": [
    {
     "name": "stdout",
     "output_type": "stream",
     "text": [
      "--- Usando readline() ---\n",
      "Linha 1: Maçã\n",
      "Linha 2: Banana\n",
      "Linha 3: Uva\n",
      "Linha 4: Laranja\n",
      "Linha 5 (vazia): \n"
     ]
    }
   ],
   "source": [
    "with open(\"frutas.txt\", \"w\", encoding = \"utf-8\") as f:\n",
    "    f.write(\"Maçã\\n\")\n",
    "    f.write(\"Banana\\n\")\n",
    "    f.write(\"Uva\\n\")\n",
    "    f.write(\"Laranja\")\n",
    "\n",
    "print(\"--- Usando readline() ---\")\n",
    "\n",
    "with open(\"frutas.txt\", \"r\", encoding=\"utf-8\") as f:\n",
    "    linha1 = f.readline()\n",
    "    print(f\"Linha 1: {linha1.strip()}\")\n",
    "\n",
    "    linha2 = f.readline()\n",
    "    print(f\"Linha 2: {linha2.strip()}\")\n",
    "    \n",
    "    linha3 = f.readline()\n",
    "    print(f\"Linha 3: {linha3.strip()}\")\n",
    "    \n",
    "    linha4 = f.readline()\n",
    "    print(f\"Linha 4: {linha4.strip()}\")\n",
    "\n",
    "    linha5 = f.readline()\n",
    "    print(f\"Linha 5 (vazia): {linha5.strip()}\")"
   ]
  },
  {
   "cell_type": "markdown",
   "id": "64dea3a9-198c-42fc-8fb0-05889cfc8279",
   "metadata": {},
   "source": [
    "## `readlines()`\n",
    "- Lê todas as linhas de uma vez e as retorna como uma lista de strings, sendo cada linha, uma string\n",
    "- Bom para ler o conteúdo de arquivos pequenos"
   ]
  },
  {
   "cell_type": "code",
   "execution_count": 5,
   "id": "8fd74a57-052f-47f8-9d6a-efb3e25fd3fa",
   "metadata": {},
   "outputs": [
    {
     "name": "stdout",
     "output_type": "stream",
     "text": [
      "--- Usando readlines() ---\n",
      "---- Printando a lista ----\n",
      "['Maçã\\n', 'Banana\\n', 'Uva\\n', 'Laranja']\n",
      "---- Printando os elementos da lista individualmente ----\n",
      "Maçã\n",
      "Banana\n",
      "Uva\n",
      "Laranja"
     ]
    }
   ],
   "source": [
    "print(\"--- Usando readlines() ---\")\n",
    "\n",
    "with open(\"frutas.txt\", \"r\", encoding = \"utf-8\") as f:\n",
    "    todas_as_linhas = f.readlines()\n",
    "    print(\"---- Printando a lista ----\")\n",
    "    print(todas_as_linhas)\n",
    "\n",
    "    print(\"---- Printando os elementos da lista individualmente ----\")\n",
    "    for linha in todas_as_linhas:\n",
    "        print(linha, end=\"\")"
   ]
  },
  {
   "cell_type": "markdown",
   "id": "ca6f0c5a-a3ec-44c3-b791-b45b1cb9e367",
   "metadata": {},
   "source": [
    "## `write()`\n",
    "- Escreve todo o conteúdo numa única string. Ou seja, é como se ele fosse uma única linha.\n",
    "\n",
    "### Como escrever mais de uma linha?\n",
    "- No `write()` é preciso delimitar as quebras de linha com `\\n`\n",
    "\n",
    "---\n",
    "\n",
    "## `writelines()`\n",
    "- Escreve múltiplas strings que estão num iterável\n",
    "- Também não acrescenta as quebras de linha automaticamente.\n",
    "- Pode ser mais eficiente que chamar `write()` num loop"
   ]
  },
  {
   "cell_type": "code",
   "execution_count": 6,
   "id": "0b541d71-9b29-4aad-9756-9d6438c7d9f3",
   "metadata": {},
   "outputs": [
    {
     "name": "stdout",
     "output_type": "stream",
     "text": [
      "Maçã\n",
      "Banana\n",
      "Uva\n",
      "Laranja\n",
      "Mamão\n",
      "Abacate\n",
      "Abacaxi\n",
      "\n"
     ]
    }
   ],
   "source": [
    "with open(\"frutas.txt\", \"r\", encoding = \"utf-8\") as file:\n",
    "    frutas = file.readlines()\n",
    "\n",
    "frutas.pop()\n",
    "frutas.extend([\"Laranja\\n\", \"Mamão\\n\", \"Abacate\\n\", \"Abacaxi\\n\"])\n",
    "\n",
    "\n",
    "with open(\"frutas2.txt\", \"w+\", encoding = \"utf-8\") as file2:\n",
    "    file2.writelines(frutas)\n",
    "    file2.seek(0, 0)\n",
    "    print(file2.read())"
   ]
  },
  {
   "cell_type": "markdown",
   "id": "60465007-ba07-45ae-ab57-297a8b6a63e5",
   "metadata": {},
   "source": [
    "---\n",
    "# Diferença entre `a` e `w`\n",
    "- O `w` apaga tudo que já foi escrito no arquivo e escreve novamente\n",
    "- O `a` adiciona ao final do arquivo\n",
    "    - A escrita é feita com `write` ou `writelines()` como já vimos anteriormente"
   ]
  },
  {
   "cell_type": "markdown",
   "id": "70ee2a2c-531c-46b2-b5d4-1d4888c7994f",
   "metadata": {},
   "source": [
    "---\n",
    "# Módulo `os`\n",
    "- É preciso importar\n",
    "\n",
    "## `os.listdir()`\n",
    "- Lista os nomes de todos os arquivos e diretórios que estão dentro de um diretório específico. Para isso, passamos o caminho do diretório.\n",
    "- Se quisermos nos referir ao diretório atual, usamos `.`\n",
    "- Se quisermos nos referir ao diretório de nível abaixo (pai), usamos `..`\n",
    "\n",
    "## `os.remove` ou `os.unlink`\n",
    "- Apaga o arquivo\n",
    "\n",
    "## `os.rename`\n",
    "- Renomeia o arquivo ou move ele\n",
    "- Para mover, passamos o novo caminho com o nome novo ou mesmo nome. Se quiser apenas renomear, passamos apenas o novo nome, pois iremos renomear para o mesmo lugar"
   ]
  },
  {
   "cell_type": "code",
   "execution_count": 7,
   "id": "f66108d7-2b6e-4826-be65-68c0ab209f25",
   "metadata": {},
   "outputs": [
    {
     "name": "stdout",
     "output_type": "stream",
     "text": [
      ".ipynb_checkpoints\n",
      "08_funcoes.ipynb\n",
      "09_dict.ipynb\n",
      "10_set.ipynb\n",
      "11_shallow_and_deep_copy.ipynb\n",
      "12_lambda_sort_sorted.ipynb\n",
      "13_kwargs.ipynb\n",
      "14_importando_modulos_e_biblioteca_padrao.ipynb\n",
      "15_list-comprehension.ipynb\n",
      "16_dict_e_set-comprehension_isinstance.ipynb\n",
      "17_dir_hasattr_getattr.ipynb\n",
      "18_reversed_zip_zip_longest.ipynb\n",
      "19_iterables_and_iterators.ipynb\n",
      "20_generator-expressions.ipynb\n",
      "21_generator-function.ipynb\n",
      "22_try-except_exceptions_else_finally_raise.ipynb\n",
      "23_modularizacao.ipynb\n",
      "24_pacotes.ipynb\n",
      "25_decorators.ipynb\n",
      "26_zip_longest_count_combinations_permutations_product_groupby.ipynb\n",
      "27_map_partial_generato_type_esgotamento_de_iterators_filter_reduce.ipynb\n",
      "28_funcoes_recursivas.ipynb\n",
      "29_ambientes_virtuais.ipynb\n",
      "30_manipulacao_de_arquivos.ipynb\n",
      "31_json.ipynb\n",
      "exercicios\n",
      "frutas.txt\n",
      "frutas2.txt\n",
      "teste.txt\n"
     ]
    }
   ],
   "source": [
    "import os\n",
    "\n",
    "arquivos = os.listdir(\".\")\n",
    "for arquivo in arquivos:\n",
    "    print(arquivo)"
   ]
  },
  {
   "cell_type": "markdown",
   "id": "5854fdba-1a1d-4ebd-a306-0e6b70674e82",
   "metadata": {},
   "source": [
    "- Veja que temos os arquivos frutas, frutas2 e teste, todos txt que foram criados anteriormente. Para excluí-los, podemos usar o `os.remove()` e `os.unlink()`"
   ]
  },
  {
   "cell_type": "code",
   "execution_count": 8,
   "id": "2b2487ee-cd43-4e6e-aec0-5e4a13e3b043",
   "metadata": {},
   "outputs": [
    {
     "name": "stdout",
     "output_type": "stream",
     "text": [
      ".ipynb_checkpoints\n",
      "08_funcoes.ipynb\n",
      "09_dict.ipynb\n",
      "10_set.ipynb\n",
      "11_shallow_and_deep_copy.ipynb\n",
      "12_lambda_sort_sorted.ipynb\n",
      "13_kwargs.ipynb\n",
      "14_importando_modulos_e_biblioteca_padrao.ipynb\n",
      "15_list-comprehension.ipynb\n",
      "16_dict_e_set-comprehension_isinstance.ipynb\n",
      "17_dir_hasattr_getattr.ipynb\n",
      "18_reversed_zip_zip_longest.ipynb\n",
      "19_iterables_and_iterators.ipynb\n",
      "20_generator-expressions.ipynb\n",
      "21_generator-function.ipynb\n",
      "22_try-except_exceptions_else_finally_raise.ipynb\n",
      "23_modularizacao.ipynb\n",
      "24_pacotes.ipynb\n",
      "25_decorators.ipynb\n",
      "26_zip_longest_count_combinations_permutations_product_groupby.ipynb\n",
      "27_map_partial_generato_type_esgotamento_de_iterators_filter_reduce.ipynb\n",
      "28_funcoes_recursivas.ipynb\n",
      "29_ambientes_virtuais.ipynb\n",
      "30_manipulacao_de_arquivos.ipynb\n",
      "31_json.ipynb\n",
      "exercicios\n",
      "teste.txt\n"
     ]
    }
   ],
   "source": [
    "os.remove(\"frutas.txt\")\n",
    "os.unlink(\"frutas2.txt\")\n",
    "\n",
    "arquivos = os.listdir(\".\")\n",
    "for arquivo in arquivos:\n",
    "    print(arquivo)"
   ]
  },
  {
   "cell_type": "markdown",
   "id": "572a7193-28b0-4578-b5ec-edaff27d7d00",
   "metadata": {},
   "source": [
    "- Veja que agora os arquivos `frutas` e `frutas2` foram apagados."
   ]
  },
  {
   "cell_type": "code",
   "execution_count": 9,
   "id": "2f916863-d526-4c86-a0fa-814a6a6ceb30",
   "metadata": {},
   "outputs": [
    {
     "name": "stdout",
     "output_type": "stream",
     "text": [
      ".ipynb_checkpoints\n",
      "08_funcoes.ipynb\n",
      "09_dict.ipynb\n",
      "10_set.ipynb\n",
      "11_shallow_and_deep_copy.ipynb\n",
      "12_lambda_sort_sorted.ipynb\n",
      "13_kwargs.ipynb\n",
      "14_importando_modulos_e_biblioteca_padrao.ipynb\n",
      "15_list-comprehension.ipynb\n",
      "16_dict_e_set-comprehension_isinstance.ipynb\n",
      "17_dir_hasattr_getattr.ipynb\n",
      "18_reversed_zip_zip_longest.ipynb\n",
      "19_iterables_and_iterators.ipynb\n",
      "20_generator-expressions.ipynb\n",
      "21_generator-function.ipynb\n",
      "22_try-except_exceptions_else_finally_raise.ipynb\n",
      "23_modularizacao.ipynb\n",
      "24_pacotes.ipynb\n",
      "25_decorators.ipynb\n",
      "26_zip_longest_count_combinations_permutations_product_groupby.ipynb\n",
      "27_map_partial_generato_type_esgotamento_de_iterators_filter_reduce.ipynb\n",
      "28_funcoes_recursivas.ipynb\n",
      "29_ambientes_virtuais.ipynb\n",
      "30_manipulacao_de_arquivos.ipynb\n",
      "31_json.ipynb\n",
      "exercicios\n",
      "novo_nome.txt\n"
     ]
    }
   ],
   "source": [
    "os.rename(\"teste.txt\", \"novo_nome.txt\")\n",
    "arquivos = os.listdir()\n",
    "for arquivo in arquivos:\n",
    "    print(arquivo)"
   ]
  },
  {
   "cell_type": "markdown",
   "id": "d51fb080-4672-49a4-b86e-35fd93ba8439",
   "metadata": {},
   "source": [
    "- O arquivo foi renomeado com sucesso"
   ]
  }
 ],
 "metadata": {
  "kernelspec": {
   "display_name": "Python 3 (ipykernel)",
   "language": "python",
   "name": "python3"
  },
  "language_info": {
   "codemirror_mode": {
    "name": "ipython",
    "version": 3
   },
   "file_extension": ".py",
   "mimetype": "text/x-python",
   "name": "python",
   "nbconvert_exporter": "python",
   "pygments_lexer": "ipython3",
   "version": "3.12.7"
  }
 },
 "nbformat": 4,
 "nbformat_minor": 5
}
