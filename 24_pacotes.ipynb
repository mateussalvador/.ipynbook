{
 "cells": [
  {
   "cell_type": "markdown",
   "id": "8f760b76-23e7-4c25-83e9-46ae373f221c",
   "metadata": {},
   "source": [
    "# Pacotes\n",
    "- São 'pastas' com módulos Python.\n",
    "- A nomenclatura deve ser como a de módulos, que devem ser como a de variáveis.\n",
    "- Importar pacotes é inútil. Para importar o módulo que está num pacote, podemos usar `from nome_pacote import nome_modulo` ou `import nome_pacote.nome_modulo`"
   ]
  },
  {
   "cell_type": "markdown",
   "id": "63a86f44-8339-4a99-bd5b-79f278c4b8df",
   "metadata": {},
   "source": [
    "### curiosidade\n",
    "- Existe uma variável de ambiente `PYTHONPATH` que armazena o resultado de `sys.path`\n",
    "\n",
    "### curiosidade 2\n",
    "- Ao importar algo em um módulo x, ao importar o próprio módulo x em outro lugar, podemos acessar as coisas que foram importadas em módulo x.\n",
    "\n",
    "### curiosidade 3\n",
    "- Ao importar um módulo b num módulo a, ao importar o módulo a em um módulo c, ele executará todo o código de módulo a, inclusive a importação de b. Sendo assim, é preciso se atentar à metodologia utilizada para esta importação, de modo que não sejam gerados errados em relação ao ponto de vista do `__main__`\n",
    "- Sendo assim, o ideal é importar de uma forma que funcione para quaisquer pontos de vista."
   ]
  },
  {
   "cell_type": "markdown",
   "id": "3c3ae8d7-0b71-4342-804a-38607c555554",
   "metadata": {},
   "source": [
    "---\n",
    "## `__init__`\n",
    "- Os packages possuem um arquivo especial chamado `__init__.py` que pode estar vazio.\n",
    "- Sinaliza ao interpretador que um diretório deve ser tratado como um **pacote** do qual podemos importar módulos.\n",
    "- Antigamente era obrigatório. Hoje, não mais. Porém, seu uso ainda é recomendado por clareza e funcionalidades extras.\n",
    "- Pode estar ou não vazio\n",
    "### código de `__init__.py`\n",
    "- O código escrito dentro de `__init__.py` é executado uma única vez (quando qualquer módulo dentro daquele pacote é importante)\n",
    "- Útil para inicializar configurações ou variáveis a nível de pacote\n",
    "- Útil para simplificar imports. Podemos importar funções e classes de submódulos para o nível do pacote, facilitando a vida de quem usa o pacote.\n",
    "### Exemplo"
   ]
  },
  {
   "cell_type": "code",
   "execution_count": 1,
   "id": "d30d344c-7724-4716-ba91-fcd42f77b98e",
   "metadata": {},
   "outputs": [],
   "source": [
    "# utilidades/calculos.py\n",
    "\n",
    "def somar (a, b):\n",
    "    return a + b"
   ]
  },
  {
   "cell_type": "code",
   "execution_count": null,
   "id": "ba028580-778c-45cf-93b3-ef9ca7e1dafc",
   "metadata": {},
   "outputs": [],
   "source": [
    "# utilidades/__init__.py\n",
    "\n",
    "from .calculos import somar\n",
    "\n",
    "print(\"Pacote 'utilidades' foi inicializado!\")"
   ]
  },
  {
   "cell_type": "code",
   "execution_count": null,
   "id": "d6dc63f9-4e3d-4887-b16a-08a141a95826",
   "metadata": {},
   "outputs": [],
   "source": [
    "# programa_principal.py\n",
    "from utilidades utilidades import somar\n",
    "\n",
    "resultado = somar (10, 20)\n",
    "print(f\"O resultado da soma é: {resultado}\")\n",
    "\n",
    "# Ao executar programa_principal.py, o resultado seria:\n",
    "\n",
    "# Pacote 'utilidades' foi inicializado!\n",
    "# O resultado da soma é: 30"
   ]
  }
 ],
 "metadata": {
  "kernelspec": {
   "display_name": "Python 3 (ipykernel)",
   "language": "python",
   "name": "python3"
  },
  "language_info": {
   "codemirror_mode": {
    "name": "ipython",
    "version": 3
   },
   "file_extension": ".py",
   "mimetype": "text/x-python",
   "name": "python",
   "nbconvert_exporter": "python",
   "pygments_lexer": "ipython3",
   "version": "3.13.5"
  }
 },
 "nbformat": 4,
 "nbformat_minor": 5
}
