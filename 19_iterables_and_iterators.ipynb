{
 "cells": [
  {
   "attachments": {},
   "cell_type": "markdown",
   "id": "54fdb94c-9ee7-4be4-8eec-d3c6bffd9980",
   "metadata": {},
   "source": [
    "# Iteráveis\n",
    "- **Um objeto capaz de retornar seus membros um de cada vez.**\n",
    "- Qualquer objeto definido com método `__iter__()` ou `__getitem__()`\n",
    "- Podem ser usados em um laço for e em vários outros lugares em que uma sequência é necessária (zip(), map(), …). \n",
    "\n",
    "# Iteradores\n",
    "- Objeto que representa um fluxo de dados\n",
    "- Precisam ter o método `__iter__()` e `__next__()`\n",
    "\n",
    "## `next` \n",
    "- Entrega o próximo valor\n",
    "## `iter`\n",
    "- Entrega o iterador de um iterável\n",
    "\n",
    "## `iter()` vs `__iter__()` e `next()` vs `__next__()`\n",
    "- Usar a função `iter(objeto)` é a mesma coisa que chamar o método `__iter__()` do objeto. Na verdade, é iso que é feito, mas de forma menos 'poluída visualmente'. O mesmo ocorre com `next()` e `__next__()`\n",
    "\n",
    "# Como o for funciona por baixo dos panos?\n",
    "- Quando utilizamos o for com esses objetos, a primeira coisa que ele faz é solicitar o iterador daquele objeto.\n",
    "- Ao passar `for letra in texto`, ele cria um iterador de `texto` e vai dando `next(iterador)` até que encontre a exceção `StopIteration`, que é gerada quando um `iterador` é **esgotado**. Veja um exemplo abaixo: "
   ]
  },
  {
   "cell_type": "code",
   "execution_count": 3,
   "id": "4813066a-b649-4c49-bde0-c6afb3363a22",
   "metadata": {},
   "outputs": [
    {
     "name": "stdout",
     "output_type": "stream",
     "text": [
      "M\n",
      "a\n",
      "t\n",
      "e\n",
      "u\n",
      "s\n"
     ]
    }
   ],
   "source": [
    "texto = \"Mateus\"\n",
    "iterador = iter(texto)\n",
    "\n",
    "while True:\n",
    "    try:\n",
    "        letra = next(iterador)\n",
    "        print(letra)\n",
    "    except StopIteration:\n",
    "        break"
   ]
  },
  {
   "cell_type": "markdown",
   "id": "d15a33a8-0384-4fa2-93e3-059c0369eadc",
   "metadata": {},
   "source": [
    "### nota\n",
    "- Por padrão, ao usar iteráveis, normalmente não é necessário chamar `iter()` ou lidar com os objetos iteradores em si. A instrução `for` faz isso automaticamente, criando uma variável temporária para armazenar o iterador durante a execução do laço.\n",
    "- O iterator não pode ser acessado por índices ou ter, por exemplo, um `len(iterator)`."
   ]
  }
 ],
 "metadata": {
  "kernelspec": {
   "display_name": "Python 3 (ipykernel)",
   "language": "python",
   "name": "python3"
  },
  "language_info": {
   "codemirror_mode": {
    "name": "ipython",
    "version": 3
   },
   "file_extension": ".py",
   "mimetype": "text/x-python",
   "name": "python",
   "nbconvert_exporter": "python",
   "pygments_lexer": "ipython3",
   "version": "3.13.5"
  }
 },
 "nbformat": 4,
 "nbformat_minor": 5
}
