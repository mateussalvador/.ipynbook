{
 "cells": [
  {
   "cell_type": "markdown",
   "id": "24dfdb27-2f6b-4527-b54b-5cea848ac789",
   "metadata": {},
   "source": [
    "# Operação ternária\n",
    "- É uma condicional de uma só linha.\n",
    "\n",
    "## Sintaxe\n",
    "`<valor> if <condicao> else <outro_valor>`"
   ]
  },
  {
   "cell_type": "code",
   "execution_count": 1,
   "id": "0c7e4cf0-5ea7-48b7-8515-2291227a5dcb",
   "metadata": {},
   "outputs": [
    {
     "name": "stdout",
     "output_type": "stream",
     "text": [
      "Entre 2 e 4 valor\n"
     ]
    }
   ],
   "source": [
    "i = 4\n",
    "\n",
    "print(\"Menor que dois\" if i < 2 else \"Entre 2 e 4 valor\" if i <= 4 else \"Maior que 4\")"
   ]
  },
  {
   "cell_type": "code",
   "execution_count": 5,
   "id": "2e5c0857-6d23-4c8a-a970-f60d249f8f39",
   "metadata": {},
   "outputs": [
    {
     "name": "stdin",
     "output_type": "stream",
     "text": [
      "Digite um número:  5\n"
     ]
    },
    {
     "name": "stdout",
     "output_type": "stream",
     "text": [
      "O número é ímpar\n"
     ]
    }
   ],
   "source": [
    "## Verificando se o número é par ou ímpar\n",
    "\n",
    "numero = int(input(\"Digite um número: \"))\n",
    "\n",
    "print(\"O número é par\" if (numero % 2 == 0)  else \"O número é ímpar\")"
   ]
  },
  {
   "cell_type": "markdown",
   "id": "7ca03116-f7ca-42b2-be5e-8c52841696a4",
   "metadata": {},
   "source": [
    "# Empacotamento e Desempacotamento\n",
    "- São conceitos que permitem agrupar vários valores em uma única variável ou extrair valores de uma coleção e atribuir a variáveis individuais.\n",
    "\n",
    "## Empacotamento\n",
    "- Múltiplos valores são agrupados em uma única estrutura de dados. \n",
    "- Ocorre implicitamente ao atribuir vários valores a uma única variável. A forma mais comum de empacotamento resulta em uma tupla."
   ]
  },
  {
   "cell_type": "code",
   "execution_count": 12,
   "id": "cb789df0-e446-4ed7-8a00-dc92db19354e",
   "metadata": {},
   "outputs": [
    {
     "name": "stdout",
     "output_type": "stream",
     "text": [
      "(10, 20, 30)\n",
      "<class 'tuple'>\n"
     ]
    }
   ],
   "source": [
    "coordenadas = 10, 20, 30 \n",
    "print(coordenadas) \n",
    "print(type(coordenadas))"
   ]
  },
  {
   "cell_type": "markdown",
   "id": "ed8a3c66-48bb-447d-9f41-876f0a985b8f",
   "metadata": {},
   "source": [
    "## Desempacotamento\n",
    "- Os elementos de uma coleção são atribuídos a variáveis individuais. \n",
    "- O número de variáveis deve ser igual ao número de elementos na coleção.\n",
    "- **Importante: Se o número de variáveis não corresponder ao número de elementos, um `ValueError` será levantado**"
   ]
  },
  {
   "cell_type": "code",
   "execution_count": 13,
   "id": "83f9e953-30a8-4fd2-8ce7-8acc5d2b7108",
   "metadata": {},
   "outputs": [
    {
     "name": "stdout",
     "output_type": "stream",
     "text": [
      "X: 5, Y: 10\n"
     ]
    }
   ],
   "source": [
    "ponto = (5, 10)\n",
    "x, y = ponto\n",
    "print(f\"X: {x}, Y: {y}\")"
   ]
  },
  {
   "cell_type": "markdown",
   "id": "ac7fdaba-0ae8-4cf9-8a3e-c74ff378f17a",
   "metadata": {},
   "source": [
    "## Desempacotamento com `*`\n",
    "- Usado para capturar valores excedentes. Aqui, podemos passar menos variáveis que a quantidade de valores na coleção.\n",
    "- **O operador só pode ser usado uma vez por operação de desempacotamento.**"
   ]
  },
  {
   "cell_type": "code",
   "execution_count": 14,
   "id": "50162f3d-7c5e-49c7-8f79-44802caa3f62",
   "metadata": {},
   "outputs": [
    {
     "name": "stdout",
     "output_type": "stream",
     "text": [
      "1\n",
      "[2, 3, 4]\n",
      "5\n"
     ]
    }
   ],
   "source": [
    "lista = [1, 2, 3, 4, 5]\n",
    "\n",
    "primeiro, *meio, ultimo = lista\n",
    "print(primeiro)\n",
    "print(meio)\n",
    "print(ultimo)"
   ]
  },
  {
   "cell_type": "markdown",
   "id": "3eee6bf9-cf78-4a4d-9252-aee999163911",
   "metadata": {},
   "source": [
    "## Desempacotamento em Chamadas de Função"
   ]
  },
  {
   "cell_type": "code",
   "execution_count": 17,
   "id": "94a22b0e-50af-4ed7-a41c-a5a7e1664fca",
   "metadata": {},
   "outputs": [
    {
     "name": "stdout",
     "output_type": "stream",
     "text": [
      "Oi , tudo bem?\n"
     ]
    }
   ],
   "source": [
    "valores = \"Oi\", \",\", \"tudo bem?\"\n",
    "print(*valores, sep = \" \")"
   ]
  },
  {
   "cell_type": "markdown",
   "id": "72bcc8bc-f695-434d-a634-2d5349131413",
   "metadata": {},
   "source": [
    "## Desempacotamento para construir novas listas"
   ]
  },
  {
   "cell_type": "code",
   "execution_count": 19,
   "id": "f373f2b4-cc5a-49ef-9fd2-420823a8a361",
   "metadata": {
    "jp-MarkdownHeadingCollapsed": true
   },
   "outputs": [
    {
     "name": "stdout",
     "output_type": "stream",
     "text": [
      "[1, 2, 3, 4, 5, 6]\n"
     ]
    }
   ],
   "source": [
    "lista1 = [1, 2, 3]\n",
    "lista2 = [4, 5, 6]\n",
    "nova_lista = [*lista1, *lista2]\n",
    "print(nova_lista)"
   ]
  },
  {
   "cell_type": "markdown",
   "id": "e210d46a-989e-4905-8c84-61e4eab55669",
   "metadata": {},
   "source": [
    "## Ignorando valores com underline\n",
    "- É convenção usar o `_` para ignorar valores que não precisamos desempacotar."
   ]
  },
  {
   "cell_type": "code",
   "execution_count": 26,
   "id": "91f38e87-19c2-43cb-8d24-aed753563f70",
   "metadata": {},
   "outputs": [
    {
     "name": "stdout",
     "output_type": "stream",
     "text": [
      "Helena\n"
     ]
    }
   ],
   "source": [
    "_, nome, *_ = [\"Maria\", \"Helena\", \"Luiz\"] \n",
    "\n",
    "segundo_nome = nome\n",
    "print(segundo_nome)"
   ]
  },
  {
   "cell_type": "markdown",
   "id": "9759131a-2647-4fd8-9b4a-eaa40be9dcaa",
   "metadata": {},
   "source": [
    "## Desempacotamento aninhado"
   ]
  },
  {
   "cell_type": "code",
   "execution_count": 28,
   "id": "595eebc8-d5e2-4988-bb5b-a1289fabaa5d",
   "metadata": {},
   "outputs": [
    {
     "name": "stdout",
     "output_type": "stream",
     "text": [
      "1 2 3 4\n"
     ]
    }
   ],
   "source": [
    "lista_aninhada = [1, [2, 3], 4]\n",
    "\n",
    "a, (b,c), d = lista_aninhada\n",
    "\n",
    "print(a, b, c, d)"
   ]
  },
  {
   "cell_type": "markdown",
   "id": "a530f895-7954-4c0d-8bf1-4453cd176d63",
   "metadata": {},
   "source": [
    "# Tuplas\n",
    "- Semelhante às listas, mas imutáveis.\n",
    "- Mais vantajosa em termo de processamento.\n",
    "- Úteis para listar dados que não precisam ser alterados.\n",
    "## Como criar tuplas \n",
    "- Separando valores por vírgulas\n",
    "- Passando os valores separados por vírgula e entre parênteses\n",
    "- Convertendo uma lista para uma tupla"
   ]
  },
  {
   "cell_type": "code",
   "execution_count": 7,
   "id": "965fab3a-1bec-48b2-a64d-5030075abb88",
   "metadata": {},
   "outputs": [
    {
     "name": "stdout",
     "output_type": "stream",
     "text": [
      "Tipo da tupla 1: <class 'tuple'>\n",
      "Tipo da tupla 2: <class 'tuple'>\n",
      "Tipo da tupla 3: <class 'tuple'>\n"
     ]
    }
   ],
   "source": [
    "tupla1 = 1, 2, 3\n",
    "tupla2 = (4, 5, 6)\n",
    "\n",
    "lista = [7, 8, 9]\n",
    "tupla3 = tuple(lista)\n",
    "\n",
    "print(\"Tipo da tupla 1:\", type(tupla1))\n",
    "print(\"Tipo da tupla 2:\", type(tupla2))\n",
    "print(\"Tipo da tupla 3:\", type(tupla3))"
   ]
  },
  {
   "cell_type": "markdown",
   "id": "3df92722-3175-48cc-8489-daffd1d990f2",
   "metadata": {},
   "source": [
    "## Como criar uma tupla de um elemento\n",
    "- Ao passar algo do tipo `num = 1`, `letra = (\"a\")`, esses elementos não são lidos como uma tupla. Para que isso ocorra é preciso passar uma vírgula após o elemento, mesmo que não seja passado nada após ela."
   ]
  },
  {
   "cell_type": "code",
   "execution_count": 9,
   "id": "1c07bfc1-fa8b-41e9-884b-2aadfca591a7",
   "metadata": {},
   "outputs": [
    {
     "name": "stdout",
     "output_type": "stream",
     "text": [
      "Os tipos das variáveis num e letra são, respecitvamente: <class 'int'> <class 'str'>\n",
      "Agora, os tipos das variáveis num2 e letra2 são, respecitvamente: <class 'tuple'> <class 'tuple'>\n"
     ]
    }
   ],
   "source": [
    "num = (1)\n",
    "letra = (\"a\")\n",
    "\n",
    "print(\"Os tipos das variáveis num e letra são, respecitvamente:\", type(num), type(letra))\n",
    "\n",
    "# Colocando vírgula\n",
    "num2 = (1,)\n",
    "letra2 = (\"a\",)\n",
    "print(\"Agora, os tipos das variáveis num2 e letra2 são, respecitvamente:\", type(num2), type(letra2))"
   ]
  },
  {
   "cell_type": "markdown",
   "id": "a15ff2f3-8171-4e8b-8d0d-a14e970ec2cb",
   "metadata": {},
   "source": [
    "## Métodos\n",
    "- `count()`: Conta as ocorrências de um valor\n",
    "- `index()`: Retorna o índice da primeira ocorrência de um valor\n",
    "## Mutáveis dentro de imutáveis\n",
    "- Objetos mutáveis dentro de imutáveis podem existir e podem ser alterados.\n",
    "\n",
    "## Operações com tuplas\n",
    "- Podemos:\n",
    "    - Concatenar\n",
    "    - Repetir"
   ]
  },
  {
   "cell_type": "code",
   "execution_count": 13,
   "id": "32322612-f42c-4b5b-aa62-46f6439f7817",
   "metadata": {},
   "outputs": [
    {
     "name": "stdout",
     "output_type": "stream",
     "text": [
      "['mouse', 'teclado']\n",
      "['mouse', 'fone']\n"
     ]
    }
   ],
   "source": [
    "produtos = (\"notebook\", \"pc\", \"televisão\", [\"mouse\", \"teclado\"], \"microondas\")\n",
    "print(produtos[3])\n",
    "\n",
    "produtos[3][1] = \"fone\"\n",
    "print(produtos[3])"
   ]
  },
  {
   "cell_type": "markdown",
   "id": "e4153fdb-90e5-4a6d-891e-295ceb3217ba",
   "metadata": {},
   "source": [
    "# Enumerate()\n",
    "- Função embutida que adiciona um contador a um iterável, tornando possível retornar pares de índice e valor correspondente.\n",
    "## Sintaxe\n",
    "- `enumerate(iteravel, start=0)`\n",
    "- O `start` é um número inteiro que define o valor inicial do contador. Por padrão, é o número 0.\n",
    "## Exemplo"
   ]
  },
  {
   "cell_type": "code",
   "execution_count": 15,
   "id": "48296a7b-3baa-4504-bd8e-02494f957a5d",
   "metadata": {},
   "outputs": [
    {
     "name": "stdout",
     "output_type": "stream",
     "text": [
      "1: maçã\n",
      "2: banana\n",
      "3: melancia\n",
      "4: morango\n"
     ]
    }
   ],
   "source": [
    "frutas = [\"maçã\", \"banana\", \"melancia\", \"morango\"]\n",
    "\n",
    "for indice, fruta in enumerate(frutas, start=1):\n",
    "    print(f\"{indice}: {fruta}\")"
   ]
  },
  {
   "cell_type": "markdown",
   "id": "374e2d2d-0c69-4ec8-9e21-181f460f34fd",
   "metadata": {},
   "source": [
    "## Como funciona o enumerate?\n",
    "- Cria uma lista de tuplas que armazenam o índice e valor de cada elemento.\n",
    "- Essas tuplas podem ser desempacotadas. "
   ]
  },
  {
   "cell_type": "code",
   "execution_count": 18,
   "id": "8f8c913a-0235-4728-b09e-cdd9347d4fd8",
   "metadata": {},
   "outputs": [
    {
     "name": "stdout",
     "output_type": "stream",
     "text": [
      "[(1, 'maçã'), (2, 'banana'), (3, 'melancia'), (4, 'morango')]\n",
      "(4, 'morango')\n"
     ]
    }
   ],
   "source": [
    "frutas = [\"maçã\", \"banana\", \"melancia\", \"morango\"]\n",
    "\n",
    "lista = list(enumerate(frutas, start = 1))\n",
    "print(lista)\n",
    "print(lista[3])"
   ]
  },
  {
   "cell_type": "markdown",
   "id": "7d888d67-757d-40cc-949e-454bd49eaaa5",
   "metadata": {},
   "source": [
    "# Imprecisão dos números de ponto flutuante\n",
    "- Várias linguagens, inclusive o Python, sofrem com essa imprecisão nos valores de pontos flutuantes. Por exemplo, ao somar 0.1 + 0.7, não obtemos 0.8 como deveríamos."
   ]
  },
  {
   "cell_type": "code",
   "execution_count": 24,
   "id": "14fd3125-6054-4425-8f69-2069eb5ba052",
   "metadata": {},
   "outputs": [
    {
     "name": "stdout",
     "output_type": "stream",
     "text": [
      "0.8\n"
     ]
    }
   ],
   "source": [
    "num1 = 0.1\n",
    "num2 = 0.7\n",
    "num3 = num1 + num2\n",
    "print(f\"{num3:.1f}\")\n"
   ]
  },
  {
   "cell_type": "markdown",
   "id": "613b6526-39ee-4260-8a00-3b736cc9c3e7",
   "metadata": {},
   "source": [
    "- Note que, ao formatar a quantidade de casas decimais, ele arredonda para o valor correto."
   ]
  },
  {
   "cell_type": "markdown",
   "id": "a3e9095a-a2c7-4175-9d33-616ef0301455",
   "metadata": {},
   "source": [
    "## Corrigindo o problema\n",
    "- Usamos o módulo `decimal`, que precisa ser importado.\n",
    "- Quando precisarmos de bastante precisão, podemos usar este módulo. É como criar um novo tipo de dado decimal, mas para utilizar, precisamos converter o dado de origem para este tipo.\n",
    "### Observação \n",
    "- **IMPORTANTE:** Se convertermos o número float diretamente para decimal, será convertido o seu valor real, que por si só já é um valor impreciso, gerando erros. **POR ISSO, O CORRETO É CONVERTER `str` PARA `decimal`**"
   ]
  },
  {
   "cell_type": "code",
   "execution_count": 30,
   "id": "09609e89-054e-4f9a-8289-e739419d508f",
   "metadata": {
    "scrolled": true
   },
   "outputs": [
    {
     "name": "stdout",
     "output_type": "stream",
     "text": [
      "0.8\n"
     ]
    }
   ],
   "source": [
    "import decimal\n",
    "\n",
    "num1 = decimal.Decimal(\"0.1\")\n",
    "num2 = decimal.Decimal(\"0.7\")\n",
    "num3 = num1 + num2\n",
    "print(num3)"
   ]
  },
  {
   "cell_type": "markdown",
   "id": "40ee40ce-f283-47be-82ab-9858c67ed8f3",
   "metadata": {},
   "source": [
    "# Validação de CPF\n",
    "- Para verificar se o CPF do usuário é válido, devemos utilizar os dígitos verificadores como base para o cálculo.\n",
    "- Os dígitos verificadores são so dois últimos dígitos, separados por um hífen.\n",
    "- O antepenúltimo dígito do CPF indica a região fiscal em que seu portador registrou o seu CPF.\n",
    "\n",
    "## Validando o primeiro dígito do CPF\n",
    "1. Multiplica-se cada um dos primeiros nove dígitos por uma sequência decrescente do 10 ao 2.\n",
    "\n",
    "|  | 6 | 6 | 7 | 5 | 5 | 6 | 3 | 1 | 7 |  |  |\n",
    "| --- | --- | --- | --- | --- | --- | --- | --- | --- | --- | --- | --- |\n",
    "|  x | 10 | 9 | 8 | 7 | 6 | 5 | 4 | 3 | 2 |  |  |\n",
    "| = | 60 | 54 | 56 | 35 | 30 | 30 | 12 | 3 | 14 |  |  |\n",
    "\n",
    "2. Agora, devemos somar todos os resultados: `60 + 54 + 56 + 35 + 30 + 30 + 12 + 3 + 14 = 294`\n",
    "\n",
    "3. Obter o resto da divisão deste somatório por 11.\n",
    "\n",
    "4. Verificar o primeiro dígito\n",
    "    - Se o resto for menor que 2, então o próprio resto deverá ser o dígito.\n",
    "    - Se for igual ou maior a 2, o dígito será o resultado da subtração de **11 - `resto`**\n",
    "\n",
    "## Validando o segundo dígito\n",
    "- Para validar o segundo dígito, basta repetir o mesmo processo. **Porém, agora o primeiro dígito é acrescentado e os dígitos são multiplicados por uma sequência que vai do 11 ao 2.**"
   ]
  },
  {
   "cell_type": "code",
   "execution_count": 39,
   "id": "935eca5e-77c8-4f4e-9dc2-78f030be4fc4",
   "metadata": {},
   "outputs": [
    {
     "name": "stdout",
     "output_type": "stream",
     "text": [
      "232\n",
      "----- RELATÓRIO -----\n",
      "D1 válido: 2\n",
      "D2 válido: 1\n",
      "\n",
      "D1 do CPF informado: 2\n",
      "D2 do CPF informado: 0\n",
      "\n",
      "RESULTADO: \n",
      "O CPF é inválido\n"
     ]
    }
   ],
   "source": [
    "cpf = \"753.013.184-20\".replace(\".\", \"\").replace(\"-\", \"\")\n",
    "soma = 0\n",
    "soma2 = 0\n",
    "novo_cpf = \"\"\n",
    "\n",
    "if not (cpf.isdigit() and len(cpf) == 11):\n",
    "    print(\"Informe um CPF válido.\")\n",
    "\n",
    "# Validando o o primeiro dígito\n",
    "for indice, digito in enumerate(cpf, start = 0):\n",
    "    soma += int(digito) * (10 - indice)\n",
    "    novo_cpf += digito\n",
    "    if indice == 8:\n",
    "        break\n",
    "\n",
    "resto = soma % 11\n",
    "\n",
    "digito1 = resto if (resto < 2) else (11 - resto)\n",
    "\n",
    "\n",
    "# Adicionando o dígito ao CPF\n",
    "novo_cpf += str(digito1)\n",
    "\n",
    "\n",
    "# Validando o segundo dígito\n",
    "for indice, digito in enumerate(cpf, start = 0):\n",
    "    soma2 += int(digito) * (11 - indice)\n",
    "    if indice == 9:\n",
    "        break\n",
    "print(soma2)\n",
    "\n",
    "resto2 = soma2 % 11\n",
    "\n",
    "digito2 = resto2 if (resto2 < 2) else (11 - resto2)\n",
    "\n",
    "# Adicionando o dígito ao CPF\n",
    "novo_cpf += str(digito2)\n",
    "\n",
    "print(\"-\" * 5 + \" RELATÓRIO \" + \"-\" * 5)\n",
    "print(f\"D1 válido: {digito1}\")\n",
    "print(f\"D2 válido: {digito2}\")\n",
    "print()\n",
    "print(f\"D1 do CPF informado: {cpf[-2]}\")\n",
    "print(f\"D2 do CPF informado: {cpf[-1]}\")\n",
    "print(\"\\nRESULTADO: \")\n",
    "if cpf == novo_cpf:\n",
    "    print(\"O CPF é válido\")\n",
    "else:\n",
    "    print(\"O CPF é inválido\")\n",
    "\n",
    "\n",
    "\n",
    "    \n"
   ]
  },
  {
   "cell_type": "code",
   "execution_count": null,
   "id": "97532dd3-6293-496a-a6b3-43a08b297ff4",
   "metadata": {},
   "outputs": [],
   "source": []
  }
 ],
 "metadata": {
  "kernelspec": {
   "display_name": "Python 3 (ipykernel)",
   "language": "python",
   "name": "python3"
  },
  "language_info": {
   "codemirror_mode": {
    "name": "ipython",
    "version": 3
   },
   "file_extension": ".py",
   "mimetype": "text/x-python",
   "name": "python",
   "nbconvert_exporter": "python",
   "pygments_lexer": "ipython3",
   "version": "3.12.7"
  }
 },
 "nbformat": 4,
 "nbformat_minor": 5
}
