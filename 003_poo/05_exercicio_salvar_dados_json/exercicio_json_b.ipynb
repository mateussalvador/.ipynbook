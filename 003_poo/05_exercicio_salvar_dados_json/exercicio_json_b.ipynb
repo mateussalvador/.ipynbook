{
 "cells": [
  {
   "cell_type": "code",
   "execution_count": 38,
   "id": "aa705807-2e0c-4468-8eeb-bc3445286a5f",
   "metadata": {},
   "outputs": [
    {
     "name": "stdout",
     "output_type": "stream",
     "text": [
      "[{'nome': 'Mateus', 'idade': 22, 'cidade': 'Brasília'}, {'nome': 'Claudio', 'idade': 54, 'cidade': 'Piancó'}, {'nome': 'Irê', 'idade': 50, 'cidade': 'Quixaba'}]\n",
      "<class 'list'>\n"
     ]
    }
   ],
   "source": [
    "import json\n",
    "with open(\"05_exercicio_salvar_dados_json/exercicio.json\", \"r+\", encoding=\"utf-8\") as file:\n",
    "    dados_json = json.load(file)  \n",
    "\n",
    "print(dados_json)\n",
    "print(type(dados_json))"
   ]
  },
  {
   "cell_type": "code",
   "execution_count": 43,
   "id": "f00949f4-d635-4e0a-a35c-561a97a90528",
   "metadata": {},
   "outputs": [
    {
     "name": "stdout",
     "output_type": "stream",
     "text": [
      "{'nome': 'Mateus', 'idade': 22, 'cidade': 'Brasília'}\n",
      "{'nome': 'Claudio', 'idade': 54, 'cidade': 'Piancó'}\n",
      "{'nome': 'Irê', 'idade': 50, 'cidade': 'Quixaba'}\n"
     ]
    }
   ],
   "source": [
    "class Pessoa:\n",
    "    def __init__(self, nome = None, idade = None, cidade = None):\n",
    "        self.nome = nome\n",
    "        self.idade = idade\n",
    "        self.cidade = cidade\n",
    "        \n",
    "p1 = Pessoa()\n",
    "p2 = Pessoa()\n",
    "p3 = Pessoa()\n",
    "\n",
    "p1.__dict__.update(dados_json[0])\n",
    "p2.__dict__.update(dados_json[1])\n",
    "p3.__dict__.update(dados_json[2])\n",
    "\n",
    "print(vars(p1))\n",
    "print(vars(p2))\n",
    "print(vars(p3))"
   ]
  }
 ],
 "metadata": {
  "kernelspec": {
   "display_name": "Python 3 (ipykernel)",
   "language": "python",
   "name": "python3"
  },
  "language_info": {
   "codemirror_mode": {
    "name": "ipython",
    "version": 3
   },
   "file_extension": ".py",
   "mimetype": "text/x-python",
   "name": "python",
   "nbconvert_exporter": "python",
   "pygments_lexer": "ipython3",
   "version": "3.11.5"
  }
 },
 "nbformat": 4,
 "nbformat_minor": 5
}
