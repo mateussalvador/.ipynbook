{
 "cells": [
  {
   "cell_type": "markdown",
   "id": "7c349a36-7144-4c8f-81ca-37a5d409bd4a",
   "metadata": {},
   "source": [
    "# Encapsulamento (v1) - Learning Python Design Patterns - Chetan Giridhar\n",
    "- Pra Giridhar, encapsulamento é:\n",
    "    - Atributo oculto do mundo, estado privado\n",
    "    - Clientes da classe não podem modificar o Atributo\n",
    "    - Por convenção, devemos colocar `_atributo`\n",
    "\n",
    "# Encapsulamento (v2) - Python 3 Object-oriented Programming - Dusty Phillips\n",
    "- Pra Philips, encapsulamento é diferente de \"ocultar\" informações, é mais abrangente do que isso.\n",
    "- Imagine que você coloque uma carta em uma garrafa. Se você enterrar ela, a mensagem vai estar oculta, já se a garrafa não for enterrada e for transparente, você vai conseguir visualizar\n",
    "\n",
    "# Encapsulamento (v3) - Programming Language Pragmatics - Michael L. Scott\n",
    "- A resposta de Scott é:\n",
    "    - Mecanismos de encapsulamento permitem ao programador agrupar dados e as sub-rotinas que operam neles juntos em um único lugar, e ocultar detalhes irrelevantes dos usuários de uma abstração.\n",
    " \n",
    "---\n",
    "\n",
    "- O `_` é usado por convenção para aquelas coisas que 'não queremos que os usuários vejam/utilizem', mesmo que sejam acessíveis."
   ]
  }
 ],
 "metadata": {
  "kernelspec": {
   "display_name": "Python 3 (ipykernel)",
   "language": "python",
   "name": "python3"
  },
  "language_info": {
   "codemirror_mode": {
    "name": "ipython",
    "version": 3
   },
   "file_extension": ".py",
   "mimetype": "text/x-python",
   "name": "python",
   "nbconvert_exporter": "python",
   "pygments_lexer": "ipython3",
   "version": "3.12.7"
  }
 },
 "nbformat": 4,
 "nbformat_minor": 5
}
