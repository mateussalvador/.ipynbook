{
 "cells": [
  {
   "cell_type": "markdown",
   "id": "e1180dda-dabe-4f44-9139-188226a9d22c",
   "metadata": {},
   "source": [
    "# Criando Exceptions em Python\n",
    "- Precisamos apenas herdar de alguma exceção da linguagem.\n",
    "- Por convenção, colocamos `Error`ao final do nome da exceção\n",
    "### BaseException\n",
    "- Todas as exceções em Python herdam de BaseException, porém, o correto é herdar de `Exception` "
   ]
  },
  {
   "cell_type": "code",
   "execution_count": 1,
   "id": "89bc3aff-e43b-439b-9206-625e872a8c41",
   "metadata": {},
   "outputs": [],
   "source": [
    "class MeuError(Exception):\n",
    "    ..."
   ]
  },
  {
   "cell_type": "markdown",
   "id": "ddc87f0d-9644-4e90-8fda-40c6dd3f4b07",
   "metadata": {},
   "source": [
    "## Levantando e lançando exceções\n",
    "- Para 'mostrar' exceções, são comumente usadas as palavras **raise** e **throw**, que se referem à mesma coisa."
   ]
  },
  {
   "cell_type": "code",
   "execution_count": 7,
   "id": "db89ad0d-e5e2-403e-99ee-53441a9f096e",
   "metadata": {},
   "outputs": [
    {
     "name": "stdout",
     "output_type": "stream",
     "text": [
      "MyError: A mensagem do meu erro\n"
     ]
    }
   ],
   "source": [
    "class MyError(Exception):\n",
    "    ...\n",
    "\n",
    "def levantar():\n",
    "    exception_ = MyError(\"A mensagem do meu erro\")\n",
    "    raise exception_\n",
    "try:\n",
    "    levantar()\n",
    "except MyError as e:\n",
    "    \n",
    "    print(f\"{e.__class__.__name__}: {e}\")"
   ]
  }
 ],
 "metadata": {
  "kernelspec": {
   "display_name": "Python 3 (ipykernel)",
   "language": "python",
   "name": "python3"
  },
  "language_info": {
   "codemirror_mode": {
    "name": "ipython",
    "version": 3
   },
   "file_extension": ".py",
   "mimetype": "text/x-python",
   "name": "python",
   "nbconvert_exporter": "python",
   "pygments_lexer": "ipython3",
   "version": "3.11.5"
  }
 },
 "nbformat": 4,
 "nbformat_minor": 5
}
