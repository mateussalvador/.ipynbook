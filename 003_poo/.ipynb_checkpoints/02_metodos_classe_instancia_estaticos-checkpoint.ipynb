{
 "cells": [
  {
   "cell_type": "markdown",
   "id": "715819cf-a750-47bf-b4e6-8a4d9a4fd893",
   "metadata": {},
   "source": [
    "# self x cls\n",
    "- Usamos **self** sempre que queremos falar com o exemplo (instância / objeto)\n",
    "- Usamos **cls** quando queremos falar com a classe"
   ]
  },
  {
   "cell_type": "code",
   "execution_count": 6,
   "id": "07e94d85-6767-4c87-980f-28a77d993e5d",
   "metadata": {},
   "outputs": [],
   "source": [
    "class Fila:\n",
    "    c_fila = []\n",
    "\n",
    "    @classmethod\n",
    "    def c_entrar(cls, obj):\n",
    "        cls.c_fila.append(obj)\n",
    "\n",
    "    def __init__(self):\n",
    "        self.s_fila = []\n",
    "\n",
    "    def s_entrar(self, obj):\n",
    "        self.s_fila.append(obj)"
   ]
  },
  {
   "cell_type": "markdown",
   "id": "e53d4f42-b369-4820-90ca-f608be05c320",
   "metadata": {},
   "source": [
    "- A variável da classe será comum a todos os objetos\n",
    "- O decorador @classmethod deixa explícito que é um método de classe\n",
    "- O `__init__` não é um construtor, mas sim um **inicializador**. Tudo que é criado em init, é criado individualmente para cada objeto.\n",
    "- O nome do método construtor no Python é o `__new__`"
   ]
  },
  {
   "cell_type": "code",
   "execution_count": 7,
   "id": "40ec03f7-5ce5-4138-b893-d1addb915d87",
   "metadata": {},
   "outputs": [
    {
     "name": "stdout",
     "output_type": "stream",
     "text": [
      "mercado.s_fila = []\n",
      "mercado.c_fila = ['Mateus', 'Sandy']\n"
     ]
    }
   ],
   "source": [
    "Fila.c_entrar(\"Mateus\")\n",
    "Fila.c_entrar(\"Sandy\")\n",
    "\n",
    "mercado = Fila()\n",
    "print(f\"{mercado.s_fila = }\")\n",
    "print(f\"{mercado.c_fila = }\")"
   ]
  },
  {
   "cell_type": "code",
   "execution_count": 9,
   "id": "cfc4b52e-56cc-4771-8b25-7bf0beb435f2",
   "metadata": {},
   "outputs": [
    {
     "ename": "TypeError",
     "evalue": "Fila.s_entrar() missing 1 required positional argument: 'obj'",
     "output_type": "error",
     "traceback": [
      "\u001b[31m---------------------------------------------------------------------------\u001b[39m",
      "\u001b[31mTypeError\u001b[39m                                 Traceback (most recent call last)",
      "\u001b[36mCell\u001b[39m\u001b[36m \u001b[39m\u001b[32mIn[9]\u001b[39m\u001b[32m, line 2\u001b[39m\n\u001b[32m      1\u001b[39m mercado.c_entrar(\u001b[33m\"\u001b[39m\u001b[33mKauan\u001b[39m\u001b[33m\"\u001b[39m)\n\u001b[32m----> \u001b[39m\u001b[32m2\u001b[39m \u001b[43mFila\u001b[49m\u001b[43m.\u001b[49m\u001b[43ms_entrar\u001b[49m\u001b[43m(\u001b[49m\u001b[33;43m\"\u001b[39;49m\u001b[33;43mCamila\u001b[39;49m\u001b[33;43m\"\u001b[39;49m\u001b[43m)\u001b[49m\n",
      "\u001b[31mTypeError\u001b[39m: Fila.s_entrar() missing 1 required positional argument: 'obj'"
     ]
    }
   ],
   "source": [
    "mercado.c_entrar(\"Kauan\")\n",
    "Fila.s_entrar(\"Camila\")"
   ]
  },
  {
   "cell_type": "markdown",
   "id": "be134850-2b81-450e-b6a3-4b5b82e3a177",
   "metadata": {},
   "source": [
    "- Os métodos e atributos da classe são acessíveis nas instâncias, mas não o contrário.\n",
    "- Sendo assim, podemos acessar os dois atributos numa chaamda de um método de instância, se necessário.\n",
    "\n",
    "---\n",
    "\n",
    "# Tipos de método\n",
    "- **Métodos de instância**\n",
    "    - Não usa decorador\n",
    "    - Só funcionam na instância da classe\n",
    "    - Manipulam atributos da instância\n",
    "- **Métodos de classe**\n",
    "    - Funcionam a todo momento, até mesmo na instância\n",
    "    - Manipulam atributos de classe\n",
    "    - Usam o decorador **`@classmethod`**\n",
    "- **Métodos estáticos**\n",
    "    - Funcionam a todo momento, mas não interagem com atributos\n",
    "    - Usam o decorador **`@staticmethod`**\n",
    "- **Métodos abstratos**\n",
    "    - A superclasse diz às subclasses o que elas devem implementar\n",
    "    - Usam o decorador **`@abstractmethod`** importado do módulo `abc`"
   ]
  },
  {
   "cell_type": "markdown",
   "id": "ba10ce51-3f84-4b58-aa8f-7d7042f1bac3",
   "metadata": {},
   "source": [
    "---\n",
    "## Vamos pensar em pizza\n",
    "1. Todas as pizzas (normais) possuem 8 pedaços. Sendo assim, isso é indiferente para as instâncias, podendo ser um atributo de classe.\n",
    "2. A quantidade de pedaços disponíveis são referentes à nossa instância, pois só pegamos pedaos da pizza real.\n",
    "3. Os ingredientes da pizza não fazem referência explícita à pizza, ou seja, eu posso pensar em queijo ou em molho de tomate sem pensar necessariamente na pizza."
   ]
  },
  {
   "cell_type": "code",
   "execution_count": 28,
   "id": "5630b16a-f988-4e7f-9313-66f2d2f93f2f",
   "metadata": {},
   "outputs": [
    {
     "name": "stdout",
     "output_type": "stream",
     "text": [
      "Um pão de queijooooooooooooooooo........ AU\n",
      "Um pão de queijooooooooooooooooo........ AU\n",
      "Um pão de queijooooooooooooooooo........ AU\n",
      "Um pão de queijooooooooooooooooo........ AU\n",
      "Um pão de queijooooooooooooooooo........ AU\n",
      "Um pão de queijooooooooooooooooo........ AU\n",
      "Um pão de queijooooooooooooooooo........ AU\n",
      "Um pão de queijooooooooooooooooo........ AU\n",
      "A pizza acabou\n"
     ]
    },
    {
     "data": {
      "text/plain": [
       "8"
      ]
     },
     "execution_count": 28,
     "metadata": {},
     "output_type": "execute_result"
    }
   ],
   "source": [
    "class Pizza:\n",
    "    pedacos = 8\n",
    "\n",
    "    def __init__(self, sabor):\n",
    "        self.sabor = sabor\n",
    "\n",
    "    def pegar_pedaco(self):\n",
    "        if self.pedacos < 1:\n",
    "            print(\"A pizza acabou\")\n",
    "        else:\n",
    "            print(\"Um pão de queijooooooooooooooooo........ AU\")\n",
    "            self.pedacos -= 1\n",
    "\n",
    "fc = Pizza(\"Frango Catupiry\")\n",
    "fc.pegar_pedaco()\n",
    "fc.pegar_pedaco()\n",
    "fc.pegar_pedaco()\n",
    "fc.pegar_pedaco()\n",
    "fc.pegar_pedaco()\n",
    "fc.pegar_pedaco()\n",
    "fc.pegar_pedaco()\n",
    "fc.pegar_pedaco()\n",
    "fc.pegar_pedaco()\n",
    "\n",
    "c = Pizza(\"Calabresa\")\n",
    "c.pedacos\n",
    " "
   ]
  },
  {
   "cell_type": "markdown",
   "id": "71fc257b-d4c7-4f6a-8c7c-db1bf9ab1915",
   "metadata": {},
   "source": [
    "## Observação sobre o exemplo acima\n",
    "- Quando instanciamos a pizza `fc`, ela não possui um atributo `pedacos`. Ao chamar `if self.pedacos < 1`, o Python não encontra esse atributo na instância e procura na classe `Pizza`, obtendo o valor `8` para a comparação.\n",
    "- Ao executar `self.pedacos -= 1`, ele cria um atributo `self.pedacos` na instância."
   ]
  },
  {
   "cell_type": "code",
   "execution_count": 40,
   "id": "30ea6c70-e0e1-453d-af0a-08d8b5ed4923",
   "metadata": {},
   "outputs": [
    {
     "name": "stdout",
     "output_type": "stream",
     "text": [
      "Tamanho antes de pegar o pedaço: 12\n",
      "\n",
      "Um pão de queijooooooooooooooooo........ AU\n",
      "Agora a pizza tem 11 pedaços\n",
      "\n",
      "Tamanho depois de pegar o pedaço: 11\n",
      "\n",
      "Quantidade de pedaços da classe: 12. (SE MANTEVE)\n"
     ]
    }
   ],
   "source": [
    "class Pizza:\n",
    "    pedacos = 8\n",
    "\n",
    "    def __init__(self, sabor):\n",
    "        self.sabor = sabor\n",
    "\n",
    "    def pegar_pedaco(self):\n",
    "        if self.pedacos < 1:\n",
    "            print(\"A pizza acabou\")\n",
    "        else:\n",
    "            self.pedacos -= 1\n",
    "            print(\n",
    "                \"Um pão de queijooooooooooooooooo........ AU\",\n",
    "                f\"Agora a pizza tem {self.pedacos} pedaços\", \n",
    "                sep = \"\\n\"\n",
    "            )\n",
    "            \n",
    "    @classmethod\n",
    "    def mudar_tamanho(cls, pedacos):\n",
    "        cls.pedacos = pedacos\n",
    "\n",
    "Pizza.pedacos\n",
    "\n",
    "Pizza.mudar_tamanho(12)\n",
    "\n",
    "mus = Pizza(\"Muçarela\")\n",
    "print(f\"Tamanho antes de pegar o pedaço: {mus.pedacos}\\n\") \n",
    "mus.pegar_pedaco()\n",
    "print(f\"\\nTamanho depois de pegar o pedaço: {mus.pedacos}\") \n",
    "\n",
    "print(f\"\\nQuantidade de pedaços da classe: {Pizza.pedacos}. (SE MANTEVE)\")"
   ]
  },
  {
   "cell_type": "code",
   "execution_count": 44,
   "id": "9a3436d1-931c-4284-a0ae-27dfde654757",
   "metadata": {},
   "outputs": [
    {
     "name": "stdout",
     "output_type": "stream",
     "text": [
      "16\n",
      "16\n"
     ]
    }
   ],
   "source": [
    "choc = Pizza(\"Chocolate\")\n",
    "print(choc.pedacos)\n",
    "\n",
    "Pizza.mudar_tamanho(16)\n",
    "\n",
    "print(choc.pedacos)"
   ]
  },
  {
   "cell_type": "markdown",
   "id": "59e1b411-7def-41b3-a80f-a995d08274c2",
   "metadata": {},
   "source": [
    "- Note que ao alterar o atributo de classe, nós alteramos para todo mundo, inclusive as instâncias que já estão criadas."
   ]
  },
  {
   "cell_type": "markdown",
   "id": "f57cabf0-e735-4ac4-9601-4d002a8b25f5",
   "metadata": {},
   "source": [
    "# Métodos estáticos\n",
    "- Usa o decorador `@staticmethod`\n",
    "- Não interage com nada da classe (nenhum atributo, nem da classe, nem dos objetos). É como se fosse uma função jogada dentro da classe.\n",
    "- A ideia é basicamente ter uma função, que poderia ter sido criada apenas como uma função externa, mas que está ali dentro porque se relaciona com a \"temática\" da classe."
   ]
  },
  {
   "cell_type": "code",
   "execution_count": 45,
   "id": "36aa648d-66ff-4543-a267-1fa5e20ace7c",
   "metadata": {},
   "outputs": [],
   "source": [
    "class Pizza:\n",
    "    pedacos = 8\n",
    "\n",
    "    def __init__(self, sabor):\n",
    "        self.sabor = sabor\n",
    "\n",
    "    def pegar_pedaco(self):\n",
    "        if self.pedacos < 1:\n",
    "            print(\"A pizza acabou\")\n",
    "        else:\n",
    "            self.pedacos -= 1\n",
    "            print(\n",
    "                \"Um pão de queijooooooooooooooooo........ AU\",\n",
    "                f\"Agora a pizza tem {self.pedacos} pedaços\", \n",
    "                sep = \"\\n\"\n",
    "            )\n",
    "            \n",
    "    @classmethod\n",
    "    def mudar_tamanho(cls, pedacos):\n",
    "        cls.pedacos = pedacos\n",
    "\n",
    "    @staticmethod\n",
    "    def ingredientes():\n",
    "        return \"Molho de tomate, queijo, cebola\""
   ]
  }
 ],
 "metadata": {
  "kernelspec": {
   "display_name": "Python 3 (ipykernel)",
   "language": "python",
   "name": "python3"
  },
  "language_info": {
   "codemirror_mode": {
    "name": "ipython",
    "version": 3
   },
   "file_extension": ".py",
   "mimetype": "text/x-python",
   "name": "python",
   "nbconvert_exporter": "python",
   "pygments_lexer": "ipython3",
   "version": "3.11.5"
  }
 },
 "nbformat": 4,
 "nbformat_minor": 5
}
