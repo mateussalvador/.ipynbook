{
 "cells": [
  {
   "cell_type": "markdown",
   "id": "57a4a17e-e10e-41dc-b329-60ec332b3cd8",
   "metadata": {},
   "source": [
    "# O que é JSON?\n",
    "- Uma estrutura de dados criada para **estruturar, salvar e transportar**\n",
    "- **É o formato padrão para comunicação entre sistemas na internet, especialmente em aplicações web e APIs**\n",
    "- Similar aos Objects do JS e aos dicionários do Python\n",
    "- O arquivo possui a extensão `.json`\n",
    "\n",
    "## Tipos de dados suportados\n",
    "- Dentro do JSON podemos ter os seguintes tipos de dados:\n",
    "    - boolean\n",
    "    - number\n",
    "    - null (nada / nulo)\n",
    "    - string\n",
    "    - array\n",
    "    - objeto\n",
    "\n",
    "### Objetos\n",
    "- Quando tratamos os valores como objetos, temos pares de chave e valor.\n",
    "- Podemos ter json com um único dado e ele será válido, como por exemplo \"nome\". Mas o comum é passar realmente um 'pacote' de valores, como um array ou um objeto.\n",
    "- **Por obrigatoriedade, temos que colocar chaves duplas nas chaves**\n",
    "- Podemos ter uma chave e dentro da chave um array de objetos, por exemplo\n",
    "- Ex.:"
   ]
  },
  {
   "cell_type": "code",
   "execution_count": 2,
   "id": "d5d60a5d-ea99-403e-bde2-69ac1d40e3a7",
   "metadata": {},
   "outputs": [
    {
     "data": {
      "text/plain": [
       "[{'name': 'Luiz', 'lastName': 'Miranda'},\n",
       " {'name': 'Maria', 'lastName': 'Moreira'},\n",
       " {'name': 'Helena', 'lastName': 'Vieira'}]"
      ]
     },
     "execution_count": 2,
     "metadata": {},
     "output_type": "execute_result"
    }
   ],
   "source": [
    "[\n",
    "    {\"name\": \"Luiz\", \"lastName\": \"Miranda\"},\n",
    "    {\"name\": \"Maria\", \"lastName\": \"Moreira\"},\n",
    "    {\"name\": \"Helena\", \"lastName\": \"Vieira\"}\n",
    "]"
   ]
  },
  {
   "cell_type": "code",
   "execution_count": 3,
   "id": "53f2c677-4fbc-4d2d-9ed0-17f52c0712aa",
   "metadata": {},
   "outputs": [
    {
     "data": {
      "text/plain": [
       "{'name': 'Luiz',\n",
       " 'lastName': 'Miranda',\n",
       " 'age': 22,\n",
       " 'adresses': [{'line1': 'av. brasil'}, {'line2': 'av. amapá'}]}"
      ]
     },
     "execution_count": 3,
     "metadata": {},
     "output_type": "execute_result"
    }
   ],
   "source": [
    "{\n",
    "    \"name\": \"Luiz\",\n",
    "    \"lastName\": \"Miranda\",\n",
    "    \"age\": 22,\n",
    "    \"adresses\": [\n",
    "        {\"line1\": \"av. brasil\"}, \n",
    "        {\"line2\": \"av. amapá\"},\n",
    "    ]\n",
    "}"
   ]
  },
  {
   "cell_type": "markdown",
   "id": "c91eca3b-1201-484c-95ce-3f3eb94a633e",
   "metadata": {},
   "source": [
    "---\n",
    "# Qual a utilidade do JSON?\n",
    "- Comunicação com APIs\n",
    "- Arquivos de configuração\n",
    "- Armazenamento de dados\n",
    "- Aplicações web"
   ]
  }
 ],
 "metadata": {
  "kernelspec": {
   "display_name": "Python 3 (ipykernel)",
   "language": "python",
   "name": "python3"
  },
  "language_info": {
   "codemirror_mode": {
    "name": "ipython",
    "version": 3
   },
   "file_extension": ".py",
   "mimetype": "text/x-python",
   "name": "python",
   "nbconvert_exporter": "python",
   "pygments_lexer": "ipython3",
   "version": "3.12.7"
  }
 },
 "nbformat": 4,
 "nbformat_minor": 5
}
