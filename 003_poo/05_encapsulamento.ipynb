{
 "cells": [
  {
   "cell_type": "markdown",
   "id": "9acb9cdb-e61a-48f8-aa44-f8027b4fb1d2",
   "metadata": {},
   "source": [
    "# Pilares da OO\n",
    "- Abstração\n",
    "- Herança\n",
    "- Encapsulamento\n",
    "- Polimorfismo\n",
    "\n",
    "---\n",
    "\n",
    "# Encapsulamento\n",
    "- Em outras linguagens, temos os modificadores de acesso: public, protected, private\n",
    "- Em Python, não temos modificadores de acesso\n",
    "- Por convenção, conseguimos 'simular' esses modificadores de acesso\n",
    "\n",
    "## Nomenclaturas\n",
    "- (sem underline) = **public**\n",
    "    - Pode ser usado em qualquer lugar\n",
    "\n",
    "- `_` (um underline) = **protected**\n",
    "    - não deve ser usado fora da classe e suas sub-classes\n",
    " \n",
    "- `__` (dois underlines) = **private**\n",
    "    - só deve ser usado na classe em que foi declarado\n",
    "\n",
    "---\n",
    "\n",
    "## public\n",
    "- Atributos ou métodos definidos aleatoriamente são públicos, podendo ser acessados de qualquer lugar"
   ]
  },
  {
   "cell_type": "code",
   "execution_count": 1,
   "id": "82eb7468-b181-4a2e-abba-0dfc3a29c289",
   "metadata": {},
   "outputs": [
    {
     "name": "stdout",
     "output_type": "stream",
     "text": [
      "isso é público\n",
      "método público\n"
     ]
    }
   ],
   "source": [
    "class Aleatoria:\n",
    "    def __init__(self):\n",
    "        self.public = \"isso é público\"\n",
    "        self._protected = \"isso é protegido\"\n",
    "        self.__private = \"isso é private\"\n",
    "\n",
    "    def metodo_publico(self):\n",
    "        return \"método público\"\n",
    "\n",
    "    def _metodo_protected(self):\n",
    "        return \"método protected\"\n",
    "\n",
    "    def __metodo_private(self):\n",
    "        return \"método private\"\n",
    "\n",
    "f = Aleatoria()\n",
    "print(f.public)\n",
    "print(f.metodo_publico())"
   ]
  },
  {
   "cell_type": "markdown",
   "id": "32c5ad68-f457-42ba-97b2-e1cddadda10c",
   "metadata": {},
   "source": [
    "## protected\n",
    "- Indica que o atributo só deve ser acessado dentro da classe em que ele está e nas sub-classes\n",
    "- Diferente de outras linguagens, aqui o \"protected\" não impede que os atributos ou métodos sejam acessados fora da classe."
   ]
  },
  {
   "cell_type": "code",
   "execution_count": 2,
   "id": "e68e125f-8b93-4ce1-8250-9851fdeb5fda",
   "metadata": {},
   "outputs": [
    {
     "name": "stdout",
     "output_type": "stream",
     "text": [
      "isso é protegido\n"
     ]
    }
   ],
   "source": [
    "print(f._protected) # Note que o acesso é permitido, mesmo fora da classe."
   ]
  },
  {
   "cell_type": "markdown",
   "id": "7582470e-1665-45cd-bff6-22c0c9c3aac2",
   "metadata": {},
   "source": [
    "## private\n",
    "- Somente deve ser utilizado na classe em que o atributo ou método foi definido.\n",
    "- Não conseguimos acessar (diretamente) de fora da classe\n",
    "- Ele faz o que é chamado de **`name mangling`**"
   ]
  },
  {
   "cell_type": "code",
   "execution_count": 3,
   "id": "9db002cc-6e2f-4c4c-8890-a3439981864a",
   "metadata": {},
   "outputs": [
    {
     "ename": "AttributeError",
     "evalue": "'Aleatoria' object has no attribute '__metodo_private'",
     "output_type": "error",
     "traceback": [
      "\u001b[1;31m---------------------------------------------------------------------------\u001b[0m",
      "\u001b[1;31mAttributeError\u001b[0m                            Traceback (most recent call last)",
      "Cell \u001b[1;32mIn[3], line 1\u001b[0m\n\u001b[1;32m----> 1\u001b[0m \u001b[38;5;28mprint\u001b[39m(f\u001b[38;5;241m.\u001b[39m__metodo_private)\n",
      "\u001b[1;31mAttributeError\u001b[0m: 'Aleatoria' object has no attribute '__metodo_private'"
     ]
    }
   ],
   "source": [
    "print(f.__metodo_private)"
   ]
  },
  {
   "cell_type": "markdown",
   "id": "d605eb11-8862-4fcf-835d-b863471ceafa",
   "metadata": {},
   "source": [
    "### name mangling\n",
    "- O Python muda o nome do método para `_` + `nome da classe` + `__` + `nome do método ou atributo`"
   ]
  },
  {
   "cell_type": "code",
   "execution_count": 5,
   "id": "ac3b9801-3ade-4fd4-833f-828f77091258",
   "metadata": {},
   "outputs": [
    {
     "name": "stdout",
     "output_type": "stream",
     "text": [
      "método private\n"
     ]
    }
   ],
   "source": [
    "print(f._Aleatoria__metodo_private())"
   ]
  }
 ],
 "metadata": {
  "kernelspec": {
   "display_name": "Python 3 (ipykernel)",
   "language": "python",
   "name": "python3"
  },
  "language_info": {
   "codemirror_mode": {
    "name": "ipython",
    "version": 3
   },
   "file_extension": ".py",
   "mimetype": "text/x-python",
   "name": "python",
   "nbconvert_exporter": "python",
   "pygments_lexer": "ipython3",
   "version": "3.12.7"
  }
 },
 "nbformat": 4,
 "nbformat_minor": 5
}
