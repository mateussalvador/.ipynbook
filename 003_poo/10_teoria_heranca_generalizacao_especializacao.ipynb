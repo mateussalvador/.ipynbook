{
 "cells": [
  {
   "cell_type": "markdown",
   "id": "45690905",
   "metadata": {},
   "source": [
    "# Herança\n",
    "- Permite que uma classe adquira os atributos e métodos de uma outra classe\n",
    "\n",
    "## Generalização\n",
    "- Processo de identificar características comuns em diferentes classes e criar uma classe base genérica que contenha essas características\n",
    "- Ex.: Podemos generalizar as classes `Carro`, `Moto`, `Caminhao` criando uma superclasse `Veiculo` que contem os atributos `marca`, `modelo` e o método `acelerar()`\n",
    "\n",
    "## Especialização\n",
    "= É o processo inverso. Partimos de uma classe genérica e criamos subclasses mais específicas, adicionando ou modificando comportamentos.\n",
    "\n",
    "---\n",
    "\n",
    "# Herança Simples\n",
    "- É a forma mais comum, onde uma classe herda de **apenas uma** classe base"
   ]
  },
  {
   "cell_type": "code",
   "execution_count": 16,
   "id": "46558c2a",
   "metadata": {},
   "outputs": [
    {
     "name": "stdout",
     "output_type": "stream",
     "text": [
      "Olá, meu nome Ana e tenho 30 anos.\n",
      "\n",
      " ----------------------------------- \n",
      "\n",
      "Olá, meu nome Carlos e tenho 22 anos.\n",
      "self.nome está estudando.\n"
     ]
    }
   ],
   "source": [
    "class Pessoa():\n",
    "    def __init__(self, nome, idade):\n",
    "        self.nome = nome\n",
    "        self.idade = idade\n",
    "    \n",
    "    def se_apresentar(self):\n",
    "        print(f\"Olá, meu nome {self.nome} e tenho {self.idade} anos.\")\n",
    "\n",
    "\n",
    "# Especialização\n",
    "class Estudante(Pessoa):\n",
    "    def __init__(self, nome, idade, matricula):\n",
    "        super().__init__(nome, idade)\n",
    "        self.matricula = matricula\n",
    "\n",
    "    def estudar(self):\n",
    "        print(f\"self.nome está estudando.\")\n",
    "\n",
    "# --- Utilização ---\n",
    "p1 = Pessoa(\"Ana\", 30)\n",
    "p1.se_apresentar()\n",
    "\n",
    "print(\"\\n\", \"-\" * 35, \"\\n\")\n",
    "\n",
    "e1 = Estudante(\"Carlos\", 22, \"2025-001\")\n",
    "e1.se_apresentar() #Método herdado de Pessoa\n",
    "e1.estudar()"
   ]
  },
  {
   "cell_type": "markdown",
   "id": "4fee8fde",
   "metadata": {},
   "source": [
    "---\n",
    "\n",
    "# Método `super()`\n",
    "- Função que permite chamar métodos da super classe.\n",
    "- É a maneira correta de acessar a classe pai. Ele invoca o método da classe pai, recebendo os atributos que quisermos passar.\n",
    "\n",
    "---\n",
    "\n",
    "# Sobreposição de Métodos\n",
    "- Ocorre quando uma subclasse reescreve de forma mais específica um método que já foi definido (e herdado) em sua superclasse.\n",
    "\n",
    "---\n",
    "\n",
    "# Sobrecarga de Métodos\n",
    "- Em outras linguagens, podemos ter diversos métodos com o mesmo nome, mas com assinaturas de diferente (ou seja, o número ou tipo de parâmetros são diferentes)\n",
    "- Em Python, não podemos fazer isso. Será sempre considerado o último método a ser implementado. Porém, podemos burlar isso com o uso de `*args` e `**kwargs`\n",
    "\n",
    "---\n",
    "\n",
    "# Herança Múltipla\n",
    "- Podemos herdar de múltiplas classes, misturando funcionalidades de diferentes classes.\n",
    "- A sintaxe é:\n",
    "```python\n",
    "class ClasseBase1:\n",
    "    ...\n",
    "\n",
    "class ClasseBase2:\n",
    "    ...\n",
    "\n",
    "class MinhaClasse(ClasseBase1, ClasseBase2)\n",
    "    ...\n",
    "```\n",
    "\n",
    "\n",
    "## O problema do diamante: E se duas classes pai tiverem um método com o mesmo nome?\n",
    "- O Python resolve usando uma técnica chamada MRO (Method Resolution Order), ou seja a ordem as classes entre parênteses importa.\n",
    "- Aqui, será utilizado o método da primeira classe que for passada como \"super classe\" para a \"classe filha\".\n",
    "\n",
    "### Exemplo\n"
   ]
  },
  {
   "cell_type": "code",
   "execution_count": 17,
   "id": "c72a9625",
   "metadata": {},
   "outputs": [
    {
     "name": "stdout",
     "output_type": "stream",
     "text": [
      "Classe A\n"
     ]
    }
   ],
   "source": [
    "class A:\n",
    "    def falar(self):\n",
    "        print(\"Classe A\")\n",
    "    \n",
    "class B:\n",
    "    def falar(self):\n",
    "        print(\"Classe B\")\n",
    "\n",
    "class C(A, B): # Ordem: A depois B\n",
    "    pass\n",
    "\n",
    "\n",
    "c = C()\n",
    "c.falar()"
   ]
  },
  {
   "cell_type": "code",
   "execution_count": 18,
   "id": "201bca4e",
   "metadata": {},
   "outputs": [
    {
     "name": "stdout",
     "output_type": "stream",
     "text": [
      "Classe B\n"
     ]
    }
   ],
   "source": [
    "class A:\n",
    "    def falar(self):\n",
    "        print(\"Classe A\")\n",
    "    \n",
    "class B:\n",
    "    def falar(self):\n",
    "        print(\"Classe B\")\n",
    "\n",
    "class C(B, A): # Ordem: B depois A\n",
    "    pass\n",
    "\n",
    "\n",
    "c = C()\n",
    "c.falar()"
   ]
  },
  {
   "cell_type": "markdown",
   "id": "127d06a2",
   "metadata": {},
   "source": [
    "---\n",
    "\n",
    "# Nota\n",
    "- Todas as classes do Python herdam de `builtins.object`"
   ]
  }
 ],
 "metadata": {
  "kernelspec": {
   "display_name": "Python 3",
   "language": "python",
   "name": "python3"
  },
  "language_info": {
   "codemirror_mode": {
    "name": "ipython",
    "version": 3
   },
   "file_extension": ".py",
   "mimetype": "text/x-python",
   "name": "python",
   "nbconvert_exporter": "python",
   "pygments_lexer": "ipython3",
   "version": "3.13.7"
  }
 },
 "nbformat": 4,
 "nbformat_minor": 5
}
