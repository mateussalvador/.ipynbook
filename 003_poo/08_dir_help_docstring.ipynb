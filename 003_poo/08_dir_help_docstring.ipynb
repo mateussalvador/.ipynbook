{
 "cells": [
  {
   "cell_type": "markdown",
   "id": "b7feb8d4",
   "metadata": {},
   "source": [
    "# `dir()`\n",
    "- Mostra tudo que existe dentro de um objeto (atributos e métodos), seja de módulos, classes, funções ou objetos em geral.\n",
    "- Inclui os atributos e métodos herdados\n",
    "\n",
    "## `__dir__()`\n",
    "- É um método especial que permite sobrescrever o que o `dir()` retorna. Ex.:\n",
    "\n",
    "```python\n",
    "class MinhaClasse:\n",
    "    def __dir__(self):\n",
    "        return [\"foo\", \"bar\"]\n",
    "    \n",
    "obj = MinhaClasse()\n",
    "print(dir(obj)) #Retorna [\"foo\", \"bar\"]\n",
    "```\n",
    "\n",
    "---\n",
    "\n",
    "# `help()`\n",
    "- Recebe um objeto e retorna sua docstring associada, ou seja, a descrição embutida do que aquilo faz.\n",
    "- Se não passarmos nada, ele abre um modo interativo onde podemos digitar nomes\n",
    " e explorar a documentação diretamente.\n",
    "\n",
    "---\n",
    "\n",
    "# DocString de uma linha\n",
    "- \n"
   ]
  },
  {
   "cell_type": "code",
   "execution_count": 1,
   "id": "d2c7c114",
   "metadata": {},
   "outputs": [
    {
     "data": {
      "text/plain": [
       "'Módulo utilizado para tratar de assuntos como dir, help e DocString'"
      ]
     },
     "execution_count": 1,
     "metadata": {},
     "output_type": "execute_result"
    }
   ],
   "source": [
    "\"\"\"Módulo utilizado para tratar de assuntos como dir, help e DocString\"\"\""
   ]
  },
  {
   "cell_type": "code",
   "execution_count": 2,
   "id": "72c4591e",
   "metadata": {},
   "outputs": [
    {
     "name": "stdout",
     "output_type": "stream",
     "text": [
      "Help on module __main__:\n",
      "\n",
      "NAME\n",
      "    __main__ - Automatically created module for IPython interactive environment\n",
      "\n",
      "DATA\n",
      "    In = ['', '\"\"\"Módulo utilizado para tratar de assuntos como dir, help ...\n",
      "    Out = {1: 'Módulo utilizado para tratar de assuntos como dir, help e D...\n",
      "    __ = ''\n",
      "    ___ = ''\n",
      "    __vsc_ipynb_file__ = r'c:\\Users\\E008803\\Documents\\mateus\\estudos\\ipynb...\n",
      "    exit = <IPython.core.autocall.ZMQExitAutocall object>\n",
      "    quit = <IPython.core.autocall.ZMQExitAutocall object>\n",
      "\n",
      "FILE\n",
      "    (built-in)\n",
      "\n",
      "\n",
      "None\n"
     ]
    }
   ],
   "source": [
    "print(help(\"__main__\"))"
   ]
  },
  {
   "cell_type": "markdown",
   "id": "9e36df62",
   "metadata": {},
   "source": [
    "---\n",
    "# DocString de várias linhas\n",
    "- Pode ter várias linhas, sendo que cada uma delas deve ter, no máximo, 80 caracteres.\n",
    "- Podem ser usadas para documentar módulos, funções, classes, entre outros.\n",
    "\n",
    "---\n",
    "\n",
    "# DocStrings em Funções e Type Annotations\n",
    "```python\n",
    "def soma(x: int | float, y: int | float) -> int | float:\n",
    "    pass\n",
    "```\n",
    "\n",
    "- Aqui, especificamos os tipos de dados aceitos para argumentos e também o retorno esperado para aquela função."
   ]
  },
  {
   "cell_type": "code",
   "execution_count": 6,
   "id": "79964295",
   "metadata": {},
   "outputs": [],
   "source": [
    "def multiplica(\n",
    "        x: int | float, \n",
    "        y: int | float,\n",
    "        z: int | float | None = None\n",
    "        ) -> int | float:\n",
    "    \"\"\"Multiplica x, y. Se z for enviado, multiplica x, y, z\"\"\""
   ]
  },
  {
   "cell_type": "code",
   "execution_count": 7,
   "id": "bcc1539c",
   "metadata": {},
   "outputs": [
    {
     "name": "stdout",
     "output_type": "stream",
     "text": [
      "Help on function multiplica in module __main__:\n",
      "\n",
      "multiplica(x: int | float, y: int | float, z: int | float | None = None) -> int | float\n",
      "    Multiplica x, y. Se z for enviado, multiplica x, y, z\n",
      "\n",
      "None\n"
     ]
    }
   ],
   "source": [
    "print(help(multiplica))"
   ]
  }
 ],
 "metadata": {
  "kernelspec": {
   "display_name": "Python 3",
   "language": "python",
   "name": "python3"
  },
  "language_info": {
   "codemirror_mode": {
    "name": "ipython",
    "version": 3
   },
   "file_extension": ".py",
   "mimetype": "text/x-python",
   "name": "python",
   "nbconvert_exporter": "python",
   "pygments_lexer": "ipython3",
   "version": "3.13.7"
  }
 },
 "nbformat": 4,
 "nbformat_minor": 5
}
