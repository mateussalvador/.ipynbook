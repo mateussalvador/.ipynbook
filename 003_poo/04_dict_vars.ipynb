{
 "cells": [
  {
   "cell_type": "markdown",
   "id": "863d04a4-1a34-4381-95cd-16ad9df1197a",
   "metadata": {},
   "source": [
    "# `__dict__`\n",
    "- É um atributo especial que a maioria dos objetos possui\n",
    "- É um dicionário que armazena os atributos graváveis (que podemos atribuir um novo valor a qualquer momento com algo como `objeto.atributo = novo_valor`) de um objeto ou classe (visto que a classe também é um objeto)\n",
    "\n",
    "## Exemplo de __dict__ em objeto"
   ]
  },
  {
   "cell_type": "code",
   "execution_count": 4,
   "id": "c9e00282-be2d-4413-a48e-8de6da960d70",
   "metadata": {},
   "outputs": [
    {
     "name": "stdout",
     "output_type": "stream",
     "text": [
      "__dict__ de p1: {'nome': 'Mateus', 'idade': 22, 'cidade': 'Não informada'}\n",
      "__dict__ de p2: {'nome': 'Claudio', 'idade': 54, 'cidade': 'Piancó'}\n"
     ]
    }
   ],
   "source": [
    "class Pessoa:\n",
    "    def __init__(self, nome, idade):\n",
    "        self.nome = nome\n",
    "        self.idade = idade\n",
    "        self.cidade = \"Não informada\"\n",
    "\n",
    "p1 = Pessoa(\"Mateus\", 22)\n",
    "p2 = Pessoa(\"Claudio\", 54)\n",
    "\n",
    "p2.cidade = \"Piancó\"\n",
    "\n",
    "print(f\"__dict__ de p1: {p1.__dict__}\")\n",
    "print(f\"__dict__ de p2: {p2.__dict__}\")"
   ]
  },
  {
   "cell_type": "markdown",
   "id": "c0019e8a-370a-4b5c-8f77-cd9d92731ed4",
   "metadata": {},
   "source": [
    "## Exemplo de __dict__ em Classe"
   ]
  },
  {
   "cell_type": "code",
   "execution_count": 16,
   "id": "375d0ac9-7e70-4ecf-927e-22031e6bf3cd",
   "metadata": {},
   "outputs": [
    {
     "name": "stdout",
     "output_type": "stream",
     "text": [
      "__module__: __main__\n",
      "\n",
      "nome_cientifico: Canis lupus familiaris\n",
      "\n",
      "__init__: <function Cachorro.__init__ at 0x79f44a7eae80>\n",
      "\n",
      "latir: <function Cachorro.latir at 0x79f44a7eaf20>\n",
      "\n",
      "__dict__: <attribute '__dict__' of 'Cachorro' objects>\n",
      "\n",
      "__weakref__: <attribute '__weakref__' of 'Cachorro' objects>\n",
      "\n",
      "__doc__: None\n",
      "\n"
     ]
    }
   ],
   "source": [
    "class Cachorro:\n",
    "    nome_cientifico = \"Canis lupus familiaris\"\n",
    "\n",
    "    def __init__(self, nome, raca = \"Caramelo\"):\n",
    "        self.nome = nome\n",
    "        self.raca = raca\n",
    "\n",
    "    def latir(self):\n",
    "        return \"Au au\"\n",
    "\n",
    "c1 = Cachorro(\"Rei\", \"Fiapo de manga\")\n",
    "\n",
    "for chave, valor in Cachorro.__dict__.items():\n",
    "    print(f\"{chave}: {valor}\\n\")"
   ]
  },
  {
   "cell_type": "markdown",
   "id": "c2f06900-bd43-48fc-8c3e-38babbaf9a95",
   "metadata": {},
   "source": [
    "# `vars()`\n",
    "- É uma built-in function que normalmente faz mesma coisa que acessar o atributo `__dict__`\n",
    "- Retorna o dicionário de atributos de um objeto\n",
    "### Sintaxe\n",
    "- `vars(meu_objeto)`"
   ]
  },
  {
   "cell_type": "code",
   "execution_count": 25,
   "id": "b6e4989d-6b70-4a32-8ed7-2cf11b434def",
   "metadata": {},
   "outputs": [
    {
     "name": "stdout",
     "output_type": "stream",
     "text": [
      "{'nome': 'Notebook Gamer', 'preco': 7499.99, 'ram': '64gb'}\n",
      "{'nome': 'Notebook Gamer', 'preco': 7499.99, 'ram': '64gb'}\n",
      "True\n"
     ]
    }
   ],
   "source": [
    "class Produto:\n",
    "    def __init__(self, nome, preco):\n",
    "        self.nome = nome\n",
    "        self.preco = preco\n",
    "\n",
    "notebook = Produto(\"Notebook Gamer\", 7499.99)\n",
    "\n",
    "notebook.ram = \"64gb\"\n",
    "\n",
    "# Usando __dict__\n",
    "print(notebook.__dict__)\n",
    "\n",
    "# Usando vars()\n",
    "print(vars(notebook))\n",
    "\n",
    "\n",
    "# Note que o vars retorna o próprio __dict__, ou seja, se referem ao mesmo objeto:\n",
    "print(notebook.__dict__ is vars(notebook))"
   ]
  },
  {
   "cell_type": "markdown",
   "id": "3e266f9a-020c-48b3-bbcd-469590a624e7",
   "metadata": {},
   "source": [
    "- A principal diferença é que por __dict__ ser um dicionário normal, podemos manipul=alo diretamente.\n",
    "- Se for apenas para acessar, o ideal é utilizar o `vars`, visto que ele funciona como um `get`\n",
    "\n",
    "## Exceção\n",
    "- Existe uma situação que os objetos não terão um `__dict__`, que é quando uma classe define o atributo `__slots__`.\n",
    "\n",
    "### `__slots__`\n",
    "- É uma tupla que declara explicitamente quais atributos uma instância pode ter. Isso é feito para economizar memória, pois o Python não precisa mais criar um dicionário para cada instância.\n",
    "- Assim, não podemos adicionar novos atributos à instância que não foram declarados na tupla `__slots__`"
   ]
  },
  {
   "cell_type": "code",
   "execution_count": 22,
   "id": "ea12ee8e-f5cf-4a5f-9bf7-fecbf960c174",
   "metadata": {},
   "outputs": [
    {
     "name": "stdout",
     "output_type": "stream",
     "text": [
      "Erro com __dict__: 'Ponto' object has no attribute '__dict__'\n",
      "\n",
      "Erro com vars(): vars() argument must have __dict__ attribute\n"
     ]
    }
   ],
   "source": [
    "class Ponto:\n",
    "    __slots__ = (\"x\", \"y\")\n",
    "\n",
    "    def __init__(self, x, y):\n",
    "        self.x = x\n",
    "        self.y = y\n",
    "\n",
    "p = Ponto(10, 20)\n",
    "\n",
    "\n",
    "## Tentando acessar o __dict__\n",
    "try:\n",
    "    print(p.__dict__)\n",
    "except AttributeError as e:\n",
    "    print(f\"Erro com __dict__: {e}\") \n",
    "# Saída: Erro com __dict__: 'Ponto' object has no attribute '__dict__'\n",
    "\n",
    "print()\n",
    "\n",
    "try:\n",
    "    print(vars(p))\n",
    "except TypeError as e:\n",
    "    print(f\"Erro com vars(): {e}\") \n",
    "# Saída: Erro com vars(): vars() argument must have __dict__ attribute"
   ]
  },
  {
   "cell_type": "code",
   "execution_count": 26,
   "id": "a570bf77-628b-4412-bd72-af0a71b10675",
   "metadata": {},
   "outputs": [
    {
     "ename": "AttributeError",
     "evalue": "'Ponto' object has no attribute 'z'",
     "output_type": "error",
     "traceback": [
      "\u001b[31m---------------------------------------------------------------------------\u001b[39m",
      "\u001b[31mAttributeError\u001b[39m                            Traceback (most recent call last)",
      "\u001b[36mCell\u001b[39m\u001b[36m \u001b[39m\u001b[32mIn[26]\u001b[39m\u001b[32m, line 2\u001b[39m\n\u001b[32m      1\u001b[39m \u001b[38;5;66;03m# Tentando atribuir um valor diferente daqueles que foram passados na tupla\u001b[39;00m\n\u001b[32m----> \u001b[39m\u001b[32m2\u001b[39m \u001b[43mp\u001b[49m\u001b[43m.\u001b[49m\u001b[43mz\u001b[49m = \u001b[32m30\u001b[39m\n",
      "\u001b[31mAttributeError\u001b[39m: 'Ponto' object has no attribute 'z'"
     ]
    }
   ],
   "source": [
    "# Tentando atribuir um valor diferente daqueles que foram passados na tupla\n",
    "p.z = 30"
   ]
  }
 ],
 "metadata": {
  "kernelspec": {
   "display_name": "Python 3 (ipykernel)",
   "language": "python",
   "name": "python3"
  },
  "language_info": {
   "codemirror_mode": {
    "name": "ipython",
    "version": 3
   },
   "file_extension": ".py",
   "mimetype": "text/x-python",
   "name": "python",
   "nbconvert_exporter": "python",
   "pygments_lexer": "ipython3",
   "version": "3.11.5"
  }
 },
 "nbformat": 4,
 "nbformat_minor": 5
}
