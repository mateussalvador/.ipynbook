{
 "cells": [
  {
   "cell_type": "markdown",
   "id": "d14f433c-2ad4-405f-8579-ce6fc730d44f",
   "metadata": {},
   "source": [
    "# Class method e Factory method\n",
    "- Criamos métodos de classe usando `@classmethod`\n",
    "\n",
    "# Factories Methods\n",
    "- São métodos que criam classes"
   ]
  },
  {
   "cell_type": "code",
   "execution_count": 25,
   "id": "f25880a0-5d9b-4ad3-8705-5f181f6e1066",
   "metadata": {},
   "outputs": [
    {
     "name": "stdout",
     "output_type": "stream",
     "text": [
      "Mateus 22\n",
      "Irê 50\n"
     ]
    }
   ],
   "source": [
    "class Pessoa:\n",
    "    ano = 2025\n",
    "\n",
    "    def __init__(self, nome, idade):\n",
    "        self.nome = nome\n",
    "        self.idade = idade\n",
    "\n",
    "    @classmethod\n",
    "    def criar_com_50_anos(cls, nome):\n",
    "        return cls(nome, 50)\n",
    "\n",
    "p1 = Pessoa(\"Mateus\", 22)\n",
    "p2 = Pessoa.criar_com_50_anos(\"Irê\")\n",
    "\n",
    "print(p1.nome, p1.idade)\n",
    "print(p2.nome, p2.idade)"
   ]
  },
  {
   "cell_type": "markdown",
   "id": "3c4c520c-058e-4522-afef-96a0a511f899",
   "metadata": {},
   "source": [
    "- Não conseguimos acessar dados da instância com self num factory method, pois a instância ainda não existe."
   ]
  },
  {
   "cell_type": "markdown",
   "id": "229c6319-06fc-4780-9b11-16207cea2f79",
   "metadata": {},
   "source": [
    "# get e set em Python\n",
    "- Por padrão, assim como nas outras linguagens de programação, é comum que sejam utilizados métodos para definir e obter valores.\n",
    "- A ideia é abstrair os detalhes da aplicação do usuário, simplificando a vida dele e omitindo os detalhes que não queremos que ele obtenha."
   ]
  },
  {
   "cell_type": "code",
   "execution_count": 29,
   "id": "1f2648f3-47ae-41a1-8389-87e4bf2fc215",
   "metadata": {},
   "outputs": [
    {
     "name": "stdout",
     "output_type": "stream",
     "text": [
      "Mateus\n",
      "1234\n"
     ]
    }
   ],
   "source": [
    "class Connection:\n",
    "    \n",
    "    def __init__(self, host = \"localhost\"):\n",
    "        self.host = host\n",
    "        self.user = None\n",
    "        self.password = None\n",
    "\n",
    "    def set_user(self, user):\n",
    "        self.user = user\n",
    "\n",
    "    def set_password(self, password):\n",
    "        self.password = password\n",
    "\n",
    "    @classmethod\n",
    "    def create_with_auth(cls, user, password): # É um factory method\n",
    "        connection = cls()\n",
    "        connection.user = user\n",
    "        connection.password = password\n",
    "        return connection\n",
    "\n",
    "c1 = Connection.create_with_auth(\"Mateus\", \"1234\")\n",
    "print(c1.user)\n",
    "print(c1.password)"
   ]
  },
  {
   "cell_type": "markdown",
   "id": "390a39e0-e804-4ec7-a004-79fb139c6867",
   "metadata": {},
   "source": [
    "---\n",
    "# `@getter`\n",
    "- O get, em qualquer linguagem, é um método definido para obter um atributo\n",
    "- O `getter` é um get num modo pythonico"
   ]
  },
  {
   "cell_type": "code",
   "execution_count": 31,
   "id": "f3face26-f01f-4819-aa63-f150183f175f",
   "metadata": {},
   "outputs": [
    {
     "name": "stdout",
     "output_type": "stream",
     "text": [
      "Azul\n",
      "Azul\n",
      "Azul\n",
      "Azul\n",
      "Azul\n"
     ]
    }
   ],
   "source": [
    "class Caneta:\n",
    "    def __init__(self, cor):\n",
    "        self.cor = cor\n",
    "\n",
    "caneta = Caneta(\"Azul\")\n",
    "print(caneta.cor)\n",
    "print(caneta.cor)\n",
    "print(caneta.cor)\n",
    "print(caneta.cor)\n",
    "print(caneta.cor)"
   ]
  },
  {
   "cell_type": "code",
   "execution_count": 32,
   "id": "76077471-b24f-4cac-84fa-ce394633a4c3",
   "metadata": {},
   "outputs": [
    {
     "name": "stdout",
     "output_type": "stream",
     "text": [
      "Azul\n",
      "Azul\n",
      "Azul\n",
      "Azul\n",
      "Azul\n"
     ]
    }
   ],
   "source": [
    "# Criando um get \"padrão\"\n",
    "class Caneta:\n",
    "    def __init__(self, cor):\n",
    "        self.cor = cor\n",
    "\n",
    "    def get_cor(self):\n",
    "        return self.cor\n",
    "\n",
    "caneta = Caneta(\"Azul\")\n",
    "print(caneta.get_cor())\n",
    "print(caneta.get_cor())\n",
    "print(caneta.get_cor())\n",
    "print(caneta.get_cor())\n",
    "print(caneta.get_cor())"
   ]
  },
  {
   "cell_type": "markdown",
   "id": "4a6cf40f-8ade-47f1-bec2-349b49de67a2",
   "metadata": {},
   "source": [
    "# `property`\n",
    "- Em Python, temos `@property`\n",
    "- É um decorator que faz um método se comportar como atributo.\n",
    "    - Resumindo, não precisamos usar `()` para usar o método.\n",
    "- Sempre devem retornar um valor, que é aquele que será exibido."
   ]
  },
  {
   "cell_type": "code",
   "execution_count": 43,
   "id": "2d7b2a50-91cc-44ad-a35d-c2f3c8ef0872",
   "metadata": {},
   "outputs": [
    {
     "name": "stdout",
     "output_type": "stream",
     "text": [
      "Azul\n",
      "Vermelha\n"
     ]
    }
   ],
   "source": [
    "class Caneta:\n",
    "    def __init__(self, cor):\n",
    "        self.cor_tinta = cor\n",
    "\n",
    "    @property\n",
    "    def cor(self):\n",
    "        return self.cor_tinta\n",
    "\n",
    "c1 = Caneta(\"Azul\")\n",
    "c2 = Caneta(\"Vermelha\")\n",
    "\n",
    "print(c1.cor)\n",
    "print(c2.cor)"
   ]
  },
  {
   "cell_type": "markdown",
   "id": "7f38e754-53e6-40d9-b9fb-e621807b1dc7",
   "metadata": {},
   "source": [
    "---\n",
    "## `@property` + `@setter` - getter e setter no modo pythônico\n",
    "- No setter, queremos passar por um método para configurar um determinado atributo. \n",
    "- Ao configurar um valor, podemos evitar quebras, por exemplo: não querer que um valor seja uma string, que não receba determinado valor, etc."
   ]
  },
  {
   "cell_type": "code",
   "execution_count": null,
   "id": "cc26ab9a",
   "metadata": {},
   "outputs": [],
   "source": []
  },
  {
   "cell_type": "code",
   "execution_count": 2,
   "id": "fa846513-d6be-4fe9-960b-3c85c8e2dd83",
   "metadata": {},
   "outputs": [
    {
     "name": "stdout",
     "output_type": "stream",
     "text": [
      "PROPERTY\n",
      "Azul\n"
     ]
    },
    {
     "ename": "AttributeError",
     "evalue": "property 'cor' of 'Caneta' object has no setter",
     "output_type": "error",
     "traceback": [
      "\u001b[31m---------------------------------------------------------------------------\u001b[39m",
      "\u001b[31mAttributeError\u001b[39m                            Traceback (most recent call last)",
      "\u001b[36mCell\u001b[39m\u001b[36m \u001b[39m\u001b[32mIn[2]\u001b[39m\u001b[32m, line 15\u001b[39m\n\u001b[32m     13\u001b[39m caneta = Caneta(\u001b[33m\"\u001b[39m\u001b[33mAzul\u001b[39m\u001b[33m\"\u001b[39m)\n\u001b[32m     14\u001b[39m \u001b[38;5;28mprint\u001b[39m(caneta.cor)\n\u001b[32m---> \u001b[39m\u001b[32m15\u001b[39m \u001b[43mcaneta\u001b[49m\u001b[43m.\u001b[49m\u001b[43mcor\u001b[49m = \u001b[33m\"\u001b[39m\u001b[33mRosa\u001b[39m\u001b[33m\"\u001b[39m\n",
      "\u001b[31mAttributeError\u001b[39m: property 'cor' of 'Caneta' object has no setter"
     ]
    }
   ],
   "source": [
    "class Caneta:\n",
    "    def __init__(self, cor):\n",
    "        self.cor_tinta = cor\n",
    "\n",
    "    @property\n",
    "    def cor(self):\n",
    "        print(\"PROPERTY\")\n",
    "        return self.cor_tinta\n",
    "    \n",
    "    def mostrar(caneta):\n",
    "        return caneta.cor\n",
    "\n",
    "caneta = Caneta(\"Azul\")\n",
    "print(caneta.cor)\n",
    "caneta.cor = \"Rosa\""
   ]
  },
  {
   "cell_type": "markdown",
   "id": "fc5b1bf0",
   "metadata": {},
   "source": [
    "- Note que ao tentar passar um valor para cor com `caneta.cor`, temos um erro, visto que `cor` é, na verdade, um método e não pode receber valores como um atributo.\n",
    "- Para resolver isso, devemos criar um `setter`\n",
    "- **o setter recebe o nome da property + `.setter`**"
   ]
  },
  {
   "cell_type": "code",
   "execution_count": 8,
   "id": "0573042c",
   "metadata": {},
   "outputs": [
    {
     "name": "stdout",
     "output_type": "stream",
     "text": [
      "ESTOU NO PROPERTY\n",
      "Azul\n",
      "\n",
      "ESTOU NO SETTER Rosa\n",
      "\n",
      "ESTOU NO PROPERTY\n",
      "Rosa\n"
     ]
    }
   ],
   "source": [
    "class Caneta:\n",
    "    def __init__(self, cor):\n",
    "        self._cor = cor # Se passarmos isso sem o underline, ele irá passar no setter já no momento da instanciação do objeto.\n",
    "\n",
    "    @property\n",
    "    def cor(self):\n",
    "        print(\"ESTOU NO PROPERTY\")\n",
    "        return self._cor\n",
    "    \n",
    "    @cor.setter\n",
    "    def cor(self, valor):\n",
    "        print(\"ESTOU NO SETTER\", valor)\n",
    "        self._cor = valor\n",
    "\n",
    "caneta = Caneta(\"Azul\")\n",
    "print(caneta.cor)\n",
    "\n",
    "print()\n",
    "\n",
    "caneta.cor = \"Rosa\"\n",
    "\n",
    "print()\n",
    "print(caneta.cor)"
   ]
  },
  {
   "cell_type": "markdown",
   "id": "17827256",
   "metadata": {},
   "source": [
    "## Exemplo - restringindo valores com `setter`\n",
    "- Proibindo canetas rosas"
   ]
  },
  {
   "cell_type": "code",
   "execution_count": 13,
   "id": "aafa177c",
   "metadata": {},
   "outputs": [
    {
     "name": "stdout",
     "output_type": "stream",
     "text": [
      "Azul\n",
      "Pêssego\n"
     ]
    }
   ],
   "source": [
    "class Caneta:\n",
    "    def __init__(self, cor):\n",
    "        self.cor = cor\n",
    "        self._cor_tampa = None\n",
    "\n",
    "    @property\n",
    "    def cor(self):\n",
    "        return self._cor\n",
    "    \n",
    "    @cor.setter\n",
    "    def cor(self, valor):\n",
    "        if valor == \"Rosa\":\n",
    "            raise ValueError(\"Não aceito essa cor.\")\n",
    "        self._cor = valor\n",
    "\n",
    "    @property\n",
    "    def cor_tampa(self):\n",
    "        return self._cor_tampa\n",
    "    \n",
    "    @cor_tampa.setter\n",
    "    def cor_tampa(self, valor):\n",
    "        self._cor_tampa = valor\n",
    "\n",
    "caneta = Caneta(\"Azul\")\n",
    "caneta.cor_tampa = \"Pêssego\"\n",
    "print(caneta.cor)\n",
    "print(caneta.cor_tampa)\n",
    "#caneta.cor = \"Rosa\""
   ]
  }
 ],
 "metadata": {
  "kernelspec": {
   "display_name": "Python 3",
   "language": "python",
   "name": "python3"
  },
  "language_info": {
   "codemirror_mode": {
    "name": "ipython",
    "version": 3
   },
   "file_extension": ".py",
   "mimetype": "text/x-python",
   "name": "python",
   "nbconvert_exporter": "python",
   "pygments_lexer": "ipython3",
   "version": "3.13.7"
  }
 },
 "nbformat": 4,
 "nbformat_minor": 5
}
