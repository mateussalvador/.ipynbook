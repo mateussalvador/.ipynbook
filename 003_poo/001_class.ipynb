{
 "cells": [
  {
   "cell_type": "markdown",
   "id": "adfde64c-2b79-40a3-a64e-e6e50b30fce0",
   "metadata": {},
   "source": [
    "# Classes\n",
    "- Por convenção, usamos **`PascalCase`** para nomes de classe\n",
    "\n",
    "---\n",
    "- atributo\n",
    "- método\n",
    "- self"
   ]
  },
  {
   "cell_type": "code",
   "execution_count": 6,
   "id": "a8d8c602-a10f-4f71-8a91-7bda2455796b",
   "metadata": {},
   "outputs": [
    {
     "name": "stdout",
     "output_type": "stream",
     "text": [
      "Mateus\n",
      "Salvador\n",
      "\n",
      "Luiz\n",
      "Otávio\n"
     ]
    }
   ],
   "source": [
    "class Pessoa:\n",
    "    ...\n",
    "\n",
    "p1 = Pessoa()\n",
    "p1.nome = \"Mateus\"\n",
    "p1.sobrenome = \"Salvador\"\n",
    "\n",
    "\n",
    "p2 = Pessoa()\n",
    "p2.nome = \"Luiz\"\n",
    "p2.sobrenome = \"Otávio\"\n",
    "\n",
    "\n",
    "print(p1.nome) # Menos usado\n",
    "print(p1.sobrenome)\n",
    "\n",
    "print()\n",
    "\n",
    "print(p2.nome) # Mais usado\n",
    "print(p2.sobrenome)"
   ]
  },
  {
   "cell_type": "code",
   "execution_count": 8,
   "id": "0e53a764-ced1-472d-988f-f2b0bb637a04",
   "metadata": {},
   "outputs": [
    {
     "name": "stdout",
     "output_type": "stream",
     "text": [
      "Sandy\n",
      "Melory\n"
     ]
    }
   ],
   "source": [
    "class Pessoa:\n",
    "    def __init__(self, nome, sobrenome):\n",
    "        self.nome = nome\n",
    "        self.sobrenome = sobrenome\n",
    "        \n",
    "p3 = Pessoa(\"Sandy\", \"Melory\")\n",
    "print(p3.nome)\n",
    "print(p3.sobrenome)"
   ]
  },
  {
   "cell_type": "markdown",
   "id": "9605e36d-1253-44ed-8208-f4906b30d51f",
   "metadata": {},
   "source": [
    "# Métodos em instâncias de classes Python\n",
    "\n",
    "\n",
    "\n",
    "\n"
   ]
  },
  {
   "cell_type": "code",
   "execution_count": 22,
   "id": "134db34f-7e80-40f6-b118-b09891866cce",
   "metadata": {},
   "outputs": [
    {
     "name": "stdout",
     "output_type": "stream",
     "text": [
      "fusca\n",
      "fusca está acelerando\n",
      "RAAAAAAAAAAAAAAN DAN DAN DAN DAN\n",
      "\n",
      "\n",
      "celta está acelerando\n",
      "RAAAAAAAAAAAAAAN DAN DAN DAN DAN\n",
      "\n",
      "\n",
      "hb20 está acelerando\n",
      "RAAAAAAAAAAAAAAN DAN DAN DAN DAN\n"
     ]
    }
   ],
   "source": [
    "class Carro:\n",
    "    def __init__(self, nome):\n",
    "        self.nome = nome\n",
    "\n",
    "    def acelerar(self):\n",
    "        print(f\"{self.nome} está acelerando\")\n",
    "        print(\"RAAAAAAAAAAAAAAN DAN DAN DAN DAN\")\n",
    "\n",
    "fusca = Carro(\"fusca\")\n",
    "print(fusca.nome)\n",
    "fusca.acelerar()\n",
    "\n",
    "print(\"\\n\")\n",
    "\n",
    "celta = Carro(\"celta\")\n",
    "celta.acelerar()\n",
    "\n",
    "print(\"\\n\")\n",
    "\n",
    "hb20 = Carro(\"hb20\") \n",
    "Carro.acelerar(hb20) # Forma menos usual"
   ]
  },
  {
   "cell_type": "markdown",
   "id": "22700185-c0ce-4ebb-a211-f6d672b9f2bf",
   "metadata": {},
   "source": [
    "# Escopo da classe e de métodos da classe\n",
    "- A classe, assim como as funções, tem seu próprio escopo. Fora dele, não conseguimos acessar diretamente os dados da classe ou de seus objetos."
   ]
  },
  {
   "cell_type": "code",
   "execution_count": 24,
   "id": "a2875ba5-b075-403f-b46f-216d52b389f9",
   "metadata": {},
   "outputs": [
    {
     "ename": "NameError",
     "evalue": "name 'nome' is not defined",
     "output_type": "error",
     "traceback": [
      "\u001b[1;31m---------------------------------------------------------------------------\u001b[0m",
      "\u001b[1;31mNameError\u001b[0m                                 Traceback (most recent call last)",
      "Cell \u001b[1;32mIn[24], line 4\u001b[0m\n\u001b[0;32m      1\u001b[0m \u001b[38;5;28;01mclass\u001b[39;00m \u001b[38;5;21;01mAnimal\u001b[39;00m:\n\u001b[0;32m      2\u001b[0m     nome \u001b[38;5;241m=\u001b[39m \u001b[38;5;124m\"\u001b[39m\u001b[38;5;124mLeão\u001b[39m\u001b[38;5;124m\"\u001b[39m\n\u001b[1;32m----> 4\u001b[0m \u001b[38;5;28mprint\u001b[39m(nome)\n",
      "\u001b[1;31mNameError\u001b[0m: name 'nome' is not defined"
     ]
    }
   ],
   "source": [
    "class Animal:\n",
    "    nome = \"Leão\"\n",
    "\n",
    "print(nome)"
   ]
  },
  {
   "cell_type": "code",
   "execution_count": 29,
   "id": "e8a2512b-a511-431e-bbbc-cb145ce77d79",
   "metadata": {},
   "outputs": [
    {
     "name": "stdout",
     "output_type": "stream",
     "text": [
      "Leão\n"
     ]
    },
    {
     "data": {
      "text/plain": [
       "'Leão está comendo Morango'"
      ]
     },
     "execution_count": 29,
     "metadata": {},
     "output_type": "execute_result"
    }
   ],
   "source": [
    "class Animal:\n",
    "    \n",
    "    def __init__(self, nome):\n",
    "        self.nome = nome\n",
    "\n",
    "    def comer(self, alimento):\n",
    "        return f\"{self.nome} está comendo {alimento}\"\n",
    "\n",
    "leao = Animal(nome = \"Leão\")\n",
    "print(leao.nome)\n",
    "\n",
    "leao.comer(\"Morango\")"
   ]
  },
  {
   "cell_type": "markdown",
   "id": "df5d8ac8-dc51-4721-ad8c-f353d1295866",
   "metadata": {},
   "source": [
    "# Mantendo estados dentro da classe"
   ]
  },
  {
   "cell_type": "code",
   "execution_count": 37,
   "id": "c151cd67-f88e-424f-8946-6ed44232cba8",
   "metadata": {},
   "outputs": [
    {
     "name": "stdout",
     "output_type": "stream",
     "text": [
      "\n",
      "Canon está filmando...\n",
      "\n",
      "True\n",
      "False\n",
      "\n",
      "Canon já está filmando...\n"
     ]
    }
   ],
   "source": [
    "class Camera:\n",
    "    def __init__(self, nome, filmando = False):\n",
    "        self.nome = nome\n",
    "        self.filmando = filmando\n",
    "\n",
    "    def filmar(self):\n",
    "        if self.filmando:\n",
    "            print(f\"\\n{self.nome} já está filmando...\")\n",
    "        else:\n",
    "            print(f\"\\n{self.nome} está filmando...\\n\")\n",
    "            self.filmando = True\n",
    "\n",
    "c1 = Camera(\"Canon\")\n",
    "c2 = Camera(\"Sony\")\n",
    "\n",
    "c1.filmar()\n",
    "\n",
    "print(c1.filmando)\n",
    "print(c2.filmando)\n",
    "\n",
    "c1.filmar()\n"
   ]
  },
  {
   "cell_type": "markdown",
   "id": "872f287c-2087-4f6e-be19-a64c52406f34",
   "metadata": {},
   "source": [
    "- A ideia de guardar estados do que está acontecendo dentro da classe é muito benéfica."
   ]
  },
  {
   "cell_type": "markdown",
   "id": "fd0d013c-13ca-41a7-9ef3-1214f59a954c",
   "metadata": {},
   "source": [
    "# Atributos de classe\n",
    "- Ao definir um atributo no escopo da classe, podemos utilizá-lo em qualquer lugar.\n",
    "- Ao alterá-lo, ele irá alterá-lo para todos os objetos.\n",
    "- **Se tivermos o mesmo nome de atributo na instância e na classe, ele primeiro buscará na instância e depois na classe.**"
   ]
  },
  {
   "cell_type": "code",
   "execution_count": 43,
   "id": "605cc520-39e3-4673-bcd2-c3212a64704f",
   "metadata": {},
   "outputs": [
    {
     "name": "stdout",
     "output_type": "stream",
     "text": [
      "2003\n",
      "1996\n"
     ]
    }
   ],
   "source": [
    "class Pessoa:\n",
    "    ano = 2025\n",
    "\n",
    "    def __init__(self, nome, idade):\n",
    "        self.nome = nome\n",
    "        self.idade = idade\n",
    "\n",
    "    def get_ano_nascimento(self):\n",
    "        return Pessoa.ano - self.idade \n",
    "\n",
    "p1 = Pessoa(\"Mateus\", 22)\n",
    "p2 = Pessoa(\"Camila\", 29)\n",
    "\n",
    "print(p1.get_ano_nascimento())\n",
    "print(p2.get_ano_nascimento())"
   ]
  },
  {
   "cell_type": "markdown",
   "id": "fea06bd9-54ea-460c-b924-2febf93d9d7d",
   "metadata": {},
   "source": [
    "# `__dict__`\n",
    "- É como um dicionário que mantém os valores que podem ser escritos dentro do objeto"
   ]
  }
 ],
 "metadata": {
  "kernelspec": {
   "display_name": "Python 3 (ipykernel)",
   "language": "python",
   "name": "python3"
  },
  "language_info": {
   "codemirror_mode": {
    "name": "ipython",
    "version": 3
   },
   "file_extension": ".py",
   "mimetype": "text/x-python",
   "name": "python",
   "nbconvert_exporter": "python",
   "pygments_lexer": "ipython3",
   "version": "3.12.7"
  }
 },
 "nbformat": 4,
 "nbformat_minor": 5
}
