{
 "cells": [
  {
   "cell_type": "code",
   "execution_count": 72,
   "id": "1f878b6c-76bf-4a09-a996-59eae2c5db30",
   "metadata": {},
   "outputs": [
    {
     "name": "stdout",
     "output_type": "stream",
     "text": [
      "[{'nome': 'Mateus', 'idade': 22, 'cidade': 'Brasília'}, {'nome': 'Claudio', 'idade': 54, 'cidade': 'Piancó'}, {'nome': 'Irê', 'idade': 50, 'cidade': 'Quixaba'}]\n"
     ]
    }
   ],
   "source": [
    "import json\n",
    "\n",
    "class Pessoa:\n",
    "    def __init__(self, nome, idade, cidade, andar = False):\n",
    "        self.nome = nome\n",
    "        self.idade = idade\n",
    "        self. cidade = cidade\n",
    "\n",
    "    def andar(self):\n",
    "        return f\"{self.nome} está andando.\"\n",
    "\n",
    "p1 = Pessoa(\"Mateus\", 22, \"Brasília\")\n",
    "p2 = Pessoa(\"Claudio\", 54, \"Piancó\")\n",
    "p3 = Pessoa(\"Irê\", 50, \"Quixaba\")\n",
    "lista = [p1.__dict__, p2.__dict__, p3.__dict__]\n",
    "print(lista)\n",
    "\n",
    "\n",
    "with open(\"05_exercicio_salvar_dados_json/exercicio.json\", \"w+\", encoding=\"utf-8\") as file:\n",
    "    json.dump(\n",
    "        lista,\n",
    "        file,\n",
    "        indent = 3,\n",
    "        ensure_ascii=False\n",
    "    )"
   ]
  }
 ],
 "metadata": {
  "kernelspec": {
   "display_name": "Python 3 (ipykernel)",
   "language": "python",
   "name": "python3"
  },
  "language_info": {
   "codemirror_mode": {
    "name": "ipython",
    "version": 3
   },
   "file_extension": ".py",
   "mimetype": "text/x-python",
   "name": "python",
   "nbconvert_exporter": "python",
   "pygments_lexer": "ipython3",
   "version": "3.11.5"
  }
 },
 "nbformat": 4,
 "nbformat_minor": 5
}
