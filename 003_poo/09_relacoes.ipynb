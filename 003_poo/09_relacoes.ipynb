{
 "cells": [
  {
   "cell_type": "markdown",
   "id": "5e74ded8",
   "metadata": {},
   "source": [
    "# Associação\n",
    "- Relacionamento mais genérico entre objetos\n",
    "- Indica que eles se conectam de alguma forma, mas são independentes. Nenhum pertence ao outro, apenas ocorre uma interação.\n",
    "\n",
    "### Exemplo\n",
    "- **Professor e Disciplina:** Um professor pode lecionar várias disciplinas, e uma disciplina pode ser lecionada por vários professores. Se um professor se aposenta, a disciplina continua existindo.\n",
    "---"
   ]
  },
  {
   "cell_type": "code",
   "execution_count": 3,
   "id": "1ad993b1",
   "metadata": {},
   "outputs": [
    {
     "name": "stdout",
     "output_type": "stream",
     "text": [
      "O professor André está lecionando a disciplina Python\n"
     ]
    }
   ],
   "source": [
    "class Professor:\n",
    "    def __init__(self, nome):\n",
    "        self.nome = nome\n",
    "        self._disciplinas = []\n",
    "\n",
    "    def lecionar(self, disciplina):\n",
    "        print(f\"O professor {self.nome} está lecionando a disciplina {disciplina.nome}\")\n",
    "\n",
    "class Disciplina:\n",
    "    def __init__(self, nome):\n",
    "        self.nome = nome\n",
    "        self.professores = []\n",
    "\n",
    "p1 = Professor(\"André\")\n",
    "d1 = Disciplina(\"Python\")\n",
    "\n",
    "p1.lecionar(d1)"
   ]
  },
  {
   "cell_type": "markdown",
   "id": "bb21b145",
   "metadata": {},
   "source": [
    "# Agregação\n",
    "- Tipo especializado de associação\n",
    "- Quando um objeto \"todo\" contém referências a objetos \"parte\", mas os objetos \"parte\" existem independentemente do \"todo\".\n",
    "\n",
    "## Agregação x Associação\n",
    "- Na associação, ocorre uma interação, sem uma relação de dependência. Uma coisa usa outra, mas são independentes.\n",
    "- Na agregação, embora seja ainda um tipo de associação, ocorre uma relação de \"contêiner\". Ou seja, eles ainda são independentes, mas normalmente fazem sentido quando a relação é estabelecida.\n",
    "---"
   ]
  },
  {
   "cell_type": "code",
   "execution_count": 16,
   "id": "3d9c536a",
   "metadata": {},
   "outputs": [
    {
     "name": "stdout",
     "output_type": "stream",
     "text": [
      "*Pegando o carrinho de compras*\n",
      "Mouse foi adicionado ao carrinho.\n",
      "Teclado foi adicionado ao carrinho.\n",
      "['Mouse', 'Teclado']\n"
     ]
    }
   ],
   "source": [
    "class CarrinhoDeCompra:\n",
    "    def __init__(self):\n",
    "        print(\"*Pegando o carrinho de compras*\")\n",
    "        self._lista_itens = []\n",
    "    \n",
    "    @property\n",
    "    def itens(self):\n",
    "        return self._lista_itens\n",
    "\n",
    "    @itens.setter\n",
    "    def itens(self, produto):\n",
    "        self._lista_itens.append(produto.nome)\n",
    "        print(f\"{produto.nome} foi adicionado ao carrinho.\")\n",
    "\n",
    "\n",
    "class Produto:\n",
    "    def __init__(self, nome, preco):\n",
    "        self.nome = nome\n",
    "        self.preco = preco\n",
    "    \n",
    "# Criando o carrinho\n",
    "carrinho = CarrinhoDeCompra()\n",
    "\n",
    "# Criando produtos\n",
    "p1 = Produto(\"Mouse\", 80)\n",
    "p2 = Produto(\"Teclado\", 150)\n",
    "\n",
    "# Carrinho agregando os produtos\n",
    "carrinho.itens = p1\n",
    "carrinho.itens = p2\n",
    "print(carrinho.itens)"
   ]
  },
  {
   "cell_type": "markdown",
   "id": "1e0c4749",
   "metadata": {},
   "source": [
    "### Note que se o carrinho for deletado, os produtos continuam existindo:"
   ]
  },
  {
   "cell_type": "code",
   "execution_count": 17,
   "id": "a4bf5b4b",
   "metadata": {},
   "outputs": [
    {
     "name": "stdout",
     "output_type": "stream",
     "text": [
      "Mouse\n",
      "Teclado\n"
     ]
    }
   ],
   "source": [
    "del carrinho\n",
    "print(p1.nome)\n",
    "print(p2.nome)"
   ]
  },
  {
   "cell_type": "code",
   "execution_count": 18,
   "id": "10419f07",
   "metadata": {},
   "outputs": [
    {
     "ename": "NameError",
     "evalue": "name 'carrinho' is not defined",
     "output_type": "error",
     "traceback": [
      "\u001b[31m---------------------------------------------------------------------------\u001b[39m",
      "\u001b[31mNameError\u001b[39m                                 Traceback (most recent call last)",
      "\u001b[36mCell\u001b[39m\u001b[36m \u001b[39m\u001b[32mIn[18]\u001b[39m\u001b[32m, line 2\u001b[39m\n\u001b[32m      1\u001b[39m \u001b[38;5;66;03m# Conferindo se carrinho ainda existe:\u001b[39;00m\n\u001b[32m----> \u001b[39m\u001b[32m2\u001b[39m \u001b[38;5;28mprint\u001b[39m(\u001b[43mcarrinho\u001b[49m)\n",
      "\u001b[31mNameError\u001b[39m: name 'carrinho' is not defined"
     ]
    }
   ],
   "source": [
    "# Conferindo se carrinho ainda existe:\n",
    "print(carrinho)"
   ]
  },
  {
   "cell_type": "markdown",
   "id": "42a5179e",
   "metadata": {},
   "source": [
    "\n",
    "# Composição\n",
    "- É uma forma mais forte de agregação, onde se o \"todo\" é destruído\", a \"parte\" também é.\n",
    "- Isso ocorre porque a parte é instanciada dentro do todo.\n",
    "- Ex.: Pessoa e Coração.\n",
    "---"
   ]
  },
  {
   "cell_type": "code",
   "execution_count": 36,
   "id": "af6de31a",
   "metadata": {},
   "outputs": [
    {
     "name": "stdout",
     "output_type": "stream",
     "text": [
      "p1.nome = 'Cezar'\n",
      "p1.idade = 42\n",
      "O coração está batendo.\n",
      "\n",
      "/\\___/\\___/\\______/\\_____________/\\____________________________________________________________________________\n",
      "Cezar não está mais vivo(a).\n"
     ]
    }
   ],
   "source": [
    "class Coracao():\n",
    "    def __init__(self):\n",
    "        self.batendo = True\n",
    "\n",
    "    def parar(self):\n",
    "        print(r\"/\\___/\\___/\\______/\\_____________/\\____________________________________________________________________________\")\n",
    "        self.batendo = False\n",
    "    \n",
    "    def __str__(self):\n",
    "        return f\"O coração {\"está\" if self.batendo else \"não está\"} batendo.\"\n",
    "\n",
    "class Pessoa:\n",
    "    def __init__(self, nome, idade):\n",
    "        self.nome = nome\n",
    "        self.idade = idade\n",
    "        self.coracao = Coracao()\n",
    "\n",
    "    def morrer(self):\n",
    "        self.coracao.parar()\n",
    "        print(f\"{self.nome} não está mais vivo(a).\")\n",
    "\n",
    "# Ao criar uma pessoa, o coração é automaticamente criado para ela.\n",
    "p1 = Pessoa(\"Cezar\", 42)\n",
    "\n",
    "# Conferindo se o coração de Cezar foi realmente criado\n",
    "print(f\"{p1.nome = }\")\n",
    "print(f\"{p1.idade = }\")\n",
    "print(f\"{p1.coracao}\", end = \"\\n\\n\")\n",
    "\n",
    "# Matando o pobre rapaz\n",
    "p1.morrer()"
   ]
  },
  {
   "cell_type": "code",
   "execution_count": 38,
   "id": "d8f13cbe",
   "metadata": {},
   "outputs": [
    {
     "name": "stdout",
     "output_type": "stream",
     "text": [
      "O coração não está batendo.\n"
     ]
    },
    {
     "ename": "NameError",
     "evalue": "name 'p1' is not defined",
     "output_type": "error",
     "traceback": [
      "\u001b[31m---------------------------------------------------------------------------\u001b[39m",
      "\u001b[31mNameError\u001b[39m                                 Traceback (most recent call last)",
      "\u001b[36mCell\u001b[39m\u001b[36m \u001b[39m\u001b[32mIn[38]\u001b[39m\u001b[32m, line 6\u001b[39m\n\u001b[32m      2\u001b[39m \u001b[38;5;28mprint\u001b[39m(p1.coracao)\n\u001b[32m      4\u001b[39m \u001b[38;5;28;01mdel\u001b[39;00m p1\n\u001b[32m----> \u001b[39m\u001b[32m6\u001b[39m \u001b[38;5;28mprint\u001b[39m(\u001b[43mp1\u001b[49m.coracao)\n",
      "\u001b[31mNameError\u001b[39m: name 'p1' is not defined"
     ]
    }
   ],
   "source": [
    "# Se o objeto for destruído, seu coração também será\n",
    "print(p1.coracao)\n",
    "\n",
    "del p1\n",
    "\n",
    "print(p1.coracao)"
   ]
  },
  {
   "cell_type": "markdown",
   "id": "eab5b413",
   "metadata": {},
   "source": [
    "# Dependência\n",
    "- É a relação mais fraca\n",
    "- Uma classe utiliza outra, mas não armazena uma referência a ela como atributo de instância\n",
    "\n",
    "### Exemplo: Motorista e Veículo\n",
    "- Um `Motorista` depende de um `Veiculo` para dirigir. O método `dirigir` da classe `Motorista` recebe um objeto `Veiculo` como parâmetro. O motorista não \"possui\" o veículo permanentemente; ele apenas o utiliza para uma tarefa."
   ]
  },
  {
   "cell_type": "code",
   "execution_count": 44,
   "id": "15da6e74",
   "metadata": {},
   "outputs": [
    {
     "name": "stdout",
     "output_type": "stream",
     "text": [
      "Carlos está dirigindo o Fusca\n",
      "Carlos está dirigindo o POP 100\n"
     ]
    }
   ],
   "source": [
    "class Veiculo:\n",
    "    def __init__(self, modelo):\n",
    "        self.modelo = modelo\n",
    "    \n",
    "    def acelerar(self):\n",
    "        print(f\"O {self.modelo} está acelerando.\")\n",
    "\n",
    "class Motorista:\n",
    "    def __init__(self, nome):\n",
    "        self.nome = nome\n",
    "    \n",
    "    def dirigir(self, veiculo):\n",
    "        print(f\"{self.nome} está dirigindo o {veiculo.modelo}\")\n",
    "\n",
    "    # O motorista DPEENDE de um veículo para executar este método\n",
    "\n",
    "carro = Veiculo(\"Fusca\")\n",
    "moto = Veiculo(\"POP 100\")\n",
    "motorista = Motorista(\"Carlos\")\n",
    "\n",
    "#A dependência se manifesta na chamada do método\n",
    "motorista.dirigir(carro)\n",
    "motorista.dirigir(moto)"
   ]
  },
  {
   "cell_type": "code",
   "execution_count": null,
   "id": "2b30d9ab",
   "metadata": {},
   "outputs": [],
   "source": []
  }
 ],
 "metadata": {
  "kernelspec": {
   "display_name": "Python 3",
   "language": "python",
   "name": "python3"
  },
  "language_info": {
   "codemirror_mode": {
    "name": "ipython",
    "version": 3
   },
   "file_extension": ".py",
   "mimetype": "text/x-python",
   "name": "python",
   "nbconvert_exporter": "python",
   "pygments_lexer": "ipython3",
   "version": "3.13.7"
  }
 },
 "nbformat": 4,
 "nbformat_minor": 5
}
