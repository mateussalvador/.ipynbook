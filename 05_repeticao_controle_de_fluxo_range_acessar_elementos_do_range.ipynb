{
 "cells": [
  {
   "cell_type": "markdown",
   "id": "b46d5c67-11a3-4848-87e2-350124f6d1a3",
   "metadata": {},
   "source": [
    "# While\n",
    "- Laço de repetição \"enquanto\".\n",
    "- Executa determinada ação enquanto uma condição for verdadeira.\n",
    "\n",
    "## break\n",
    "- Interrompe o laço em que está aninhado.\n",
    "- Podemos interromper tornando a condição falsa também.\n",
    "\n",
    "## Iteração\n",
    "- Podemos iterar uma variável que serve como contador.\n",
    "- A posição deste contador é importante.\n",
    "\n",
    "## continue\n",
    "- Faz o interpretador retornar ao início do laço.\n",
    "\n",
    "## while else\n",
    "- Exclusivo do python\n",
    "- o `else` só é executado se o while for concluído sem ser interrompido por um break.\n",
    "\n",
    "## Casos de uso\n",
    "- Devemos usar o while quando não soubermos quando o laço será interrompido."
   ]
  },
  {
   "cell_type": "code",
   "execution_count": 2,
   "id": "8fbab143-09db-464b-92ba-8abfdd6bbb65",
   "metadata": {},
   "outputs": [
    {
     "name": "stdout",
     "output_type": "stream",
     "text": [
      "Dentro do while\n",
      "Dentro do while\n",
      "Dentro do while\n",
      "Agora, o i vale 3\n"
     ]
    }
   ],
   "source": [
    "i = 0\n",
    "\n",
    "while i <= 2:\n",
    "    print(\"Dentro do while\")\n",
    "    i += 1\n",
    "else:\n",
    "    print(f\"Agora, o i vale {i}\")"
   ]
  },
  {
   "cell_type": "markdown",
   "id": "18226a1d-d668-44a0-adba-d7b0978cc960",
   "metadata": {},
   "source": [
    "# For\n",
    "- Outro laço de repetição.\n",
    "- Usado para percorrer `iteráveis`\n",
    "- Útil quando sabemos onde o laço deverá ser interrompido.\n",
    "\n",
    "## Sintaxe\n",
    "`for variavel in iteravel:`\n",
    "- **A variável definida aqui é, por padrão, global, então pode ser usada mesmo fora do for**\n",
    "\n",
    "## Como funciona o for?\n",
    "- Pega cada elemento do iterável\n",
    "- Atribui o elemento à variável do loop (a definida no momento da 'criação' do for.\n",
    "- Repete o processo até que todos os elementos sejam percorridos."
   ]
  },
  {
   "cell_type": "code",
   "execution_count": 3,
   "id": "483292ed-c476-48da-b322-3d9631453390",
   "metadata": {},
   "outputs": [
    {
     "name": "stdout",
     "output_type": "stream",
     "text": [
      "6\n"
     ]
    }
   ],
   "source": [
    "lista = [1, 2, 3, 4, 5, 6]\n",
    "\n",
    "for variavel in lista:\n",
    "    ...\n",
    "\n",
    "print(variavel)"
   ]
  },
  {
   "cell_type": "markdown",
   "id": "af6add7b-109a-4d83-897b-ee9d59ec8836",
   "metadata": {},
   "source": [
    "## Controle de fluxo\n",
    "- Também aceita os controles de fluxo do while: `continue`, `break`, `else`\n",
    "\n",
    "# Range\n",
    "- Função usada para criar um **intervalo numérico iterável.**\n",
    "- Palavra reservada da linguagem Python.\n",
    "\n",
    "## Sintaxe\n",
    "**`range(start, stop, step)`**\n",
    "- Se apenas um valor for passado, ele é interpretado como `stop`\n",
    "- O índice final não é incluso.\n",
    "\n",
    "### Acessando elementos específicos do range\n",
    "- Para isso, é necessário atribuir o range a uma variável. Após isso, é possível percorrer seus elementos específicos."
   ]
  }
 ],
 "metadata": {
  "kernelspec": {
   "display_name": "Python 3 (ipykernel)",
   "language": "python",
   "name": "python3"
  },
  "language_info": {
   "codemirror_mode": {
    "name": "ipython",
    "version": 3
   },
   "file_extension": ".py",
   "mimetype": "text/x-python",
   "name": "python",
   "nbconvert_exporter": "python",
   "pygments_lexer": "ipython3",
   "version": "3.12.7"
  }
 },
 "nbformat": 4,
 "nbformat_minor": 5
}
