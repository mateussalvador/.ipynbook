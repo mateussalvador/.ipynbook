{
 "cells": [
  {
   "cell_type": "markdown",
   "id": "35b94dff-9d83-4494-9680-d296c2d16a7a",
   "metadata": {},
   "source": [
    "# List comprehension\n",
    "- É uma forma de criar listas a partir de iteráveis\n",
    "- Sintaxe: `[expressao for item in iteravel]`"
   ]
  },
  {
   "cell_type": "code",
   "execution_count": 12,
   "id": "60cbf6eb-cf91-4915-8a47-6d87d2e00653",
   "metadata": {},
   "outputs": [
    {
     "name": "stdout",
     "output_type": "stream",
     "text": [
      "[0, 1, 4, 9, 16, 25, 36, 49, 64, 81]\n"
     ]
    }
   ],
   "source": [
    "# Exemplo: Vamos criar uma lista com os quadrados do números de 0 a 9\n",
    "l1 = []\n",
    "for num in range(10):\n",
    "    l1.append(num * num)\n",
    "\n",
    "print(l1)"
   ]
  },
  {
   "cell_type": "code",
   "execution_count": 13,
   "id": "d7d0b836-d110-498d-8a0f-3bde6d97c12d",
   "metadata": {},
   "outputs": [
    {
     "name": "stdout",
     "output_type": "stream",
     "text": [
      "[0, 1, 4, 9, 16, 25, 36, 49, 64, 81]\n"
     ]
    }
   ],
   "source": [
    "# Com list comprehension:\n",
    "l2 = [num * num for num in range(10)]\n",
    "print(l2)"
   ]
  },
  {
   "cell_type": "markdown",
   "id": "d988c08f-bfd3-43fc-8cf6-504aea86af0e",
   "metadata": {},
   "source": [
    "## Mapeamento\n",
    "- Uma lista gerada com list comprehension terá exatamente o mesmo tamanho que a lista original.\n",
    "- Ou seja, pegamos o dado de um índice de uma lista e criamos um novo dado, no mesmo índice e numa nova lista, com base no dado da lista um.\n",
    "### Mapeamento com if\n",
    "- Podemos, por exemplo, alterar o dado inicial somente se determinada condição for verdadeira."
   ]
  },
  {
   "cell_type": "code",
   "execution_count": 19,
   "id": "26f85b4f-89a1-41bc-8b64-e1a4501abbe2",
   "metadata": {},
   "outputs": [
    {
     "name": "stdout",
     "output_type": "stream",
     "text": [
      "{'nome': 'p1', 'preco': 20}\n",
      "{'nome': 'p2', 'preco': 10}\n",
      "{'nome': 'p3', 'preco': 31.5}\n"
     ]
    }
   ],
   "source": [
    "produtos = [\n",
    "    {\"nome\": \"p1\", \"preco\": 20, },\n",
    "    {\"nome\": \"p2\", \"preco\": 10, },\n",
    "    {\"nome\": \"p3\", \"preco\": 30, },\n",
    "]\n",
    "\n",
    "novos_produtos = [\n",
    "    {**produto, \"preco\": produto[\"preco\"] * 1.05} \n",
    "    if produto[\"preco\"] > 20 else {**produto}\n",
    "    for produto in produtos\n",
    "]\n",
    "\n",
    "for produto in novos_produtos:\n",
    "    print(produto)"
   ]
  },
  {
   "cell_type": "markdown",
   "id": "36f6803e-279f-4b79-b351-140a5ce7783e",
   "metadata": {},
   "source": [
    "## Filtro\n",
    "- Quando queremos que determinada coisa não seja inclusa na nossa lista."
   ]
  },
  {
   "cell_type": "code",
   "execution_count": 23,
   "id": "9f4c4b95-21ec-42cf-a420-7d8c293869b2",
   "metadata": {},
   "outputs": [
    {
     "name": "stdout",
     "output_type": "stream",
     "text": [
      "[0, 1, 2, 3, 4]\n"
     ]
    }
   ],
   "source": [
    "lista = [\n",
    "    n \n",
    "    for n in range(10)\n",
    "    if n < 5\n",
    "]\n",
    "\n",
    "print(lista)"
   ]
  },
  {
   "cell_type": "markdown",
   "id": "40c0c618-595d-4917-bb20-4d3fbadafcad",
   "metadata": {},
   "source": [
    "## List Comprehension com mais de um for    "
   ]
  },
  {
   "cell_type": "code",
   "execution_count": 26,
   "id": "ace76cf4-18f5-4732-b6cf-0c4179237f75",
   "metadata": {},
   "outputs": [
    {
     "name": "stdout",
     "output_type": "stream",
     "text": [
      "[(0, 0), (0, 1), (0, 2), (1, 0), (1, 1), (1, 2), (2, 0), (2, 1), (2, 2)]\n",
      "[(0, 0), (0, 1), (0, 2), (1, 0), (1, 1), (1, 2), (2, 0), (2, 1), (2, 2)]\n"
     ]
    }
   ],
   "source": [
    "lista2 = []\n",
    "for x in range(3):\n",
    "    for y in range(3):\n",
    "        lista2.append((x, y))\n",
    "print(lista2)\n",
    "\n",
    "# Com list comprehension\n",
    "lista3 = [\n",
    "    (x, y)\n",
    "    for x in range(3)\n",
    "    for y in range(3)\n",
    "]\n",
    "print(lista3)"
   ]
  }
 ],
 "metadata": {
  "kernelspec": {
   "display_name": "Python 3 (ipykernel)",
   "language": "python",
   "name": "python3"
  },
  "language_info": {
   "codemirror_mode": {
    "name": "ipython",
    "version": 3
   },
   "file_extension": ".py",
   "mimetype": "text/x-python",
   "name": "python",
   "nbconvert_exporter": "python",
   "pygments_lexer": "ipython3",
   "version": "3.13.5"
  }
 },
 "nbformat": 4,
 "nbformat_minor": 5
}
